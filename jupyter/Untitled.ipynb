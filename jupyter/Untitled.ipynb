{
 "cells": [
  {
   "cell_type": "code",
   "execution_count": 7,
   "metadata": {},
   "outputs": [
    {
     "name": "stdout",
     "output_type": "stream",
     "text": [
      "['eKo sAnJay4 ;eko ;18 ;jogja ;', '4zhAr nUr ;azhar ;14 ;jakarta ;', 'alhamda adisoka ;alhamda ;17 ;solo ;']\n"
     ]
    }
   ],
   "source": [
    "import pandas as pd\n",
    "\n",
    "hasil2=['eKo sAnJay4 ;eko ;18 ;jogja ;','4zhAr nUr ;azhar ;14 ;jakarta ;','alhamda adisoka ;alhamda ;17 ;solo ;']\n",
    "print(hasil2)\n",
    "dt = pd.DataFrame(hasil2, columns=['text'])\n",
    "\n",
    "dt.to_csv(\"nama2.csv\",  encoding='utf-8', index=False)"
   ]
  },
  {
   "cell_type": "code",
   "execution_count": null,
   "metadata": {
    "collapsed": true
   },
   "outputs": [],
   "source": []
  }
 ],
 "metadata": {
  "kernelspec": {
   "display_name": "Python 3",
   "language": "python",
   "name": "python3"
  },
  "language_info": {
   "codemirror_mode": {
    "name": "ipython",
    "version": 3
   },
   "file_extension": ".py",
   "mimetype": "text/x-python",
   "name": "python",
   "nbconvert_exporter": "python",
   "pygments_lexer": "ipython3",
   "version": "3.6.3"
  }
 },
 "nbformat": 4,
 "nbformat_minor": 2
}
