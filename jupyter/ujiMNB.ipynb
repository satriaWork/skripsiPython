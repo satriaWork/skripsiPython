{
 "cells": [
  {
   "cell_type": "code",
   "execution_count": 51,
   "metadata": {
    "collapsed": true
   },
   "outputs": [],
   "source": [
    "kata=\"bapak goblok\""
   ]
  },
  {
   "cell_type": "code",
   "execution_count": 52,
   "metadata": {},
   "outputs": [
    {
     "name": "stdout",
     "output_type": "stream",
     "text": [
      "TfidfVectorizer(analyzer='word', binary=False, decode_error='strict',\n",
      "        dtype=<class 'numpy.int64'>, encoding='utf-8', input='content',\n",
      "        lowercase=True, max_df=1.0, max_features=None, min_df=1,\n",
      "        ngram_range=(1, 1), norm='l2', preprocessor=None, smooth_idf=True,\n",
      "        stop_words=None, strip_accents=None, sublinear_tf=False,\n",
      "        token_pattern='(?u)\\\\b\\\\w\\\\w+\\\\b', tokenizer=None, use_idf=True,\n",
      "        vocabulary=None)\n",
      "MultinomialNB(alpha=1.0, class_prior=None, fit_prior=True)\n",
      "oke\n"
     ]
    }
   ],
   "source": [
    "import pickle\n",
    "\n",
    "\n",
    "filename='MNB.model'\n",
    "\n",
    "file=open('model\\\\'+filename,'rb')\n",
    "bobot_model=pickle.load(file)\n",
    "model=pickle.load(file)\n",
    "\n",
    "print(bobot_model)\n",
    "print(model)\n",
    "\n",
    "print('oke')"
   ]
  },
  {
   "cell_type": "code",
   "execution_count": 53,
   "metadata": {},
   "outputs": [
    {
     "name": "stdout",
     "output_type": "stream",
     "text": [
      "bapak 1.0\n"
     ]
    }
   ],
   "source": [
    "bobot=bobot_model.transform([kata])\n",
    "matrix_bobot=bobot.toarray()\n",
    "x_test=matrix_bobot\n",
    "\n",
    "doc = 0\n",
    "feature_names=bobot_model.get_feature_names()\n",
    "feature_index=bobot[doc,:].nonzero()[1]\n",
    "tfidf_scores=zip(feature_index,[bobot[doc,x] for x in feature_index])\n",
    "\n",
    "for w, s in [(feature_names[i],s) for (i,s) in tfidf_scores]:\n",
    "    print(w,s)"
   ]
  },
  {
   "cell_type": "code",
   "execution_count": 54,
   "metadata": {},
   "outputs": [
    {
     "name": "stdout",
     "output_type": "stream",
     "text": [
      "positif :0.5200499376790843\n",
      "negatif :0.47995006232091586\n"
     ]
    }
   ],
   "source": [
    "predict=model.predict(x_test)\n",
    "prob_n, prob_p=model.predict_proba(x_test)[0]\n",
    "\n",
    "print(\"positif :\"+str(prob_p))\n",
    "print(\"negatif :\"+str(prob_n))"
   ]
  },
  {
   "cell_type": "code",
   "execution_count": 55,
   "metadata": {},
   "outputs": [
    {
     "name": "stdout",
     "output_type": "stream",
     "text": [
      "bapak goblok\n",
      "positif\n"
     ]
    }
   ],
   "source": [
    "print(kata)\n",
    "if(predict[0]==1):\n",
    "    print(\"positif\")\n",
    "else:\n",
    "    print(\"negatif\")"
   ]
  },
  {
   "cell_type": "code",
   "execution_count": null,
   "metadata": {
    "collapsed": true
   },
   "outputs": [],
   "source": []
  },
  {
   "cell_type": "code",
   "execution_count": null,
   "metadata": {
    "collapsed": true
   },
   "outputs": [],
   "source": []
  }
 ],
 "metadata": {
  "kernelspec": {
   "display_name": "Python 3",
   "language": "python",
   "name": "python3"
  },
  "language_info": {
   "codemirror_mode": {
    "name": "ipython",
    "version": 3
   },
   "file_extension": ".py",
   "mimetype": "text/x-python",
   "name": "python",
   "nbconvert_exporter": "python",
   "pygments_lexer": "ipython3",
   "version": "3.6.3"
  }
 },
 "nbformat": 4,
 "nbformat_minor": 2
}
