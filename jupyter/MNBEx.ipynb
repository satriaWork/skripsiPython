{
 "cells": [
  {
   "cell_type": "code",
   "execution_count": 37,
   "metadata": {},
   "outputs": [
    {
     "name": "stdout",
     "output_type": "stream",
     "text": [
      "kota bandung indah\n"
     ]
    }
   ],
   "source": [
    "import pandas as pd\n",
    "\n",
    "kataJadi = \"kota bandung indah\"\n",
    "print(kataJadi)"
   ]
  },
  {
   "cell_type": "code",
   "execution_count": 38,
   "metadata": {},
   "outputs": [
    {
     "name": "stdout",
     "output_type": "stream",
     "text": [
      "kota bandung indah artistik bagus bahari baik cakap cantik dikara elok molek mulia permai rupawan sani\n"
     ]
    }
   ],
   "source": [
    "#Menggunakan file kata_dasar.txt\n",
    "import PyPDF2\n",
    "import urllib, json\n",
    "import nlp_if_lib as nlp\n",
    "from spacy.lang.id import Indonesian\n",
    "import urllib.request\n",
    "from urllib.request import urlopen\n",
    "import requests,re\n",
    "\n",
    "\n",
    "nlp_id_spacy = Indonesian() \n",
    "kataEx=[]\n",
    "\n",
    "\n",
    "#Teks=kataToken,tweet=kataStrip\n",
    "\n",
    "\n",
    "sinonim=[]\n",
    "teksA=[]\n",
    "kataStrip=kataJadi.strip()\n",
    "kataTokens = nlp_id_spacy(kataStrip)  \n",
    "token_pos = nlp.getPOSTag()\n",
    "    \n",
    "for x in kataTokens:#tokenisasi tweet\n",
    "    teksA.append(x.text)\n",
    "    \n",
    "for tokens in kataTokens:\n",
    "    try:\n",
    "        pos=token_pos[tokens.lemma_]\n",
    "        if(token_pos[tokens.lemma_]==\"adj\"):\n",
    "            kataAdj=tokens.lemma_\n",
    "            \n",
    "            url = \"http://kateglo.com/api.php?format=json&phrase=\"+kataAdj\n",
    "            response = requests.get(url)\n",
    "            data=response.text\n",
    "            parsed=json.loads(data)\n",
    "            \n",
    "            post = parsed[\"kateglo\"][\"all_relation\"]\n",
    "            \n",
    "            lenPost=len(post)\n",
    "            for x in range(0,lenPost):\n",
    "                value=post[x]\n",
    "                if(value['rel_type']=='s'):\n",
    "                    if(value['lex_class']=='adj'):\n",
    "                        syn=value['related_phrase']\n",
    "                        sinonim.append(syn)\n",
    "            \n",
    "    except:\n",
    "        pos='n'\n",
    "             \n",
    "        \n",
    "listSyn=len(sinonim)\n",
    "for z in range(0,listSyn):\n",
    "    teksA.append(sinonim[z])\n",
    "    \n",
    "queryEx=' '.join(teksA)\n",
    "kataEx.append(queryEx)\n",
    "\n",
    "st=kataEx[0].strip()\n",
    "subs=re.sub(' +', ' ',st)\n",
    "kata=subs\n",
    "print(kata)"
   ]
  },
  {
   "cell_type": "code",
   "execution_count": 39,
   "metadata": {},
   "outputs": [
    {
     "name": "stdout",
     "output_type": "stream",
     "text": [
      "jumlah dataset training :  5\n"
     ]
    }
   ],
   "source": [
    "import pandas as pd\n",
    "\n",
    "\n",
    "raw_data2 = pd.DataFrame()\n",
    "tmp=pd.read_csv('MNBExLabel.csv')\n",
    "raw_data2 = raw_data2.append(tmp,ignore_index=True)\n",
    "\n",
    "print('jumlah dataset training : ',len(raw_data2.values.tolist()))"
   ]
  },
  {
   "cell_type": "code",
   "execution_count": 40,
   "metadata": {},
   "outputs": [
    {
     "name": "stdout",
     "output_type": "stream",
     "text": [
      "['dasar dungu nabi muhammad saw paman kafir tidak bawa bawa jadi kafir batas teman orang korup bodoh goblok tolol buruk busuk rusak', 'bandung macet kalau tidak solusi kongkrit pergi kantor subuh sendat serat', 'formasi baik persib mata ridwan formasi baik pernah milik persib versi bapak emil bagus cantik jujur', 'bapak rangka merdeka kaya bagus kalau lomba baik cakap cantik', 'idiiiih malu deh hina jakarta minta ganti rugi nye jakarta cowo bukan buruk ceroboh lemah']\n",
      "[0, 0, 1, 1, 0]\n"
     ]
    }
   ],
   "source": [
    "#raw_data to list\n",
    "Dataset = raw_data2[['text','kelas']].values.tolist()\n",
    "\n",
    "#pisahkan text dan labelnya\n",
    "Texts = [col[0] for col in Dataset]\n",
    "Labels = [col[1] for col in Dataset]\n",
    "print(Texts)\n",
    "print(Labels)"
   ]
  },
  {
   "cell_type": "markdown",
   "metadata": {},
   "source": [
    "for i in datauji:\n",
    "    Texts.append(i)\n",
    "print(Texts)"
   ]
  },
  {
   "cell_type": "code",
   "execution_count": 41,
   "metadata": {},
   "outputs": [
    {
     "name": "stdout",
     "output_type": "stream",
     "text": [
      "(5, 61)\n",
      "[[0.         0.         0.         0.         0.19880349 0.39760699\n",
      "  0.19880349 0.         0.16039341 0.19880349 0.         0.\n",
      "  0.         0.         0.19880349 0.         0.19880349 0.\n",
      "  0.         0.         0.19880349 0.         0.         0.19880349\n",
      "  0.         0.         0.39760699 0.         0.         0.\n",
      "  0.         0.19880349 0.         0.         0.         0.\n",
      "  0.         0.         0.         0.         0.19880349 0.19880349\n",
      "  0.         0.19880349 0.19880349 0.         0.         0.\n",
      "  0.         0.         0.         0.19880349 0.19880349 0.\n",
      "  0.         0.         0.         0.19880349 0.16039341 0.19880349\n",
      "  0.        ]\n",
      " [0.         0.         0.31156077 0.         0.         0.\n",
      "  0.         0.         0.         0.         0.         0.\n",
      "  0.         0.         0.         0.         0.         0.\n",
      "  0.         0.         0.         0.         0.         0.\n",
      "  0.         0.         0.         0.25136527 0.31156077 0.\n",
      "  0.31156077 0.         0.         0.         0.31156077 0.\n",
      "  0.         0.         0.         0.         0.         0.\n",
      "  0.         0.         0.         0.31156077 0.         0.\n",
      "  0.         0.         0.         0.         0.         0.31156077\n",
      "  0.31156077 0.31156077 0.31156077 0.         0.25136527 0.\n",
      "  0.        ]\n",
      " [0.18243909 0.36487819 0.         0.18243909 0.         0.\n",
      "  0.         0.         0.         0.         0.         0.18243909\n",
      "  0.         0.         0.         0.         0.         0.22612855\n",
      "  0.45225711 0.         0.         0.         0.         0.\n",
      "  0.         0.22612855 0.         0.         0.         0.\n",
      "  0.         0.         0.         0.         0.         0.\n",
      "  0.22612855 0.         0.22612855 0.         0.         0.\n",
      "  0.         0.         0.         0.         0.22612855 0.45225711\n",
      "  0.         0.22612855 0.         0.         0.         0.\n",
      "  0.         0.         0.         0.         0.         0.\n",
      "  0.22612855]\n",
      " [0.28081157 0.28081157 0.         0.28081157 0.         0.\n",
      "  0.         0.         0.         0.         0.3480587  0.28081157\n",
      "  0.         0.         0.         0.         0.         0.\n",
      "  0.         0.         0.         0.         0.         0.\n",
      "  0.         0.         0.         0.28081157 0.         0.3480587\n",
      "  0.         0.         0.         0.3480587  0.         0.\n",
      "  0.         0.3480587  0.         0.         0.         0.\n",
      "  0.         0.         0.         0.         0.         0.\n",
      "  0.3480587  0.         0.         0.         0.         0.\n",
      "  0.         0.         0.         0.         0.         0.\n",
      "  0.        ]\n",
      " [0.         0.         0.         0.         0.         0.\n",
      "  0.         0.2450648  0.19771674 0.         0.         0.\n",
      "  0.2450648  0.2450648  0.         0.2450648  0.         0.\n",
      "  0.         0.2450648  0.         0.2450648  0.2450648  0.\n",
      "  0.4901296  0.         0.         0.         0.         0.\n",
      "  0.         0.         0.2450648  0.         0.         0.2450648\n",
      "  0.         0.         0.         0.2450648  0.         0.\n",
      "  0.2450648  0.         0.         0.         0.         0.\n",
      "  0.         0.         0.2450648  0.         0.         0.\n",
      "  0.         0.         0.         0.         0.         0.\n",
      "  0.        ]]\n"
     ]
    }
   ],
   "source": [
    "from sklearn.feature_extraction.text import TfidfVectorizer\n",
    "\n",
    "tfidf_vectorizer = TfidfVectorizer()\n",
    "tfidf = tfidf_vectorizer.fit_transform(Texts)\n",
    "tfidf_model=tfidf_vectorizer.fit(Texts)\n",
    "print(tfidf.shape)\n",
    "\n",
    "matrix_tfidf = tfidf.toarray()\n",
    "print(matrix_tfidf)"
   ]
  },
  {
   "cell_type": "code",
   "execution_count": 42,
   "metadata": {},
   "outputs": [
    {
     "name": "stdout",
     "output_type": "stream",
     "text": [
      "[[0.         0.         0.         0.         0.19880349 0.39760699\n",
      "  0.19880349 0.         0.16039341 0.19880349 0.         0.\n",
      "  0.         0.         0.19880349 0.         0.19880349 0.\n",
      "  0.         0.         0.19880349 0.         0.         0.19880349\n",
      "  0.         0.         0.39760699 0.         0.         0.\n",
      "  0.         0.19880349 0.         0.         0.         0.\n",
      "  0.         0.         0.         0.         0.19880349 0.19880349\n",
      "  0.         0.19880349 0.19880349 0.         0.         0.\n",
      "  0.         0.         0.         0.19880349 0.19880349 0.\n",
      "  0.         0.         0.         0.19880349 0.16039341 0.19880349\n",
      "  0.        ]\n",
      " [0.         0.         0.31156077 0.         0.         0.\n",
      "  0.         0.         0.         0.         0.         0.\n",
      "  0.         0.         0.         0.         0.         0.\n",
      "  0.         0.         0.         0.         0.         0.\n",
      "  0.         0.         0.         0.25136527 0.31156077 0.\n",
      "  0.31156077 0.         0.         0.         0.31156077 0.\n",
      "  0.         0.         0.         0.         0.         0.\n",
      "  0.         0.         0.         0.31156077 0.         0.\n",
      "  0.         0.         0.         0.         0.         0.31156077\n",
      "  0.31156077 0.31156077 0.31156077 0.         0.25136527 0.\n",
      "  0.        ]\n",
      " [0.18243909 0.36487819 0.         0.18243909 0.         0.\n",
      "  0.         0.         0.         0.         0.         0.18243909\n",
      "  0.         0.         0.         0.         0.         0.22612855\n",
      "  0.45225711 0.         0.         0.         0.         0.\n",
      "  0.         0.22612855 0.         0.         0.         0.\n",
      "  0.         0.         0.         0.         0.         0.\n",
      "  0.22612855 0.         0.22612855 0.         0.         0.\n",
      "  0.         0.         0.         0.         0.22612855 0.45225711\n",
      "  0.         0.22612855 0.         0.         0.         0.\n",
      "  0.         0.         0.         0.         0.         0.\n",
      "  0.22612855]\n",
      " [0.28081157 0.28081157 0.         0.28081157 0.         0.\n",
      "  0.         0.         0.         0.         0.3480587  0.28081157\n",
      "  0.         0.         0.         0.         0.         0.\n",
      "  0.         0.         0.         0.         0.         0.\n",
      "  0.         0.         0.         0.28081157 0.         0.3480587\n",
      "  0.         0.         0.         0.3480587  0.         0.\n",
      "  0.         0.3480587  0.         0.         0.         0.\n",
      "  0.         0.         0.         0.         0.         0.\n",
      "  0.3480587  0.         0.         0.         0.         0.\n",
      "  0.         0.         0.         0.         0.         0.\n",
      "  0.        ]\n",
      " [0.         0.         0.         0.         0.         0.\n",
      "  0.         0.2450648  0.19771674 0.         0.         0.\n",
      "  0.2450648  0.2450648  0.         0.2450648  0.         0.\n",
      "  0.         0.2450648  0.         0.2450648  0.2450648  0.\n",
      "  0.4901296  0.         0.         0.         0.         0.\n",
      "  0.         0.         0.2450648  0.         0.         0.2450648\n",
      "  0.         0.         0.         0.2450648  0.         0.\n",
      "  0.2450648  0.         0.         0.         0.         0.\n",
      "  0.         0.         0.2450648  0.         0.         0.\n",
      "  0.         0.         0.         0.         0.         0.\n",
      "  0.        ]]\n",
      "[]\n",
      "jumlah data traning =5\n",
      "jumlah data test = 0\n"
     ]
    }
   ],
   "source": [
    "total_data_training = len(Dataset)\n",
    "\n",
    "x_train = matrix_tfidf[0:total_data_training,]\n",
    "x_test = matrix_tfidf[total_data_training:,]\n",
    "\n",
    "print(x_train)\n",
    "print(x_test)\n",
    "\n",
    "print(\"jumlah data traning =\"+ str(len(x_train)))\n",
    "print(\"jumlah data test = \"+ str(len(x_test)))"
   ]
  },
  {
   "cell_type": "code",
   "execution_count": 43,
   "metadata": {},
   "outputs": [
    {
     "name": "stdout",
     "output_type": "stream",
     "text": [
      "MultinomialNB(alpha=1.0, class_prior=None, fit_prior=True)\n"
     ]
    }
   ],
   "source": [
    "from sklearn.naive_bayes import MultinomialNB\n",
    "mnb = MultinomialNB()\n",
    "model = mnb.fit(x_train, Labels)\n",
    "print(model)"
   ]
  },
  {
   "cell_type": "markdown",
   "metadata": {},
   "source": [
    "predict = model.predict(x_test)\n",
    "print(predict)"
   ]
  },
  {
   "cell_type": "code",
   "execution_count": 44,
   "metadata": {},
   "outputs": [
    {
     "name": "stdout",
     "output_type": "stream",
     "text": [
      "[0]\n"
     ]
    }
   ],
   "source": [
    "kelas=[0]\n",
    "print(kelas)"
   ]
  },
  {
   "cell_type": "code",
   "execution_count": 45,
   "metadata": {},
   "outputs": [
    {
     "name": "stdout",
     "output_type": "stream",
     "text": [
      "selesai\n"
     ]
    }
   ],
   "source": [
    "import pickle\n",
    "filename='MNBEx.adhi'\n",
    "\n",
    "file=open('model\\\\'+filename,'wb')\n",
    "pickle.dump(tfidf_model, file)\n",
    "pickle.dump(mnb, file)\n",
    "file.close()\n",
    "\n",
    "print('selesai')"
   ]
  },
  {
   "cell_type": "code",
   "execution_count": 91,
   "metadata": {},
   "outputs": [
    {
     "data": {
      "text/plain": [
       "1.0"
      ]
     },
     "execution_count": 91,
     "metadata": {},
     "output_type": "execute_result"
    }
   ],
   "source": [
    "from sklearn.metrics import accuracy_score\n",
    "\n",
    "accuracy_score(kelas,predict)"
   ]
  },
  {
   "cell_type": "code",
   "execution_count": null,
   "metadata": {
    "collapsed": true
   },
   "outputs": [],
   "source": []
  }
 ],
 "metadata": {
  "kernelspec": {
   "display_name": "Python 3",
   "language": "python",
   "name": "python3"
  },
  "language_info": {
   "codemirror_mode": {
    "name": "ipython",
    "version": 3
   },
   "file_extension": ".py",
   "mimetype": "text/x-python",
   "name": "python",
   "nbconvert_exporter": "python",
   "pygments_lexer": "ipython3",
   "version": "3.6.3"
  }
 },
 "nbformat": 4,
 "nbformat_minor": 2
}
