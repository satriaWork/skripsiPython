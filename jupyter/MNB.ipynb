{
 "cells": [
  {
   "cell_type": "code",
   "execution_count": 113,
   "metadata": {},
   "outputs": [
    {
     "name": "stdout",
     "output_type": "stream",
     "text": [
      "['bapak ridwan jahat']\n"
     ]
    }
   ],
   "source": [
    "import pandas as pd\n",
    "\n",
    "datauji = [\"bapak ridwan jahat\"]\n",
    "print(datauji)"
   ]
  },
  {
   "cell_type": "code",
   "execution_count": 114,
   "metadata": {},
   "outputs": [
    {
     "name": "stdout",
     "output_type": "stream",
     "text": [
      "jumlah dataset training :  5\n"
     ]
    }
   ],
   "source": [
    "import pandas as pd\n",
    "\n",
    "\n",
    "raw_data2 = pd.DataFrame()\n",
    "tmp=pd.read_csv('MNBLabel.csv')\n",
    "raw_data2 = raw_data2.append(tmp,ignore_index=True)\n",
    "\n",
    "print('jumlah dataset training : ',len(raw_data2.values.tolist()))"
   ]
  },
  {
   "cell_type": "code",
   "execution_count": 115,
   "metadata": {},
   "outputs": [
    {
     "name": "stdout",
     "output_type": "stream",
     "text": [
      "['dasar dungu nabi muhammad saw paman kafir tidak bawa bawa jadi kafir batas teman orang korup', 'bandung macet kalau tidak solusi kongkrit pergi kantor subuh', 'formasi baik persib mata ridwan formasi baik pernah milik persib versi bapak emil', 'bapak rangka merdeka kaya bagus kalau lomba', 'idiiiih malu deh hina jakarta minta ganti rugi nye jakarta cowo bukan']\n",
      "[0, 0, 1, 1, 0]\n"
     ]
    }
   ],
   "source": [
    "#raw_data to list\n",
    "Dataset = raw_data2[['text','kelas']].values.tolist()\n",
    "\n",
    "#pisahkan text dan labelnya\n",
    "Texts = [col[0] for col in Dataset]\n",
    "Labels = [col[1] for col in Dataset]\n",
    "print(Texts)\n",
    "print(Labels)"
   ]
  },
  {
   "cell_type": "markdown",
   "metadata": {},
   "source": [
    "for i in datauji:\n",
    "    Texts.append(i)\n",
    "print(Texts)"
   ]
  },
  {
   "cell_type": "code",
   "execution_count": 116,
   "metadata": {},
   "outputs": [
    {
     "name": "stdout",
     "output_type": "stream",
     "text": [
      "(5, 48)\n",
      "[[0.         0.         0.         0.         0.22558416 0.45116832\n",
      "  0.         0.         0.22558416 0.         0.22558416 0.\n",
      "  0.         0.         0.         0.         0.22558416 0.\n",
      "  0.45116832 0.         0.         0.         0.         0.22558416\n",
      "  0.         0.         0.         0.         0.         0.\n",
      "  0.         0.22558416 0.22558416 0.         0.22558416 0.22558416\n",
      "  0.         0.         0.         0.         0.         0.\n",
      "  0.22558416 0.         0.         0.22558416 0.18199988 0.        ]\n",
      " [0.         0.         0.34706676 0.         0.         0.\n",
      "  0.         0.         0.         0.         0.         0.\n",
      "  0.         0.         0.         0.         0.         0.\n",
      "  0.         0.28001128 0.34706676 0.         0.34706676 0.\n",
      "  0.         0.34706676 0.         0.         0.         0.\n",
      "  0.         0.         0.         0.         0.         0.\n",
      "  0.34706676 0.         0.         0.         0.         0.\n",
      "  0.         0.34706676 0.34706676 0.         0.28001128 0.        ]\n",
      " [0.         0.46310547 0.         0.18681529 0.         0.\n",
      "  0.         0.         0.         0.         0.         0.23155274\n",
      "  0.46310547 0.         0.         0.         0.         0.\n",
      "  0.         0.         0.         0.         0.         0.\n",
      "  0.         0.         0.         0.23155274 0.         0.23155274\n",
      "  0.         0.         0.         0.         0.         0.\n",
      "  0.         0.23155274 0.46310547 0.         0.23155274 0.\n",
      "  0.         0.         0.         0.         0.         0.23155274]\n",
      " [0.39835162 0.         0.         0.32138758 0.         0.\n",
      "  0.         0.         0.         0.         0.         0.\n",
      "  0.         0.         0.         0.         0.         0.\n",
      "  0.         0.32138758 0.         0.39835162 0.         0.\n",
      "  0.39835162 0.         0.         0.         0.39835162 0.\n",
      "  0.         0.         0.         0.         0.         0.\n",
      "  0.         0.         0.         0.39835162 0.         0.\n",
      "  0.         0.         0.         0.         0.         0.        ]\n",
      " [0.         0.         0.         0.         0.         0.\n",
      "  0.26726124 0.26726124 0.         0.26726124 0.         0.\n",
      "  0.         0.26726124 0.26726124 0.26726124 0.         0.53452248\n",
      "  0.         0.         0.         0.         0.         0.\n",
      "  0.         0.         0.26726124 0.         0.         0.\n",
      "  0.26726124 0.         0.         0.26726124 0.         0.\n",
      "  0.         0.         0.         0.         0.         0.26726124\n",
      "  0.         0.         0.         0.         0.         0.        ]]\n"
     ]
    }
   ],
   "source": [
    "from sklearn.feature_extraction.text import TfidfVectorizer\n",
    "\n",
    "tfidf_vectorizer = TfidfVectorizer()\n",
    "tfidf = tfidf_vectorizer.fit_transform(Texts)\n",
    "tfidf_model=tfidf_vectorizer.fit(Texts)\n",
    "print(tfidf.shape)\n",
    "\n",
    "matrix_tfidf = tfidf.toarray()\n",
    "print(matrix_tfidf)"
   ]
  },
  {
   "cell_type": "code",
   "execution_count": 117,
   "metadata": {},
   "outputs": [
    {
     "name": "stdout",
     "output_type": "stream",
     "text": [
      "[[0.         0.         0.         0.         0.22558416 0.45116832\n",
      "  0.         0.         0.22558416 0.         0.22558416 0.\n",
      "  0.         0.         0.         0.         0.22558416 0.\n",
      "  0.45116832 0.         0.         0.         0.         0.22558416\n",
      "  0.         0.         0.         0.         0.         0.\n",
      "  0.         0.22558416 0.22558416 0.         0.22558416 0.22558416\n",
      "  0.         0.         0.         0.         0.         0.\n",
      "  0.22558416 0.         0.         0.22558416 0.18199988 0.        ]\n",
      " [0.         0.         0.34706676 0.         0.         0.\n",
      "  0.         0.         0.         0.         0.         0.\n",
      "  0.         0.         0.         0.         0.         0.\n",
      "  0.         0.28001128 0.34706676 0.         0.34706676 0.\n",
      "  0.         0.34706676 0.         0.         0.         0.\n",
      "  0.         0.         0.         0.         0.         0.\n",
      "  0.34706676 0.         0.         0.         0.         0.\n",
      "  0.         0.34706676 0.34706676 0.         0.28001128 0.        ]\n",
      " [0.         0.46310547 0.         0.18681529 0.         0.\n",
      "  0.         0.         0.         0.         0.         0.23155274\n",
      "  0.46310547 0.         0.         0.         0.         0.\n",
      "  0.         0.         0.         0.         0.         0.\n",
      "  0.         0.         0.         0.23155274 0.         0.23155274\n",
      "  0.         0.         0.         0.         0.         0.\n",
      "  0.         0.23155274 0.46310547 0.         0.23155274 0.\n",
      "  0.         0.         0.         0.         0.         0.23155274]\n",
      " [0.39835162 0.         0.         0.32138758 0.         0.\n",
      "  0.         0.         0.         0.         0.         0.\n",
      "  0.         0.         0.         0.         0.         0.\n",
      "  0.         0.32138758 0.         0.39835162 0.         0.\n",
      "  0.39835162 0.         0.         0.         0.39835162 0.\n",
      "  0.         0.         0.         0.         0.         0.\n",
      "  0.         0.         0.         0.39835162 0.         0.\n",
      "  0.         0.         0.         0.         0.         0.        ]\n",
      " [0.         0.         0.         0.         0.         0.\n",
      "  0.26726124 0.26726124 0.         0.26726124 0.         0.\n",
      "  0.         0.26726124 0.26726124 0.26726124 0.         0.53452248\n",
      "  0.         0.         0.         0.         0.         0.\n",
      "  0.         0.         0.26726124 0.         0.         0.\n",
      "  0.26726124 0.         0.         0.26726124 0.         0.\n",
      "  0.         0.         0.         0.         0.         0.26726124\n",
      "  0.         0.         0.         0.         0.         0.        ]]\n",
      "[]\n",
      "jumlah data traning =5\n",
      "jumlah data test = 0\n"
     ]
    }
   ],
   "source": [
    "total_data_training = len(Dataset)\n",
    "\n",
    "x_train = matrix_tfidf[0:total_data_training,]\n",
    "x_test = matrix_tfidf[total_data_training:len(Texts),]\n",
    "\n",
    "print(x_train)\n",
    "print(x_test)\n",
    "\n",
    "print(\"jumlah data traning =\"+ str(len(x_train)))\n",
    "print(\"jumlah data test = \"+ str(len(x_test)))"
   ]
  },
  {
   "cell_type": "code",
   "execution_count": 118,
   "metadata": {},
   "outputs": [
    {
     "name": "stdout",
     "output_type": "stream",
     "text": [
      "MultinomialNB(alpha=1.0, class_prior=None, fit_prior=True)\n"
     ]
    }
   ],
   "source": [
    "from sklearn.naive_bayes import MultinomialNB\n",
    "mnb = MultinomialNB()\n",
    "model = mnb.fit(x_train, Labels)\n",
    "print(model)"
   ]
  },
  {
   "cell_type": "markdown",
   "metadata": {},
   "source": [
    "predict = model.predict(x_test)\n",
    "print(predict)"
   ]
  },
  {
   "cell_type": "code",
   "execution_count": 119,
   "metadata": {},
   "outputs": [
    {
     "name": "stdout",
     "output_type": "stream",
     "text": [
      "[0]\n"
     ]
    }
   ],
   "source": [
    "kelas=[0]\n",
    "print(kelas)"
   ]
  },
  {
   "cell_type": "code",
   "execution_count": 120,
   "metadata": {},
   "outputs": [
    {
     "name": "stdout",
     "output_type": "stream",
     "text": [
      "selesai\n"
     ]
    }
   ],
   "source": [
    "import pickle\n",
    "filename='MNB.adhi'\n",
    "\n",
    "file=open('model\\\\'+filename,'wb')\n",
    "pickle.dump(tfidf_model, file)\n",
    "pickle.dump(mnb, file)\n",
    "file.close()\n",
    "\n",
    "print('selesai')"
   ]
  },
  {
   "cell_type": "code",
   "execution_count": 112,
   "metadata": {},
   "outputs": [
    {
     "data": {
      "text/plain": [
       "1.0"
      ]
     },
     "execution_count": 112,
     "metadata": {},
     "output_type": "execute_result"
    }
   ],
   "source": [
    "from sklearn.metrics import accuracy_score\n",
    "\n",
    "accuracy_score(kelas,predict)"
   ]
  },
  {
   "cell_type": "code",
   "execution_count": null,
   "metadata": {
    "collapsed": true
   },
   "outputs": [],
   "source": []
  }
 ],
 "metadata": {
  "kernelspec": {
   "display_name": "Python 3",
   "language": "python",
   "name": "python3"
  },
  "language_info": {
   "codemirror_mode": {
    "name": "ipython",
    "version": 3
   },
   "file_extension": ".py",
   "mimetype": "text/x-python",
   "name": "python",
   "nbconvert_exporter": "python",
   "pygments_lexer": "ipython3",
   "version": "3.6.3"
  }
 },
 "nbformat": 4,
 "nbformat_minor": 2
}
