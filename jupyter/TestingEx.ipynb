{
 "cells": [
  {
   "cell_type": "markdown",
   "metadata": {},
   "source": [
    "<h1>Membuka 1 Tweet dari File json<h1>"
   ]
  },
  {
   "cell_type": "code",
   "execution_count": 12,
   "metadata": {},
   "outputs": [
    {
     "name": "stdout",
     "output_type": "stream",
     "text": [
      "{'fullname': 'Hamdan Gustiawidi', 'html': '<p class=\"TweetTextSize js-tweet-text tweet-text\" data-aria-label-part=\"0\" lang=\"in\">Pak fera gapunya SIM tp udh kejalan RT<a class=\"twitter-atreply pretty-link js-nav\" data-mentioned-user-id=\"146363079\" dir=\"ltr\" href=\"/ferarahmawatii\"><s>@</s><b>ferarahmawatii</b></a>: pak <a class=\"twitter-atreply pretty-link js-nav\" data-mentioned-user-id=\"80323736\" dir=\"ltr\" href=\"/ridwankamil\"><s>@</s><b><strong>ridwankamil</strong></b></a> pagi-pagi d dpn pasar ujungberung suka macet sama pedagang d pinggir</p>', 'id': '429028951827042304', 'likes': 0, 'replies': 0, 'retweets': 0, 'text': 'Pak fera gapunya SIM tp udh kejalan RT@ferarahmawatii: pak @ridwankamil pagi-pagi d dpn pasar ujungberung suka macet sama pedagang d pinggir', 'timestamp': '2014-01-30T23:10:47', 'url': '/HamdanGW/status/429028951827042304', 'user': 'HamdanGW'}\n"
     ]
    }
   ],
   "source": [
    "import codecs, json\n",
    "with codecs.open('tweetsFix.json','r','utf-8') as f:\n",
    "    tweets=json.load(f, encoding='utf-8')\n",
    "    print(tweets[10])"
   ]
  },
  {
   "cell_type": "markdown",
   "metadata": {},
   "source": [
    "<h1>Preprocessing<h1>"
   ]
  },
  {
   "cell_type": "code",
   "execution_count": 13,
   "metadata": {
    "collapsed": true
   },
   "outputs": [],
   "source": [
    "import re\n",
    "def preprocessing(text=\"\",\n",
    "                  casefolding=True,\n",
    "                  url_add=True,\n",
    "                  username=True,\n",
    "                  removeusername=True,\n",
    "                  removenonalphabet=True,\n",
    "                  removestopword=True,\n",
    "                  stemming=True,\n",
    "                  removehashtag=True,\n",
    "                  removeemail=True, \n",
    "                  removeRT=True,\n",
    "                  removeAdr=True):\n",
    "    if(text!=\"\"):\n",
    "       \n",
    "        if(casefolding):\n",
    "            text = text.lower()\n",
    "            \n",
    "        if(removeRT):\n",
    "            import re\n",
    "            rt= re.compile(r'RT\\D*\\D?\\w+\\W?\\D+')\n",
    "            text = re.sub(rt, ' ', text)\n",
    "        \n",
    "        if(removeusername):\n",
    "            nama = re.compile(\"(?:^|\\s)[＠ @]{1}([^\\s#<>[\\]|{}]+)\", re.UNICODE)\n",
    "            text = re.sub(nama, ' ', text)\n",
    "            \n",
    "        if(username):\n",
    "            user = re.compile(\"[＠ @]{1}([^\\s#<>[\\]|{}]+):\", re.UNICODE)\n",
    "            text = re.sub(user, ' ', text) \n",
    "        \n",
    "        if(removeAdr):\n",
    "            com= re.compile(r'\\w+\\.\\w+\\.*\\w*\\D\\w*')\n",
    "            text = re.sub(com, ' ', text)\n",
    "         \n",
    "        if(url_add):\n",
    "            text = re.sub('http\\S+\\s*', ' ', text)\n",
    "            \n",
    "        if(removehashtag):\n",
    "            hashtag = re.compile(\"(?:^|\\s)[＃#]{1}(\\w+)\", re.UNICODE)\n",
    "            text = re.sub(hashtag, ' ', text)\n",
    " \n",
    "        if(removeemail):\n",
    "            email = re.compile(r'[\\w\\.-]+@[\\w\\.-]+\\.\\w+')\n",
    "            text = re.sub(email, ' ', text) \n",
    "            \n",
    "        if(removenonalphabet):\n",
    "            import re\n",
    "            text = ' '.join(re.findall(r'\\b[a-z]+?[a-z]+\\b',text))\n",
    "    \n",
    "        if(removestopword):\n",
    "            from Sastrawi.StopWordRemover.StopWordRemoverFactory import StopWordRemoverFactory\n",
    "            factory = StopWordRemoverFactory()\n",
    "            Sastrawi_StopWords_id = factory.get_stop_words()\n",
    "            temp = [t for t in re.findall(r'\\b[a-z]+-?[a-z]+\\b',text) if t not in Sastrawi_StopWords_id]\n",
    "            text = ' '.join(temp)\n",
    "        if(stemming):\n",
    "            from Sastrawi.Stemmer.StemmerFactory import StemmerFactory\n",
    "            stemmer = StemmerFactory().create_stemmer()\n",
    "            text   = stemmer.stem(text)\n",
    "    return(text)"
   ]
  },
  {
   "cell_type": "markdown",
   "metadata": {},
   "source": [
    "<h1>Preprocessing pada File json<h1>"
   ]
  },
  {
   "cell_type": "code",
   "execution_count": 15,
   "metadata": {},
   "outputs": [
    {
     "name": "stdout",
     "output_type": "stream",
     "text": [
      "@CibiruCulinary @PRFMnews @ridwankamil tempatnya dimana kang?\n",
      "Asyiik dkt rmh\"@infobandung: Cibiru! RT @CibiruCulinary: Bdg timur malam ini kita berbahagia bersama di #CibiruCulinaryNight w/ @ridwankamil\n",
      "@ridwankamil pak gmn ini? \"@LengkongCN: mendadak kapolsek gak kasih ijin teh @PutriKDe @01_septi @ayutitasurya\"\n",
      "Kalo di panyileukan gk ada pak ridwan y :( \"@CibiruCulinary: ada 2 tempat teh :) #CibiruCulinaryNight @IrmaJuliye @infobandung @ridwankamil\"\n",
      "@ridwankamil bahaya pak , tukang dagang mainan di SD deket rumah saya ada yg jualan permainan JUMANJI pak\n",
      "Wilujeng enjing, selamat pagi. Smg hari ini karunia bagi kita. Tdk lupa tetap tertib di jln & berempati pd org lain @ridwankamil @make2made\n",
      "ada 2 tempat teh :) #CibiruCulinaryNight @IrmaJuliye @infobandung @ridwankamil\n",
      "Warga Bdg timur MALAM INI kita berbahagia bersama di #CibiruCulinaryNight w/ @ridwankamil cc: @relawan_bdgpic.twitter.com/lN7uEzMoPP\n",
      "@infobandung @CibiruCulinary @ridwankamil cibiru apa panyileukan culinary night ?\n",
      "Obama, Jokowi, Ridwan Kamil dan Berkah... http://komitmaros.com/obama-jokowi-ridwan-kamil-dan-berkah-twitter.html … http://komitmaros.com  #Maros\n",
      "Cibiru! RT @CibiruCulinary: Warga Bdg timur malam ini kita berbahagia bersama di #CibiruCulinaryNight w/ @ridwankamil pic.twitter.com/bgznpPfl5G\n",
      "@Renarissa @infobandung @ridwankamil tolong tutup pake kardus\n",
      "Warga Bdg timur MALAM INI kita berbahagia bersama di #CibiruCulinaryNight w/ @ridwankamil cc: @PRFMnewspic.twitter.com/lN7uEzMoPP\n",
      "Pak @ridwankamil Mohon di bantu, kami warga bojongloa kaler sudah 4 hari air PDAM tidak mengalir ke rumah kami, kami kekurangan air pak\n",
      "Warga Bdg timur MALAM INI kita berbahagia bersama di #CibiruCulinaryNight w/ @ridwankamil cc: @bdg_juarapic.twitter.com/lN7uEzMoPP\n",
      "@ridwankamil acara nya ngehalangin jalan pulang, jadi ga bisa pulang hari ini--\n",
      "Warga Bdg timur malam ini kita berbahagia bersama di #CibiruCulinaryNight w/ @ridwankamil cc: @infobandungpic.twitter.com/lN7uEzMoPP\n",
      "@TzuTjin kalo k Bdg suruh hari kamis aja lyd klo ada anak SG yg ga bs bahasa Indo. Kan ada #KamisInggris ya ngga pa @ridwankamil :))\n",
      "RT @Relawan_Damkar: Terjadi Kebakaran di Jl.Cihampelas Rw.07 Kel.Coblong Kec.Coblong @PRFMnews @ridwankamil #WartaBdg\n",
      "cek favorite kami teh, nuhun :) RT @TettaAnyund: Pak @ridwankamil ai Cibiru Culinary Night teh dmn tempat na pak ? Nuhun\n",
      "Terimakasih pa @ridwankamil buat kedatangannya kemaren, semoga bisa berjumpa dilain waktu dengan agenda yang lain .. Ngaji bareng mungkin :D\n",
      "Kang @ridwankamil, @Kec_Sukajadi  jeung @PDKEBERSIHAN, kalo TPS Bungur tutup, warga harus buang sampah ke mana yang deket? Nuhun infona.\n",
      "Saat Dahlan Iskan Ngamuk di Tol, Ridwan Kamil Kesal karena Sampah http://bit.ly/1s9yTQe \n",
      "Warga Bdg timur malam ini kita berbahagia bersama di #CibiruCulinaryNight w/ @ridwankamil cc: @DiskominfoBdgpic.twitter.com/lN7uEzMoPP\n",
      "Walkot Bdg @ridwankamil Dirut @pasarkotabdg @rinal_siswadi @KartunJaparr Launching Logo Pasar Sae @BTMcicadas http://youtu.be/ieXZF8i80LQ?a \n",
      "@ridwankamil @Deddy_Mizwar_ @aheryawan Kasusna angger keneh! Meuli gas 3kg angger eusina meunang nu setengah deui, disegel keneh!\n",
      "kang @ridwankamil mau usul salah satu syarat izin setiap PKL itu mnyediakan keranjang sampah.htr nuhun..\n",
      "Nonton yuk krn sangat sarat dgn informasi @PKK_KotaBDG @2Serang @CoblongJITU  @Kel_Merdeka_SB @ridwankamil @ata_liapic.twitter.com/LbZWhTXbln\n",
      "Saat Dahlan Iskan Ngamuk di Tol, Ridwan Kamil Kesal karena Sampah http://bit.ly/1s9yTQe \n",
      "05.10 pemadaman kebakaran kios jl cihampelas sdh selesai 3 unit damkar balik kanan mako @ridwankamil @OdedMD @AaiikH @DiskominfoBdg\n",
      "Ridwan Kamil Keluarkan Kartu PKL Anti Rentenir http://bit.ly/RtT7ai \n",
      "Ridwan kamil bagi kartu pkl http://news.detik.com/bandung/read/2014/05/09/130211/2578191/486/bagikan-kartu-bagi-pkl-ridwan-kamil-upayakan-pedagang-bebas-rentenir … #infobdg\n",
      "Publikasi Dokumentasi Kejadian @PRFMnews @ridwankamil @infobandung @infobdg @ClickBandung @bdg_juarapic.twitter.com/6cm8MDMfZu\n",
      "\"Yess @fahiraidris: #Bandung Salute @ridwankamil @infobdg: Lokalisasi Saritem Bandung Bakal Diubah Jadi Pasar Emas http://bit.ly/1l6nXzX \"\n",
      "Dinas Kebakaran menerjunkan 2 Unit Pancar & 1 Unit Penyelamat @PRFMnews @ridwankamil @infobandung @infobdg @ClickBandung @bdg_juara\n",
      "Kerugian merurut pemilik Bp.Yaya (52 Th) ditaksir 25 Jt @PRFMnews @ridwankamil @infobandung @infobdg @ClickBandung @bdg_juara\n",
      "Asal mula api diduga dari konseleting listrik ,Kejadian awal pukul 04.50 wib @PRFMnews @ridwankamil @infobandung @infobdg @ClickBandung\n",
      "Berkaca pada http://www.washingtonpost.com/blogs/wonkblog/wp/2014/05/08/the-solutions-to-all-our-problems-may-be-buried-in-pdfs-that-nobody-reads … mari kita coba ini: https://i.cloudup.com/wqHAJlNYy2.pdf  @ridwankamil pic.twitter.com/3xtmflxVOm\n",
      "Kebakaran yang menghanguskan 1 Buah Kios dengan Luas Area 4 x 3 M'' @PRFMnews @ridwankamil @infobandung @infobdg @ClickBandung @bdg_juara\n",
      "Terjadi Kebakaran di Jl.Cihampelas Rw.07 Kel.Coblong Kec.Coblong @PRFMnews @ridwankamil @infobandung @infobdg @ClickBandung @bdg_juara\n",
      "pagi @ridwankamil @aheryawan @SBYudhoyono yg terhormat, slamat kerja keras mlayani rakyat, hidup sederhana dan kurangi kenikmatan pribadi ;)\n",
      "Malam pulang dari Jakarta, sekitar jam 8an, stopan pasteur pintu tol belasan pengamen mulai anak2-ibu2......why @ridwankamil ?\n",
      "Pak camat @a_s_gufron tahu ngga ya?  ngga pernah aktif lagi tuch @ridwankamil ...\n",
      "@ridwankamil @a_s_gufron Jalan di m yunus di tambah awal tahun. Belum 5 bulan sdh ancuur. Alasan, HUJAN?\n",
      "05:05 Terkendali kebakaran Jl. Cihampelas yg terbakar 1 kios Samping Hotel Promenade/Aston @ridwankamil @prfmnews @infobdg @infobandung\n",
      "Saat Dahlan Iskan Ngamuk di Tol, Ridwan Kamil Kesal karena Sampah http://bit.ly/1s9yTQe \n",
      "@ridwankamil gimana menurut akang ?? pic.twitter.com/yQTsm2AUnp\n",
      "TEDxBandung - Ridwan Kamil - Saving Cities With Urban Farming: http://youtu.be/Gd6RqAXc-1Q  lewat @YouTube\n",
      "Saat Dahlan Iskan Ngamuk di Tol, Ridwan Kamil Kesal karena Sampah http://bit.ly/1s9yTQe \n",
      "with @ridwankamil selfie time  :D pic.twitter.com/AGKZXn3n0M\n",
      "foto @ridwankamil saat memperhatikan keadaan pasca pertandingan Persib Vs Persija 8 Mei lalu #latepostpic.twitter.com/ouv73DERIB\n",
      "\"@melodyJKT48:  RT @ridwankamil: \"WE are smarter than I\" #kolaborasiBDG\"\n",
      "Eks Lokalisasi Saritem Akan Dijadikan Pasar Emas Oleh Ridwan Kamil http://bit.ly/1owDucY \n",
      "RT @infobdg: \"Negeri ini butuh banyak pemuda pencari solusi, bukan pemuda pemaki-maki\" – Ridwan Kamil #GoodMorningBDGpic.twitter.com/uaYJM7VoOF\n",
      "Dilarang Ridwan Kamil, Grab Taxi Beri Klarifikasi - http://KOMPAS.com  http://goo.gl/fb/huRasC  http://goo.gl/6U8KJn \n",
      "Kang @ridwankamil , @infobdg , @PRFMnews , @se_bdg Tong hilap ayeuna dinten #ReboNyunda\n",
      "Retweeted Lintang CreativeWork (@LintangCreative):\n",
      "\n",
      "Beliau @basuki_btp @ridwankamil @ganjarpranowo seorang... http://fb.me/45hA4MOOe \n",
      "Retweeted Lintang CreativeWork (@LintangCreative):\n",
      "\n",
      "Beliau Bapak @ridwankamil seorang #RevolutionGovernment... http://fb.me/4WjSgurLU \n",
      "Dua Tahun Jabat Walikota Bandung, Ridwan Kamil Ingin Bereskan Kemacetan. @ybudipurnomo, @budipurnomo_id #Jakarta http://halloapakabar.com/dua-tahun-jabat-walikota-bandung-ridwan-kamil-ingin-bereskan-kemacetan …\n",
      "Dua Tahun Jabat Walikota Bandung, Ridwan Kamil Ingin Bereskan Kemacetan. @ybudipurnomo, @budipurnomo_id #Jakarta http://halloapakabar.com/dua-tahun-jabat-walikota-bandung-ridwan-kamil-ingin-bereskan-kemacetan …\n",
      "@diskamtam @diskar_bdg @ridwankamil di setiap wilayah dibangun pool diskar jd bgt ada kejadian lgs evakuasi\n",
      "Aslm dam selamat pagi.. sukses untuk kita semua hari ini @SnB_redaksi @ridwankamil @1071klitefm @BelbizGIMB @NuBizBandungTV @GaleriUKMBdg\n",
      "Alhamdulillah event #bandungairshow2015 selesai. thanks to @ridwankamil @DiskominfoBdg @bpptbdg @infobdg @DisporaBandung dan masyarakat bdg\n",
      "@ridwankamil pagi pak ridwan,tarif dasar  angkot untuk anak sekolah berapa ya di kasih 2000 minta naik jadi 4000 repot pak\n",
      "MQ HEADLINE :\n",
      "\n",
      "1.   DUA TAHUN RIDWAN KAMIL PIMPIN BANDUNG\n",
      "@mazNOT @ridwankamil memang, tp kang emil punya 1jt follower, orgnya peduli dan siapa tau bisa viral dan sampe ke pejabat setempat\n",
      "Ridwan Kamil: Bandung Jadi Tuan Rumah Hari Antikorupsi Desember Mendatang http://www.indonesia2day.com/2015/09/ridwan-kamil-bandung-jadi-tuan-rumah-hari-antikorupsi-desember-mendatang/ …pic.twitter.com/9M5hHFTYFB\n"
     ]
    },
    {
     "name": "stdout",
     "output_type": "stream",
     "text": [
      "@ridwankamil Selamat pagi SALAM KENAL DARI @HIKERSINDONESIA: http://youtu.be/HMplALXgHkI?a  via @YouTube\n",
      "Salam Tempel... No Way... #HAKI2015BDG @orionsbox @aksirelawanbdg @mazNOT @ridwankamil @ata_lia @KPK_RI @bandungtocare @hero_bandung\n",
      "Dilarang Ridwan Kamil, Grab Taxi Beri Klarifikasi - http://KOMPAS.com  http://goo.gl/fb/LSflCo  http://goo.gl/6U8KJn \n",
      "@ridwankamil @OdedMD  Penataan Tmn Jalur Hijau sbg bagian dari penataan Kawasan Metro agar asri tertib nyamanpic.twitter.com/DjFYqn6VPY\n",
      "@ridwankamil  Pantauan perkemb penataan Tmn Jalur Hijau Jl. Venus Raya RW 01 Metro dari PIPPK Kel. Mjlg (15/09/15) pic.twitter.com/UKeOcHmpM5\n",
      "@ridwankamil @OdedMD  Mari kita taati aturan dgn tdk membangun bangunan apalagi tanpa ijin pada tanah PU Pengairanpic.twitter.com/PCWy90iBBW\n",
      "@ridwankamil @PemkotBandung  Guna dukung ketahanan pangan sdh selayaknya lahan pertanian produktif ini dipertahankanpic.twitter.com/vs1VH97fAd\n",
      "@dbmpkotabdg @ridwankamil  Trmksh BBWS Citarum atas pengerukan sedimen Sungai Cidurian yg melintasi Kel. Manjahlega pic.twitter.com/hP8MAKiUzJ\n",
      "@ridwankamil @OdedMD  Hatur nuhun kang Heri atas dedikasinya jaga, rawat Rumah Pompa & lingkungan sekitarpic.twitter.com/je0It8450n\n",
      "@PKSejahtera jangan majukan Ridwan Kamil ke PilGub DKI, nanti ahok maju ke PilPres. Bahaya\n",
      "@ridwankamil @OdedMD Dgn tlh dibangunnya Rumah Pompa diharapkan buangan air ke S.Cidurian wkt hujan besar juga lancarpic.twitter.com/aon6kDE5Ta\n",
      "Ridwan Kamil Bakal Saingi  Ahok? http://obsessionnews.com/ridwan-kamil-bakal-saingi-ahok/ …\n",
      "@ridwankamil @dbmpkotabdg Perlunya perbaikan titik tanggul saluran yg rusak menuju Rumah Pompa di RW 13 Kel. Mjlgpic.twitter.com/coTIshuZrR\n",
      "@dbmpkotabdg @ridwankamil @OdedMD @PemumBdg  Pantauan ke Rumah Pompa Pengendali Banjir bantuan DBMP Kota Bdg di RW 13pic.twitter.com/uDvcwKb4ZT\n",
      "Ridwan Kamil Bakal Saingi Ahok? http://obsessionnews.com/ridwan-kamil-bakal-saingi-ahok/ …\n",
      "Mari terus berjuang #TolakPelonggaranMiras. Sekuat tenaga, demi anak bangsa. @Pak_JK @ridwankamil @Yusuf_Mansur @RachmatGobel @fahiraidris\n",
      "@ridwankamil yang tidak bayar dan telat-telat di gulung tikar secara paksa saja Pak, banyak berkelit malah merugikan .\n",
      "Wilujeng #ReboNyunda kanggo wargi sadaya oge Kang @ridwankamil @OdedMD @yossiiriantopic.twitter.com/aHrD6ZCTHs\n",
      "Dilarang Ridwan Kamil, Grab Taxi Beri Klarifikasi - http://KOMPAS.com  http://goo.gl/fb/8j5qOm  http://goo.gl/6U8KJn \n",
      "Giat GPS,pems bendera bdg senin @kec_cibkidul @KelSukapada @ridwankamil @BDGcleanaction @DiskominfoBdg @PemumBdgpic.twitter.com/eP1CVXuRb3\n",
      "follback pak wali @ridwankamil\n",
      "@KopiToba @ridwankamil boong\n",
      "Join me in urging @basuki_btp and @ridwankamil to stop DISHUB and POLDA Metro Jaya from arresting Uber drivers! https://action.uber.org/jakarta20150911/ …\n",
      "Testimonial PING! Baked Food \n",
      "\n",
      "Memang benar kata Ridwan Kamil \"Pekerjaan paling menyenangkan di… https://instagram.com/p/7qoDRQoyuR/ \n",
      "Ada banjir bandang asal jangan banjir bandung @ridwankamil\n",
      "@ridwankamil @OdedMD @yossiirianto @DiskominfoBdg @PemumBdg Rapat persiapan HJKB dan rencana kgtan bebersih masalpic.twitter.com/OjrkHDFDUe\n",
      "#alunalunbandung #mesjidagung #bandung #ridwankamil #alunalunbandung #bandung #traveling #superfollow #superfollowpic.twitter.com/ohbgVB7c6E\n",
      "@ridwankamil follback Bapak Wali\n",
      "#ridwankamil #alunalunbandung #bandungpic.twitter.com/sA7s7ycQcI\n",
      "Dilarang Ridwan Kamil, Grab Taxi Beri Klarifikasi - http://KOMPAS.com  http://goo.gl/fb/2Knprg  http://goo.gl/6U8KJn \n",
      "okezonenews : Ridwan Kamil Ajak Rakyat Indonesia Doakan Timnas di HWC … https://twitter.com/okezonenews/status/643859826473365509 …)pic.twitter.com/UTyIJKCMnh\n",
      "Ridwan Kamil terpilih menjadi salah satu wali kota terbaik dalam Forum Young Leader Sumposium World Cities Summit di Singapura. [GNFI]\n",
      "Ridwan Kamil terpilih menjadi salah satu wali kota terbaik dalam Forum Young Leader Sumposium World Cities Summit di Singapura. [GNFI]\n",
      "Ridwan Kamil terpilih menjadi salah satu wali kota terbaik dalam Forum Young Leader Sumposium World Cities Summit di Singapura. [GNFI]\n",
      "Ridwan Kamil terpilih menjadi salah satu wali kota terbaik dalam Forum Young Leader Sumposium World Cities Summit di Singapura. [GNFI]\n",
      "Ridwan Kamil terpilih menjadi salah satu wali kota terbaik dalam Forum Young Leader Sumposium World Cities Summit di Singapura. [GNFI]\n",
      "Ridwan Kamil terpilih menjadi salah satu wali kota terbaik dalam Forum Young Leader Sumposium World Cities Summit di Singapura. [GNFI]\n",
      "Ridwan Kamil terpilih menjadi salah satu wali kota terbaik dalam Forum Young Leader Sumposium World Cities Summit di Singapura. [GNFI]\n",
      "Ridwan Kamil terpilih menjadi salah satu wali kota terbaik dalam Forum Young Leader Sumposium World Cities Summit di Singapura. [GNFI]\n",
      "Ridwan Kamil terpilih menjadi salah satu wali kota terbaik dalam Forum Young Leader Sumposium World Cities Summit di Singapura. [GNFI]\n",
      "Ridwan Kamil terpilih menjadi salah satu wali kota terbaik dalam Forum Young Leader Sumposium World Cities Summit di Singapura. [GNFI]\n",
      "Ridwan Kamil terpilih menjadi salah satu wali kota terbaik dalam Forum Young Leader Sumposium World Cities Summit di Singapura. [GNFI]\n",
      "Ridwan Kamil terpilih menjadi salah satu wali kota terbaik dalam Forum Young Leader Sumposium World Cities Summit di Singapura. [GNFI]\n",
      "Ridwan Kamil terpilih menjadi salah satu wali kota terbaik dalam Forum Young Leader Sumposium World Cities Summit di Singapura. [GNFI]\n",
      "Ridwan Kamil terpilih menjadi salah satu wali kota terbaik dalam Forum Young Leader Sumposium World Cities Summit di Singapura. [GNFI]\n",
      "Ridwan Kamil terpilih menjadi salah satu wali kota terbaik dalam Forum Young Leader Sumposium World Cities Summit di Singapura. [GNFI]\n",
      "@ridwankamil kang libatkan kelurahan dan kecamatan untuk memantau  kebersihan wilayah\n",
      "Road to Final tenis lap #PorpemdaIX affirmasi terbaik utk #BandungJuara ya @abu_zaky Mhn do'a Kang @ridwankamil :) pic.twitter.com/DHnBQhEefT\n",
      "Nuhun kang @ridwankamil jl. Tb Ismail skrg mulus dari ujung ke ujung. Tinggal penertiban pasar Simpang nih, pelan2 supaya pedagang mau msk.\n",
      "@RTMC_PoldaJabar @PRFMnews @ridwankamil #lalin Polisi kemana? Sdh 1 jam jln ciwastra macet. Ada pengecoran. Kndrn di alihkan ke blkg psr..\n",
      "Contoh tdk sempurnanya TL di Bdg 3 dari 4 lampu OFF ini di per4an Laswi-Gatsu @PemkotBandung @ridwankamil pic.twitter.com/Rbj9UOvIk8\n",
      "Wilujeng enjing baraya....cuaca antapani cerah,pembetonan jalan di kedua lajurnya sudah selesai,htur nuhun kang emil cc @ridwankamil\n",
      "@PRFMnews @ridwankamil #lalin Macet.. Ada pengecoran di jln ciwastra. Kndrn di alihkan ke blkg pasar. Polisi kemana? Sdh 1 jam..\n",
      "Pa @ridwankamil masih aya pungli, kamari didinas kependudukan jl.ambon no.1 b, legalisir masih aya bhs \"saridona\" enya sih saridona tp miris\n",
      "@ridwankamil pelan tapi pasti pa wali\n",
      "@ridwankamil pak di fly over kiaracondong arah gatsu suka dipake putar balik mobil2. Pagi ini polisi yg ngatur. Emang boleh ya pak?\n",
      "@ridwankamil kang RK, prioritas kayaknya sarana transportasi dan kebersihan.\n",
      "Pa @ridwankamil ,sy prihatin lihat aksi topeng monyet d prapatan jln,.Bukankah itu sdh trmasuk eksploitasi binatang,.Apa bs d tertibkan pa\n",
      "@EMarwoto @ridwankamil @kecamatan_andir mantap pak Camat. Apa kabar Pak?\n",
      "Selamat Subuh, Hidup makin barokah kawan @IndraBudimantop @budirhakim @muchlishasyim @jumhurhidayat @ridwankamil @aboebakar15 @fadjroeL\n",
      "Loba operasi ayenamah subuh ge, smga Bandung lebih aman. nuhun pa polisi, nuhun bapa walkot @ridwankamil\n",
      "Pak kapan di bandung ada tempat khusus drift mobil dan balap motor supaya anak bandung bisa menyalurkan hobby yang benar? @ridwankamil\n",
      "Ridwan Kamil: Kota Bandung Susah Raih Piala Adipura - Tribunnews http://dlvr.it/4BZK66  #infoBDG\n",
      "Ridwan Kamil: Kota Bandung Susah Raih Piala Adipura - Tribunnews http://dlvr.it/4BZJq3  #infoBDG\n",
      "tp @DheaManoch2 gak semua anjing itu gak ganggu - ada jg yg nakutin. milih nya gmn ? kan aturan nya CFD mmg gitu, iyakan pak @ridwankamil ?\n",
      "Ridwan Kamil: Kota Bandung Susah Raih Piala Adipura: Wali Kota Bandung Ridwan Kamil mengakui, berat untuk mera... http://bit.ly/18Llaqv \n",
      "#berita Ridwan Kamil: Kota Bandung Susah Raih Piala Adipura http://adf.ly/Y4IFB \n",
      "Ridwan Kamil: Kota Bandung Susah Raih Piala Adipura http://dlvr.it/4BXhFx  #sawomatang\n",
      "#Tribunnews Ridwan Kamil: Kota Bandung Susah Raih Piala Adipura http://dlvr.it/4BXWR6 \n"
     ]
    },
    {
     "name": "stdout",
     "output_type": "stream",
     "text": [
      "Ridwan Kamil: Kota Bandung Susah Raih Piala Adipura - Tribunnews http://bit.ly/1cY97XW \n",
      "Ridwan Kamil: Kota Bandung Susah Raih Piala Adipura http://dlvr.it/4BXDm1 \n",
      "Ridwan Kamil: Kota Bandung Susah Raih Piala Adipura http://dlvr.it/4BXD5b \n",
      "Tiru! @GantiJakarta: GOOD! RT @coenpontoh: Bandung juga mulai mengunggah rapat-rapat internal Ridwan Kamil: http://www.youtube.com/watch?v=4d4F1nfA40Q&feature=c4-overview&list=UUoR04ksZ51Pp--W9F_zw1gA … …\"\"\n",
      "#TuitIndonesia Ridwan Kamil: Kota Bandung Susah Raih Piala Adipura #Indonesia #Tuit\n",
      "Sampah bertebaran di mana2 RT @tribunnews: Ridwan Kamil: Kota Bandung Susah Raih Piala Adipura http://bit.ly/1bWWvir \" cc. @ridwankamil\n",
      "#wartabdg Ridwan Kamil: Kota Bandung Susah Raih Piala Adipura - Tribunnews http://bit.ly/18LuF9m \n",
      "RT TribunNews: Ridwan Kamil: Kota Bandung Susah Raih Piala Adipura  ... http://ift.tt/1cY84Hq  | #infoindo\n",
      "Tribun: Ridwan Kamil: Kota Bandung Susah Raih Piala Adipura: Wali Kota Bandung Ridwan Kamil mengakui,... http://dlvr.it/4BWPnt  #NewsToday\n",
      "BANDUNG FASHION | Ridwan Kamil: Kota Bandung Susah Raih Piala Adipura - Tribunnews http://bit.ly/1aha2Cr  |http://goo.gl/XtqHpx \n",
      "Program kerja Ridwan Kamil untuk Bandung. http://ow.ly/q5I4K  http://ow.ly/i/3a54A \n",
      "Mari bikin gampang RT @kicauBandung: Ridwan Kamil: Kota Bandung Susah Raih Piala Adipura http://bit.ly/18Llaqv  #kicauNEWS\n",
      "Asyuujeh \"@te_saa: Belum apa2 udah ngeluh euy \"@tribunnews: Ridwan Kamil: Kota Bandung Susah Raih Piala Adipura http://bit.ly/1bWWvir \"\"\n",
      "Belum apa2 udah ngeluh euy \"@tribunnews: Ridwan Kamil: Kota Bandung Susah Raih Piala Adipura http://bit.ly/1bWWvir \"\n",
      "Hahaha the jakartanese are the problem @tribunnews: Ridwan Kamil: Kota Bandung Susah Raih Piala Adipura http://bit.ly/1bWWvir \n",
      "Ridwan Kamil: Kota Bandung Susah Raih Piala Adipura - Tribunnews http://bit.ly/1cY97XW  #Bandung\n",
      "@ridwankamil mohon support'nya event international yg di adakn bulan november di citarum.diikuti 12negara.arfi_event pic.twitter.com/QesbUpJBjD\n",
      "#teamfollowback Ridwan Kamil: Kota Bandung Susah Raih Piala Adipura: Wali Kota Bandung Ridwan Kami... http://bit.ly/18Llaqv  #openfollow\n",
      "#FOLLOWME Ridwan Kamil: Kota Bandung Susah Raih Piala Adipura: Wali Kota Bandung Ridwan Kamil meng... http://bit.ly/18Llaqv  #OPENFOLLOW\n",
      "#FOLLOWME Ridwan Kamil: Kota Bandung Susah Raih Piala Adipura: Wali Kota Bandung Ridwan Kamil meng... http://bit.ly/18Llaqv  #OPENFOLLOW\n",
      "Ridwan Kamil: Kota Bandung Susah Raih Piala Adipura http://dlvr.it/4BVxPB  #sawomatang\n",
      "Lg nyari quote2nya kg emil, muncul ini :)) RT @ridwankamil \"Mulailah dari yg kecil, krn semua yg besar berawal dari hal yg kecil\" (Mak Erot)\n",
      "Ridwan Kamil: Kota Bandung Susah Raih Piala Adipura: Wali Kota Bandung Ridwan Kamil mengakui, berat untuk mera... http://bit.ly/18Llaqv \n",
      "Ridwan Kamil: Kota Bandung Susah Raih Piala Adipura: Wali Kota Bandung Ridwan Kamil mengakui, berat untuk mera... http://bit.ly/18Llaqv \n",
      "Ridwan Kamil: Kota Bandung Susah Raih Piala Adipura: Wali Kota Bandung Ridwan Kamil mengakui, berat untuk mera... http://bit.ly/18Llaqv \n",
      "Ridwan Kamil: Kota Bandung Susah Raih Piala Adipura: Wali Kota Bandung Ridwan Kamil mengakui, berat untuk mera... http://bit.ly/18Llaqv \n",
      "Ridwan Kamil: Kota Bandung Susah Raih Piala Adipura: Wali Kota Bandung Ridwan Kamil mengakui, berat untuk mera... http://bit.ly/18Llaqv \n",
      "Ridwan Kamil: Kota Bandung Susah Raih Piala Adipura: Wali Kota Bandung Ridwan Kamil mengakui, berat untuk mera... http://bit.ly/18Llaqv \n",
      "Ridwan Kamil: Kota Bandung Susah Raih Piala Adipura: Wali Kota Bandung Ridwan Kamil mengakui, berat untuk mera... http://bit.ly/18Llaqv \n",
      "#LiputanUmum: Ridwan Kamil: Kota Bandung Susah Raih Piala Adipura http://dlvr.it/4BVtYP  Berita Betulan\n",
      "Ridwan Kamil: Kota Bandung Susah Raih Piala Adipura: Wali Kota Bandung Ridwan Kamil mengakui, berat untuk mera... http://bit.ly/18Llaqv \n",
      "Ridwan Kamil: Kota Bandung Susah Raih Piala Adipura: Wali Kota Bandung Ridwan Kamil mengakui, berat untuk mera... http://bit.ly/18Llaqv \n",
      "Ridwan Kamil: Kota Bandung Susah Raih Piala Adipura: Wali Kota Bandung Ridwan Kamil mengakui, berat untuk mera... http://bit.ly/18Llaqv \n",
      "Ridwan Kamil: Kota Bandung Susah Raih Piala Adipura: Wali Kota Bandung Ridwan Kamil mengakui, berat untuk mera... http://bit.ly/18Llaqv \n",
      "Ridwan Kamil: Kota Bandung Susah Raih Piala Adipura\n",
      "#TribunNews Ridwan Kamil: Kota Bandung Susah Raih Piala Adipura: Wali Kota Bandung Ridwan Kamil mengakui, bera... http://bit.ly/18Llaqv \n",
      "Ya susah ada vikjing RT @MonaTaraDita: Apalagi itunya tuh itunya ahahaha RT @tribunnews: Ridwan Kamil: Kota Bandung Susah Raih Piala Adipura\n",
      "Budak sd aja bisi gini kamu bisa ga? @AmeliaDwiLstr \"@.Siwonanae: Pak @ridwankamil pic.twitter.com/MrTJ9A40ub\"\n",
      "@ridwankamil pak saya mhswa unpad naik bus damri dr nangor ke DU ditagih 10RIBU. no.bus=3960. tolong ditindaklanjuti. 3ribu sgt brarti:(\n",
      "Terima kasih udah bersihkan kota tercinta “@ridwankamil cc para penyampah RT @dbmpkotabdg: 22/11 | ... http://tmi.me/1eSdw4 \n",
      "bapak walikota @ridwankamil menuju #pasarseni2014\n",
      "#KESEGARUNpic.twitter.com/2Q4OiAsLOH\n",
      "@Ridwan kamil wilujeung Enjing kang Emil,Saya mau usul gimana kalau mobil plat B dilarang masuk Bandung.jadi Bandung biar gak macet..Thanks\n",
      "Pak @ridwankamil yg terhormat.Alangkah senangnya jika gaji bidan PTT jg naik tdk hanya 1jt 8rts  yg setau sy jg di bawah UMR Kota Bandung.\n",
      "\"@ridwankamil: \"Dibawah telapak kaki pemuda, terletak pertaruhan maju mundurnya sebuah bangsa\"- pepatah arab\"\n",
      "Ntar Malem Ada Pak Ridwan Kamil Di Ini Talkshow NET\n",
      "\"Yang penting lari pagi. Jangan lari dari kenyataan.\" -@ridwankamil\n",
      "\n",
      "Para pencari #KESEGARUN bersama pak walikota!pic.twitter.com/frvsTvrIdo\n",
      "Bismillah final !! Pa kota bandung final ieu .. dtonton atuh pa meh sumanget   cc : @ridwankamil… http://instagram.com/p/vuICMRoq2Q/ \n",
      "Alhamdulillah,\n",
      "Basket Putri Kota Bandung raih medali #emas\n",
      "#PordaJabar2014\n",
      "#BandungJuara\n",
      "@ridwankamil pic.twitter.com/kgRD29YXIr\n",
      "Duh :( @diennesixth: Msh ada spt ini, bgt parkir lsg buang sampah. Smg mulai 1 des @ridwankamil @dbmpkotabdg pic.twitter.com/Tz0wwpB8Gd\"\n",
      "bapak @ridwankamil sudah datang untuk ikut #KESEGARUN #pasarseni2014\n",
      "\n",
      "sebentar lagi peserta akan menuju kampus ITBpic.twitter.com/0Pb4n7YEBx\n",
      "@ridwankamil @ata_lia @OdedMD @siti_odedMD \"Sampurasun PKK\" @PRFMnews Minggu 23/11/14 Pkl 20.00 @PKKKECGEDEBAGE mensikapi kenaikan harga BBM\n",
      "@Amallamaa @ridwankamil Hahhaa yang ngemis tuh yang kaya gimana? Muka anda pegemis mah \n",
      "@ridwan_kamil_ Kak follow @Phiedo_ Lagi open follback lho !!\n",
      "\"@ridwankamil: \"Dibawah telapak kaki pemuda, terletak pertaruhan maju mundurnya sebuah bangsa\"- pepatah arab\"\n",
      "Mengapa Ada BPJS jika hanya utk membeda2kan Pelayanan Uang ternyata diatas segala2nya@ridwankamil@Bandung_Dinkes\n",
      "\"@ridwankamil: \"Dibawah telapak kaki pemuda, terletak pertaruhan maju mundurnya sebuah bangsa\"- pepatah arab\"\n",
      "Baru ngeh ad yg beda dg gasibu, lbih tertata n ssuai fungsinya. Wlau sy bkn orang bdg salut lah am kang @ridwankamil pic.twitter.com/46Tv0Q9WMB\n",
      "@PRFMnews @ridwankamil,@MentionRidwanK@Bachrudim  @KelSukapada@kec_cibkidul   @PDKEBERSIHAN,@bdg_juara,@infobdg :(y)pic.twitter.com/HfjshKwmoY\n",
      "Siap pane ran dan GPS car free day@ridwankamil pic.twitter.com/mI7IeKSMBF\n",
      "GPS car free day 45 @ridwankamil 23nop2014 pic.twitter.com/EDJ1MeeCaH\n",
      "Kalau diliat2 sih emang ada miripnya antara Kang @ridwankamil dengan David Noah @DorfelDave .. Hehee\n",
      "Smpn45 siap pane ran car free day 23 nop2014 @ridwankamil pic.twitter.com/268SAk6dXA\n",
      "Mohon alangkah bijak untuk tidak menggunakan dana rakyat Jakarta ya pak @basuki_btp untuk bantu pak @ridwankamil. \n",
      "#Stoppencitraan\n",
      "@donywardhana @ridwankamil pasar seni kali ini termasuk #goodfestival jadi ada larangan untuk merokok :)\n",
      "@ridwan_kamil_ Kak follow @Phiedo_ Lagi open follback lho !!\n",
      "Gerakan pungut sampah kawan @BundaRacing94 pasca pertandingan di gymnasium UPI Cc: @ridwankamil http://instagram.com/p/vuDsbmA9zq/ \n",
      "nontonn si bapak @ridwankamil jam 19.00 ini di ini talkshow RT @deerwithbear: @sinthaintan94 @NS_Tunggadewi @nipehnipeh_ salam buat pak emil\n",
      "Pak @ridwankamil, dii @pasarseni2014 bebas asap rokok gak?Jgn2 kejadian pasar seni 2010 terulang lagi.Kampus ITB berkabut oleh  asap rokok.\n",
      "@ridwankamil →  @InfoSeJabar Ahok dan Emil Sepakati Penggantian Bersama Kerusakan Bus Bobotoh http://bit.ly/1yDxa8l \n"
     ]
    },
    {
     "name": "stdout",
     "output_type": "stream",
     "text": [
      "@ridwan_kamil_ Kak Follow @Phiedo_ Akun Tweet Romantis lho kak !\n",
      "neu eta papa hendrik ningalikeun =)) \"@melakristi: Pa enakeun yah niis ditaman maluku hehe ;;) @ridwankamil https://twitter.com/melakristi/status/498050931368280064/photo/1pic.twitter.com/FmFomQhl0N \"\n",
      "(Ahok 'Tebus Dosa' ke Ridwan Kamil Rp 125 Juta) http://fb.me/1Dlzc9RmL \n",
      "Harga BBM Naik, Ridwan Kamil Perbanyak Bus Sekolah http://cnn.id/13210 \n",
      "Harga BBM Naik, Ridwan Kamil Perbanyak Bus Sekolah http://cnn.id/13210 \n",
      "Bus Bobotoh Dirusak, Ahok Janji Bantu Ridwan Kamil untuk Bayar Biaya Kerugian http://de.tk/V5cYOx \n",
      "Harga BBM Naik, Ridwan Kamil Perbanyak Bus Sekolah http://cnn.id/13210 \n",
      "Hari iniiii!Ya pagi ini,di CFD mhsiswa RIL ITB 2013 dtg meramaikan & mengkampanyekan perawatannpohon.@ridwankamil @infobandung @ITeBeNews\n",
      "@tubsul @infobdg @ridwankamil kang. Benar itu\n",
      "@ridwankamil idiiiih malu deh ,, udah menghina jakarta tapi minta ganti rugi nye ke jakarta juga . cowo bukan ??\n",
      "Ridwan Kamil Dan Ahok Membahas The Jakmania Dan Bobotoh http://m88bola.com/detail_news/112803 …\n",
      "Ikut pelihara pohon yuk!\n",
      "#teatrikalkampanyerawatpohon\n",
      "GORILA(GoRiLAction)\n",
      "Mhsswa RIL ITB 2013\n",
      "@ridwankamil @infobandung @ITeBeNews @FTSL2013\n",
      "@ridwan_kamil_ Auto Tweet Bijak http://goo.gl/DXJn5z  5 Menit Sekali\n",
      "@ridwankamil @tommyfawuy @hero_bandung ku beri nama : BRAJAMUSTI\n",
      "Pertandingan Boxing di Pasar Seni ITB:\n",
      "Soleh Sundava vs Ridwan Kamil [pic] — https://path.com/p/1uOzMb \n",
      "@ridwankamil 'Alun-alun Bandung Direvitalisasi Besar-besaran, Bagaimana Nasib PKL? via @detikcom http://de.tk/61NfyH \n",
      "@ridwan_kamil_ Auto Tweet Bijak http://goo.gl/DXJn5z  5 Menit Sekali\n",
      "\"Kemanakah Hijaumu Bandung?\"\n",
      "Iseng coret-coret abis shalat subuh..duka kunaon gambarna jadi kieu :( cc: @ridwankamil pic.twitter.com/6bbJS6hYQK\n",
      "@ridwan_kamil_ Ayo Fans Talk Show Follow @Phiedo_ !!\n",
      "@ridwankamil pa punten ai taman cicaheum ada , naha Mni kieu hideung asa sareksek barau elem bambu , mun di pasang wifi enak jigana pa :g\n",
      "Ciee, minta ganti rugi. Duit juara kemana? :p  RT @detikcom: Bus Bobotoh Dirusak, Ahok Janji Bantu Ridwan Kamil untuk Bayar Biaya Kerugian\n",
      "\"@ridwankamil: \"Dibawah telapak kaki pemuda, terletak pertaruhan maju mundurnya sebuah bangsa\"- pepatah arab\"\n",
      "@kaptenbayangan @ridwankamil di jalan imam bonjol..\n",
      "@ridwankamil @tommyfawuy @hero_bandung. BBB (BeBegik Bandung). Ngusir anu teu nyaah ka Bandung... hush hush...\n",
      "@ridwankamil boleh minta follback nya??\n",
      "Bus Bobotoh Dirusak, Ahok Janji Bantu Ridwan Kamil untuk Bayar Biaya Kerugian via @detiksport http://de.tk/V5cYOx \n",
      "Villa Pranata Lembang, trima kasih buat ibu @MellyWarouw & keluarga fasilitasnya @ridwankamil @PemumBdg @keclengkongpic.twitter.com/7mc21gk9FE\n",
      "Bus Bobotoh Persib Dirusak di Jakarta, Ahok Janji Ganti ke Ridwan Kamil - http://kom.ps/AFoT8y   on Kompas.\n",
      "DPD Golkar Jabar Beri Ridwan Kamil Ultimatum. http://wismaberita.com/2017/11/dpd-golkar-jabar-beri-ridwan-kamil-ultimatum/ …pic.twitter.com/DlzsQmuadq\n",
      "Persebaya Main di Bandung, Ridwan Kamil Imbau Bonek Santun http://beritabandung.com/view.php?id=20171114162933 …\n",
      "Giat 'Yanmas' Satlinmas Kelurahan Dunguscariang jl Rajawali Timur @ridwankamil @OdedMD @yossiirianto @suhar02pic.twitter.com/gz3AZ00THn\n",
      "Ridwan Kamil Minta Bonek Jadi Tamu yang Baik di Bandung http://kom.ps/AFyKEs \n",
      "Ridwan Kamil Minta Bonek Jadi Tamu yang Baik di Bandung …\n",
      "RT biblewords3: Ridwan Kamil Minta Bonek Jadi Tamu yang Baik di Bandung http://kom.ps/AFyKEs \n",
      "RT biblewords3: Ridwan Kamil Minta Bonek Jadi Tamu yang Baik di Bandung http://kom.ps/AFyKEs \n",
      "Ridwan Kamil Minta Bonek Jadi Tamu yang Baik di Bandung http://kom.ps/AFyKEs \n",
      "SEHAT adalah aplikasi yang dapat dipergunakan oleh dokter-dokter Puskesmas untuk berkonsultasi mengenai permasalahan medis dengan 30 ribu dokter yang telah terdaftar sebelumnya @ridwankamil @Bandung_Dinkes @HumasBdg #StayFitForLifepic.twitter.com/4q1W5n1HLY\n",
      "Untuk mengatasi membludaknya jumlah pasien di rumah sakit menyebabkan terbentuknya antrean pasien, Pemkot Bandung baru saja melaunching aplikasi Sistem Elektronik Aplikasi Rujukan Terpadu (SEHAT) @ridwankamil @Bandung_Dinkes @HumasBdg #StayFitForLifepic.twitter.com/mJTgAQARic\n",
      "Hadirilah..!! BBC mempersembahkan Hiburan untuk masyarakat.. Di hadiri oleh Walikota Bandung Bpk. Ridwan Kamil beserta Istri pic.twitter.com/swrFFMPB0l\n",
      "Saya orang tasik, harapansaya semoga tidak dengan UU ya Kang.... Malah bagus kalau sama Kang @DediMulyadi71\n",
      "Kapolsekta Gedebage Kompol Sumari, Selasa malam 14.11.17 bagikan nasi bungkus kpd  supporter Persebaya & PSIS yg sdh berdatangan ke GBLA. @ridwankamil @OdedMD @kang_yossi @bsukardi67 @PRFMnews @HumasBdgpic.twitter.com/D28dqAvfJW\n",
      "@ridwankamil @OdedMD @yossiirianto @pembdg @kecamatan_andir @pdkebersihanbdg @endangparken @agusdharma17 @TCiroyompic.twitter.com/GRHAjtDGUK\n",
      "Keceee\n",
      "Reaksi Ridwan Kamil Dikabarkan Dukung LGBT http://ww8.bacaberita.info/2017/11/reaksi-ridwan-kamil-dikabarkan-dukung.html?utm_source=dlvr.it&utm_medium=twitter …\n",
      "Reaksi Ridwan Kamil Dikabarkan Dukung LGBT http://bit.ly/2jtwmGH pic.twitter.com/dVvzgI3gFh\n",
      "Reaksi Ridwan Kamil Dikabarkan Dukung LGBT http://blog.sekseeh.com/berita/reaksi-ridwan-kamil-dikabarkan-dukung-lgbt/ …pic.twitter.com/JHyezaTnid\n",
      "PKI PERJUANGAN hahahaha\n",
      "Reaksi Ridwan Kamil Dikabarkan Dukung LGBT http://blog.sekseeh.com/berita/reaksi-ridwan-kamil-dikabarkan-dukung-lgbt/ …pic.twitter.com/STwGlpOLpF\n",
      "Reaksi Ridwan Kamil Dikabarkan Dukung LGBT http://blog.sekseeh.com/berita/reaksi-ridwan-kamil-dikabarkan-dukung-lgbt/ …pic.twitter.com/WeSJQqZtsR\n",
      "Reaksi Ridwan Kamil Dikabarkan Dukung LGBT http://dlvr.it/Q0yk4J pic.twitter.com/4RfOC4H31Q\n",
      "Sampurasun...wilujeng enjing wargi Rancanumpang, punten tonk helove dinten Rebo... beberesih GPS. cc. @ridwankamil @OdedMD @kang_yossi @bsukardi67 @HumasBdgpic.twitter.com/nf297mPwix\n",
      "Kendala yg mungkin timbul: Siapa yg bayar tiap konsultasi ke spesialis? Pemkot? BPJS? Pasien? Gak mungkin spesialis sukarela melayani konsul\n",
      "Ridwan Kamil: Bonek Jangan Menggelandang di Bandung | Pikiran ... - Pikiran Rakyat http://dlvr.it/Q0yfsm  #BeritaBonek\n",
      "#kunjungan #LayadRawat #terencana @PJajaway\n",
      "Cc @ridwankamil https://twitter.com/mashable/status/930559227319402496 …\n",
      "Emang kudu ke PKS ??\n",
      "Gerakan subuh berjamaah RW 05 dan RW 06 Dunguscariang @ridwankamil @OdedMD @yossiirianto @kecamatan_andir @suhar02pic.twitter.com/iRuGLciv4d\n",
      "Usung Ridwan Kamil, Golkar Tabur Benih Perpecahan di Internal http://ift.tt/2ihdlUx \n",
      "Hidup itu pilihan. Ketidaksamaan pilihan tidak harus selalu saling menjelekkan. (Ridwan Kamil)\n",
      "wakakaa Nabi muhammad dibawa bawa... beda jauh coy.. goblog ente dipelihara.. tuh jilatin dulu pantan stamara baru ngomong ente huahahaah\n",
      "sya mendukungmu pk rk\n",
      "Ridwan Kamil Akui Kumpulkan Parpol Pengusungnya Tidak Mudah    http://ift.tt/2iWhOvF \n",
      "Ridwan Kamil Akui Kumpulkan Parpol Pengusungnya Tidak Mudah http://okz.me/CYJgD  pic.twitter.com/bilv4WP98K\n",
      "Ridwan Kamil Akui Kumpulkan …\n",
      "Ridwan Kamil Akui Kumpulkan Parpol Pengusungnya Tidak Mudah http://okz.me/CYJgD pic.twitter.com/H7H596d2eN\n",
      "Nasdem: Partai Pendukung Ridwan Kamil Jangan Paksakan Cawagub\n",
      "\n",
      "http://Kerabola.com , Jakarta – Partai Nasdem sebagai salah… http://ift.tt/2zIKIHi pic.twitter.com/QTt7zIGWS6\n",
      "Walikota Bandung, Ridwan Kamil Calon Gubernur Jawa Barat 2018-2023 http://fb.me/2Iid1zP9R \n",
      "Ini Alasan Nasdem Bebaskan Ridwan Kamil Pilih Cawagub\n",
      "\n",
      "http://Kerabola.com , Jakarta Ketua Umum Partai Nasdem  menyerahkan… http://ift.tt/2ihBzOs pic.twitter.com/Lb11WB5mNK\n",
      "untuk warga Bandung & sekitarnya, bpk @ridwankamil , akang-akang @officialvpc @bomber_online serta temen-temen @vikingkampus , selama babak 8 besar ini kami permisi untuk mengawal kebanggaan kami @persebayaupdate dirumah kalian sekaligus bersilaturahmi \n",
      "SALAM SATU NYALI WANI !!\n",
      "@kelurahan_maleer @ridwankamil @odedmd @yossiirianto @pemBdg @diskominfoBdg @kecamatan_batununggalBdgpic.twitter.com/g04UsxyWiI\n",
      "http://beritahati.com/berita/37286/Ini-alasan-RKIH-Dukung-duet-Maman-Imanulhaq-Kang-Emil-di-Pilgub-Jabar … #JABARJembarBerkibar @jokowi @cakimiNOW @ridwankamil @kang_maman72 @nu_online @NuJabar @dpwpkbjabar @NUCianjur @infojawabarat @Netizen_NUpic.twitter.com/i9x8PR6y9W\n",
      "Pilgub Jabar 2018: Ridwan Kamil Didesak Segera Tentukan Cawagub http://dlvr.it/Q0wvBQ \n",
      "dasar dongo, nabi muhammad saw aja paman ya kafir enggak kebawa bawa jadi kafir,,, apalagi ini sebatas teman seorang korup,,,,,,,,,\n",
      "Murder @VikingKarawang @VikingCikbar @ridwankamil #murderer #vikingpembunuh #shameonyoupersibhttps://twitter.com/omendtirta/status/929949008012832768 …\n"
     ]
    },
    {
     "name": "stdout",
     "output_type": "stream",
     "text": [
      "@VB_PERSIJA Murder @VikingKarawang @VikingCikbar @ridwankamil #murderer #vikingpembunuh #shameonyoupersib\n",
      "Makan bareng Warmis bsm Bp Camat Cibiru, Selasa 14-11-2017 @ridwankamil @pembdg @KecamatanCibiru @AyiNews2pic.twitter.com/zJl3cYRleG\n",
      "Rapat Koordinasi bersama pengurus PKK, Selasa 14-11-2017 @ridwankamil @odeo @kang_yossi @pembdg @KecamatanCibiru @AyiNews2pic.twitter.com/lvpbeApyml\n"
     ]
    }
   ],
   "source": [
    "import json\n",
    "\n",
    "filejson=open(\"tweetsFix.json\")\n",
    "data=json.loads(filejson.read())\n",
    "komentar = []\n",
    "kata=[]\n",
    "for item in data[420:700]:\n",
    "    r={}\n",
    "    print(item['text'])\n",
    "    r['text'] = preprocessing(item['text'])\n",
    "    komentar.append(r)\n",
    "    tweet=r['text'] if 'text' in item else item\n",
    "    \n",
    "    \n",
    "    file = open(\"kamus.txt\", encoding=\"utf-8\", errors='replace')\n",
    "    Teks = file.readlines()\n",
    "    Teks_string=' '.join(Teks)\n",
    "    fix=eval(Teks_string)\n",
    "    t=\" \",tweet,\" \"\n",
    "    t_string=' '.join(t)\n",
    "    t_jadi=t_string \n",
    "    \n",
    "    for slang, formal in fix.items():\n",
    "        t_jadi = t_jadi.replace(slang,formal)\n",
    "    kata.append(t_jadi)\n",
    "\n"
   ]
  },
  {
   "cell_type": "markdown",
   "metadata": {},
   "source": [
    "<h2>Antonim</h2>"
   ]
  },
  {
   "cell_type": "code",
   "execution_count": 4,
   "metadata": {
    "collapsed": true
   },
   "outputs": [],
   "source": [
    "import nlp_if_lib as nlp\n",
    "import urllib, json\n",
    "from spacy.lang.id import Indonesian\n",
    "nlp_id_spacy = Indonesian() \n",
    "\n",
    "kataJadi=[] \n",
    "lenKata=len(kata)\n",
    "for t in range(0,lenKata):\n",
    "    teksAnt=[]\n",
    "    kataStrip=kata[t].strip()\n",
    "    kataToken = nlp_id_spacy(kataStrip)  \n",
    "    token_pos = nlp.getPOSTag()\n",
    "    \n",
    "    for x in kataToken:\n",
    "        teksAnt.append(x.text)\n",
    "    \n",
    "    lenTeksAnt=len(teksAnt)   \n",
    "    for y in range(0,lenTeksAnt):\n",
    "        antonim=[]\n",
    "        if(teksAnt[y]==\"tidak\" or teksAnt[y]==\"kurang\" or teksAnt[y]==\"belum\"):\n",
    "            for token in kataToken:\n",
    "                t=token.lemma_\n",
    "                try: \n",
    "                    pos=token_pos[token.lemma_]\n",
    "                    if(token_pos[teksAnt[y+1]]==\"adj\"):\n",
    "                        url = \"http://kateglo.com/api.php?format=json&phrase=\"+teksAnt[y+1]\n",
    "                        respon = urllib.request.urlopen(url)\n",
    "                        data = json.loads(respon.read())\n",
    "                        post = data[\"kateglo\"][\"all_relation\"]\n",
    "\n",
    "                        lenPost=len(post)\n",
    "                        for x in range(0,lenPost):\n",
    "                            value=post[x]\n",
    "                            if(value['rel_type']=='a'):\n",
    "                                ant=value['related_phrase']\n",
    "                                antonim.append(ant)\n",
    "                                teksAnt[y+1]=\"\"\n",
    "                                teksAnt[y]=\"\"\n",
    "                except:\n",
    "                    pos='n'\n",
    "            \n",
    "                \n",
    "            \n",
    "        listAnt=len(antonim)\n",
    "        for i in range(0,listAnt):\n",
    "            teksAnt.append(antonim[i])\n",
    "        \n",
    "    ubahAnt=' '.join(teksAnt)\n",
    "    kataJadi.append(ubahAnt)"
   ]
  },
  {
   "cell_type": "code",
   "execution_count": 5,
   "metadata": {},
   "outputs": [
    {
     "name": "stdout",
     "output_type": "stream",
     "text": [
      "230\n"
     ]
    }
   ],
   "source": [
    "lenKata=len(kataJadi)\n",
    "for i in range(0,lenKata):\n",
    "    for j in range(i+1,lenKata):\n",
    "        if(kataJadi[i]==kataJadi[j]):\n",
    "            kataJadi[j]=\"\"\n",
    "\n",
    "for h in kataJadi:\n",
    "    if(h==\"\"):\n",
    "        kataJadi.remove(h)\n",
    "\n",
    "print(len(kataJadi))"
   ]
  },
  {
   "cell_type": "markdown",
   "metadata": {},
   "source": [
    "<h2><strong>Query Expansion</strong></h2>"
   ]
  },
  {
   "cell_type": "code",
   "execution_count": 6,
   "metadata": {
    "collapsed": true
   },
   "outputs": [],
   "source": [
    "#Menggunakan file kata_dasar.txt\n",
    "import PyPDF2\n",
    "import urllib, json\n",
    "import nlp_if_lib as nlp\n",
    "from spacy.lang.id import Indonesian\n",
    "\n",
    "nlp_id_spacy = Indonesian() \n",
    "kataEx=[]\n",
    "\n",
    "\n",
    "#Teks=kataToken,tweet=kataStrip\n",
    "\n",
    "lenKata=len(kataJadi)\n",
    "for i in range(0,lenKata):\n",
    "    sinonim=[]\n",
    "    teksA=[]\n",
    "    kataStrip=kataJadi[i].strip()\n",
    "    kataTokens = nlp_id_spacy(kataStrip)  \n",
    "    token_pos = nlp.getPOSTag()\n",
    "    \n",
    "    for x in kataTokens:#tokenisasi tweet\n",
    "        teksA.append(x.text)\n",
    "    \n",
    "    for tokens in kataTokens:\n",
    "        try:\n",
    "            pos=token_pos[tokens.lemma_]\n",
    "            if(token_pos[tokens.lemma_]==\"adj\"):\n",
    "                kataAdj=tokens.lemma_\n",
    "                \n",
    "                url = \"http://kateglo.com/api.php?format=json&phrase=\"+kataAdj\n",
    "                respon = urllib.request.urlopen(url)\n",
    "                dataSyn = json.loads(respon.read())\n",
    "\n",
    "                post = dataSyn[\"kateglo\"][\"all_relation\"]\n",
    "                \n",
    "                lenPost=len(post)\n",
    "                for x in range(0,lenPost):\n",
    "                    value=post[x]\n",
    "                    if(value['rel_type']=='s'):\n",
    "                        if(value['lex_class']=='adj'):\n",
    "                            syn=value['related_phrase']\n",
    "                            sinonim.append(syn)\n",
    "            \n",
    "        except:\n",
    "            pos='n'\n",
    "             \n",
    "        \n",
    "     \n",
    "    listSyn=len(sinonim)\n",
    "    for z in range(0,listSyn):\n",
    "        teksA.append(sinonim[z])\n",
    "    \n",
    "    queryEx=' '.join(teksA)\n",
    "    kataEx.append(queryEx)"
   ]
  },
  {
   "cell_type": "code",
   "execution_count": 7,
   "metadata": {
    "collapsed": true
   },
   "outputs": [],
   "source": [
    "import pandas as pd\n",
    "\n",
    "dt = pd.DataFrame(kataEx, columns=['text'])\n",
    "\n",
    "dt.to_csv(\"1tweetTestEx.csv\",  encoding='utf-8', index=False)"
   ]
  },
  {
   "cell_type": "code",
   "execution_count": null,
   "metadata": {
    "collapsed": true
   },
   "outputs": [],
   "source": []
  },
  {
   "cell_type": "code",
   "execution_count": null,
   "metadata": {
    "collapsed": true
   },
   "outputs": [],
   "source": []
  },
  {
   "cell_type": "code",
   "execution_count": null,
   "metadata": {
    "collapsed": true
   },
   "outputs": [],
   "source": []
  },
  {
   "cell_type": "markdown",
   "metadata": {},
   "source": [
    "<h1>Membaca Data Testing(Belum diberi Label)</h1>"
   ]
  },
  {
   "cell_type": "code",
   "execution_count": 10,
   "metadata": {},
   "outputs": [
    {
     "name": "stdout",
     "output_type": "stream",
     "text": [
      "                                                  text  kelas\n",
      "0       larang ridwan kamil grab taxi beri klarifikasi      0\n",
      "1                       bapak tong hilap ayeuna dinten      0\n",
      "2          retweeted lintang creativework beliau orang      0\n",
      "3    retweeted lintang creativework beliau bapak orang      0\n",
      "4    tahun jabat walikota bandung ridwan kamil bere...      1\n",
      "5    wilayah bangun pool diskar jadi sangat jadi la...      1\n",
      "6    assalammulaikum dan selamat pagi sukses semua ...      1\n",
      "7    alhamdulillah event selesai terima kasih to ma...      1\n",
      "8    pagi bapak ridwan tarif dasar anak sekolah ber...      0\n",
      "9        mq headline tahun ridwan kamil pimpin bandung      1\n",
      "10   memang tapi bapak emil punya follower orang pe...      1\n",
      "11   ridwan bandung jadi tuan rumah hari antikorups...      1\n",
      "12                      selamat pagi salam kenal sehat      1\n",
      "13                                 salam tempel no way      0\n",
      "14   taman jalur hijau sebagai bagi tata kawasan me...      1\n",
      "15   perkemb tata taman jalur hijau jalan venus ray...      1\n",
      "16   taat atur dengan tidak bangun bangun ijin tana...      1\n",
      "17   dukung tahan pangan sudah layak lahan tani pro...      0\n",
      "18   bbws citarum atas eru sedimen sungai cidurian ...      1\n",
      "19   nuhun bapak heri atas dedikasi jaga rawat ruma...      1\n",
      "20   jangan maju ridwan kamil pemilihan gubernur dk...      0\n",
      "21   dengan telah bangun rumah pompa harap buang ai...      1\n",
      "22     ridwan kamil bakal saing kamil bakal saing ahok      0\n",
      "23   perlu baik titik tanggul salur yang rusak tuju...      0\n",
      "24   rumah pompa kendali banjir bantu dbmp kota ban...      1\n",
      "25   ridwan kamil bakal saing ahok kamil bakal sain...      0\n",
      "26   terus juang kuat tenaga anak bangsa awet keras...      1\n",
      "27   tidak bayar telat telat gulung tikar paksa bap...      1\n",
      "28              wilujeng kanggo wargi sadaya oge bapak      1\n",
      "29   giat gps pems bendera bandung senin aktif geto...      0\n",
      "..                                                 ...    ...\n",
      "134  orang tasik harapansaya moga tidak uu bapak ma...      1\n",
      "135  kapolsekta gedebage kompol sumari selasa malam...      1\n",
      "136                                             keceee      1\n",
      "137  reaksi ridwan kamil kabar dukung lgbt reaksi r...      0\n",
      "138              reaksi ridwan kamil kabar dukung lgbt      0\n",
      "139  reaksi ridwan kamil kabar dukung lgbt reaksi r...      0\n",
      "140                                 pki juang hahahaha      0\n",
      "141  sampurasun wilujeng enjing wargi rancanumpang ...      1\n",
      "142  kendala yang mungkin siapa yang bayar tiap kon...      0\n",
      "143  ridwan bonek jangan gelandang bandung pikir pi...      1\n",
      "144                                             status      1\n",
      "145                                    memang kudu pks      0\n",
      "146             gerak subuh jamaah rw rw dunguscariang      1\n",
      "147  usung ridwan kamil golkar tabur benih pecah in...      0\n",
      "148  hidup pilih tidak sama pilih tidak selalu sali...      0\n",
      "149  wakakaa nabi muhammad bawa bawa beda jauh kaka...      0\n",
      "150                        saya dukung pk ridwan kamil      1\n",
      "151  ridwan kamil aku kumpul parpol usung sulit pel...      1\n",
      "152  ridwan kamil aku kumpul parpol usung ridwan ka...      1\n",
      "153  nasdem partai dukung ridwan kamil jangan paksa...      1\n",
      "154  walikota bandung ridwan kamil calon gubernur j...      1\n",
      "155  alas nasdem bebas ridwan kamil pilih cawagub j...      1\n",
      "156  warga bandung sekitar bapak bapak akang temen ...      1\n",
      "157  alas rkih dukung duet maman imanulhaq bapak em...      1\n",
      "158  pemilihan gubernur jawa barat ridwan kamil des...      0\n",
      "159  dasar dungu nabi muhammad saw saja paman kafir...      0\n",
      "160                                      murder status      0\n",
      "161                                             murder      0\n",
      "162  makan bareng warmis bsm bapak camat cibiru selasa      1\n",
      "163        rapat koordinasi sama urus pkk selasa karib      1\n",
      "\n",
      "[164 rows x 2 columns]\n"
     ]
    }
   ],
   "source": [
    "import pandas as pd\n",
    "\n",
    "data = pd.read_csv('tweetTestExLabel.csv')\n",
    "print(data)"
   ]
  },
  {
   "cell_type": "markdown",
   "metadata": {},
   "source": [
    "<h1>Menghitung Jumlah Tweet pada Data Training</h1>"
   ]
  },
  {
   "cell_type": "code",
   "execution_count": 11,
   "metadata": {},
   "outputs": [
    {
     "name": "stdout",
     "output_type": "stream",
     "text": [
      "jumlah dataset training :  380\n"
     ]
    }
   ],
   "source": [
    "import pandas as pd\n",
    "\n",
    "\n",
    "raw_data2 = pd.DataFrame()\n",
    "tmp=pd.read_csv('tweetTrainExLabel.csv')\n",
    "raw_data2 = raw_data2.append(tmp,ignore_index=True)\n",
    "\n",
    "print('jumlah dataset training : ',len(raw_data2.values.tolist()))"
   ]
  },
  {
   "cell_type": "markdown",
   "metadata": {},
   "source": [
    "<h1>Menampilkan Jumlah Tweet dan Kelas dari Data Training</h1>"
   ]
  },
  {
   "cell_type": "code",
   "execution_count": 12,
   "metadata": {},
   "outputs": [
    {
     "name": "stdout",
     "output_type": "stream",
     "text": [
      "380\n",
      "380\n"
     ]
    }
   ],
   "source": [
    "#raw_data to list\n",
    "Dataset = raw_data2[['text','kelas']].values.tolist()\n",
    "\n",
    "#pisahkan text dan labelnya\n",
    "Texts = [col[0] for col in Dataset]\n",
    "Labels = [col[1] for col in Dataset]\n",
    "print(len(Texts))\n",
    "print(len(Labels))"
   ]
  },
  {
   "cell_type": "markdown",
   "metadata": {},
   "source": [
    "<h1>Menampilkan Tweet dari Data Training dan Data Testing</h1>"
   ]
  },
  {
   "cell_type": "code",
   "execution_count": 13,
   "metadata": {},
   "outputs": [
    {
     "name": "stdout",
     "output_type": "stream",
     "text": [
      "544\n",
      "544\n"
     ]
    }
   ],
   "source": [
    "for i in data['text']:\n",
    "    Texts.append(i)\n",
    "print (len(Texts))\n",
    "\n",
    "for j in data['kelas']:\n",
    "    Labels.append(j)\n",
    "print(len(Labels))"
   ]
  },
  {
   "cell_type": "markdown",
   "metadata": {},
   "source": [
    "<h1>Memberikan bobot pada setiap kata di Dataset</h1>"
   ]
  },
  {
   "cell_type": "code",
   "execution_count": 19,
   "metadata": {},
   "outputs": [
    {
     "name": "stdout",
     "output_type": "stream",
     "text": [
      "(544, 2504)\n",
      "[[0. 0. 0. ... 0. 0. 0.]\n",
      " [0. 0. 0. ... 0. 0. 0.]\n",
      " [0. 0. 0. ... 0. 0. 0.]\n",
      " ...\n",
      " [0. 0. 0. ... 0. 0. 0.]\n",
      " [0. 0. 0. ... 0. 0. 0.]\n",
      " [0. 0. 0. ... 0. 0. 0.]]\n"
     ]
    }
   ],
   "source": [
    "from sklearn.feature_extraction.text import TfidfVectorizer\n",
    "\n",
    "tfidf_vectorizer = TfidfVectorizer()\n",
    "tfidf = tfidf_vectorizer.fit_transform(Texts)\n",
    "tfidf_model=tfidf_vectorizer.fit(Texts)\n",
    "print(tfidf.shape)\n",
    "\n",
    "matrix_tfidf = tfidf.toarray()\n",
    "print(matrix_tfidf)"
   ]
  },
  {
   "cell_type": "markdown",
   "metadata": {},
   "source": [
    "<h1>Memisahkan antara Data Training dengan Data Testing</h1>"
   ]
  },
  {
   "cell_type": "code",
   "execution_count": 22,
   "metadata": {},
   "outputs": [
    {
     "name": "stdout",
     "output_type": "stream",
     "text": [
      "(489, 2504)\n",
      "55\n"
     ]
    }
   ],
   "source": [
    "# Ketika menggunakan Supervised Learning, selalu awali dengan membagi data menjadi Training & test\n",
    "from sklearn.model_selection import train_test_split\n",
    "X_train, X_test, Y_train, Y_test = train_test_split(tfidf, Labels, test_size=.1,random_state=0)\n",
    "\n",
    "print(X_train.shape)\n",
    "print(len(Y_test))"
   ]
  },
  {
   "cell_type": "markdown",
   "metadata": {},
   "source": [
    "<h1>Menerapkan Metode Naive Bayes</h1>"
   ]
  },
  {
   "cell_type": "code",
   "execution_count": 16,
   "metadata": {},
   "outputs": [
    {
     "name": "stdout",
     "output_type": "stream",
     "text": [
      "MultinomialNB(alpha=1.5, class_prior=None, fit_prior=True)\n",
      "[1 1 0 1 1 0 1 1 1 1 1 1 1 1 0 1 0 1 1 1 0 1 1 1 1 1 1 1 1 0 1 1 1 1 1 1 1\n",
      " 1 1 1 1 1 1 1 1 1 1 0 1 1 1 1 1 1 0]\n",
      "[1, 1, 0, 1, 1, 0, 1, 1, 1, 1, 0, 1, 0, 1, 0, 1, 1, 1, 0, 0, 0, 1, 0, 1, 1, 1, 1, 1, 0, 0, 0, 1, 0, 0, 1, 0, 0, 1, 1, 1, 1, 0, 1, 1, 1, 1, 1, 0, 0, 0, 1, 1, 1, 1, 0]\n"
     ]
    }
   ],
   "source": [
    "from sklearn.naive_bayes import MultinomialNB\n",
    "MNB = MultinomialNB(alpha=1.5)\n",
    "MNB = MNB.fit(X_train, Y_train)\n",
    "print(MNB)\n",
    "\n",
    "predicts = MNB.predict(X_test)\n",
    "print(predicts)\n",
    "print(Y_test)"
   ]
  },
  {
   "cell_type": "markdown",
   "metadata": {},
   "source": [
    "<h1>Menentukan Kelas setiap Tweet dari Data Testing</h1>"
   ]
  },
  {
   "cell_type": "code",
   "execution_count": 18,
   "metadata": {},
   "outputs": [
    {
     "data": {
      "text/plain": [
       "0.7272727272727273"
      ]
     },
     "execution_count": 18,
     "metadata": {},
     "output_type": "execute_result"
    }
   ],
   "source": [
    "from sklearn.metrics import accuracy_score\n",
    "\n",
    "accuracy_score(Y_test, predicts)"
   ]
  },
  {
   "cell_type": "markdown",
   "metadata": {},
   "source": [
    "<h2>Membuat Model</h2>"
   ]
  },
  {
   "cell_type": "markdown",
   "metadata": {},
   "source": [
    "import pickle\n",
    "filename='nbModelEx.adhi'\n",
    "\n",
    "file=open('model\\\\'+filename,'wb')\n",
    "pickle.dump(tfidf_model, file)\n",
    "pickle.dump(mnb, file)\n",
    "file.close()\n",
    "\n",
    "print('selesai')"
   ]
  }
 ],
 "metadata": {
  "kernelspec": {
   "display_name": "Python 3",
   "language": "python",
   "name": "python3"
  },
  "language_info": {
   "codemirror_mode": {
    "name": "ipython",
    "version": 3
   },
   "file_extension": ".py",
   "mimetype": "text/x-python",
   "name": "python",
   "nbconvert_exporter": "python",
   "pygments_lexer": "ipython3",
   "version": "3.6.3"
  }
 },
 "nbformat": 4,
 "nbformat_minor": 2
}
