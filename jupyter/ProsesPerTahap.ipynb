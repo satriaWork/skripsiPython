{
 "cells": [
  {
   "cell_type": "code",
   "execution_count": 26,
   "metadata": {
    "collapsed": true
   },
   "outputs": [],
   "source": [
    "text=\"@ridwankamil idiiiih malu deh ,, udah menghina jakarta tapi minta ganti rugi nye ke jakarta juga . cowo bukan ??\""
   ]
  },
  {
   "cell_type": "code",
   "execution_count": 27,
   "metadata": {
    "collapsed": true
   },
   "outputs": [],
   "source": [
    "import re\n",
    "kumpText=[]\n",
    "def preprocessing(text=\"\",\n",
    "                  casefolding=True,\n",
    "                  url_add=True,\n",
    "                  username=True,\n",
    "                  removeusername=True,\n",
    "                  removenonalphabet=True,\n",
    "                  removestopword=True,\n",
    "                  stemming=True,\n",
    "                  removehashtag=True,\n",
    "                  removeemail=True, \n",
    "                  removeRT=True,\n",
    "                  removeAdr=True,\n",
    "                  removePic=True):\n",
    "    \n",
    "    if(text!=\"\"):\n",
    "       \n",
    "        if(casefolding):\n",
    "            text = text.lower()\n",
    "            print(text)\n",
    "            \n",
    "        if(removeRT):\n",
    "            import re\n",
    "            rt= re.compile(r' rt\\D*\\D?\\w+\\W?\\D+')\n",
    "            text = re.sub(rt, ' ', text)\n",
    "            print(text)\n",
    "\n",
    "        if(removePic):\n",
    "            com= re.compile(r'pic\\.\\w+\\.*\\w*\\D\\w*')\n",
    "            text = re.sub(com, ' ', text)\n",
    "            print(text)\n",
    "            \n",
    "        if(removeusername):\n",
    "            nama = re.compile(\"(?<=^|(?<=[^a-zA-Z0-9-_\\.]))@([A-Za-z]+[A-Za-z0-9-_]+)\", re.UNICODE)\n",
    "            text = re.sub(nama, ' ', text)\n",
    "            print(text)\n",
    "            \n",
    "        if(username):\n",
    "            user = re.compile(\"[＠ @]{1}([^\\s#<>[\\]|{}]+):\", re.UNICODE)\n",
    "            text = re.sub(user, ' ', text) \n",
    "            print(text)\n",
    "            \n",
    "        if(removeAdr):\n",
    "            com= re.compile(r'\\w+\\.\\w+\\.*\\w*\\D\\w*')\n",
    "            text = re.sub(com, ' ', text)\n",
    "            print(text) \n",
    "            \n",
    "            \n",
    "        if(url_add):\n",
    "            text = re.sub('http\\S+\\s*', ' ', text)\n",
    "            print(text)\n",
    "            \n",
    "        if(removehashtag):\n",
    "            hashtag = re.compile(\"(?:^|\\s)[＃#]{1}(\\w+)\", re.UNICODE)\n",
    "            text = re.sub(hashtag, ' ', text)\n",
    "            print(text) \n",
    "            \n",
    "        if(removeemail):\n",
    "            email = re.compile(r'[\\w\\.-]+@[\\w\\.-]+\\.\\w+')\n",
    "            text = re.sub(email, ' ', text) \n",
    "            print(text)\n",
    "            \n",
    "        if(removenonalphabet):\n",
    "            import re\n",
    "            text = ' '.join(re.findall(r'\\b[a-z]+?[a-z]+\\b',text))\n",
    "            print(text)\n",
    "            \n",
    "        if(stemming):\n",
    "            from Sastrawi.Stemmer.StemmerFactory import StemmerFactory\n",
    "            stemmer = StemmerFactory().create_stemmer()\n",
    "            text   = stemmer.stem(text)\n",
    "            print(text)\n",
    "            \n",
    "        if(removestopword):\n",
    "            import re\n",
    "            from Sastrawi.StopWordRemover.StopWordRemoverFactory import StopWordRemoverFactory\n",
    "            factory = StopWordRemoverFactory()\n",
    "            Sastrawi_StopWords_id = factory.get_stop_words()\n",
    "            temp = [t for t in re.findall(r'\\b[a-z]+-?[a-z]+\\b',text) if t not in Sastrawi_StopWords_id]\n",
    "            text = ' '.join(temp)\n",
    "            print(text)\n",
    "            \n",
    "    return(text)\n"
   ]
  },
  {
   "cell_type": "code",
   "execution_count": 28,
   "metadata": {},
   "outputs": [
    {
     "name": "stdout",
     "output_type": "stream",
     "text": [
      "@ridwankamil idiiiih malu deh ,, udah menghina jakarta tapi minta ganti rugi nye ke jakarta juga . cowo bukan ??\n",
      "@ridwankamil idiiiih malu deh ,, udah menghina jakarta tapi minta ganti rugi nye ke jakarta juga . cowo bukan ??\n",
      "@ridwankamil idiiiih malu deh ,, udah menghina jakarta tapi minta ganti rugi nye ke jakarta juga . cowo bukan ??\n",
      "  idiiiih malu deh ,, udah menghina jakarta tapi minta ganti rugi nye ke jakarta juga . cowo bukan ??\n",
      "  idiiiih malu deh ,, udah menghina jakarta tapi minta ganti rugi nye ke jakarta juga . cowo bukan ??\n",
      "  idiiiih malu deh ,, udah menghina jakarta tapi minta ganti rugi nye ke jakarta juga . cowo bukan ??\n",
      "  idiiiih malu deh ,, udah menghina jakarta tapi minta ganti rugi nye ke jakarta juga . cowo bukan ??\n",
      "  idiiiih malu deh ,, udah menghina jakarta tapi minta ganti rugi nye ke jakarta juga . cowo bukan ??\n",
      "  idiiiih malu deh ,, udah menghina jakarta tapi minta ganti rugi nye ke jakarta juga . cowo bukan ??\n",
      "idiiiih malu deh udah menghina jakarta tapi minta ganti rugi nye ke jakarta juga cowo bukan\n",
      "idiiiih malu deh udah hina jakarta tapi minta ganti rugi nye ke jakarta juga cowo bukan\n",
      "idiiiih malu deh udah hina jakarta minta ganti rugi nye jakarta cowo bukan\n",
      "idiiiih malu deh udah hina jakarta minta ganti rugi nye jakarta cowo bukan\n"
     ]
    }
   ],
   "source": [
    "kata=preprocessing(text)\n",
    "print(kata)"
   ]
  },
  {
   "cell_type": "code",
   "execution_count": 29,
   "metadata": {},
   "outputs": [
    {
     "name": "stdout",
     "output_type": "stream",
     "text": [
      "  idiiiih malu deh sudah hina jakarta minta ganti rugi nye jakarta cowo bukan  \n"
     ]
    }
   ],
   "source": [
    "file = open(\"kamus.txt\", encoding=\"utf-8\", errors='replace')\n",
    "Teks = file.readlines()\n",
    "Teks_string=' '.join(Teks)\n",
    "fix=eval(Teks_string)\n",
    "\n",
    "\n",
    "t=\" \",kata,\" \"\n",
    "t_string=' '.join(t)\n",
    "t_jadi=t_string \n",
    "    \n",
    "for slang, formal in fix.items():\n",
    "    t_jadi = t_jadi.replace(slang,formal)\n",
    "print(t_jadi)"
   ]
  },
  {
   "cell_type": "code",
   "execution_count": 30,
   "metadata": {},
   "outputs": [
    {
     "name": "stdout",
     "output_type": "stream",
     "text": [
      "  idiiiih malu deh sudah hina jakarta minta ganti rugi nye jakarta cowo bukan  \n",
      "  idiiiih malu deh sudah hina jakarta minta ganti rugi nye jakarta cowo bukan  \n",
      "  idiiiih malu deh sudah hina jakarta minta ganti rugi nye jakarta cowo bukan  \n",
      "  idiiiih malu deh sudah hina jakarta minta ganti rugi nye jakarta cowo bukan  \n",
      "  idiiiih malu deh sudah hina jakarta minta ganti rugi nye jakarta cowo bukan  \n",
      "  idiiiih malu deh sudah hina jakarta minta ganti rugi nye jakarta cowo bukan  \n",
      "  idiiiih malu deh sudah hina jakarta minta ganti rugi nye jakarta cowo bukan  \n",
      "  idiiiih malu deh sudah hina jakarta minta ganti rugi nye jakarta cowo bukan  \n",
      "  idiiiih malu deh sudah hina jakarta minta ganti rugi nye jakarta cowo bukan  \n",
      "idiiiih malu deh sudah hina jakarta minta ganti rugi nye jakarta cowo bukan\n",
      "idiiiih malu deh sudah hina jakarta minta ganti rugi nye jakarta cowo bukan\n",
      "idiiiih malu deh hina jakarta minta ganti rugi nye jakarta cowo bukan\n",
      "idiiiih malu deh hina jakarta minta ganti rugi nye jakarta cowo bukan\n"
     ]
    }
   ],
   "source": [
    "kata=preprocessing(t_jadi)\n",
    "print(kata)"
   ]
  },
  {
   "cell_type": "code",
   "execution_count": null,
   "metadata": {
    "collapsed": true
   },
   "outputs": [],
   "source": []
  }
 ],
 "metadata": {
  "kernelspec": {
   "display_name": "Python 3",
   "language": "python",
   "name": "python3"
  },
  "language_info": {
   "codemirror_mode": {
    "name": "ipython",
    "version": 3
   },
   "file_extension": ".py",
   "mimetype": "text/x-python",
   "name": "python",
   "nbconvert_exporter": "python",
   "pygments_lexer": "ipython3",
   "version": "3.6.3"
  }
 },
 "nbformat": 4,
 "nbformat_minor": 2
}
