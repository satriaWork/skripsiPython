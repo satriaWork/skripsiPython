{
 "cells": [
  {
   "cell_type": "markdown",
   "metadata": {},
   "source": [
    "<h1>Membuka 1 Tweet dari File json<h1>"
   ]
  },
  {
   "cell_type": "code",
   "execution_count": 57,
   "metadata": {},
   "outputs": [
    {
     "name": "stdout",
     "output_type": "stream",
     "text": [
      "{'fullname': 'Hamdan Gustiawidi', 'html': '<p class=\"TweetTextSize js-tweet-text tweet-text\" data-aria-label-part=\"0\" lang=\"in\">Pak fera gapunya SIM tp udh kejalan RT<a class=\"twitter-atreply pretty-link js-nav\" data-mentioned-user-id=\"146363079\" dir=\"ltr\" href=\"/ferarahmawatii\"><s>@</s><b>ferarahmawatii</b></a>: pak <a class=\"twitter-atreply pretty-link js-nav\" data-mentioned-user-id=\"80323736\" dir=\"ltr\" href=\"/ridwankamil\"><s>@</s><b><strong>ridwankamil</strong></b></a> pagi-pagi d dpn pasar ujungberung suka macet sama pedagang d pinggir</p>', 'id': '429028951827042304', 'likes': 0, 'replies': 0, 'retweets': 0, 'text': 'Pak fera gapunya SIM tp udh kejalan RT@ferarahmawatii: pak @ridwankamil pagi-pagi d dpn pasar ujungberung suka macet sama pedagang d pinggir', 'timestamp': '2014-01-30T23:10:47', 'url': '/HamdanGW/status/429028951827042304', 'user': 'HamdanGW'}\n"
     ]
    }
   ],
   "source": [
    "import codecs, json\n",
    "with codecs.open('tweetsFix.json','r','utf-8') as f:\n",
    "    tweets=json.load(f, encoding='utf-8')\n",
    "    print(tweets[10])"
   ]
  },
  {
   "cell_type": "markdown",
   "metadata": {},
   "source": [
    "<h1>Preprocessing<h1>"
   ]
  },
  {
   "cell_type": "code",
   "execution_count": 58,
   "metadata": {
    "collapsed": true
   },
   "outputs": [],
   "source": [
    "import re\n",
    "def preprocessing(text=\"\",\n",
    "                  casefolding=True,\n",
    "                  url_add=True,\n",
    "                  username=True,\n",
    "                  removeusername=True,\n",
    "                  removenonalphabet=True,\n",
    "                  removestopword=True,\n",
    "                  stemming=True,\n",
    "                  removehashtag=True,\n",
    "                  removeemail=True, \n",
    "                  removeRT=True,\n",
    "                  removeAdr=True):\n",
    "    if(text!=\"\"):\n",
    "       \n",
    "        if(casefolding):\n",
    "            text = text.lower()\n",
    "            \n",
    "        if(removeRT):\n",
    "            import re\n",
    "            rt= re.compile(r'RT\\D*\\D?\\w+\\W?\\D+')\n",
    "            text = re.sub(rt, ' ', text)\n",
    "        \n",
    "        if(removeusername):\n",
    "            nama = re.compile(\"(?:^|\\s)[＠ @]{1}([^\\s#<>[\\]|{}]+)\", re.UNICODE)\n",
    "            text = re.sub(nama, ' ', text)\n",
    "            \n",
    "        if(username):\n",
    "            user = re.compile(\"[＠ @]{1}([^\\s#<>[\\]|{}]+):\", re.UNICODE)\n",
    "            text = re.sub(user, ' ', text) \n",
    "        \n",
    "        if(removeAdr):\n",
    "            com= re.compile(r'\\w+\\.\\w+\\.*\\w*\\D\\w*')\n",
    "            text = re.sub(com, ' ', text)\n",
    "         \n",
    "        if(url_add):\n",
    "            text = re.sub('http\\S+\\s*', ' ', text)\n",
    "            \n",
    "        if(removehashtag):\n",
    "            hashtag = re.compile(\"(?:^|\\s)[＃#]{1}(\\w+)\", re.UNICODE)\n",
    "            text = re.sub(hashtag, ' ', text)\n",
    " \n",
    "        if(removeemail):\n",
    "            email = re.compile(r'[\\w\\.-]+@[\\w\\.-]+\\.\\w+')\n",
    "            text = re.sub(email, ' ', text) \n",
    "            \n",
    "        if(removenonalphabet):\n",
    "            import re\n",
    "            text = ' '.join(re.findall(r'\\b[a-z]+?[a-z]+\\b',text))\n",
    "    \n",
    "        if(removestopword):\n",
    "            from Sastrawi.StopWordRemover.StopWordRemoverFactory import StopWordRemoverFactory\n",
    "            factory = StopWordRemoverFactory()\n",
    "            Sastrawi_StopWords_id = factory.get_stop_words()\n",
    "            temp = [t for t in re.findall(r'\\b[a-z]+-?[a-z]+\\b',text) if t not in Sastrawi_StopWords_id]\n",
    "            text = ' '.join(temp)\n",
    "        if(stemming):\n",
    "            from Sastrawi.Stemmer.StemmerFactory import StemmerFactory\n",
    "            stemmer = StemmerFactory().create_stemmer()\n",
    "            text   = stemmer.stem(text)\n",
    "    return(text)"
   ]
  },
  {
   "cell_type": "markdown",
   "metadata": {},
   "source": [
    "<h1>Preprocessing pada File json<h1>"
   ]
  },
  {
   "cell_type": "code",
   "execution_count": 59,
   "metadata": {
    "collapsed": true
   },
   "outputs": [],
   "source": [
    "import json\n",
    "\n",
    "filejson=open(\"tweetsFix.json\")\n",
    "data=json.loads(filejson.read())\n",
    "komentar = []\n",
    "kata=[]\n",
    "for item in data[420:700]:\n",
    "    r={}\n",
    "    r['text'] = preprocessing(item['text'])\n",
    "    komentar.append(r)\n",
    "    tweet=r['text'] if 'text' in item else item\n",
    "    \n",
    "    \n",
    "    file = open(\"kamus.txt\", encoding=\"utf-8\", errors='replace')\n",
    "    Teks = file.readlines()\n",
    "    Teks_string=' '.join(Teks)\n",
    "    fix=eval(Teks_string)\n",
    "    \n",
    "    t=\" \",tweet,\" \"\n",
    "    t_string=' '.join(t)\n",
    "    t_jadi=t_string \n",
    "    \n",
    "    for slang, formal in fix.items():\n",
    "        t_jadi = t_jadi.replace(slang,formal)\n",
    "    kata.append(t_jadi)\n",
    "\n"
   ]
  },
  {
   "cell_type": "markdown",
   "metadata": {},
   "source": [
    "<h2>Antonim</h2>"
   ]
  },
  {
   "cell_type": "code",
   "execution_count": 79,
   "metadata": {},
   "outputs": [
    {
     "name": "stdout",
     "output_type": "stream",
     "text": [
      "0\n",
      "1\n",
      "2\n",
      "3\n",
      "4\n",
      "5\n",
      "6\n",
      "7\n",
      "8\n",
      "9\n",
      "10\n",
      "11\n",
      "12\n",
      "13\n",
      "14\n",
      "15\n",
      "16\n",
      "17\n",
      "18\n",
      "19\n",
      "20\n",
      "21\n",
      "22\n",
      "23\n",
      "24\n",
      "25\n",
      "26\n",
      "27\n",
      "28\n",
      "29\n",
      "30\n",
      "31\n",
      "32\n",
      "33\n",
      "34\n",
      "35\n",
      "36\n",
      "37\n",
      "38\n",
      "39\n",
      "40\n",
      "41\n",
      "42\n",
      "43\n",
      "44\n",
      "45\n",
      "46\n",
      "47\n",
      "48\n",
      "49\n",
      "50\n",
      "51\n",
      "52\n",
      "53\n",
      "54\n",
      "55\n",
      "56\n",
      "57\n",
      "58\n",
      "59\n",
      "60\n",
      "61\n",
      "62\n",
      "63\n",
      "64\n",
      "65\n",
      "66\n",
      "67\n",
      "68\n",
      "69\n",
      "70\n",
      "71\n",
      "72\n",
      "73\n",
      "74\n",
      "75\n",
      "76\n",
      "77\n",
      "78\n",
      "79\n",
      "80\n",
      "81\n",
      "82\n",
      "83\n",
      "84\n",
      "85\n",
      "86\n",
      "87\n",
      "88\n",
      "89\n",
      "90\n",
      "91\n",
      "92\n",
      "93\n",
      "94\n",
      "95\n",
      "96\n",
      "97\n",
      "98\n",
      "99\n",
      "100\n",
      "101\n",
      "102\n",
      "103\n",
      "104\n",
      "105\n",
      "106\n",
      "107\n",
      "108\n",
      "109\n",
      "110\n",
      "111\n",
      "112\n",
      "113\n",
      "114\n",
      "115\n",
      "116\n",
      "117\n",
      "118\n",
      "119\n",
      "120\n",
      "121\n",
      "122\n",
      "123\n",
      "124\n",
      "125\n",
      "126\n",
      "127\n",
      "128\n",
      "129\n",
      "130\n",
      "131\n",
      "132\n",
      "133\n",
      "134\n",
      "135\n",
      "136\n",
      "137\n",
      "138\n",
      "139\n",
      "140\n",
      "141\n",
      "142\n",
      "143\n",
      "144\n",
      "145\n",
      "146\n",
      "147\n",
      "148\n",
      "149\n",
      "150\n",
      "151\n",
      "152\n",
      "153\n",
      "154\n",
      "155\n",
      "156\n",
      "157\n",
      "158\n",
      "159\n",
      "160\n",
      "161\n",
      "162\n",
      "163\n",
      "164\n",
      "165\n",
      "166\n",
      "167\n",
      "168\n",
      "169\n",
      "170\n",
      "171\n",
      "172\n",
      "173\n",
      "174\n",
      "175\n",
      "176\n",
      "177\n",
      "178\n",
      "179\n",
      "180\n",
      "181\n",
      "182\n",
      "183\n",
      "184\n",
      "185\n",
      "186\n",
      "187\n",
      "188\n",
      "189\n",
      "190\n",
      "191\n",
      "192\n",
      "193\n",
      "194\n",
      "195\n",
      "196\n",
      "197\n",
      "198\n",
      "199\n",
      "200\n",
      "201\n",
      "202\n",
      "203\n",
      "204\n",
      "205\n",
      "206\n",
      "207\n",
      "208\n",
      "209\n",
      "210\n",
      "211\n",
      "212\n",
      "213\n",
      "214\n",
      "215\n",
      "216\n",
      "217\n",
      "218\n",
      "219\n",
      "220\n",
      "221\n",
      "222\n",
      "223\n",
      "224\n",
      "225\n",
      "226\n",
      "227\n",
      "228\n",
      "229\n",
      "230\n",
      "231\n",
      "232\n",
      "233\n",
      "234\n",
      "235\n",
      "236\n",
      "237\n",
      "238\n",
      "239\n",
      "240\n",
      "241\n",
      "242\n",
      "243\n",
      "244\n",
      "245\n",
      "246\n",
      "247\n",
      "248\n",
      "249\n",
      "250\n",
      "251\n",
      "252\n",
      "253\n",
      "254\n",
      "255\n",
      "256\n",
      "257\n",
      "258\n",
      "259\n",
      "260\n",
      "261\n",
      "262\n",
      "263\n",
      "264\n",
      "265\n",
      "266\n",
      "267\n",
      "268\n",
      "269\n",
      "270\n",
      "271\n",
      "272\n",
      "273\n",
      "274\n",
      "275\n",
      "276\n",
      "277\n",
      "278\n",
      "279\n"
     ]
    }
   ],
   "source": [
    "import nlp_if_lib as nlp\n",
    "import urllib, json\n",
    "from spacy.lang.id import Indonesian\n",
    "nlp_id_spacy = Indonesian() \n",
    "\n",
    "kataJadi=[]\n",
    "lenKata=len(kata)\n",
    "for t in range(0,lenKata):\n",
    "    teksAnt=[]\n",
    "    kataStrip=kata[t].strip()\n",
    "    kataToken = nlp_id_spacy(kataStrip)  \n",
    "    token_pos = nlp.getPOSTag()\n",
    "    \n",
    "    for x in kataToken:\n",
    "        teksAnt.append(x.text)\n",
    "    \n",
    "    lenTeksAnt=len(teksAnt)   \n",
    "    for y in range(0,lenTeksAnt):\n",
    "        antonim=[]\n",
    "        if(teksAnt[y]==\"tidak\"):\n",
    "            for token in kataToken:\n",
    "                m=token.lemma_\n",
    "                try: \n",
    "                    pos=token_pos[token.lemma_]\n",
    "                    \n",
    "                except:\n",
    "                    pos='n'\n",
    "            \n",
    "            if(token_pos[teksAnt[y+1]]==\"adj\"):\n",
    "                url = \"http://kateglo.com/api.php?format=json&phrase=\"+teksAnt[y+1]\n",
    "                respon = urllib.request.urlopen(url)\n",
    "                data = json.loads(respon.read())\n",
    "                post = data[\"kateglo\"][\"all_relation\"]\n",
    "\n",
    "                lenPost=len(post)\n",
    "                for x in range(0,lenPost):\n",
    "                    value=post[x]\n",
    "                    if(value['rel_type']=='a'):\n",
    "                        ant=value['related_phrase']\n",
    "                        antonim.append(ant)\n",
    "                        teksAnt[y+1]=\"\"\n",
    "                        teksAnt[y]=\"\"\n",
    "    \n",
    "    listAnt=len(antonim)\n",
    "    for i in range(0,listAnt):\n",
    "        teksAnt.append(antonim[i])\n",
    "        \n",
    "    ubahAnt=' '.join(teksAnt)\n",
    "    kataJadi.append(ubahAnt)\n",
    "    print(t)"
   ]
  },
  {
   "cell_type": "code",
   "execution_count": 80,
   "metadata": {},
   "outputs": [],
   "source": [
    "lenKata=len(kataJadi)\n",
    "for i in range(0,lenKata):\n",
    "    for j in range(i+1,lenKata):\n",
    "        if(kataJadi[i]==kataJadi[j]):\n",
    "            kataJadi[j]=\"\"\n",
    "\n",
    "    \n",
    "for h in kataJadi:\n",
    "    if(h==\"\"):\n",
    "        kataJadi.remove(h)"
   ]
  },
  {
   "cell_type": "markdown",
   "metadata": {},
   "source": [
    "<h2><strong>Query Expansion</strong></h2>"
   ]
  },
  {
   "cell_type": "code",
   "execution_count": 119,
   "metadata": {},
   "outputs": [],
   "source": [
    "#Menggunakan file kata_dasar.txt\n",
    "import PyPDF2\n",
    "import urllib, json\n",
    "import nlp_if_lib as nlp\n",
    "from spacy.lang.id import Indonesian\n",
    "\n",
    "nlp_id_spacy = Indonesian() \n",
    "kataEx=[]\n",
    "\n",
    "\n",
    "#Teks=kataToken,tweet=kataStrip\n",
    "\n",
    "lenKata=len(kataJadi)\n",
    "for i in range(0,lenKata):\n",
    "    sinonim=[]\n",
    "    teksA=[]\n",
    "    kataStrip=kataJadi[i].strip()\n",
    "    kataTokens = nlp_id_spacy(kataStrip)  \n",
    "    token_pos = nlp.getPOSTag()\n",
    "    \n",
    "    for x in kataTokens:#tokenisasi tweet\n",
    "        teksA.append(x.text)\n",
    "    \n",
    "    for tokens in kataTokens:\n",
    "        try:\n",
    "            pos=token_pos[tokens.lemma_]\n",
    "            if(token_pos[tokens.lemma_]==\"adj\"):\n",
    "                kataAdj=tokens.lemma_\n",
    "                \n",
    "                url = \"http://kateglo.com/api.php?format=json&phrase=\"+kataAdj\n",
    "                respon = urllib.request.urlopen(url)\n",
    "                dataSyn = json.loads(respon.read())\n",
    "\n",
    "                post = dataSyn[\"kateglo\"][\"all_relation\"]\n",
    "                \n",
    "                lenPost=len(post)\n",
    "                for x in range(0,lenPost):\n",
    "                    value=post[x]\n",
    "                    if(value['rel_type']=='s'):\n",
    "                        if(value['lex_class']=='adj'):\n",
    "                            syn=value['related_phrase']\n",
    "                            sinonim.append(syn)\n",
    "            \n",
    "        except:\n",
    "            pos='n'\n",
    "             \n",
    "        \n",
    "     \n",
    "    listSyn=len(sinonim)\n",
    "    for z in range(0,listSyn):\n",
    "        teksA.append(sinonim[z])\n",
    "    \n",
    "    queryEx=' '.join(teksA)\n",
    "    kataEx.append(queryEx)"
   ]
  },
  {
   "cell_type": "code",
   "execution_count": 121,
   "metadata": {},
   "outputs": [],
   "source": [
    "import pandas as pd\n",
    "\n",
    "dt = pd.DataFrame(kataEx, columns=['text'])\n",
    "\n",
    "dt.to_csv(\"1tweetTestExxx.csv\",  encoding='utf-8', index=False)"
   ]
  },
  {
   "cell_type": "markdown",
   "metadata": {},
   "source": [
    "<h1>Membaca Data Testing(Belum diberi Label)<h1>"
   ]
  },
  {
   "cell_type": "code",
   "execution_count": 34,
   "metadata": {},
   "outputs": [
    {
     "name": "stdout",
     "output_type": "stream",
     "text": [
      "                                                  text\n",
      "0                                         tempat bapak\n",
      "1    asyik dkt cibiru bandung timur malam bahagia sama\n",
      "2    bapak bagaimana dadak kapolsek kasih ijin teh ...\n",
      "3            kalau panyileukan bapak ridwan tempat teh\n",
      "4    bahaya bapak tukang dagang main sekolah dasar ...\n",
      "5    wilujeng enjing selamat pagi semoga hari karun...\n",
      "6                                           tempat teh\n",
      "7               warga bandung timur malam bahagia sama\n",
      "8                cibiru apa panyileukan culinary night\n",
      "9    obama jokowi ridwan kamil berkah jokowi ridwan...\n",
      "10       cibiru warga bandung timur malam bahagia sama\n",
      "11                                  tutup pakai kardus\n",
      "12   bapak mohon bantu warga bojongloa kaler hari a...\n",
      "13     acara ngehalangin jalan pulang jadi pulang hari\n",
      "14   kalau bandung suruh hari kamis saja lyd kalau ...\n",
      "15                                  jadi bakar coblong\n",
      "16   periksa favorite teh nuhun bapak ai cibiru cul...\n",
      "17   terima kasih bapak buat datang kemarin moga ju...\n",
      "18   bapak kalau tempat pembuangan sampah bungur tu...\n",
      "19   dahlan iskan ngamuk tol ridwan kamil kesal sampah\n",
      "20   walikota bandung direktur utama launching logo...\n",
      "21   kasusna angger keneh meuli gas angger eusina m...\n",
      "22   bapak mau usul salah satu syarat izin pedagang...\n",
      "23     tonton ayo karena sangat sarat dengan informasi\n",
      "24   bakar kios jalan cihampelas sudah selesai unit...\n",
      "25   ridwan kamil keluar kartu pedagang kaki lima a...\n",
      "26   ridwan kamil kartu pedagang kaki lima read bag...\n",
      "27                          publikasi dokumentasi jadi\n",
      "28   yess salute lokalisasi saritem bandung bakal u...\n",
      "29   dinas bakar terjun unit pancar unit selamat sehat\n",
      "..                                                 ...\n",
      "180  orang tasik harapansaya moga uu bapak malah ba...\n",
      "181  kapolsekta gedebage kompol sumari selasa malam...\n",
      "182                                             keceee\n",
      "183  reaksi ridwan kamil kabar dukung lgbt reaksi r...\n",
      "184              reaksi ridwan kamil kabar dukung lgbt\n",
      "185  reaksi ridwan kamil kabar dukung lgbt reaksi r...\n",
      "186                                 pki juang hahahaha\n",
      "187  sampurasun wilujeng enjing wargi rancanumpang ...\n",
      "188  kendala yang mungkin siapa yang bayar tiap kon...\n",
      "189  ridwan bonek jangan gelandang bandung pikir pi...\n",
      "190                                             status\n",
      "191                        memang kudu pks benar-benar\n",
      "192             gerak subuh jamaah rw rw dunguscariang\n",
      "193  usung ridwan kamil golkar tabur benih pecah in...\n",
      "194  hidup pilih sama pilih selalu saling jelek rid...\n",
      "195  wakakaa nabi muhammad bawa bawa beda jauh kaka...\n",
      "196                        saya dukung pk ridwan kamil\n",
      "197  ridwan kamil aku kumpul parpol usung mudah gam...\n",
      "198  ridwan kamil aku kumpul parpol usung mudah rid...\n",
      "199  nasdem partai dukung ridwan kamil jangan paksa...\n",
      "200  walikota bandung ridwan kamil calon gubernur j...\n",
      "201  alas nasdem bebas ridwan kamil pilih cawagub j...\n",
      "202  warga bandung sekitar bapak bapak akang temen ...\n",
      "203  alas rkih dukung duet maman imanulhaq bapak em...\n",
      "204  pemilihan gubernur jawa barat ridwan kamil des...\n",
      "205  dasar dungu nabi muhammad saw saja paman kafir...\n",
      "206                                      murder status\n",
      "207                                             murder\n",
      "208  makan bareng warmis bsm bapak camat cibiru selasa\n",
      "209        rapat koordinasi sama urus pkk selasa karib\n",
      "\n",
      "[210 rows x 1 columns]\n"
     ]
    }
   ],
   "source": [
    "import pandas as pd\n",
    "\n",
    "data = pd.read_csv('1tweetTestEx.csv')\n",
    "print(data)"
   ]
  },
  {
   "cell_type": "markdown",
   "metadata": {},
   "source": [
    "<h1>Menghitung Jumlah Tweet pada Data Training<h1>"
   ]
  },
  {
   "cell_type": "code",
   "execution_count": 35,
   "metadata": {},
   "outputs": [
    {
     "name": "stdout",
     "output_type": "stream",
     "text": [
      "jumlah dataset training :  334\n"
     ]
    }
   ],
   "source": [
    "import pandas as pd\n",
    "\n",
    "\n",
    "raw_data2 = pd.DataFrame()\n",
    "tmp=pd.read_csv('1tweetTrainExLabel.csv')\n",
    "raw_data2 = raw_data2.append(tmp,ignore_index=True)\n",
    "\n",
    "print('jumlah dataset training : ',len(raw_data2.values.tolist()))"
   ]
  },
  {
   "cell_type": "markdown",
   "metadata": {},
   "source": [
    "<h1>Menampilkan Tweet dan Kelas dari Data Training<h1>"
   ]
  },
  {
   "cell_type": "code",
   "execution_count": 36,
   "metadata": {},
   "outputs": [
    {
     "name": "stdout",
     "output_type": "stream",
     "text": [
      "['cimahi hayang cimbuleuit pan kota bapak naha ciumbuleuit mati lampu bapak', 'jumat sudah ayo ah menggoes bareng hahahahhahah terdahulu', 'hayu wargi bandung tiasa sarumping mangga ramekeun jalan bandung dinten ieu aku', 'diri taman jomblo bandung ridwan kamil agung dewa jomblo akbar besar fadil gadang gede gemilang hebat istimewa kudus luhur mulia penting super terhormat teristimewa terkemuka termasyhur tertinggi utama', 'siapa yang jaga siapa yang pelihara kalau rusak kaya begini siapa yang tanggung jawab binasa busuk subur', 'tetot fera sudah punya sim bapak fera tidak punya sim tapi sudah jalan bapak pagi pagi depan pasar uber terdahulu', 'beliau lahir pagerageung ti tasik bapak good bye grandpa you will be missed', 'busy at sir what doa you say kababayan in english', 'walikota dengan program biopori saurna kbb plesir hongkong cari bibit cakar langit bade pelak cihideung kitu', 'bapak fera tidak punya sim tapi sudah jalan bapak pagi pagi depan pasar ujungberung suka macet sama dagang pinggir', 'kelurahan sukamaju cimanggis depok urus surat jamsostek hampir bulan belum dapat tandatangan lurah alasan sedang umroh aneh dekat', 'bapak kapan bandung karya bapak rindu diri', 'pagi bapak tinjau empat supratman anak kecil ngemis ibu tunggu setor pom bensin terima kasih bapak', 'walikota bandung lantik elih sudiapermana', 'bapak kagum bapak', 'bapak pagi pagi depan pasar ujungberung suka macet sama dagang pinggir jalan benah bapak ganggu kendara cinta gemar sayang senang', 'bangga teu bapak teater anak ekonomi bandung jadi hiji hijina isi acara stai madura', 'lanjut bapak', 'cayoo sukses orang walikota tidak bawa persib juara sukses orang walikota tidak bawa persib juara status photo', 'cinta itu dendam berahi rindu risau sayang', 'bapak sebab celaka teh sanes jalan nu lubang wae eta angkot lamun belok sok tara make sent tah bapak maen belok saenakna', 'coba bapak jalan rajalwali timur pasar andir pagi hari', 'jalan buah batu dekat tol lubang cukup bapak kemarin banyak mobil ngerem dadak banter belacak berjebah berlebihan besar deras jamak jenuh lebat luas melacak melimpah mumbung munjung padat penuh ramai', 'bapak', 'gas terus jalan raya sudah gitu buat kereta parahyangan mau berangkat tunggu dulu ah gila harus aku jadi istri ridwan kamil', 'malam lewat paspati sengaja ingin liat yang kata warna ini keren sangat terima kasih bapak buat bandung jadi lebih warna', 'kirim proposal balaikota kalau undang bapak ibu acara seminar cara bagaimana gemerlap', 'bandung smart city proyek apa saja bapak today meeting dengan dutch delegation for cont', 'walikota bandung canang tahun', 'kalau hujan hari alias banjir not gong xi fat chai but ayo ngung xi choi', 'sami sami abah nuhun ridwan alah siah tos lam geningan sok doakeun sing', 'nuhun ridwan alah siah tos lam geningan sok doakeun sing gerak cageur', 'turut dukung bangun bandung rt belanda tindak lanjut kunjung ridwan dalam lama tinggi tua usang', 'bapak mohon izin saya desain tshirt tentang program kerja bapak buat ikut lomba design teu sawios', 'wkwkwk busy at sir what doa you say kababayan in english', 'wihh belanda tarik program kota pintar bandung', 'kalau pipi sampe sekarang kenapa chubby terus bapak bapak nahanya wayah kieu sok lapar', 'ayo sekolah bis sekolah kota bandung hino rs celcius foto', 'good advance for this beloved city today meeting dengan dutch delegation for bandung smart city project', 'haha saja kamu terima kasih saya ajar dari walikota bandung ridwan kamil seenaknya', 'bapak disdik bandung kurang ramah dalam layan masyarakat umum sering dalam kerja tugas coba tegur bapak invalid sedikit supel analitis bernas intens intern internal jeluk serius', 'jalur koordinasi surat disdik kota bandung disdik provinsi jawa barat contoh disdik provinsi banten', 'gubernur kaltim awang faroek walikota bandung sukses raup dana csr eropa', 'anjing pigking ndasmu anjing ridwan kamil deddy cont', 'ajar pungut biaya naik damri pada hari senin lapor via sms', 'zona merah teh tempat renti motor tea geuning zona merah itu saja bapak seenaknya', 'temenin you dead bapak bahasa inggrisna jomblo teu payu payu nang taun taun naon', 'bapak nahanya wayah kieu sok lapar', 'most mungkin secara jiwa raga bandung asli banget akan beda jika jabat kota bandung jadi humanis', 'bapak butuh subsidi cinta bapak mohon bantu nuhun bapak', 'hahaha bhahaha lol busy at sir what doa', 'rumah bapak ridwan kamil buat ribu botol kratingdeng', 'wakil gubernur jawa barat sama walikota bandung hadir launching tim htt', 'bapak tidak tanggap satpam depan kantor bapak apa kasi bapak', 'assalamua laikum', 'bandung makin laju sama bapak jogja stuck makin kikis node', 'heuh bapak jalan jalan riau gedung sate belakang sampe cont', 'bapak mohon pindah tiang pln tengah jalan jln', 'bapak mau minta pendapat kena apartemen yang bangun bagus dago bapak apa mungkin kapasitas daerah pada suka', 'gerobak mie mercun unik lhoo bentuk langsung sms saja', 'tahun kota bandung jadi salah satu kota ram dunia dasar survei majalah time', 'folbck kartu keluarga', 'tantang pertama justru pada benah birokrasi moga beri mudah bapak siap bu', 'daerah bangbayang dago beneran jadi apartemen', 'bapak bakal musuh produsen mobil motor kampanye sepeda', 'kamis line up bukabareng baksos setiabudi sama anak yatim bapak ridwan kamil', 'bapak ridwan kamil apa kabar bapak', 'wilujeung sahur bapak emil mudah mudah shaumnya lancar aamiin gampang suang', 'wilujeng saur bapak emil mugi alloh swt maparin barokah kango urang sadaya amiiin', 'hidup juang henti bismillah', 'allhamdulilah tah teu salah kan jadi walikota idam teh insya allah skatepark hadir tahun depan', 'tah teu salah kan jadi walikota idam teh insya allah skatepark hadir tahun depan', 'warga jadi harus bangun kota salah satu cara tiada keluh', 'sayang sekali bukan urng tarling malam masjid as syifa rw cijambe ujung berung', 'bukan urng tarling malam masjid as syifa rw cijambe ujung berung', 'selamat istirahat kawan suatu hari semua pulang', 'bandung bagaimana video ktp seleksi pedagang kaki lima ibukota', 'lagi benah', 'rawan gempur bandung bapak tempat tinggal saya rw sebut', 'karena butuh ekonomi milik tanah alih fungsi bapak beri solusi bapak terima kasih', 'masyarakat solat ied tempat main anak perlu masyarakat jual yang milik hak atas tanah tersebut', 'bapak daerah kiaracondong lurah kebonjayanti rw belakang polisi sektor kiaracondong bidang tanah yang biasa guna', 'goodluck mas emil for today', 'segera selamat istirahat kawan suatu hari semua pulang', 'ridwankamil asa tidak pernah dengar program perintah buat sejahtera gelandang', 'wah euy asli skandal segera buku bapak ajak sare tah bapak sama bella', 'yaah sudah mulai dik pdahal masih baru yaa pemerintah kota tidak bantu bagaimana nasib hiks', 'bapak emil langkah awal urai macet daerah sub urban seperti ujungberung seperti apa saya harap solusi yang solutif', 'waduh sudah kena sekarang', 'bapak selamat malam masalah bersih paling utama utama bersih organisir hasil untung sehat', 'sami sami mung ka anjeunna allah sadaya urus mulang taya pis lolongkrang manusa takabur dina getak hirup kahirupannana', 'supaya seperti beliau jam begini enak poin akun twitternya', 'pulang akhir kali moga jejak ilmu baik bersih lekat bandung insha allah apik bening cemerlang cerah ceria cermat ikhlas jernih jujur khalis kudus labas licin lindang lingkap ludes mukhlis murni mustakim necis neto nirmala orisinal otentik rapi safa safi sejati sportif steril suci tahir tandas terang tulen tulus tuntas zakiah', 'waduh', 'rt selamat istirahat kawan suatu hari semua pulang', 'selamat rehat bapak selamat istirahat kawan suatu hari semua pulang', 'bapak punten selamat istirahat kawan suatu hari semua pulang', 'saat yang muda yang bicara yang tua istirahat bapak yuwana', 'pasar baru jablay banyak kok berani tutup saritem bapak', 'moga jadi teladan usia yang tahu', 'sih fisik kota dulu proses rancang supaya pesan kota orang bersih', 'selamat istirahat bapak walikota keras pilwali lewat moga kerja keras tahun depan lancar berkah gigih hebat ulet', 'selamat istirahat bapak', 'selamat istirahat kawan suatu hari semua', 'bapak slaku laku ukm mula rasa berat kalau masih baru jalan sudah berat dengan pajak resto mohon hati', 'buat bapak moga amanah masyarakat cinta kota bandung jaga jaga dendam berahi rindu risau sayang', 'bapak tidur bapak emil banyak benah besok hari', 'konsep kembang ekonomi kreatif kota', 'bandung macet kalau tidak solusi kongkrit pergi kantor setelah subuh', 'yah kalau bapak tidak jadi walikota coba jadi anggota dprd kota bandung saja suara lebih keras pemerintah kota', 'mirip ramai media tapi pas pilkada jadi karena calon kuat', 'bandung segala kenang buat yang jauh apa yang buat kamu kangen bandung', 'haiya ceuk saha oeh siga ahok', 'bandung buat yang jauh apa yang buat kamu kangen bandung', 'ridwan kamil', 'mantap bapak ridwan kamil tambah percaya diri maju pemilihan wali kota', 'sila periksa sebar alas men jr uu dikti', 'sepakat bapak buat yang jauh apa yang buat kamu kangen bandung', 'rc have fun go mad dulu kalau waktu aceh nama tgif bulan sekali main musik', 'woow rt apa yang buat kamu kangen bandung', 'makan jajan lumpia basah mie dorokdok sambel cibiuk mie kocok duh semua', 'fashion', 'naik angkot sampe motor bergps bareng buat yang jauh apa yang buat kamu kangen bandung', 'simpang dago bisa makan apa saja kapan saja jam buat yang jauh apa yang buat kamu kangen bandung', 'minggu pagi bandung bapak buat yang jauh apa yang buat kamu kangen bandung', 'atmosfer kalau rumah ibarat minimal riah haha buat yang cont', 'rumah serta isi', 'sami sami terima kasih buat temen temen sudah diskusi seru bareng bapak terdahulu', 'cimol semua aspek buat yang jauh apa yang buat kamu kangen bandung', 'kosan geger kalong kangen jaman kuliah duit pas pas warteg cimol', 'anak istri ujungberung dengan backdrop gn manglayang buat yang jauh apa yang buat kamu kangen bandung', 'teman taman buat yang jauh apa yang buat kamu kangen bandung rindu', 'ins bandung bersih hijau bunga buat yang jauh apa yang buat kamu kangen bandung', 'bandung kangen suasana kenang', 'jalan tertib macet pohon rindang banjir kali bersih kota kembang', 'manuk cingcuing buat yang jauh apa yang buat kamu kangen bandung rindu', 'kreatifitasnya saja buat yang jauh apa yang buat kamu kangen bandung', 'suasana sama semua lah buat yang jauh apa yang buat kamu kangen bandung', 'suasana hangat sama tengah dingginya bandung buat yang jauh apa yang buat kamu kangen bandung', 'saung bapak udjo', 'kuliner tempat kuliner', 'suasana sejuk malam hari nyaman senang tenteram', 'air dingin buat yang jauh apa yang buat kamu kangen bandung', 'udara nyaman yang dulu buat yang jauh apa yang buat kamu kangen bandung', 'makan buat yang jauh apa yang buat kamu kangen bandung', 'suasana buat yang jauh apa yang buat kamu kangen bandung renggang', 'banyak bapak makan suasana tempat main jalan jalan tempat sejarah ah pokokna seeur pis', 'suasana', 'buat kangen bandung hawa sejuk jajan', 'buat yang jauh apa yang buat kamu kangen bandung', 'macet buat yang jauh apa yang buat kamu kangen bandung sendat serat', 'bandung bersih hijau bunga buat yang jauh apa yang buat kamu kangen bandung', 'bahkan karakter tidak jawab buat yang jauh apa yang buat kamu kangen bandung', 'bapak apa konsep besar bapak bawah bandung', 'cemilan cemilan na na buat yang jauh apa yang buat kamu kangen bandung renggang', 'buat yang bandung apa sih yang buat tidak ninggalin bandung', 'angkot kuliner saudara juang buat yang jauh apa yang buat kamu kangen bandung', 'dulu iya sekarang mah tau buat yang jauh apa yang buat kamu kangen bandung', 'bau tanah kala hujan orang murah senyum ieu wungkul weh bapak', 'semua buat yang jauh apa yang buat kamu kangen bandung renggang', 'semua isi kota orang orang buat yang jauh apa yang buat kamu kangen bandung', 'anak semarang kuliah uns main itb sudah cukup bwt slalu kangen main sana lagi bapak', 'lumpia basah ma monumen du hehehe buat yang jauh apa yang buat kamu kangen bandung', 'adem alami buat yang jauh apa yang buat kamu kangen bandung cahang campah dingin hambar lindap nyaman sejuk tawar teduh tenang tenteram', 'kangen peuyeumpuannya buat yang jauh apa yang buat kamu kangen bandung', 'cup bahan kertas daur sampah du sampahbiasa', 'ridwan kamil beri sanksi dagang guna styrofoam', 'rutinitas para petugas beres gps wilayah', 'ridwan kamil beri sanksi dagang guna styrofoam ridwan kamil beri sanksi dagang guna styrofoam', 'musda bkprmi kota bandung', 'entah ngefans entah sering liat poster bapak sudah malam mimpi terus bapak', 'mas fadjroel mau ngomong tidak macam dulu', 'harus yang langgar gsb bongkar apalagi tidak plang imb rapuh reput', 'kartar serta anak anak', 'timbun sampah per an astina psr pamoyanan sudah bersih terima kasih bapak walikota pis', 'nah kamu meme dukung ahok edar ridwan kamil yenny wahid ban bukan ucap', 'hai tweeps datang yah sore malam hari acara sukasari culinary night jalan rintis srjadi don miss itu seeuthere', 'fitnah kotor ahoker ridwan kamil yenny wahid bantah meme dukung ahok', 'warga skly maghrib kaji tanam jiwa bersih sejak apik bening cemerlang cerah ceria cermat ikhlas jernih jujur khalis kudus labas licin lindang lingkap ludes mukhlis murni mustakim necis neto nirmala orisinal otentik rapi safa safi sejati sportif steril suci tahir tandas terang tulen tulus tuntas zakiah', 'nah kamu meme dukung ahok edar ridwan kamil yenny wahid ban bukan ilustrasibel', 'tah benar bapak hehe', 'waktu sekarang putus jadi orang pensiun preneur sukses ingat now or never', 'ajar dulu ayo ppst edisi mil selalu jadi orang ajar', 'assalammulaikum selamat pagi sukses hari bismillah', 'akun kata catut nama ridwan kamil yenny wahid dukung suara muhamma', 'periksa tulis dahlan iskan bapak waktu jadi tri bumn bahas bawah unit prestasi kerja luar biasa asing', 'ridwan kamil ajak siswa sepeda makan siang rumah dinas ridwan kamil ajak siswa sepeda makan siang rumah dinas', 'ridwan kamil protes nama catut dukung ahok', 'rajin bike to school ajar sepeda ridwan kamil rajin bike to school ajar sepeda ridwan kamil', 'keren puri kranji regency', 'urban farming', 'mapay lembur rw', 'garden ditrsan bubat', 'bestari cikapundung kolot', 'masa depan pulau jawa kira kira bakal bagaimana kalau kaya begini', 'pimpin usia tua biasa gaptek bapak pikir twitter aplikasi adalah musuh kaya dulu angkut online awam banal cakap elementer formal jamak kaprah kerap kering konvensional lasak lazim lihai lugu lumrah luwes mahir naif natural normal pandai piawai polos populer prosais reguler sederhana sering simpel sipil stereotip terampil umum', 'suka video ridwan kamil penuh cinta hitam putih oktober full', 'ridwan kamil yenny wahid catut meme dukung ahok', 'sharakhah banget mah musti kaji ulang peraturan daerah selenggara rw tidak sigana mah wajib', 'malam makin sunyi hati gerak untuk tanya share alat fotografi bapak inisial juga kalau khwatir sebut merk', 'surat himbauan kelurahan kecamatan terus rw benah dulu pondasinya baru indah muka', 'alhamdulillah bapak produk awal jual pakai paper cup khusus makan istimewa khas utama', 'lapor bapak kakek status', 'benar bapak andi bilang pajak bumi bangunan bayar per kartu keluarga bahaya ini tanda akhir jaman aci adil akurat betul etis faktual hak imbang jujur legal loyal lugu lurus mustakim naif nyata pasti persis piawai polos real resmi sadik sahih sejati sempurna sepadan sesuai setia sungguh tepat valid', 'liat via televisi od cerita inspirasi bangga punya bapak kaya begini kenyal pekat angkuh bagak besar hati besar kepala bongkak congkak gagah mangkak megah panggak pongah sombong tinggi hati', 'tidak sekali pakai foto albert einstein hhaha', 'bapak emil mungkin sangka orangtuanya upin ipin bapak', 'sosialisasi saja tidak usah tanya lokasi beri suluh kecamatan kelurahan mutlak patuh rw kelompok linmas jahil seenaknya', 'lucu ini orang', 'info mayor ridwan kamil is banning styrofoam food packaging from bandung', 'ridwan kamil is banning styrofoam food packaging from bandung', 'ridwan kamil protes catut meme dukung ahok', 'mau ngamen jual asong jalan sekarang boleh', 'kenapa daerah pernah bantu peser buat lancar pesta rakyat sambut merdeka republik indonesia', 'kata perintah beri biaya besar buat karang taruna lurah', 'formasi baik persib mata ridwan formasi baik pernah milik persib versi bapak emil', 'formasi baik persib mata ridwan kamil', 'okezonenews formasi baik persib mata ridwan kamil status ampuh apik asri ayu bagus bahari cantik cegak efektif efisien elok enak gagah hangat hasan indah jujur lurus manis manjur molek mujarab mujur mustajab normal patut produktif ramah rancak rapi santun sehat sopan sosial tampan terpuji tertib tokcer', 'ccin buyungkiu ridwan kamil risma aher ganjar karwo banyak kada yang bahasa santun namun tidak korupsi', 'assalammualaikum punten bade tumaros bapak bu perkawis sekolah smp negeri yang mau terima murid pindah gratis', 'baik persib mata ridwan formasi baik pernah iaxmur', 'ridwan kamil risma aher ganjar karwo banyak kada yang bahasa santun namun tidak korupsi kerja bagus status banter belacak berjebah berlebihan besar deras jamak jenuh lebat luas melacak melimpah mumbung munjung padat penuh ramai', 'ridwan kamil janji bonus persib juara piala bhayangkara kamil janji bonus persib juara piala', 'ridwan kamil final piala bhayangkara tetap gbk', 'ayo dukung bangun pesantren kreatif dengan wakaf dompet ihaqi peduli desain pesantren by', 'lha koq', 'assalammulaikum selamat pagi sukses hari bismillahirrahmanirrahim aheryawan', 'ridwan kamil final piala bhayangkara tetap gbk walikota bandung ridwan kamil ingin final piala', 'ridwan kamil galau tonton persib dinas luar negeri berat otak bergalau bimbang bingung cemas gelisah kacau karut keruh khawatir kusut nanar resah ribut risau senewen sesat pusat', 'jalan santai warga dalam hari ulang tahun republik indonesia', 'tempat sampah yang tidak jadi bingung malam buang sampah he he sekarang luas arcamanik sudah tidak', 'abang hhahaa bapak kapan cicadas culinary night', 'juang masa baksil jadi tempat pembuangan sampah mohon ridwankamil', 'bersih dago perlu tiru ini', 'kereta patas stasiun cimekar lebih menit yang mau upacara resah bapak xixixi jadwal', 'bapak sistem gps gerak pungut sampah laku sekolah masing kan nah gps hanya laku area skolah luar', 'suasana yang kurang aman masih banyak kendara lintas mohon bantu invalid sedikit', 'bapak indonesia ultah dong bapak', 'selamat pagi bapak kemarin sekolah ada giat gerak pungut sampah beberapa foto', 'satu buat', 'senirajawali hasil kolaborasi seniman', 'isi merdeka budaya buang sampah tempat selamat pagi bapak bantu', 'nk pernah kibar bendera merah putih kota bandung asal cianjur selatan', 'terima kasih bapak atas baik jalan maranata sekarang road hehe', 'bapak kapan cicadas culinary night', 'kata bapak indonesia surga indah sarat masalah karnanya cinta negeri dengan aksi solusi dirgahayu indonesia', 'via raya merdeka republik indonesia dengan tidak nyampah kurang sampah leluasa sesuka hati', 'bapak rangka merdeka kaya bagus kalau lomba', 'this is thing in my city now ref tapi', 'kab kota salahsatunyakotabandung turut meriahkanacarahelaransenibudayadlmrangkahut', 'bapak kakak perempuan ulangtahun cepat pulang kakak perempuan mau ucap ulangtahun sama bapak', 'selamat hari ulang tahun republik indonesia indonesia merdeka semoga rakyat sejahtera bandung juara sehat', 'bapak punten teu tiasa ngiringan upacara kumargi piwarang damel aku atas punten pis bapak sateuacana ulan we atas abi', 'jalan depan astana baru rusak sedikit padahal mah bapak aduh serasa lewat jalan dusun pinggir kota aktual anyar gres hangat junior kontemporer modern mutakhir segar terakhir trendi', 'kakak perempuan teh mau ucap sama ridwan bapak aku suka', 'juta aduh bagaimana juragan ini lokal cetak juragan coba tanya sama sm brodexin yang papatong saja juragan', 'ayo siap simak cerah guru kiyai', 'seniman rajawali akan tolak pedagang kaki lima', 'senimanhelaranrajawali turutmeriahkanacaramilangkala esok sama kota kab lain', 'gasibu moal bapak loh', 'rute kirab mohon maaf apabila jalan hambat infobdgevent', 'tweet aku cuma quote doang sama ridwan kamil tetep mention yang masuk banyak', 'terima kasih bapak ridwan kamil sudah mampir stand dengan pic', 'tonton livestreaming luncur kanal kpktv dialog dengan ahok risma ridwan kamil', 'inna lillahi wa telah pulang rahmatulloh ket tapi pkk kelurahan padasuka kecamatan cibeunying kidul jam wib', 'sae bapak tuntaskeun heula ngawangun kota bandung beres nembe ngiring icikibung jempol kanggo bapak walikota', 'narsis bapak', 'situasi depan gedung sate', 'bapak aku', 'bapak dong kaya begini ganjar pranowo marah sidak kuman negara mem subur', 'buat dari', 'mantepp bapak erwinmadmoron merdeka inisoenda', 'canang gerak sholat shubuh jamaah mesjid alun alun bandung', 'gerak subuh jamaah sama bapak wali kota serta jajar', 'live ridwan kamil laksana salat subuh', 'cang gerak shalat subuh jamaah kota bandung mesjid raya jawa barat awam', 'syukur semoga depan semua kebun binatang indonesia lagi jumpa kasus', 'ridwan kamil meski sering tengil tapi bisa jaga marwah wibawa sebagai walikota baik hadap warga maupun terjadap pegawai negeri sipil yang pimpin', 'cari solusi yang santun untung pihak yang rugi moga allah swt beri yang baik sopan', 'dengan berita hoax bohong produksi lama', 'asli kalimantan ini harus lindung jangan abai begini wahai bapak menteri', 'buat gua orang depan umum seperti gitu mau ahok mau ganjar pranowo mau cumi cola sama saja tiru ridwan kamil status seenaknya', 'gerak subuh jamaah jan', 'dapat arah bapak wali canang subuh jamaah kota bandung tapi kunaon paling ingat nasi timbel', 'arah bapak walikota ramai dengan subling', 'giat lounching gerak subuh jamaah', 'hopes itu will better if should be take care by goverment but if itu know how to take raeady to be vol', 'kalimat baik diam ridwan kamil', 'barakallahu fiik bapak', 'selamat pagi sehat', 'canang shubuh jamaah lurah mesjid agung bandung', 'giat launcing gerak laksana shalat subuh ridwankamil', 'punteun bapak emil angkot kircon terlalu banyak henti pedagang kaki lima semrawut kendara motor susah lewat klakson diam', 'siap siap ini bapak bismillah ayo', 'ridwan kamil mayor of save the animals of bandung zoo indonesia sign the petition ridwan kamil mayor of bandung save the animals of bandung zoo indonesia recruiter twitter via', 'ridwan kamil curhat facebook soal bonbin beruang kurus tandus', 'sosialisasi shalat shubuh jamaah masjid urus ulama', 'ridwankamil', 'bapak mohon periksa lampu pju jalan panca tengah raya padam lama padam', 'this popped up on facebook and immediately thought of bandung if funds are required to help the bears let work together', 'kalau bukan sekarang kapan kalau bukan siapa hehahahahahah gadungan lain lancung gadungan lain lancung', 'that so nice of you to say but he did all the hard work', 'bapak ridwan boleh email', 'hidup sekali jangan tua karya inspirasi ridwan kamil kuno pekat', 'semakin banyak yang campaign macam begini bagus banter belacak berjebah berlebihan besar deras jamak jenuh lebat luas melacak melimpah mumbung munjung padat penuh ramai', 'karena kalau tidak wacana begini secara blow up yang luas mungkin tidak akan pernah mulai subuh brjamaah sekedar manfaat sosmed begitu', 'memang kalau liat sisi seperti pamer ibadah tapi tengah kondisi muslim sekarang yang mungkin sudah gitu jarang subuh jamaah bagus benar-benar', 'mungkin supaya pantau saja kalau tingkat sampai subuh tiap hari arti gerak hasil karena sudah jadi biasa seenaknya saban', 'kalau aku lebih pilih presiden', 'terima kasih bapak wali assalamualaikum', 'lah yang percaya allah untuk lindung dari segala bentuk aniaya bahkan yang laku perlahan', 'rasa malu malu karena peluk agama yang paling sempurna tapi sering abai supaya zalim depan mata komplet lengkap terbaik tuntas kerap langsing ramping alpa cabar ceroboh cuai gegabah khilaf lalai leler lengah sembarangan sembrono serampangan silap teledor', 'murak tumpeng atas berkah usia ketua kartaranum wilujeng barokah', 'karena walaupun mnyelamatkn ekor hewan tapi selamat bagi dari keluarga mereka sendiri masya allah harus', 'selamat ekor hewan begitu haru bahkan sentuh bagi dalam nurani', 'tanam sifat kasih sayang yang lebih kepada umat isa as bukti sering lihat sifat sifat mulia heroik tertinggi', 'sebagai orang islam aku karena tersebut telah sebut dalam kitab suci al quran yang bunyi', 'atau beri kb yang kelola nasrani yang mereka lebih sayang hadap banding orang islam sendiri', 'karena sudah sangat lapar bagaimana bapak siapa kira yang tutup kbb balik habitat mula', 'dengan kasus yang sama lihat beruang madu makan kotor sendiri', 'sekitar tahun yang lalu lihat tidak mampu dalam laku hewan', 'bapak kalau boleh usul kebun binatang bandung mending tutup bapak daripada puluh tahun tidak becus tetap jadi', 'jangan ngamuk', 'andai saja bapak jadi calon presiden bapak kalah', 'pimpin periksa dulu masalah jangan langsung ngamuk tepat', 'kerja yang paling senang dunia hobi bayar ridwan kamil', 'pimpin bina organisasi ngamuk', 'mohon sangat depan hindar pimpin ngamuk', 'lebih sayang uang hutan ayo ikut mal nasinal ridwan kamil loh status photo', 'pasar kosambi bandung tidak awat', 'enak kirim link upload lalu twitter imel bapak aman asyik baik basah eco empuk gurih legit lembut lezat merdu mujur naim nikmat nyaman puas pulas sedap segar seronok sip sreg tenteram wangi', 'selamat pagi selamat jalan tugas untuk bapak ibu', 'manfaat air hujan bapak harap bapak lihat beri testimoni karya proyek bapak', 'ieu rek demo saritem dijadikeun pasar emas insansentanu demokeun ulah']\n",
      "[0, 1, 1, 1, 0, 1, 1, 1, 1, 0, 0, 1, 1, 1, 1, 0, 1, 1, 0, 1, 0, 1, 0, 1, 1, 1, 1, 1, 1, 1, 1, 1, 1, 1, 1, 1, 1, 1, 1, 1, 0, 1, 1, 0, 1, 1, 1, 1, 1, 1, 1, 1, 1, 0, 1, 1, 1, 1, 1, 1, 1, 1, 1, 1, 1, 1, 1, 1, 1, 1, 1, 1, 1, 1, 1, 1, 1, 1, 1, 1, 1, 1, 1, 1, 1, 1, 0, 1, 1, 1, 1, 1, 1, 0, 1, 1, 1, 1, 1, 1, 1, 1, 1, 1, 0, 1, 1, 1, 0, 1, 1, 1, 1, 1, 1, 1, 1, 1, 1, 1, 1, 1, 1, 1, 1, 1, 1, 1, 1, 1, 1, 1, 1, 1, 1, 1, 1, 1, 1, 1, 1, 1, 1, 1, 1, 1, 1, 1, 1, 1, 0, 1, 1, 1, 1, 1, 1, 1, 1, 1, 1, 1, 1, 1, 1, 1, 1, 1, 1, 1, 1, 1, 0, 1, 1, 1, 1, 0, 1, 1, 1, 1, 1, 1, 1, 1, 1, 1, 1, 1, 1, 1, 1, 1, 1, 0, 1, 1, 1, 1, 1, 1, 1, 1, 1, 1, 1, 0, 1, 1, 1, 1, 1, 1, 1, 1, 1, 1, 1, 1, 1, 1, 1, 1, 1, 0, 1, 1, 1, 1, 0, 1, 1, 1, 0, 1, 0, 1, 1, 1, 1, 1, 1, 1, 1, 1, 1, 1, 1, 1, 1, 1, 1, 0, 1, 1, 1, 0, 1, 1, 1, 1, 1, 1, 1, 1, 1, 1, 1, 1, 1, 1, 1, 1, 1, 1, 1, 1, 1, 0, 0, 0, 1, 1, 1, 1, 1, 1, 1, 1, 1, 1, 1, 1, 1, 0, 1, 1, 0, 1, 1, 1, 1, 1, 1, 0, 1, 1, 1, 1, 1, 1, 1, 1, 1, 1, 1, 1, 0, 0, 0, 0, 1, 0, 0, 1, 0, 0, 1, 0, 1, 1, 1, 0]\n"
     ]
    }
   ],
   "source": [
    "#raw_data to list\n",
    "Dataset = raw_data2[['text','kelas']].values.tolist()\n",
    "\n",
    "#pisahkan text dan labelnya\n",
    "Texts = [col[0] for col in Dataset]\n",
    "Labels = [col[1] for col in Dataset]\n",
    "print(Texts)\n",
    "print(Labels)"
   ]
  },
  {
   "cell_type": "markdown",
   "metadata": {},
   "source": [
    "<h1>Menampilkan Tweet dari Data Training dan Data Testing<h1>"
   ]
  },
  {
   "cell_type": "code",
   "execution_count": 37,
   "metadata": {},
   "outputs": [
    {
     "name": "stdout",
     "output_type": "stream",
     "text": [
      "['cimahi hayang cimbuleuit pan kota bapak naha ciumbuleuit mati lampu bapak', 'jumat sudah ayo ah menggoes bareng hahahahhahah terdahulu', 'hayu wargi bandung tiasa sarumping mangga ramekeun jalan bandung dinten ieu aku', 'diri taman jomblo bandung ridwan kamil agung dewa jomblo akbar besar fadil gadang gede gemilang hebat istimewa kudus luhur mulia penting super terhormat teristimewa terkemuka termasyhur tertinggi utama', 'siapa yang jaga siapa yang pelihara kalau rusak kaya begini siapa yang tanggung jawab binasa busuk subur', 'tetot fera sudah punya sim bapak fera tidak punya sim tapi sudah jalan bapak pagi pagi depan pasar uber terdahulu', 'beliau lahir pagerageung ti tasik bapak good bye grandpa you will be missed', 'busy at sir what doa you say kababayan in english', 'walikota dengan program biopori saurna kbb plesir hongkong cari bibit cakar langit bade pelak cihideung kitu', 'bapak fera tidak punya sim tapi sudah jalan bapak pagi pagi depan pasar ujungberung suka macet sama dagang pinggir', 'kelurahan sukamaju cimanggis depok urus surat jamsostek hampir bulan belum dapat tandatangan lurah alasan sedang umroh aneh dekat', 'bapak kapan bandung karya bapak rindu diri', 'pagi bapak tinjau empat supratman anak kecil ngemis ibu tunggu setor pom bensin terima kasih bapak', 'walikota bandung lantik elih sudiapermana', 'bapak kagum bapak', 'bapak pagi pagi depan pasar ujungberung suka macet sama dagang pinggir jalan benah bapak ganggu kendara cinta gemar sayang senang', 'bangga teu bapak teater anak ekonomi bandung jadi hiji hijina isi acara stai madura', 'lanjut bapak', 'cayoo sukses orang walikota tidak bawa persib juara sukses orang walikota tidak bawa persib juara status photo', 'cinta itu dendam berahi rindu risau sayang', 'bapak sebab celaka teh sanes jalan nu lubang wae eta angkot lamun belok sok tara make sent tah bapak maen belok saenakna', 'coba bapak jalan rajalwali timur pasar andir pagi hari', 'jalan buah batu dekat tol lubang cukup bapak kemarin banyak mobil ngerem dadak banter belacak berjebah berlebihan besar deras jamak jenuh lebat luas melacak melimpah mumbung munjung padat penuh ramai', 'bapak', 'gas terus jalan raya sudah gitu buat kereta parahyangan mau berangkat tunggu dulu ah gila harus aku jadi istri ridwan kamil', 'malam lewat paspati sengaja ingin liat yang kata warna ini keren sangat terima kasih bapak buat bandung jadi lebih warna', 'kirim proposal balaikota kalau undang bapak ibu acara seminar cara bagaimana gemerlap', 'bandung smart city proyek apa saja bapak today meeting dengan dutch delegation for cont', 'walikota bandung canang tahun', 'kalau hujan hari alias banjir not gong xi fat chai but ayo ngung xi choi', 'sami sami abah nuhun ridwan alah siah tos lam geningan sok doakeun sing', 'nuhun ridwan alah siah tos lam geningan sok doakeun sing gerak cageur', 'turut dukung bangun bandung rt belanda tindak lanjut kunjung ridwan dalam lama tinggi tua usang', 'bapak mohon izin saya desain tshirt tentang program kerja bapak buat ikut lomba design teu sawios', 'wkwkwk busy at sir what doa you say kababayan in english', 'wihh belanda tarik program kota pintar bandung', 'kalau pipi sampe sekarang kenapa chubby terus bapak bapak nahanya wayah kieu sok lapar', 'ayo sekolah bis sekolah kota bandung hino rs celcius foto', 'good advance for this beloved city today meeting dengan dutch delegation for bandung smart city project', 'haha saja kamu terima kasih saya ajar dari walikota bandung ridwan kamil seenaknya', 'bapak disdik bandung kurang ramah dalam layan masyarakat umum sering dalam kerja tugas coba tegur bapak invalid sedikit supel analitis bernas intens intern internal jeluk serius', 'jalur koordinasi surat disdik kota bandung disdik provinsi jawa barat contoh disdik provinsi banten', 'gubernur kaltim awang faroek walikota bandung sukses raup dana csr eropa', 'anjing pigking ndasmu anjing ridwan kamil deddy cont', 'ajar pungut biaya naik damri pada hari senin lapor via sms', 'zona merah teh tempat renti motor tea geuning zona merah itu saja bapak seenaknya', 'temenin you dead bapak bahasa inggrisna jomblo teu payu payu nang taun taun naon', 'bapak nahanya wayah kieu sok lapar', 'most mungkin secara jiwa raga bandung asli banget akan beda jika jabat kota bandung jadi humanis', 'bapak butuh subsidi cinta bapak mohon bantu nuhun bapak', 'hahaha bhahaha lol busy at sir what doa', 'rumah bapak ridwan kamil buat ribu botol kratingdeng', 'wakil gubernur jawa barat sama walikota bandung hadir launching tim htt', 'bapak tidak tanggap satpam depan kantor bapak apa kasi bapak', 'assalamua laikum', 'bandung makin laju sama bapak jogja stuck makin kikis node', 'heuh bapak jalan jalan riau gedung sate belakang sampe cont', 'bapak mohon pindah tiang pln tengah jalan jln', 'bapak mau minta pendapat kena apartemen yang bangun bagus dago bapak apa mungkin kapasitas daerah pada suka', 'gerobak mie mercun unik lhoo bentuk langsung sms saja', 'tahun kota bandung jadi salah satu kota ram dunia dasar survei majalah time', 'folbck kartu keluarga', 'tantang pertama justru pada benah birokrasi moga beri mudah bapak siap bu', 'daerah bangbayang dago beneran jadi apartemen', 'bapak bakal musuh produsen mobil motor kampanye sepeda', 'kamis line up bukabareng baksos setiabudi sama anak yatim bapak ridwan kamil', 'bapak ridwan kamil apa kabar bapak', 'wilujeung sahur bapak emil mudah mudah shaumnya lancar aamiin gampang suang', 'wilujeng saur bapak emil mugi alloh swt maparin barokah kango urang sadaya amiiin', 'hidup juang henti bismillah', 'allhamdulilah tah teu salah kan jadi walikota idam teh insya allah skatepark hadir tahun depan', 'tah teu salah kan jadi walikota idam teh insya allah skatepark hadir tahun depan', 'warga jadi harus bangun kota salah satu cara tiada keluh', 'sayang sekali bukan urng tarling malam masjid as syifa rw cijambe ujung berung', 'bukan urng tarling malam masjid as syifa rw cijambe ujung berung', 'selamat istirahat kawan suatu hari semua pulang', 'bandung bagaimana video ktp seleksi pedagang kaki lima ibukota', 'lagi benah', 'rawan gempur bandung bapak tempat tinggal saya rw sebut', 'karena butuh ekonomi milik tanah alih fungsi bapak beri solusi bapak terima kasih', 'masyarakat solat ied tempat main anak perlu masyarakat jual yang milik hak atas tanah tersebut', 'bapak daerah kiaracondong lurah kebonjayanti rw belakang polisi sektor kiaracondong bidang tanah yang biasa guna', 'goodluck mas emil for today', 'segera selamat istirahat kawan suatu hari semua pulang', 'ridwankamil asa tidak pernah dengar program perintah buat sejahtera gelandang', 'wah euy asli skandal segera buku bapak ajak sare tah bapak sama bella', 'yaah sudah mulai dik pdahal masih baru yaa pemerintah kota tidak bantu bagaimana nasib hiks', 'bapak emil langkah awal urai macet daerah sub urban seperti ujungberung seperti apa saya harap solusi yang solutif', 'waduh sudah kena sekarang', 'bapak selamat malam masalah bersih paling utama utama bersih organisir hasil untung sehat', 'sami sami mung ka anjeunna allah sadaya urus mulang taya pis lolongkrang manusa takabur dina getak hirup kahirupannana', 'supaya seperti beliau jam begini enak poin akun twitternya', 'pulang akhir kali moga jejak ilmu baik bersih lekat bandung insha allah apik bening cemerlang cerah ceria cermat ikhlas jernih jujur khalis kudus labas licin lindang lingkap ludes mukhlis murni mustakim necis neto nirmala orisinal otentik rapi safa safi sejati sportif steril suci tahir tandas terang tulen tulus tuntas zakiah', 'waduh', 'rt selamat istirahat kawan suatu hari semua pulang', 'selamat rehat bapak selamat istirahat kawan suatu hari semua pulang', 'bapak punten selamat istirahat kawan suatu hari semua pulang', 'saat yang muda yang bicara yang tua istirahat bapak yuwana', 'pasar baru jablay banyak kok berani tutup saritem bapak', 'moga jadi teladan usia yang tahu', 'sih fisik kota dulu proses rancang supaya pesan kota orang bersih', 'selamat istirahat bapak walikota keras pilwali lewat moga kerja keras tahun depan lancar berkah gigih hebat ulet', 'selamat istirahat bapak', 'selamat istirahat kawan suatu hari semua', 'bapak slaku laku ukm mula rasa berat kalau masih baru jalan sudah berat dengan pajak resto mohon hati', 'buat bapak moga amanah masyarakat cinta kota bandung jaga jaga dendam berahi rindu risau sayang', 'bapak tidur bapak emil banyak benah besok hari', 'konsep kembang ekonomi kreatif kota', 'bandung macet kalau tidak solusi kongkrit pergi kantor setelah subuh', 'yah kalau bapak tidak jadi walikota coba jadi anggota dprd kota bandung saja suara lebih keras pemerintah kota', 'mirip ramai media tapi pas pilkada jadi karena calon kuat', 'bandung segala kenang buat yang jauh apa yang buat kamu kangen bandung', 'haiya ceuk saha oeh siga ahok', 'bandung buat yang jauh apa yang buat kamu kangen bandung', 'ridwan kamil', 'mantap bapak ridwan kamil tambah percaya diri maju pemilihan wali kota', 'sila periksa sebar alas men jr uu dikti', 'sepakat bapak buat yang jauh apa yang buat kamu kangen bandung', 'rc have fun go mad dulu kalau waktu aceh nama tgif bulan sekali main musik', 'woow rt apa yang buat kamu kangen bandung', 'makan jajan lumpia basah mie dorokdok sambel cibiuk mie kocok duh semua', 'fashion', 'naik angkot sampe motor bergps bareng buat yang jauh apa yang buat kamu kangen bandung', 'simpang dago bisa makan apa saja kapan saja jam buat yang jauh apa yang buat kamu kangen bandung', 'minggu pagi bandung bapak buat yang jauh apa yang buat kamu kangen bandung', 'atmosfer kalau rumah ibarat minimal riah haha buat yang cont', 'rumah serta isi', 'sami sami terima kasih buat temen temen sudah diskusi seru bareng bapak terdahulu', 'cimol semua aspek buat yang jauh apa yang buat kamu kangen bandung', 'kosan geger kalong kangen jaman kuliah duit pas pas warteg cimol', 'anak istri ujungberung dengan backdrop gn manglayang buat yang jauh apa yang buat kamu kangen bandung', 'teman taman buat yang jauh apa yang buat kamu kangen bandung rindu', 'ins bandung bersih hijau bunga buat yang jauh apa yang buat kamu kangen bandung', 'bandung kangen suasana kenang', 'jalan tertib macet pohon rindang banjir kali bersih kota kembang', 'manuk cingcuing buat yang jauh apa yang buat kamu kangen bandung rindu', 'kreatifitasnya saja buat yang jauh apa yang buat kamu kangen bandung', 'suasana sama semua lah buat yang jauh apa yang buat kamu kangen bandung', 'suasana hangat sama tengah dingginya bandung buat yang jauh apa yang buat kamu kangen bandung', 'saung bapak udjo', 'kuliner tempat kuliner', 'suasana sejuk malam hari nyaman senang tenteram', 'air dingin buat yang jauh apa yang buat kamu kangen bandung', 'udara nyaman yang dulu buat yang jauh apa yang buat kamu kangen bandung', 'makan buat yang jauh apa yang buat kamu kangen bandung', 'suasana buat yang jauh apa yang buat kamu kangen bandung renggang', 'banyak bapak makan suasana tempat main jalan jalan tempat sejarah ah pokokna seeur pis', 'suasana', 'buat kangen bandung hawa sejuk jajan', 'buat yang jauh apa yang buat kamu kangen bandung', 'macet buat yang jauh apa yang buat kamu kangen bandung sendat serat', 'bandung bersih hijau bunga buat yang jauh apa yang buat kamu kangen bandung', 'bahkan karakter tidak jawab buat yang jauh apa yang buat kamu kangen bandung', 'bapak apa konsep besar bapak bawah bandung', 'cemilan cemilan na na buat yang jauh apa yang buat kamu kangen bandung renggang', 'buat yang bandung apa sih yang buat tidak ninggalin bandung', 'angkot kuliner saudara juang buat yang jauh apa yang buat kamu kangen bandung', 'dulu iya sekarang mah tau buat yang jauh apa yang buat kamu kangen bandung', 'bau tanah kala hujan orang murah senyum ieu wungkul weh bapak', 'semua buat yang jauh apa yang buat kamu kangen bandung renggang', 'semua isi kota orang orang buat yang jauh apa yang buat kamu kangen bandung', 'anak semarang kuliah uns main itb sudah cukup bwt slalu kangen main sana lagi bapak', 'lumpia basah ma monumen du hehehe buat yang jauh apa yang buat kamu kangen bandung', 'adem alami buat yang jauh apa yang buat kamu kangen bandung cahang campah dingin hambar lindap nyaman sejuk tawar teduh tenang tenteram', 'kangen peuyeumpuannya buat yang jauh apa yang buat kamu kangen bandung', 'cup bahan kertas daur sampah du sampahbiasa', 'ridwan kamil beri sanksi dagang guna styrofoam', 'rutinitas para petugas beres gps wilayah', 'ridwan kamil beri sanksi dagang guna styrofoam ridwan kamil beri sanksi dagang guna styrofoam', 'musda bkprmi kota bandung', 'entah ngefans entah sering liat poster bapak sudah malam mimpi terus bapak', 'mas fadjroel mau ngomong tidak macam dulu', 'harus yang langgar gsb bongkar apalagi tidak plang imb rapuh reput', 'kartar serta anak anak', 'timbun sampah per an astina psr pamoyanan sudah bersih terima kasih bapak walikota pis', 'nah kamu meme dukung ahok edar ridwan kamil yenny wahid ban bukan ucap', 'hai tweeps datang yah sore malam hari acara sukasari culinary night jalan rintis srjadi don miss itu seeuthere', 'fitnah kotor ahoker ridwan kamil yenny wahid bantah meme dukung ahok', 'warga skly maghrib kaji tanam jiwa bersih sejak apik bening cemerlang cerah ceria cermat ikhlas jernih jujur khalis kudus labas licin lindang lingkap ludes mukhlis murni mustakim necis neto nirmala orisinal otentik rapi safa safi sejati sportif steril suci tahir tandas terang tulen tulus tuntas zakiah', 'nah kamu meme dukung ahok edar ridwan kamil yenny wahid ban bukan ilustrasibel', 'tah benar bapak hehe', 'waktu sekarang putus jadi orang pensiun preneur sukses ingat now or never', 'ajar dulu ayo ppst edisi mil selalu jadi orang ajar', 'assalammulaikum selamat pagi sukses hari bismillah', 'akun kata catut nama ridwan kamil yenny wahid dukung suara muhamma', 'periksa tulis dahlan iskan bapak waktu jadi tri bumn bahas bawah unit prestasi kerja luar biasa asing', 'ridwan kamil ajak siswa sepeda makan siang rumah dinas ridwan kamil ajak siswa sepeda makan siang rumah dinas', 'ridwan kamil protes nama catut dukung ahok', 'rajin bike to school ajar sepeda ridwan kamil rajin bike to school ajar sepeda ridwan kamil', 'keren puri kranji regency', 'urban farming', 'mapay lembur rw', 'garden ditrsan bubat', 'bestari cikapundung kolot', 'masa depan pulau jawa kira kira bakal bagaimana kalau kaya begini', 'pimpin usia tua biasa gaptek bapak pikir twitter aplikasi adalah musuh kaya dulu angkut online awam banal cakap elementer formal jamak kaprah kerap kering konvensional lasak lazim lihai lugu lumrah luwes mahir naif natural normal pandai piawai polos populer prosais reguler sederhana sering simpel sipil stereotip terampil umum', 'suka video ridwan kamil penuh cinta hitam putih oktober full', 'ridwan kamil yenny wahid catut meme dukung ahok', 'sharakhah banget mah musti kaji ulang peraturan daerah selenggara rw tidak sigana mah wajib', 'malam makin sunyi hati gerak untuk tanya share alat fotografi bapak inisial juga kalau khwatir sebut merk', 'surat himbauan kelurahan kecamatan terus rw benah dulu pondasinya baru indah muka', 'alhamdulillah bapak produk awal jual pakai paper cup khusus makan istimewa khas utama', 'lapor bapak kakek status', 'benar bapak andi bilang pajak bumi bangunan bayar per kartu keluarga bahaya ini tanda akhir jaman aci adil akurat betul etis faktual hak imbang jujur legal loyal lugu lurus mustakim naif nyata pasti persis piawai polos real resmi sadik sahih sejati sempurna sepadan sesuai setia sungguh tepat valid', 'liat via televisi od cerita inspirasi bangga punya bapak kaya begini kenyal pekat angkuh bagak besar hati besar kepala bongkak congkak gagah mangkak megah panggak pongah sombong tinggi hati', 'tidak sekali pakai foto albert einstein hhaha', 'bapak emil mungkin sangka orangtuanya upin ipin bapak', 'sosialisasi saja tidak usah tanya lokasi beri suluh kecamatan kelurahan mutlak patuh rw kelompok linmas jahil seenaknya', 'lucu ini orang', 'info mayor ridwan kamil is banning styrofoam food packaging from bandung', 'ridwan kamil is banning styrofoam food packaging from bandung', 'ridwan kamil protes catut meme dukung ahok', 'mau ngamen jual asong jalan sekarang boleh', 'kenapa daerah pernah bantu peser buat lancar pesta rakyat sambut merdeka republik indonesia', 'kata perintah beri biaya besar buat karang taruna lurah', 'formasi baik persib mata ridwan formasi baik pernah milik persib versi bapak emil', 'formasi baik persib mata ridwan kamil', 'okezonenews formasi baik persib mata ridwan kamil status ampuh apik asri ayu bagus bahari cantik cegak efektif efisien elok enak gagah hangat hasan indah jujur lurus manis manjur molek mujarab mujur mustajab normal patut produktif ramah rancak rapi santun sehat sopan sosial tampan terpuji tertib tokcer', 'ccin buyungkiu ridwan kamil risma aher ganjar karwo banyak kada yang bahasa santun namun tidak korupsi', 'assalammualaikum punten bade tumaros bapak bu perkawis sekolah smp negeri yang mau terima murid pindah gratis', 'baik persib mata ridwan formasi baik pernah iaxmur', 'ridwan kamil risma aher ganjar karwo banyak kada yang bahasa santun namun tidak korupsi kerja bagus status banter belacak berjebah berlebihan besar deras jamak jenuh lebat luas melacak melimpah mumbung munjung padat penuh ramai', 'ridwan kamil janji bonus persib juara piala bhayangkara kamil janji bonus persib juara piala', 'ridwan kamil final piala bhayangkara tetap gbk', 'ayo dukung bangun pesantren kreatif dengan wakaf dompet ihaqi peduli desain pesantren by', 'lha koq', 'assalammulaikum selamat pagi sukses hari bismillahirrahmanirrahim aheryawan', 'ridwan kamil final piala bhayangkara tetap gbk walikota bandung ridwan kamil ingin final piala', 'ridwan kamil galau tonton persib dinas luar negeri berat otak bergalau bimbang bingung cemas gelisah kacau karut keruh khawatir kusut nanar resah ribut risau senewen sesat pusat', 'jalan santai warga dalam hari ulang tahun republik indonesia', 'tempat sampah yang tidak jadi bingung malam buang sampah he he sekarang luas arcamanik sudah tidak', 'abang hhahaa bapak kapan cicadas culinary night', 'juang masa baksil jadi tempat pembuangan sampah mohon ridwankamil', 'bersih dago perlu tiru ini', 'kereta patas stasiun cimekar lebih menit yang mau upacara resah bapak xixixi jadwal', 'bapak sistem gps gerak pungut sampah laku sekolah masing kan nah gps hanya laku area skolah luar', 'suasana yang kurang aman masih banyak kendara lintas mohon bantu invalid sedikit', 'bapak indonesia ultah dong bapak', 'selamat pagi bapak kemarin sekolah ada giat gerak pungut sampah beberapa foto', 'satu buat', 'senirajawali hasil kolaborasi seniman', 'isi merdeka budaya buang sampah tempat selamat pagi bapak bantu', 'nk pernah kibar bendera merah putih kota bandung asal cianjur selatan', 'terima kasih bapak atas baik jalan maranata sekarang road hehe', 'bapak kapan cicadas culinary night', 'kata bapak indonesia surga indah sarat masalah karnanya cinta negeri dengan aksi solusi dirgahayu indonesia', 'via raya merdeka republik indonesia dengan tidak nyampah kurang sampah leluasa sesuka hati', 'bapak rangka merdeka kaya bagus kalau lomba', 'this is thing in my city now ref tapi', 'kab kota salahsatunyakotabandung turut meriahkanacarahelaransenibudayadlmrangkahut', 'bapak kakak perempuan ulangtahun cepat pulang kakak perempuan mau ucap ulangtahun sama bapak', 'selamat hari ulang tahun republik indonesia indonesia merdeka semoga rakyat sejahtera bandung juara sehat', 'bapak punten teu tiasa ngiringan upacara kumargi piwarang damel aku atas punten pis bapak sateuacana ulan we atas abi', 'jalan depan astana baru rusak sedikit padahal mah bapak aduh serasa lewat jalan dusun pinggir kota aktual anyar gres hangat junior kontemporer modern mutakhir segar terakhir trendi', 'kakak perempuan teh mau ucap sama ridwan bapak aku suka', 'juta aduh bagaimana juragan ini lokal cetak juragan coba tanya sama sm brodexin yang papatong saja juragan', 'ayo siap simak cerah guru kiyai', 'seniman rajawali akan tolak pedagang kaki lima', 'senimanhelaranrajawali turutmeriahkanacaramilangkala esok sama kota kab lain', 'gasibu moal bapak loh', 'rute kirab mohon maaf apabila jalan hambat infobdgevent', 'tweet aku cuma quote doang sama ridwan kamil tetep mention yang masuk banyak', 'terima kasih bapak ridwan kamil sudah mampir stand dengan pic', 'tonton livestreaming luncur kanal kpktv dialog dengan ahok risma ridwan kamil', 'inna lillahi wa telah pulang rahmatulloh ket tapi pkk kelurahan padasuka kecamatan cibeunying kidul jam wib', 'sae bapak tuntaskeun heula ngawangun kota bandung beres nembe ngiring icikibung jempol kanggo bapak walikota', 'narsis bapak', 'situasi depan gedung sate', 'bapak aku', 'bapak dong kaya begini ganjar pranowo marah sidak kuman negara mem subur', 'buat dari', 'mantepp bapak erwinmadmoron merdeka inisoenda', 'canang gerak sholat shubuh jamaah mesjid alun alun bandung', 'gerak subuh jamaah sama bapak wali kota serta jajar', 'live ridwan kamil laksana salat subuh', 'cang gerak shalat subuh jamaah kota bandung mesjid raya jawa barat awam', 'syukur semoga depan semua kebun binatang indonesia lagi jumpa kasus', 'ridwan kamil meski sering tengil tapi bisa jaga marwah wibawa sebagai walikota baik hadap warga maupun terjadap pegawai negeri sipil yang pimpin', 'cari solusi yang santun untung pihak yang rugi moga allah swt beri yang baik sopan', 'dengan berita hoax bohong produksi lama', 'asli kalimantan ini harus lindung jangan abai begini wahai bapak menteri', 'buat gua orang depan umum seperti gitu mau ahok mau ganjar pranowo mau cumi cola sama saja tiru ridwan kamil status seenaknya', 'gerak subuh jamaah jan', 'dapat arah bapak wali canang subuh jamaah kota bandung tapi kunaon paling ingat nasi timbel', 'arah bapak walikota ramai dengan subling', 'giat lounching gerak subuh jamaah', 'hopes itu will better if should be take care by goverment but if itu know how to take raeady to be vol', 'kalimat baik diam ridwan kamil', 'barakallahu fiik bapak', 'selamat pagi sehat', 'canang shubuh jamaah lurah mesjid agung bandung', 'giat launcing gerak laksana shalat subuh ridwankamil', 'punteun bapak emil angkot kircon terlalu banyak henti pedagang kaki lima semrawut kendara motor susah lewat klakson diam', 'siap siap ini bapak bismillah ayo', 'ridwan kamil mayor of save the animals of bandung zoo indonesia sign the petition ridwan kamil mayor of bandung save the animals of bandung zoo indonesia recruiter twitter via', 'ridwan kamil curhat facebook soal bonbin beruang kurus tandus', 'sosialisasi shalat shubuh jamaah masjid urus ulama', 'ridwankamil', 'bapak mohon periksa lampu pju jalan panca tengah raya padam lama padam', 'this popped up on facebook and immediately thought of bandung if funds are required to help the bears let work together', 'kalau bukan sekarang kapan kalau bukan siapa hehahahahahah gadungan lain lancung gadungan lain lancung', 'that so nice of you to say but he did all the hard work', 'bapak ridwan boleh email', 'hidup sekali jangan tua karya inspirasi ridwan kamil kuno pekat', 'semakin banyak yang campaign macam begini bagus banter belacak berjebah berlebihan besar deras jamak jenuh lebat luas melacak melimpah mumbung munjung padat penuh ramai', 'karena kalau tidak wacana begini secara blow up yang luas mungkin tidak akan pernah mulai subuh brjamaah sekedar manfaat sosmed begitu', 'memang kalau liat sisi seperti pamer ibadah tapi tengah kondisi muslim sekarang yang mungkin sudah gitu jarang subuh jamaah bagus benar-benar', 'mungkin supaya pantau saja kalau tingkat sampai subuh tiap hari arti gerak hasil karena sudah jadi biasa seenaknya saban', 'kalau aku lebih pilih presiden', 'terima kasih bapak wali assalamualaikum', 'lah yang percaya allah untuk lindung dari segala bentuk aniaya bahkan yang laku perlahan', 'rasa malu malu karena peluk agama yang paling sempurna tapi sering abai supaya zalim depan mata komplet lengkap terbaik tuntas kerap langsing ramping alpa cabar ceroboh cuai gegabah khilaf lalai leler lengah sembarangan sembrono serampangan silap teledor', 'murak tumpeng atas berkah usia ketua kartaranum wilujeng barokah', 'karena walaupun mnyelamatkn ekor hewan tapi selamat bagi dari keluarga mereka sendiri masya allah harus', 'selamat ekor hewan begitu haru bahkan sentuh bagi dalam nurani', 'tanam sifat kasih sayang yang lebih kepada umat isa as bukti sering lihat sifat sifat mulia heroik tertinggi', 'sebagai orang islam aku karena tersebut telah sebut dalam kitab suci al quran yang bunyi', 'atau beri kb yang kelola nasrani yang mereka lebih sayang hadap banding orang islam sendiri', 'karena sudah sangat lapar bagaimana bapak siapa kira yang tutup kbb balik habitat mula', 'dengan kasus yang sama lihat beruang madu makan kotor sendiri', 'sekitar tahun yang lalu lihat tidak mampu dalam laku hewan', 'bapak kalau boleh usul kebun binatang bandung mending tutup bapak daripada puluh tahun tidak becus tetap jadi', 'jangan ngamuk', 'andai saja bapak jadi calon presiden bapak kalah', 'pimpin periksa dulu masalah jangan langsung ngamuk tepat', 'kerja yang paling senang dunia hobi bayar ridwan kamil', 'pimpin bina organisasi ngamuk', 'mohon sangat depan hindar pimpin ngamuk', 'lebih sayang uang hutan ayo ikut mal nasinal ridwan kamil loh status photo', 'pasar kosambi bandung tidak awat', 'enak kirim link upload lalu twitter imel bapak aman asyik baik basah eco empuk gurih legit lembut lezat merdu mujur naim nikmat nyaman puas pulas sedap segar seronok sip sreg tenteram wangi', 'selamat pagi selamat jalan tugas untuk bapak ibu', 'manfaat air hujan bapak harap bapak lihat beri testimoni karya proyek bapak', 'ieu rek demo saritem dijadikeun pasar emas insansentanu demokeun ulah', 'tempat bapak', 'asyik dkt cibiru bandung timur malam bahagia sama', 'bapak bagaimana dadak kapolsek kasih ijin teh sontak', 'kalau panyileukan bapak ridwan tempat teh', 'bahaya bapak tukang dagang main sekolah dasar deket rumah yang jual main jumanji bapak', 'wilujeng enjing selamat pagi semoga hari karunia lupa tetap tertib jalan empat pada orang', 'tempat teh', 'warga bandung timur malam bahagia sama', 'cibiru apa panyileukan culinary night', 'obama jokowi ridwan kamil berkah jokowi ridwan kamil berkah', 'cibiru warga bandung timur malam bahagia sama', 'tutup pakai kardus', 'bapak mohon bantu warga bojongloa kaler hari air pdam alir rumah kurang air bapak invalid sedikit', 'acara ngehalangin jalan pulang jadi pulang hari', 'kalau bandung suruh hari kamis saja lyd kalau anak sg yang bisa bahasa indonesia kan bapak seenaknya', 'jadi bakar coblong', 'periksa favorite teh nuhun bapak ai cibiru culinary night teh dimana tempat na bapak nuhun', 'terima kasih bapak buat datang kemarin moga jumpa lain waktu agenda ngaji bareng mungkin', 'bapak kalau tempat pembuangan sampah bungur tutup warga buang sampah mana deket nuhun infona', 'dahlan iskan ngamuk tol ridwan kamil kesal sampah', 'walikota bandung direktur utama launching logo pasar sae', 'kasusna angger keneh meuli gas angger eusina meunang nu tengah deui segel keneh', 'bapak mau usul salah satu syarat izin pedagang kaki lima sedia keranjang suka', 'tonton ayo karena sangat sarat dengan informasi', 'bakar kios jalan cihampelas sudah selesai unit damkar balik kanan mako', 'ridwan kamil keluar kartu pedagang kaki lima anti rentenir', 'ridwan kamil kartu pedagang kaki lima read bagi kartu pedagang kaki lima ridwan kamil upaya dagang bebas rentenir', 'publikasi dokumentasi jadi', 'yess salute lokalisasi saritem bandung bakal ubah jadi pasar emas', 'dinas bakar terjun unit pancar unit selamat sehat', 'rugi rurut milik tahu taksir juta', 'asal mula api duga konseleting listrik jadi awal pukul', 'kaca wonkblog wp the solutions to all our problems may be buried in pdfs that nobody reads coba pdf', 'bakar hangus buah kios luas area', 'pagi yang hormat selamat kerja keras mlayani rakyat hidup sederhana kurang nikmat pribadi sehat', 'malam pulang jakarta jam stop pasteur pintu tol bas amen mulai why', 'bapak camat tahu pernah aktif tuch', 'jalan yunus tambah awal tahun bulan sudah hancur alas hujan', 'kendali bakar jalan cihampelas yang bakar kios samping hotel promenade aston', 'bagaimana bapak', 'tedxbandung ridwan kamil saving cities dengan urban', 'dengan selfie time', 'foto perhati ada pasca tanding persib vs persija mei lalu', 'we are smarter than', 'eks lokalisasi saritem jadi pasar emas ridwan kamil', 'negeri butuh banyak pemuda cari solusi bukan pemuda maki maki ridwan kamil gadungan lain lancung yuwana', 'larang ridwan kamil grab taxi beri klarifikasi', 'bapak tong hilap ayeuna dinten', 'retweeted lintang creativework beliau orang', 'retweeted lintang creativework beliau bapak orang', 'tahun jabat walikota bandung ridwan kamil beres macet tahun jabat walikota bandung ridwan kamil beres macet apik bagus baik bersih betul kemas langsai mulus normal rapi sempurna tertib tuntas', 'wilayah bangun pool diskar jadi sangat jadi langsung evakuasi teruk', 'assalammulaikum dan selamat pagi sukses semua hari', 'alhamdulillah event selesai terima kasih to masyarakat bandung', 'pagi bapak ridwan tarif dasar anak sekolah berapa kasih minta naik jadi repot bapak', 'mq headline tahun ridwan kamil pimpin bandung', 'memang tapi bapak emil punya follower orang peduli siapa tau viral sampe jabat tempat benar-benar', 'ridwan bandung jadi tuan rumah hari antikorupsi desember datang ridwan kamil bandung jadi tuan rumah hari antikorupsi desember datang', 'selamat pagi salam kenal', 'salam tempel no way', 'taman jalur hijau sebagai bagi tata kawasan metro asri tertib rapi sopan', 'perkemb tata taman jalur hijau jalan venus raya rw metro pippk kelurahan manjahlega', 'taat atur dengan bangun bangun ijin tanah pu', 'dukung tahan pangan sudah layak lahan tani produktif mulia pantas patut terhormat wajar', 'bbws citarum atas eru sedimen sungai cidurian yang lintas kelurahan manjahlega', 'nuhun bapak heri atas dedikasi jaga rawat rumah pompa lingkung', 'jangan maju ridwan kamil pemilihan gubernur dki ahok maju pilpres bahaya', 'dengan telah bangun rumah pompa harap buang air hujan besar agam agung akbar banyak berdus boyas buncit buntal dewasa dominan gadang gede gemuk gendut hebat kuat lapang lebar longgar luas luhur mahal mulia raya super tegap tinggi', 'ridwan kamil bakal saing kamil bakal saing ahok', 'perlu baik titik tanggul salur yang rusak tuju rumah pompa rw kelurahan', 'rumah pompa kendali banjir bantu dbmp kota bandung rw', 'ridwan kamil bakal saing ahok kamil bakal saing ahok', 'terus juang kuat tenaga anak bangsa awet keras nyaring', 'bayar telat telat gulung tikar paksa bapak banyak kelit malah rugi banter belacak berjebah berlebihan besar deras jamak jenuh lebat luas melacak melimpah mumbung munjung padat penuh ramai', 'wilujeng kanggo wargi sadaya oge bapak', 'giat gps pems bendera bandung senin', 'follow back bapak wali', 'bohong bongak dusta', 'join me in urging and to stop dishub and polda metro jaya from arresting uber drivers', 'testimonial ping baked food memang benar kata ridwan kamil kerja paling senang betah gembira mudah praktis sayang suka tenteram', 'banjir bandang asal jangan banjir bandung', 'rapat siap hjkb rencana giat bersih', 'okezonenews ridwan kamil ajak rakyat indonesia doa timnas hwc status', 'ridwan kamil pilih jadi salah satu walikota baik forum young leader sumposium world cities summit singapura gnfi ampuh apik asri ayu bagus bahari cantik cegak efektif efisien elok enak gagah hangat hasan indah jujur lurus manis manjur molek mujarab mujur mustajab normal patut produktif ramah rancak rapi santun sehat sopan sosial tampan terpuji tertib tokcer', 'bapak libat lurah camat pantau wilayah', 'road to final tenis lap affirmasi baik untuk mohon doa bapak', 'nuhun bapak jalan tb ismail sekarang mulus ujung ujung tinggal tertib pasar simpang ini dagang mau masuk halus jujur lancar tulus', 'polisi sudah jam jalan ciwastra macet cor kendara alih belakang psr', 'contoh tl bandung lampu off laswi gatsu cacat', 'wilujeng enjing baraya cuaca antapani cerah beton jalan dua lajur selesai htur nuhun bapak emil baik bening bersih calak cemerlang ceria jernih marak retak terang', 'macet cor jalan ciwastra kendara alih belakang pasar polisi sudah jam', 'bapak aya pungli kamar dinas duduk legalisir aya bahasa saridona enya sih saridona tapi miris', 'pelan bapak wali lambat rendah', 'bapak fly over kiaracondong arah gatsu suka pakai putar balik pagi polisi yang atur memang bapak', 'bapak ridwan kamil prioritas seperti sarana transportasi bersih', 'bapak saya prihatin lihat aksi topeng monyet prapatan jalan bukan sudah masuk eksploitasi binatang apa bisa tertib bapak rapi sopan', 'mantap bapak camat apa kabar bapak kuat kukuh stabil', 'selamat subuh hidup makin barokah kawan sehat', 'loba operasi ayenamah subuh ge smga bandung lebih aman nuhun bapak polisi nuhun bapak walikota hening lega mantap pasti sejahtera selamat senang sentosa sip tenang tenteram', 'bapak kapan bandung tempat khusus drift mobil balap motor anak bandung salur hobby benar', 'ridwan kota bandung susah raih piala adipura tribunnews miskin papa sukar', 'tapi semua anjing ganggu juga yang takut pilih bagaimana kan atur cfd memang gitu iya bapak', 'ridwan kota bandung susah raih piala walikota bandung ridwan kamil aku berat mera', 'ridwan kota bandung susah raih piala adipura miskin papa sukar', 'tiru good bandung mulai unggah rapat rapat internal ridwan feature overview list karib karib', 'sampah tebar ridwan kota bandung susah raih piala adipura miskin papa sukar', 'tribun ridwan kota bandung susah raih piala walikota bandung ridwan kamil aku miskin papa sukar', 'bandung fashion ridwan kota bandung susah raih piala adipura tribunnews miskin papa sukar', 'program kerja ridwan kamil bandung', 'buat mudah ridwan kota bandung susah raih piala adipura', 'asyuujeh sudah keluh euy ridwan kota bandung susah raih piala adipura terdahulu', 'sudah keluh euy ridwan kota bandung susah raih piala adipura terdahulu miskin papa sukar', 'hahaha the jakartanese are the problem ridwan kota bandung susah raih piala adipura miskin papa sukar', 'mohon support event international yang ada bulan november', 'ridwan kota bandung susah raih piala walikota bandung ridwan miskin papa sukar', 'ridwan kota bandung susah raih piala walikota bandung ridwan kamil meng', 'lagi cari bapak emil muncul mulai yang kecil karena semua yang besar awal yang kecil ibu erot', 'ridwan kota bandung susah raih piala adipura benar miskin papa sukar aci adil akurat betul etis faktual hak imbang jujur legal loyal lugu lurus mustakim naif nyata pasti persis piawai polos real resmi sadik sahih sejati sempurna sepadan sesuai setia sungguh tepat valid', 'ridwan kota bandung susah raih piala walikota bandung ridwan kamil aku bera miskin papa sukar', 'susah vikjing itu itu itu ahahaha ridwan kota bandung susah raih piala adipura', 'budak sekolah dasar saja bis begini kamu bapak seenaknya', 'bapak mahasiswa unpad naik bus damri dari nangor du tagih ditindaklanjuti gitu', 'terima kasih sudah sih kota cinta ridwankamil sampah', 'bapak walikota tuju', 'kamil wilujeung enjing bapak emil mau usul bagaimana kalau mobil plat larang masuk supaya terima kasih lancar fasih luntur', 'bapak yang gaji bidan ptt juga naik tau saya juga bawah umr kota bandung', 'bawah telapak kaki pemuda letak taruh maju mundur buah bangsa pepatah arab', 'nanti malam bapak ridwan kamil talkshow net', 'penting lari pagi jangan lari nyata ridwankamil cari sama bapak walikota utama', 'bismillah final bapak kota bandung final ieu tonton bapak meh sumanget', 'alhamdulillah basket putri kota bandung raih medali', 'duh masih seperti sangat parkir langsung buang sampah semoga mulai des', 'bapak datang ikut sebentar serta tuju kampus', 'sampurasun pkk minggu pedagang kaki lima sikap naik harga bbm', 'hahhaa ngemis itu kaya bagaimana muka pegemis mah', 'kakak follow open follow back lho', 'bpjs untuk layan uang nyata atas ridwankamil', 'baru ngeh ada yang beda dengan gasibu lbih tata ssuai fungsi wlau saya bukan orang bandung salut lah am bapak gadungan lain lancung', 'siap pane ran gps car free day ridwankamil', 'gps car free day', 'kalau sih memang mirip bapak david noah hehee', 'siap pane ran car free day', 'mohon alangkah bijak guna dana rakyat jakarta bapak bantu bapak sungguh', 'pasar seni kali masuk jadi larang rokok', 'gerak pungut sampah kawan pasca tanding gymnasium upi', 'tonton bapak jam talkshow salam buat bapak emil', 'bapak dii bebas asap rokok jadi pasar seni ulang kabut rokok genius', 'ahok emil sepakat ganti sama rusa bus bobotoh', 'kakak follow akun tweet romantis lho kakak', 'neu eta papa hendrik ningalikeun bapak enakeun yah niis tam malu hehe status photo miskin', 'ahok tebus dosa ridwan kamil rupiah juta', 'harga bbm naik ridwan kamil banyak bus sekolah', 'bus bobotoh rusak ahok janji bantu ridwan kamil bayar biaya rugi binasa busuk', 'hari iniiii pagi cfd mahasiswa ril itb dtg ramai kampanye perawatannpohon ridwankamil', 'bapak benar aci adil akurat betul etis faktual hak imbang jujur legal loyal lugu lurus mustakim naif nyata pasti persis piawai polos real resmi sadik sahih sejati sempurna sepadan sesuai setia sungguh tepat valid', 'idiiiih malu deh sudah hina jakarta minta ganti rugi nye jakarta cowo bukan terdahulu aib buruk cemar ceroboh daif dina jelata keji kotor laif lemah leta lucah nista rendah rucah gadungan lain lancung', 'ridwan kamil ahok bahas the jakmania bobotoh', 'ikut pelihara pohon ayo gorila gorilaction mahasiswa ril itb', 'auto tweet bijak menit sekali', 'aku beri nama brajamusti', 'tanding boxing pasar seni soleh sundava vs ridwan kamil pic genius', 'alun alun bandung revitalisasi besar besar bagaimana nasib pedagang kaki lima via agam agung akbar banyak berdus boyas buncit buntal dewasa dominan gadang gede gemuk gendut hebat kuat lapang lebar longgar luas luhur mahal mulia raya super tegap tinggi agam agung akbar banyak berdus boyas buncit buntal dewasa dominan gadang gede gemuk gendut hebat kuat lapang lebar longgar luas luhur mahal mulia raya super tegap tinggi', 'mana hijau bandung iseng coret coret abis shalat subuh duka kunaon gambarna jadi kieu canggih jail benguk gelebah gelisah gobar hati gundah kecewa kesal kusut muka lara malang masygul muram murung nestapa pilu prihatin sungkawa susah hati', 'ayo fans talk show follow', 'bapak punten ai taman cicaheum naha mni kieu hideung asa sareksek barau elem bambu mun pasang wifi enak jigana bapak aman asyik baik basah eco empuk gurih legit lembut lezat merdu mujur naim nikmat nyaman puas pulas sedap segar seronok sip sreg tenteram wangi', 'ciee minta ganti rugi duit juara bus bobotoh rusak ahok janji bantu ridwan kamil bayar biaya rugi binasa busuk', 'jalan imam bonjol', 'bbb bebegik bandung ngusir teu nyaah ka bandung hush hush', 'minta follow back', 'bus bobotoh rusak ahok janji bantu ridwan kamil bayar biaya rugi via binasa busuk', 'villa pranata lembang terima kasih buat ibu keluarga fasilitas', 'bus bobotoh persib rusak jakarta ahok janji ganti ridwan kamil kompas binasa busuk', 'dpd golkar jawa barat beri ridwan kamil ultimatum dpd golkar jawa barat beri ridwan kamil ultimatum', 'baya main bandung ridwan kamil imbau bonek santun php id sopan', 'giat yanmas satlinmas lurah dunguscariang jalan rajawali timur aktif getol intensif langkas rajin repot', 'ridwan kamil minta bonek jadi tamu baik bandung ridwan kamil minta bonek jadi tamu baik bandung ampuh apik asri ayu bagus bahari cantik cegak efektif efisien elok enak gagah hangat hasan indah jujur lurus manis manjur molek mujarab mujur mustajab normal patut produktif ramah rancak rapi santun sehat sopan sosial tampan terpuji tertib tokcer', 'ridwan kamil minta bonek jadi tamu baik bandung', 'sehat aplikasi guna dokter dokter puskesmas konsultasi kena masalah medis ribu dokter daftar belum positif waras', 'atas tumpah jumlah pasien rumah sakit sebab bentuk antre pasien pemerintah kota bandung baru melaunching aplikasi sistem elektronik aplikasi rujuk padu sehat kompak padat pejal', 'hadir bbc sembah hibur masyarakat hadir walikota bandung bapak ridwan kamil serta istri', 'orang tasik harapansaya moga uu bapak malah bagus kalau sama bapak apik bagusan bahari baik cakap cantik cemerlang elok gagah indah keren molek mungil necis perfek rancak rupawan tampan', 'kapolsekta gedebage kompol sumari selasa malam nasi bungkus kepada baya psis yang sudah datang gbla terdahulu', 'keceee', 'reaksi ridwan kamil kabar dukung lgbt reaksi ridwan kamil kabar twitter', 'reaksi ridwan kamil kabar dukung lgbt', 'reaksi ridwan kamil kabar dukung lgbt reaksi ridwan kamil kabar dukung lgbt', 'pki juang hahahaha', 'sampurasun wilujeng enjing wargi rancanumpang punten tonk helove dinten rebo bersih gps apik bening cemerlang cerah ceria cermat ikhlas jernih jujur khalis kudus labas licin lindang lingkap ludes mukhlis murni mustakim necis neto nirmala orisinal otentik rapi safa safi sejati sportif steril suci tahir tandas terang tulen tulus tuntas zakiah', 'kendala yang mungkin siapa yang bayar tiap konsultasi spesialis pemerintah kota bpjs pasien mungkin spesialis sukarela layan konsul saban manasuka', 'ridwan bonek jangan gelandang bandung pikir pikir rakyat', 'status', 'memang kudu pks benar-benar', 'gerak subuh jamaah rw rw dunguscariang', 'usung ridwan kamil golkar tabur benih pecah internal dalam domestik intern privat', 'hidup pilih sama pilih selalu saling jelek ridwan kamil sering jahat', 'wakakaa nabi muhammad bawa bawa beda jauh kakak bodoh ente pelihara itu jilat dulu pantan stamara baru ngomong ente huahahaah renggang bambung bebal bego beloh berat kepala bingung bloon bongak bongkong buta debil dogol domot dongok dungu goblok imbesil jahil konyol lemah lompong odoh pandir pendek akal picik pilon pongah pusung sementung singkat akal teledor terbelakang tolol tongong', 'saya dukung pk ridwan kamil', 'ridwan kamil aku kumpul parpol usung mudah gampang suang', 'ridwan kamil aku kumpul parpol usung mudah ridwan kamil aku kumpul', 'nasdem partai dukung ridwan kamil jangan paksa cawagub jakarta partai nasdem salah', 'walikota bandung ridwan kamil calon gubernur jawa barat', 'alas nasdem bebas ridwan kamil pilih cawagub jakarta ketua umum partai nasdem', 'warga bandung sekitar bapak bapak akang temen temen lama babak besar permisi awal bangga rumah kalian sekaligus silaturahmi salam satu nyali wani kuno tradisional usang agam agung akbar banyak berdus boyas buncit buntal dewasa dominan gadang gede gemuk gendut hebat kuat lapang lebar longgar luas luhur mahal mulia raya super tegap tinggi angkuh bagak besar hati besar kepala bongkak congkak gagah mangkak megah panggak pongah sombong tinggi hati', 'alas rkih dukung duet maman imanulhaq bapak emil pemilihan gubernur jawa barat', 'pemilihan gubernur jawa barat ridwan kamil desak segera tentu cawagub lekas-lekas pantas tergesa-gesa', 'dasar dungu nabi muhammad saw saja paman kafir bawa bawa jadi kafir batas teman orang korup ahmak bagal bambung bebal bego beloh berat kepala bingung bodoh bongok debil dongok dungkul goblok hamik hampa pandir pilon pongah sementung tolol', 'murder status', 'murder', 'makan bareng warmis bsm bapak camat cibiru selasa', 'rapat koordinasi sama urus pkk selasa karib']\n"
     ]
    }
   ],
   "source": [
    "for i in data['text']:\n",
    "    Texts.append(i)\n",
    "print(Texts)"
   ]
  },
  {
   "cell_type": "markdown",
   "metadata": {},
   "source": [
    "<h1>Memberikan bobot pada setiap kata di Dataset<h1>"
   ]
  },
  {
   "cell_type": "code",
   "execution_count": 38,
   "metadata": {},
   "outputs": [
    {
     "name": "stdout",
     "output_type": "stream",
     "text": [
      "(544, 956)\n",
      "[[0. 0. 0. ... 0. 0. 0.]\n",
      " [0. 0. 0. ... 0. 0. 0.]\n",
      " [0. 0. 0. ... 0. 0. 0.]\n",
      " ...\n",
      " [0. 0. 0. ... 0. 0. 0.]\n",
      " [0. 0. 0. ... 0. 0. 0.]\n",
      " [0. 0. 0. ... 0. 0. 0.]]\n"
     ]
    }
   ],
   "source": [
    "from sklearn.feature_extraction.text import TfidfVectorizer\n",
    "\n",
    "tfidf_vectorizer = TfidfVectorizer(max_df=0.95, min_df=2)\n",
    "tfidf = tfidf_vectorizer.fit_transform(Texts)\n",
    "print(tfidf.shape)\n",
    "\n",
    "matrix_tfidf = tfidf.toarray()\n",
    "print(matrix_tfidf)"
   ]
  },
  {
   "cell_type": "markdown",
   "metadata": {},
   "source": [
    "<h1>Memisahkan antara Data Training dengan Data Testing<h1>"
   ]
  },
  {
   "cell_type": "code",
   "execution_count": 39,
   "metadata": {},
   "outputs": [
    {
     "name": "stdout",
     "output_type": "stream",
     "text": [
      "[[0. 0. 0. ... 0. 0. 0.]\n",
      " [0. 0. 0. ... 0. 0. 0.]\n",
      " [0. 0. 0. ... 0. 0. 0.]\n",
      " ...\n",
      " [0. 0. 0. ... 0. 0. 0.]\n",
      " [0. 0. 0. ... 0. 0. 0.]\n",
      " [0. 0. 0. ... 0. 0. 0.]]\n",
      "[[0. 0. 0. ... 0. 0. 0.]\n",
      " [0. 0. 0. ... 0. 0. 0.]\n",
      " [0. 0. 0. ... 0. 0. 0.]\n",
      " ...\n",
      " [0. 0. 0. ... 0. 0. 0.]\n",
      " [0. 0. 0. ... 0. 0. 0.]\n",
      " [0. 0. 0. ... 0. 0. 0.]]\n",
      "jumlah data traning =334\n",
      "jumlah data test = 210\n"
     ]
    }
   ],
   "source": [
    "total_data_training = len(Dataset)\n",
    "\n",
    "x_train = matrix_tfidf[0:total_data_training,]\n",
    "x_test = matrix_tfidf[total_data_training:len(Texts),]\n",
    "\n",
    "print(x_train)\n",
    "print(x_test)\n",
    "\n",
    "print(\"jumlah data traning =\"+ str(len(x_train)))\n",
    "print(\"jumlah data test = \"+ str(len(x_test)))"
   ]
  },
  {
   "cell_type": "markdown",
   "metadata": {},
   "source": [
    "<h1>Menerapkan Metode Naive Bayes<h1>"
   ]
  },
  {
   "cell_type": "code",
   "execution_count": 40,
   "metadata": {},
   "outputs": [
    {
     "name": "stdout",
     "output_type": "stream",
     "text": [
      "MultinomialNB(alpha=1.0, class_prior=None, fit_prior=True)\n"
     ]
    }
   ],
   "source": [
    "from sklearn.naive_bayes import MultinomialNB\n",
    "mnb = MultinomialNB()\n",
    "model = mnb.fit(x_train, Labels)\n",
    "print(model)"
   ]
  },
  {
   "cell_type": "markdown",
   "metadata": {},
   "source": [
    "<h1>Menentukan Kelas setiap Tweet dari Data Testing<h1>"
   ]
  },
  {
   "cell_type": "code",
   "execution_count": 41,
   "metadata": {},
   "outputs": [
    {
     "name": "stdout",
     "output_type": "stream",
     "text": [
      "[1 1 1 1 1 1 1 1 1 1 1 1 1 1 1 1 1 1 1 1 1 1 1 1 1 1 1 1 1 1 1 1 1 1 1 1 1\n",
      " 1 1 1 1 1 1 1 1 1 1 1 1 1 1 1 1 1 1 1 1 1 1 1 1 1 1 1 1 1 1 1 1 1 1 1 1 1\n",
      " 1 1 1 1 1 1 1 1 1 1 1 1 1 1 1 1 1 1 1 1 1 1 1 1 1 1 1 1 1 1 1 1 1 1 1 1 1\n",
      " 1 1 1 1 1 1 1 1 1 1 1 1 1 1 1 1 1 1 1 1 1 1 1 1 1 1 1 1 1 1 1 1 1 1 1 1 1\n",
      " 1 1 1 1 1 1 1 1 1 1 1 1 1 1 1 1 1 1 1 1 1 1 1 1 1 1 1 1 1 1 1 1 1 1 1 1 1\n",
      " 1 1 1 1 1 1 1 1 1 1 0 1 1 1 1 1 1 1 1 1 1 1 1 1 1]\n"
     ]
    }
   ],
   "source": [
    "predict = model.predict(x_test)\n",
    "print(predict)"
   ]
  },
  {
   "cell_type": "markdown",
   "metadata": {},
   "source": [
    "<h1>Menampilkan Kelas dari Data Testing yang dilabelkan secara manual<h1>"
   ]
  },
  {
   "cell_type": "code",
   "execution_count": 42,
   "metadata": {},
   "outputs": [
    {
     "name": "stdout",
     "output_type": "stream",
     "text": [
      "[1, 1, 0, 0, 0, 1, 1, 1, 1, 1, 1, 1, 1, 0, 0, 1, 1, 1, 1, 0, 1, 1, 1, 1, 1, 1, 1, 1, 1, 1, 1, 0, 1, 0, 1, 1, 0, 1, 1, 1, 1, 1, 1, 1, 1, 1, 0, 1, 1, 1, 1, 1, 1, 1, 0, 1, 1, 1, 1, 0, 1, 1, 1, 1, 1, 1, 0, 1, 1, 0, 1, 1, 1, 0, 1, 1, 1, 0, 1, 1, 1, 1, 1, 1, 1, 1, 1, 0, 0, 1, 0, 0, 1, 1, 1, 1, 1, 1, 1, 1, 0, 1, 0, 0, 1, 0, 0, 0, 1, 1, 0, 0, 0, 1, 0, 0, 1, 0, 0, 0, 1, 0, 1, 1, 1, 1, 1, 1, 1, 1, 1, 1, 1, 1, 1, 1, 1, 1, 1, 1, 1, 1, 1, 1, 1, 1, 0, 1, 1, 1, 1, 1, 1, 1, 1, 0, 1, 1, 1, 1, 1, 1, 0, 1, 1, 1, 1, 0, 1, 1, 1, 1, 1, 1, 1, 1, 1, 0, 1, 1, 1, 1, 1, 1, 1, 1, 1, 1, 1, 1, 1, 1, 0, 0, 0, 0, 1, 1, 1, 0, 1, 1, 1, 1, 1, 0, 0, 0, 1, 1]\n"
     ]
    }
   ],
   "source": [
    "import pandas as pd\n",
    "raw_data = pd.DataFrame()\n",
    "tmp = pd.read_csv('1tweetTestExLabel.csv')\n",
    "raw_data = raw_data.append(tmp,ignore_index=True)\n",
    "\n",
    "Dataset = raw_data[['text','kelas']].values.tolist()\n",
    "\n",
    "kelas = [col[1] for col in Dataset]\n",
    "print(kelas)"
   ]
  },
  {
   "cell_type": "markdown",
   "metadata": {},
   "source": [
    "<h1>Menghitung Akurasi kelas dari Data Testing(Label Manual) dan Data Testing (Label dengan Naive Bayes)<h1>"
   ]
  },
  {
   "cell_type": "code",
   "execution_count": 43,
   "metadata": {},
   "outputs": [
    {
     "data": {
      "text/plain": [
       "0.7761904761904762"
      ]
     },
     "execution_count": 43,
     "metadata": {},
     "output_type": "execute_result"
    }
   ],
   "source": [
    "from sklearn.metrics import accuracy_score\n",
    "\n",
    "accuracy_score(kelas,predict)"
   ]
  },
  {
   "cell_type": "code",
   "execution_count": null,
   "metadata": {
    "collapsed": true
   },
   "outputs": [],
   "source": []
  }
 ],
 "metadata": {
  "kernelspec": {
   "display_name": "Python 3",
   "language": "python",
   "name": "python3"
  },
  "language_info": {
   "codemirror_mode": {
    "name": "ipython",
    "version": 3
   },
   "file_extension": ".py",
   "mimetype": "text/x-python",
   "name": "python",
   "nbconvert_exporter": "python",
   "pygments_lexer": "ipython3",
   "version": "3.6.3"
  }
 },
 "nbformat": 4,
 "nbformat_minor": 2
}
