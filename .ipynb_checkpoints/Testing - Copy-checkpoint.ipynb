{
 "cells": [
  {
   "cell_type": "markdown",
   "metadata": {},
   "source": [
    "<h1>Membuka 1 Tweet dari File json<h1>"
   ]
  },
  {
   "cell_type": "code",
   "execution_count": 3,
   "metadata": {},
   "outputs": [
    {
     "name": "stdout",
     "output_type": "stream",
     "text": [
      "{'fullname': 'adhy', 'html': '<p class=\"TweetTextSize js-tweet-text tweet-text\" data-aria-label-part=\"4\" lang=\"in\">Duh kang <a class=\"twitter-atreply pretty-link js-nav\" data-mentioned-user-id=\"80323736\" dir=\"ltr\" href=\"/ridwankamil\"><s>@</s><b><strong>ridwankamil</strong></b></a> deklarasi jadian terburu buru,  jd yg niat pdkt jg mundur teratur atuh kang. <a class=\"twitter-timeline-link u-hidden\" data-expanded-url=\"https://twitter.com/VIVAcoid/status/858730030339194881\" dir=\"ltr\" href=\"https://t.co/YzOxHty1kY\" rel=\"nofollow noopener\" target=\"_blank\" title=\"https://twitter.com/VIVAcoid/status/858730030339194881\"><span class=\"tco-ellipsis\"></span><span class=\"invisible\">https://</span><span class=\"js-display-url\">twitter.com/VIVAcoid/statu</span><span class=\"invisible\">s/858730030339194881</span><span class=\"tco-ellipsis\"><span class=\"invisible\">\\xa0</span>…</span></a></p>', 'id': '858749622390472704', 'likes': 0, 'replies': 0, 'retweets': 0, 'text': 'Duh kang @ridwankamil deklarasi jadian terburu buru,  jd yg niat pdkt jg mundur teratur atuh kang. https://twitter.com/VIVAcoid/status/858730030339194881\\xa0…', 'timestamp': '2017-04-30T18:27:19', 'url': '/adhy_bdboy/status/858749622390472704', 'user': 'adhy_bdboy'}\n"
     ]
    }
   ],
   "source": [
    "import codecs, json\n",
    "with codecs.open('tweetsFix.json','r','utf-8') as f:\n",
    "    tweets=json.load(f, encoding='utf-8')\n",
    "    print(tweets[1000])"
   ]
  },
  {
   "cell_type": "markdown",
   "metadata": {},
   "source": [
    "<h1>Preprocessing<h1>"
   ]
  },
  {
   "cell_type": "code",
   "execution_count": 2,
   "metadata": {
    "collapsed": true
   },
   "outputs": [],
   "source": [
    "import re\n",
    "def preprocessing(text=\"\",\n",
    "                  casefolding=True,\n",
    "                  url_add=True,\n",
    "                  username=True,\n",
    "                  removeusername=True,\n",
    "                  removenonalphabet=True,\n",
    "                  removestopword=True,\n",
    "                  stemming=True,\n",
    "                  removehashtag=True,\n",
    "                  removeemail=True, \n",
    "                  removeRT=True,\n",
    "                  removeAdr=True):\n",
    "    if(text!=\"\"):\n",
    "       \n",
    "        if(casefolding):\n",
    "            text = text.lower()\n",
    "            \n",
    "        if(removeRT):\n",
    "            import re\n",
    "            rt= re.compile(r'RT\\D*\\D?\\w+\\W?\\D+')\n",
    "            text = re.sub(rt, ' ', text)\n",
    "        \n",
    "        if(removeusername):\n",
    "            nama = re.compile(\"(?:^|\\s)[＠ @]{1}([^\\s#<>[\\]|{}]+)\", re.UNICODE)\n",
    "            text = re.sub(nama, ' ', text)\n",
    "            \n",
    "        if(username):\n",
    "            user = re.compile(\"[＠ @]{1}([^\\s#<>[\\]|{}]+):\", re.UNICODE)\n",
    "            text = re.sub(user, ' ', text) \n",
    "        \n",
    "        if(removeAdr):\n",
    "            com= re.compile(r'\\w+\\.\\w+\\.*\\w*\\D\\w*')\n",
    "            text = re.sub(com, ' ', text)\n",
    "         \n",
    "        if(url_add):\n",
    "            text = re.sub('http\\S+\\s*', ' ', text)\n",
    "            \n",
    "        if(removehashtag):\n",
    "            hashtag = re.compile(\"(?:^|\\s)[＃#]{1}(\\w+)\", re.UNICODE)\n",
    "            text = re.sub(hashtag, ' ', text)\n",
    " \n",
    "        if(removeemail):\n",
    "            email = re.compile(r'[\\w\\.-]+@[\\w\\.-]+\\.\\w+')\n",
    "            text = re.sub(email, ' ', text) \n",
    "            \n",
    "        if(removenonalphabet):\n",
    "            import re\n",
    "            text = ' '.join(re.findall(r'\\b[a-z]+?[a-z]+\\b',text))\n",
    "    \n",
    "        if(removestopword):\n",
    "            from Sastrawi.StopWordRemover.StopWordRemoverFactory import StopWordRemoverFactory\n",
    "            factory = StopWordRemoverFactory()\n",
    "            Sastrawi_StopWords_id = factory.get_stop_words()\n",
    "            temp = [t for t in re.findall(r'\\b[a-z]+-?[a-z]+\\b',text) if t not in Sastrawi_StopWords_id]\n",
    "            text = ' '.join(temp)\n",
    "        if(stemming):\n",
    "            from Sastrawi.Stemmer.StemmerFactory import StemmerFactory\n",
    "            stemmer = StemmerFactory().create_stemmer()\n",
    "            text   = stemmer.stem(text)\n",
    "    return(text)"
   ]
  },
  {
   "cell_type": "markdown",
   "metadata": {},
   "source": [
    "<h1>Preprocessing pada File json<h1>"
   ]
  },
  {
   "cell_type": "code",
   "execution_count": 4,
   "metadata": {
    "collapsed": true
   },
   "outputs": [],
   "source": [
    "import json\n",
    "\n",
    "filejson=open(\"tweetsFix.json\")\n",
    "data=json.loads(filejson.read())\n",
    "komentar = []\n",
    "kata=[]\n",
    "for item in data[501:800]:\n",
    "    r={}\n",
    "    r['text'] = preprocessing(item['text'])\n",
    "    komentar.append(r)\n",
    "    tweet=r['text'] if 'text' in item else item\n",
    "    \n",
    "    \n",
    "    file = open(\"kamus.txt\", encoding=\"utf-8\", errors='replace')\n",
    "    Teks = file.readlines()\n",
    "    Teks_string=' '.join(Teks)\n",
    "    fix=eval(Teks_string)\n",
    "    \n",
    "    t=\" \",tweet,\" \"\n",
    "    t_string=' '.join(t)\n",
    "    t_jadi=t_string \n",
    "    \n",
    "    for slang, formal in fix.items():\n",
    "        t_jadi = t_jadi.replace(slang,formal)\n",
    "    kata.append(t_jadi)\n",
    "\n"
   ]
  },
  {
   "cell_type": "code",
   "execution_count": 5,
   "metadata": {
    "collapsed": true
   },
   "outputs": [],
   "source": [
    "for i in range(0,299):\n",
    "    for j in range(i+1,299):\n",
    "        if(kata[i]==kata[j]):\n",
    "            kata[j]=\"\"\n",
    "\n",
    "\n",
    "import pandas as pd\n",
    "\n",
    "dt = pd.DataFrame(kata, columns=['text'])\n",
    "\n",
    "dt.to_csv(\"tweetTest.csv\",  encoding='utf-8', index=False)"
   ]
  },
  {
   "cell_type": "markdown",
   "metadata": {},
   "source": [
    "<h1>Membaca Data Testing(Belum diberi Label)<h1>"
   ]
  },
  {
   "cell_type": "code",
   "execution_count": 1,
   "metadata": {},
   "outputs": [
    {
     "name": "stdout",
     "output_type": "stream",
     "text": [
      "                                                  text\n",
      "0      ridwan kamil bakal saing ahok kamil bakal sa...\n",
      "1                terus juang kuat tenaga anak bangsa  \n",
      "2      bayar telat telat gulung tikar paksa bapak b...\n",
      "3             wilujeng kanggo wargi sadaya oge bapak  \n",
      "4      larang ridwan kamil grab taxi beri klarifika...\n",
      "5                giat gps pems bendera bandung senin  \n",
      "6                             follow back bapak wali  \n",
      "7                                             bohong  \n",
      "8      join me in urging and to stop dishub and pol...\n",
      "9      testimonial ping baked food memang benar kat...\n",
      "10         banjir bandang asal jangan banjir bandung  \n",
      "11               rapat siap hjkb rencana giat bersih  \n",
      "12     okezonenews ridwan kamil ajak rakyat indones...\n",
      "13     ridwan kamil pilih jadi salah satu walikota ...\n",
      "14            bapak libat lurah camat pantau wilayah  \n",
      "15     road to final tenis lap affirmasi baik untuk...\n",
      "16     nuhun bapak jalan tb ismail sekarang mulus u...\n",
      "17     polisi sudah jam jalan ciwastra macet cor ke...\n",
      "18     contoh tidak sempurna tl bandung lampu off l...\n",
      "19     wilujeng enjing baraya cuaca antapani cerah ...\n",
      "20     macet cor jalan ciwastra kendara alih belaka...\n",
      "21     bapak aya pungli kamar dinas duduk legalisir...\n",
      "22                                  pelan bapak wali  \n",
      "23     bapak fly over kiaracondong arah gatsu suka ...\n",
      "24     bapak ridwan kamil prioritas seperti sarana ...\n",
      "25     bapak saya prihatin lihat aksi topeng monyet...\n",
      "26                mantap bapak camat apa kabar bapak  \n",
      "27           selamat subuh hidup makin barokah kawan  \n",
      "28     loba operasi ayenamah subuh ge smga bandung ...\n",
      "29     bapak kapan bandung tempat khusus drift mobi...\n",
      "..                                                 ...\n",
      "187    gila nyata kader pks tidak hati semua kacau ...\n",
      "188    ciri khas ambisius sombong tata cara etika r...\n",
      "189    baik mundur kecoh kalau usung bewok hancur s...\n",
      "190    nasdem coba erti alas pdip tarik ridwan kamil  \n",
      "191    apresiasi ibu ani yudhoyono sempat tawar rid...\n",
      "192    ridwankamil lapor bapak selasa rokok tambah ...\n",
      "193                               ayo makin semangat  \n",
      "194    bina petugas kebersihn sekaligus serah honor...\n",
      "195          cara ampuh henti rokok cara ampuh henti  \n",
      "196    jalan olah raga iii caket gsg iraha tos lam ...\n",
      "197                       cikopian heula kasayana ah  \n",
      "198    jalan olah raga iii dekat gsg kapan tos lam ...\n",
      "199                                      amiin bapak  \n",
      "200    woww meeting at twitter hq discussing potent...\n",
      "201    taman cikapundung banyak amen bapak ngamen n...\n",
      "202                                sawangsulna bapak  \n",
      "203    jalan dalem kaum semerawut penuh pedagang ka...\n",
      "204    jalan dalem kaum semerawut penuh pedagang ka...\n",
      "205    jalan dalem kaum semerawut penuh pedagang ka...\n",
      "206                               sudah sampai bapak  \n",
      "207             urc ujungberung baik jalan pacu kuda  \n",
      "208                               kaya kering segera  \n",
      "209    urc ujungberung pengerukn salur jalan arcama...\n",
      "210    bapak wali punten dari kemarin pagi pasar su...\n",
      "211    nuhun soekarno hatta kamu perlu tangan korban  \n",
      "212    btw mr has to solve problems such as public ...\n",
      "213                    sampai kepada unit kerja kait  \n",
      "214         mizwar mohon bantu tangan jalan soekarno  \n",
      "215    guna tweter untuk kembang ekonomi sejahtera ...\n",
      "216    the logical carreer path for him would be ja...\n",
      "\n",
      "[217 rows x 1 columns]\n"
     ]
    }
   ],
   "source": [
    "import pandas as pd\n",
    "\n",
    "data = pd.read_csv('tweetTest.csv')\n",
    "print(data)"
   ]
  },
  {
   "cell_type": "markdown",
   "metadata": {},
   "source": [
    "<h1>Menghitung Jumlah Tweet pada Data Training<h1>"
   ]
  },
  {
   "cell_type": "code",
   "execution_count": 2,
   "metadata": {},
   "outputs": [
    {
     "name": "stdout",
     "output_type": "stream",
     "text": [
      "jumlah dataset training :  379\n"
     ]
    }
   ],
   "source": [
    "import pandas as pd\n",
    "\n",
    "\n",
    "raw_data2 = pd.DataFrame()\n",
    "tmp=pd.read_csv('tweetFixLabel.csv')\n",
    "raw_data2 = raw_data2.append(tmp,ignore_index=True)\n",
    "\n",
    "print('jumlah dataset training : ',len(raw_data2.values.tolist()))"
   ]
  },
  {
   "cell_type": "markdown",
   "metadata": {},
   "source": [
    "<h1>Menampilkan Tweet dan Kelas dari Data Training<h1>"
   ]
  },
  {
   "cell_type": "code",
   "execution_count": 3,
   "metadata": {},
   "outputs": [
    {
     "name": "stdout",
     "output_type": "stream",
     "text": [
      "['  cimahi hayang cimbuleuit pan kota apa naha ciumbuleuit mati lampu apa', '  jumat sudah ayo ah menggoes bareng hahahahhahah', '  hayu wargi bandung tiasa sarumping mangga ramekeun jalan bandung dinten ieu aku', '  diri taman jomblo bandung ridwan kamil agung dewa jomblo', '  siapa yang jaga siapa yang pelihara kalau rusak kaya begini siapa yang tanggung jawab', '  tetot fera sudah punya sim bapak fera tidak punya sim tapi sudah jalan bapak pagi pagi depan pasar uber', '  beliau lahir pagerageung ti tasik apa good bye grandpa you will be missed', '  busy at sir what do you say kababayan in english', '  walikota dengan program biopori saurna kbb plesir hongkong cari bibit cakar langit bade pelak cihideung kitu', '  bapak fera tidak punya sim tapi sudah jalan bapak pagi pagi depan pasar ujungberung suka macet sama dagang pinggir', '  kelurahan sukamaju cimanggis depok urus surat jamsostek hampir bulan belum dapat tandatangan lurah alasan sedang umroh aneh', '  bapak kapan bandung karya bapak rindu diri', '  pagi bapak tinjau empat supratman anak kecil ngemis ibu tunggu setor pom bensin terima kasih bapak', '  walikota bandung lantik elih sudiapermana dpoqkivcnjw', '  bapak kagum bapak', '  bapak pagi pagi depan pasar ujungberung suka macet sama dagang pinggir jalan benah bapak ganggu kendara', '  bangga teu apa teater anak ekonomi bandung jadi hiji hijina isi acara stai madura', '  lanjut bapak', '  cayoo sukses orang walikota tidak bawa persib juara simamaung sukses orang walikota tidak bawa persib juara twitter status photo', '  cinta itu', '  apa sebab celaka teh sanes jalan nu lubang wae eta angkot lamun belok sok tara make sent tah apa maen belok saenakna', '  coba bapak jalan rajalwali timur pasar andir pagi hari', '  jalan buah batu dekat tol lubang cukup apa kemarin banyak mobil ngerem dadak', '  apa', '  gas terus jalan raya sudah gitu bikin kereta parahyangan mau berangkat tunggu dulu ah gila harus aku jadi istri ridwan kami', '  malam lewat paspati sengaja ingin liat yang kata warna ini sana memang benar keren sangat terima kasih bapak buat bandung jadi lebih warna', '  kirim proposal balaikota kalau undang bapak ibu acara seminar cara bagaimana', '  bandung smart city proyek apa saja bapak today meeting dengan dutch delegation for cont tl gd', '  walikota bandung canang tahun', '  kalau hujan hari alias banjir not gong xi fat chai but ayo ngung xi choi', '  sami sami abah nuhun ridwan alah siah tos lam geningan sok doakeun sing', '  nuhun ridwan alah siah tos lam geningan sok doakeun sing gerak cageur', '  turut dukung bangun bandung rt belanda tindak lanjut kunjung ridwan bit ly', '  apa mohon izin saya desain tshirt tentang program kerja bapak buat ikut lomba design teu sawios', '  busy at sir what do you say kababayan in english', '  wkwkwk busy at sir what do you say kababayan in english', '  wihh belanda tarik program kota pintar bandung bit ly', '  kalau pipi sampe sekarang kenapa chubby terus apa apa nahanya wayah kieu sok lapar', '  ayo sekolah bis sekolah kota bandung hino rs celcius foto', '  good advance for this beloved city today meeting dengan dutch delegation for bandung smart city project', '  haha saja kamu terima kasih saya ajar dari walikota bandung ridwan kamil', '  bapak disdik bandung kurang ramah dalam layan masyarakat umum sering dalam kerja tugas coba tegur bapak', '  jalur koordinasi surat disdik kota bandung disdik provinsi jawa barat baik baik contoh disdik provinsi banten', '  gubernur kaltim awang faroek walikota bandung sukses raup dana csr eropa', '  anjing pigking ndasmu anjing ridwan kamil deddy cont tm to', '  ajar pungut biaya naik damri pada hari senin lapor via sms', '  zona merah teh tempat renti motor tea geuning zona merah itu saja bapak', '  temenin you dead bapak bahasa inggrisna jomblo teu payu payu nang taun taun naon', '  apa nahanya wayah kieu sok lapar', '  most mungkin secara jiwa raga bandung asli banget akan beda jika jabat kota bandung jadi humanis', '  bapak butuh subsidi cinta bapak mohon bantu nuhun bapak', '  hahaha bhahaha lol busy at sir what do tmi me', '  rumah bapak ridwan kamil buat ribu botol kratingdeng', '  wakil gubernur jawa barat sama walikota bandung hadir launching tim htt', '  bapak tidak tanggap satpam depan kantor bapak apa kasi bapak', '  assalamua laikum', '  bandung makin laju sama bapak jogja stuck makin kikis pikir rakyat node', '  heuh jalan banda sateh bapak jalan jalan riau gedung sate belakang sampe cont wl gs jroef', '  bapak mohon pindah tiang pln tengah jalan jln', '  bapak mau minta pendapat kena apartemen yang bangun bagus dago bapak apa mungkin kapasitas daerah pada', '  gerobak mie mercun unik lhoo bentuk bulet mau langsung sms saja', '  tahun kota bandung jadi salah satu kota ram dunia dasar survei majalah time', '  folbck kartu keluarga', '  tantang pertama justru pada benah birokrasi moga beri mudah bapak siap bu tmi me', '  daerah bangbayang dago beneran jadi apartemen', '  bapak bakal musuh produsen mobil motor kampanye sepeda', '  kamis line up bukabareng baksos setiabudi sama anak yatim bapak ridwan kamil', '  bapak ridwan kamil apa kabar bapak', '  wilujeung sahur bapak emil mudah mudah shaumnya lancar aamiin', '  wilujeng saur bapak emil mugi alloh swt maparin barokah kango urang sadaya amiiin', '  hidup juang henti bismillah', '  allhamdulilah tah teu salah kan jadi walikota idam teh insya allah skatepark hadir tahun depan', '  tah teu salah kan jadi walikota idam teh insya allah skatepark hadir tahun depan', '  warga jadi harus bangun kota salah satu cara tiada keluh', '  sayang sekali bukan urng tarling malam masjid as syifa rw cijambe ujung berung', '  bukan urng tarling malam masjid as syifa rw cijambe ujung berung', '  selamat istirahat kawan suatu hari semua pulang', '  bandung bagaimana video ktp seleksi pedagang kaki lima ibukota de tk tymuk', '  lagi benah', '  rawan gempur bandung apa tempat tinggal saya rw sebut', '  karena butuh ekonomi milik tanah alih fungsi bapak beri solusi apa terima kasih', '  masyarakat solat ied tempat main anak perlu masyarakat jual yang milik hak atas tanah tersebut', '  bapak daerah kiaracondong lurah kebonjayanti rw belakang polisi sektor kiaracondong bidang tanah yang biasa guna', '  goodluck mas emil for today', '  segera selamat istirahat kawan suatu hari semua pulang', '  ridwankamil asa tidak pernah dengar program perintah buat sejahtera gelandang', '  yaah sudah mulai dik pdahal masih baru yaa pemerintah kota tidak bantu bagaimana nasib hiks', '  bapak emil langkah awal urai macet daerah sub urban seperti ujungberung seperti apa saya harap solusi yang solutif', '  waduh sudah kena sekarang', '  bapak selamat malam masalah bersih paling utama utama bersih organisir hasil untung', '  sami sami mung ka anjeunna allah sadaya urus mulang taya pis lolongkrang manusa takabur dina getak hirup kahirupannana', '  biar kayak beliau jam begini enak poin akun twitternya', '  pulang akhir kali moga jejak ilmu baik bersih lekat bandung insha allah', '  waduh', '  selamat rehat bapak selamat istirahat kawan suatu hari semua pulang', '  saat yang muda yang bicara yang tua istirahat bp', '  pasar baru jablay banyak kok berani tutup saritem apa', '  moga jadi teladan usia yang tahu', '  sih fisik kota dulu proses rancang supaya pesan kota orang bersih', '  selamat istirahat bapak walikota keras pilwali lewat moga kerja keras tahun depan lancar berkah', '  bapak slaku laku ukm mula rasa berat kalau masih baru jalan sudah berat dengan pajak resto mohon hati', '  buat bapak moga amanah masyarakat cinta kota bandung jaga jaga', '  bapak tidur bapak emil banyak benah besok hari', '  konsep kembang ekonomi kreatif kota', '  bandung jam macet kalau tidak solusi kongkrit pergi kantor setelah subuh', '  yah kalau bapak tidak jadi walikota coba jadi anggota dprd kota bandung saja suara lebih keras pemerintah kota', '  mirip rame media tapi pas pilkada jadi karena calon kuat', '  bandung segala kenang buat yang jauh apa yang bikin kamu kangen bandung', '  bandung buat yang jauh apa yang bikin kamu kangen bandung', '  ridwan kamil fb me', '  mantap bapak ridwan kamil tambah percaya diri maju pemilihan wali kota merdeka', '  sila periksa sebar alas men jr uu dikti chirpstory li', '  sepakat bapak buat yang jauh apa yang bikin kamu kangen bandung', '  rc have fun go mad dulu kalau waktu aceh nama tgif bulan sekali main musik', '  makan jajan lumpia basah mie dorokdok sambel cibiuk mie kocok duh semua', '  fashion', '  naik angkot sampe motor bergps bareng buat yang jauh apa yang bikin kamu kangen bandung', '  simpang dago bisa makan apa saja kapan saja jam buat yang jauh apa yang bikin kamu kangen bandung', '  minggu pagi bandung bapak buat yang jauh apa yang bikin kamu kangen bandung', '  atmosfer kalau rumah ibarat minimal riah haha buat yang cont tl gd', '  rumah serta isi', '  sami sami terima kasih buat temen temen sudah diskusi seru bareng bapak', '  cimol semua aspek buat yang jauh apa yang bikin kamu kangen bandung', '  kosan geger kalong kangen jaman kuliah duit pas pas warteg cimol gerlong', '  anak istri ujungberung dengan backdrop gn manglayang buat yang jauh apa yang bikin kamu kangen bandung', '  teman taman buat yang jauh apa yang bikin kamu kangen bandung', '  ins bandung bersih hijau bunga buat yang jauh apa yang bikin kamu kangen bandung', '  bandung kangen suasana kenang', '  jalan tertib macet pohon rindang banjir kali bersih kota kembang', '  manuk cingcuing buat yang jauh apa yang bikin kamu kangen bandung', '  kreatifitasnya saja buat yang jauh apa yang bikin kamu kangen bandung', '  suasana sama semua lah buat yang jauh apa yang bikin kamu kangen bandung', '  suasana hangat sama tengah dingginya bandung buat yang jauh apa yang bikin kamu kangen bandung', '  saung bapak udjo', '  kuliner tempat kuliner', '  suasana sejuk malam hari', '  air dingin buat yang jauh apa yang bikin kamu kangen bandung', '  udara nyaman yang dulu buat yang jauh apa yang bikin kamu kangen bandung', '  makan buat yang jauh apa yang bikin kamu kangen bandung', '  suasana buat yang jauh apa yang bikin kamu kangen bandung', '  banyak bapak makan suasana tempat main jalan jalan tempat sejarah ah pokokna seeur pis', '  suasana', '  bikin kangen bandung hawa sejuk jajan', '  buat yang jauh apa yang bikin kamu kangen bandung', '  macet buat yang jauh apa yang bikin kamu kangen bandung', '  bandung bersih hijau bunga buat yang jauh apa yang bikin kamu kangen bandung', '  bahkan karakter tidak jawab buat yang jauh apa yang bikin kamu kangen bandung', '  bapak apa konsep besar bapak bawah bandung', '  cemilan cemilan na na buat yang jauh apa yang bikin kamu kangen bandung', '  buat yang bandung apa sih yang bikin tidak ninggalin bandung', '  angkot kuliner saudara juang buat yang jauh apa yang bikin kamu kangen bandung', '  dulu iya sekarang mah tau buat yang jauh apa yang bikin kamu kangen bandung', '  bau tanah kala hujan orang murah senyum ieu wungkul weh bapak', '  semua buat yang jauh apa yang bikin kamu kangen bandung', '  semua isi kota orang orang buat yang jauh apa yang bikin kamu kangen bandung', '  anak semarang kuliah uns main itb sudah cukup bwt slalu kangen main sana lagi bapak', '  lumpia basah ma monumen du hehehe buat yang jauh apa yang bikin kamu kangen bandung', '  adem alami buat yang jauh apa yang bikin kamu kangen bandung', '  kangen peuyeumpuannya buat yang jauh apa yang bikin kamu kangen bandung', '  cup bahan kertas daur ulang kurang sampah waktu buang sampah du sampahbiasa', '  ridwan kamil beri sanksi dagang guna styrofoam dlvr itu mslhdp', '  ridwan kamil beri sanksi dagang guna styrofoam dlvr itu', '  rutinitas para petugas beres gps wilayah sky rxcxmnhpje', '  ridwan kamil beri sanksi dagang guna styrofoam koranbogor berita ridwan kamil beri sanksi dagang guna styrofoam', '  musda bkprmi kota bandung', '  entah ngefans entah sering liat poster bapak sudah malam mimpi terus bapak', '  mas fadjroel mau ngomong tidak macam dulu', '  harus yang langgar gsb bongkar apalagi tidak liat plang imb', '  kartar serta anak anak keg magrib aji rw skl', '  timbun sampah per an astina psr pamoyanan sudah bersih terima kasih bapak walikota pis', '  nah kamu meme dukung ahok edar ridwan kamil yenny wahid ban bukan ucap dlvr itu', '  hai tweeps datang yah sore malam hari acara sukasari culinary night jalan rintis srjadi don miss itu seeuthere', '  fitnah kotor ahoker ridwan kamil yenny wahid bantah meme dukung ahok bit ly', '  warga rw skly maghrib kaji tanam jiwa bersih sejak dini', '  tah bener bapak hehe', '  waktu sekarang putus jadi orang pensiun preneur sukses ingat now or never', '  ajar dulu ayo ppst edisi mil selalu jadi orang ajar', '  assalammulaikum selamat pagi sukses hari bismillah', '  periksa tulis dahlan iskan bapak waktu jadi tri bumn bahas bawah unit prestasi kerja luar biasa', '  ridwan kamil ajak siswa sepeda makan siang rumah dinas simpul id story ridwan kamil ajak siswa sepeda makan siang rumah dinas', '  ridwan kamil protes nama catut dukung ahok fb me', '  rajin bike to school ajar sepeda ridwan kamil simpul id story rajin bike to school ajar sepeda ridwan kamil', '  keren puri kranji regency instagram', '  urban farming kujangsari', '  mapay lembur rw kujangsari', '  masa depan pulau jawa kira kira bakal gimana kalau kaya begini', '  pimpin usia tua biasa gaptek bapak pikir twitter aplikasi adalah musuh kaya dulu angkut online', '  suka video ln is ylbdj ridwan kamil penuh cinta hitam putih oktober full', '  sharakhah banget mah musti kaji ulang peraturan daerah selenggara rw tidak sigana mah wajib', '  malam makin sunyi hati gerak untuk tanya share alat fotografi bapak inisial juga kalau khwatir sebut merk', '  surat himbauan kelurahan kecamatan terus rw benah dulu pondasinya baru indah muka', '  alhamdulillah bapak produk awal jual pakai paper cup khusus makan', '  lapor bapak kakek twitter sudjiwotedjo status', '  benar bapak andi bilang pajak bumi bangunan bayar per kartu keluarga bahaya ini tanda akhir jaman', '  liat via televisi od cerita inspirasi bangga punya bapak kaya begini', '  tidak sekali pakai foto albert einstein hhaha', '  bapak emil mungkin sangka orangtuanya upin ipin bapak', '  sosialisasi saja tidak usah tanya lokasi beri suluh kecamatan kelurahan mutlak patuh rw kelompok linmas jahil', '  lucu ini orang', '  info mayor ridwan kamil is banning styrofoam food packaging from bandung goo gl fb', '  ridwan kamil protes catut meme dukung ahok fb me', '  mau ngamen jual asong jalan sekarang boleh', '  kenapa daerah pernah bantu peser buat lancar pesta rakyat sambut merdeka republik indonesia', '  kata perintah beri biaya besar buat karang taruna lurah', '  formasi baik persib mata ridwan formasi baik pernah milik persib versi bapak emil bit ly', '  ccin buyungkiu ridwan kamil risma aher ganjar karwo banyak kada yang bahasa santun namun tidak korupsi', '  assalammualaikum punten bade tumaros bapak bu perkawis sekolah smp negeri yang mau terima murid pindah gratis', '  baik persib mata ridwan formasi baik pernah goo gl fb iaxmur', '  formasi baik persib mata ridwan formasi baik pernah milik persib versi bapak emil bit ly', '  ridwan kamil risma aher ganjar karwo banyak kada yang bahasa santun namun tidak korupsi kerja bagus twitter status', '  ridwan kamil janji bonus persib juara piala bhayangkara latestbolanews ridwan kamil janji bonus persib juara piala bhayangkara html uoizkpdhxp', '  formasi baik persib mata ridwan kamil dlvr itu kxlgdc', '  ayo dukung bangun pesantren kreatif dengan wakaf dompet ihaqi peduli desain pesantren by', '  assalammulaikum selamat pagi sukses hari bismillahirrahmanirrahim aheryawan', '  ridwan kamil final piala bhayangkara tetap gbk walikota bandung ridwan kamil ingin final piala fb me', '  ridwan kamil galau nonton persib dinas luar negeri', '  jalan santai warga dalam hari ulang tahun republik indonesia', '  tempat sampah yang tidak jadi bingung malam buang sampah he he sekarang luas arcamanik sudah tidak', '  abang hhahaa bapak kapan cicadas culinary night', '  juang masa baksil jadi tempat pembuangan sampah mohon ridwankamil', '  bersih dago perlu tiru ini', '  kereta patas henti stasiun cimekar lebih menit yang mau upacara resah apa xixixi jadwal batal', '  bapak sistem gps gerak pungut sampah laku sekolah masing kan nah gps hanya laku area skolah luar', '  suasana yang kurang aman masih banyak kendara lintas mohon bantu', '  bapak indonesia ultah dong bapak', '  selamat pagi bapak kemarin sekolah ada giat gerak pungut sampah beberapa foto', '  satu buat', '  senirajawali acara hari ulang tahun kabupaten cianjur hasil kolaborasi seniman', '  isi merdeka budaya buang sampah tempat selamat pagi bapak bantu', '  nk pernah kibar bendera merah putih kota bandung asal cianjur selatan', '  terima kasih bapak atas baik jalan maranata sekarang road hehe', '  bapak kapan cicadas culinary night', '  kata bapak indonesia surga indah sarat masalah karnanya cinta negeri dengan aksi solusi dirgahayu indonesia', '  via raya merdeka republik indonesia dengan tidak nyampah kurang sampah', '  bapak rangka merdeka kaya bagus kalau lomba', '  this is thing in my city now gag ref tapi', '  kab kota salahsatunyakotabandung turut meriahkanacarahelaransenibudayadlmrangkahut kab cianjur', '  bapak kakak perempuan ulangtahun cepet pulang kakak perempuan mau ucap ulangtahun sama bapak', '  jalan depan astana baru rusak sedikit padahal mah bapak aduh serasa lewat jalan dusun pinggir kota', '  kakak perempuan teh mau ucap sama ridwan bapak aku', '  juta aduh bagaimana juragan ini lokal cetak juragan coba tanya sama sm brodexin yang papatong saja juragan', '  ayo siap simak cerah guru kiyai', '  seniman rajawali akan tolak pedagang kaki lima mohondo', '  gasibu moal bapak loh', '  rute kirab mohon maaf apabila jalan hambat infobdgevent', '  tweet aku cuma quote doang sama ridwan kamil tetep mention yang masuk banyak', '  terima kasih bapak ridwan kamil sudah mampir stand dengan pic path', '  nonton livestreaming luncur kanal kpktv dialog dengan ahok risma ridwan kamil bit ly launchingkpktv', '  inna lillahi wa telah pulang rahmatulloh ket tapi pkk kelurahan padasuka kecamatan cibeunying kidul jam wib', '  sae apa tuntaskeun heula ngawangun kota bandung beres nembe ngiring icikibung jempol kanggo apa walikota', '  narsis apa', '  situasi depan gedung sate', '  bapak aku', '  bapak dong kaya begini ganjar pranowo marah sidak kuman negara mem', '  mantep bapak erwinmadmoron merdeka inisoenda', '  canang gerak sholat shubuh jamaah mesjid alun alun bandung', '  gerak subuh jamaah sama bapak wali kota serta jajar', '  live ridwan kamil laksana salat subuh', '  cang gerak shalat subuh jamaah kota bandung mesjid raya jawa barat', '  syukur semoga depan semua kebun binatang indonesia lagi jumpa kasus', '  ridwan kamil meski sering tengil tapi bisa jaga marwah wibawa sebagai walikota baik hadap warga maupun terjadap pegawai negeri sipil yang pimpin', '  cari solusi yang santun untung kedepanny tidak pihak yang rugi moga allah swt beri yang baik', '  dengan berita hoax bohong produksi lama instagram', '  asli kalimantan ini harus lindung jangan abai begini wahai bapak menteri', '  buat gua orang depan umum seperti gitu mau ahok mau ganjar pranowo mau cumi cola sama saja tiru ridwan kamil twitter status', '  gerak subuh jamaah jan', '  dapat arah bapak wali canang subuh jamaah kota bandung tapi kunaon paling ingat nasi timbel', '  arah apa walikota ramai dengan subling', '  giat lounching gerak subuh jamaah', '  kalimat baik diam ridwan kamil', '  barakallahu fiik bapak', '  selamat pagi', '  punteun bapak emil angkot kircon terlalu banyak henti pedagang kaki lima semrawut kendara motor susah lewat klakson diam', '  siap siap ini bapak bismillah ayo', '  ridwan kamil curhat facebook soal bonbin beruang kurus obq li', '  sosialisasi shalat shubuh jamaah masjid urus rw ulama kelurahan cipadung', '  bapak mohon periksa lampu pju jalan panca tengah raya padam lama padam bagi', '  kalau bukan sekarang kapan kalau bukan siapa hehahahahahah', '  bapak ridwan boleh email', '  hidup sekali jangan tua karya inspirasi ridwan kamil', '  semakin banyak yang campaign macam begini bagus', '  karena kalau tidak wacana begini secara blow up yang luas mungkin tidak akan pernah mulai subuh brjamaah sekedar manfaat sosmed begitu', '  memang kalau liat sisi seperti pamer ibadah tapi tengah kondisi muslim sekarang yang mungkin sudah segitu jarang subuh jamaah bagus', '  mungkin biar pantau saja kalau tingkat sampai subuh tiap hari arti gerak hasil karena sudah jadi biasa', '  kalau aku lebih pilih presiden', '  terima kasih apa wali assalamualaikum', '  lah yang percaya allah untuk lindung dari segala bentuk aniaya bahkan yang laku perlahan', '  rasa malu malu karena peluk agama yang paling sempurna tapi sering abai biar zalim depan mata', '  murak tumpeng atas berkah usia ketua kartaranum wilujeng barokah refzsdrpis', '  karena walaupun mnyelamatkn ekor hewan tapi selamat bagi dari keluarga mereka sendiri masya allah harus', '  selamat ekor hewan begitu haru bahkan sentuh bagi dalam nurani', '  tanam sifat kasih sayang yang lebih kepada umat isa as bukti sering lihat sifat sifat mulia heroik', '  sebagai orang islam aku karena tersebut telah sebut dalam kitab suci al quran yang bunyi', '  atau beri kb yang kelola nasrani yang mereka lebih sayang hadap banding orang islam sendiri', '  karena sudah sangat lapar bagaimana apa siapa kira yang tutup kbb balik habitat mula', '  dengan kasus yang sama lihat beruang madu makan kotor sendiri', '  sekitar tahun yang lalu lihat tidak mampu dalam laku hewan', '  apa kalau boleh usul kebun binatang bandung mending tutup apa daripada puluh tahun tidak becus tetap jadi', '  periksa lapang analisa masalah ingat jangan ngamuk', '  andai saja bapak jadi calon presiden bapak kalah', '  pimpin periksa dulu masalah jangan langsung ngamuk', '  kerja yang paling senang dunia hobi bayar ridwan kamil instagram', '  pimpin bina organisasi ngamuk', '  mohon sangat depan hindar pimpin ngamuk', '  lebih sayang uang hutan ayo ikut mal nasinal ridwan kamil loh twitter rfikriyantini status photo', '  pasar kosambi bandung tidak rawat republika co id', '  enak kirim link upload lalu twitter imel bapak', '  selamat pagi selamat jalan tugas untuk bapak ibu', '  manfaat air hujan bapak harap bapak lihat beri testimoni karya proyek bapak', '  kalau hari sabtu tema apa bapak', '  asyik dkt cibiru bandung timur malam bahagia sama', '  bapak bagaimana dadak kapolsek tidak kasih ijin teh', '  kalau panyileukan tidak bapak ridwan tempat teh', '  bahaya bapak tukang dagang main sekolah dasar deket rumah yang jual main jumanji bapak', '  wilujeng enjing selamat pagi semoga hari karunia tidak lupa tetap tertib jalan empat pada orang', '  warga bandung timur malam bahagia sama', '  cibiru apa panyileukan culinary night', '  obama jokowi ridwan kamil berkah komitmaros obama jokowi ridwan kamil berkah twitter html komitmaros', '  cibiru warga bandung timur malam bahagia sama', '  tutup pakai kardus', '  warga bandung timur malam bahagia sama', '  bapak mohon bantu warga bojongloa kaler hari air pdam alir rumah kurang air bapak', '  warga bandung timur malam bahagia sama', '  acara ngehalangin jalan pulang jadi tidak pulang hari', '  kalau bandung suruh hari kamis saja lyd kalau anak sg yang tidak bisa bahasa indonesia kan tidak apa', '  jadi bakar jalan cihampelas rw kelurahan coblong kecamatan coblong', '  periksa favorite teh nuhun bapak ai cibiru culinary night teh dimana tempat na bapak nuhun', '  terima kasih apa buat datang kemarin moga jumpa lain waktu agenda ngaji bareng mungkin', '  bapak kalau tempat pembuangan sampah bungur tutup warga buang sampah mana deket nuhun infona', '  dahlan iskan ngamuk tol ridwan kamil kesal sampah bit ly', '  walikota bandung direktur utama launching logo pasar sae', '  bapak mau usul salah satu syarat izin pedagang kaki lima sedia keranjang sampah htr nuhun', '  nonton ayo karena sangat sarat dengan informasi lbzwhtxbln', '  dahlan iskan ngamuk tol ridwan kamil kesal sampah bit ly', '  madam bakar kios jalan cihampelas sudah selesai unit damkar balik kanan mako', '  ridwan kamil keluar kartu pedagang kaki lima anti rentenir bit ly', '  ridwan kamil kartu pedagang kaki lima news detik bandung read bagi kartu pedagang kaki lima ridwan kamil upaya dagang bebas rentenir', '  publikasi dokumentasi jadi', '  yess salute lokalisasi saritem bandung bakal ubah jadi pasar emas bit ly', '  dinas bakar terjun unit pancar unit selamat', '  rugi rurut milik bp yaya tahu taksir juta', '  asal mula api duga konseleting listrik jadi awal pukul wib', '  bakar hangus buah kios luas area', '  jadi bakar jalan cihampelas rw kelurahan coblong kecamatan coblong', '  pagi yang hormat selamat kerja keras mlayani rakyat hidup sederhana kurang nikmat pribadi', '  malam pulang jakarta jam stop pasteur pintu tol bas amen mulai why', '  bapak camat tahu tidak tuiternyq tidak pernah aktif tuch', '  jalan yunus tambah awal tahun bulan sudah hancur alas hujan', '  kendali bakar jalan cihampelas yang bakar kios samping hotel promenade aston', '  dahlan iskan ngamuk tol ridwan kamil kesal sampah bit ly', '  gimana bapak', '  tedxbandung ridwan kamil saving cities dengan urban', '  foto perhati ada pasca tanding persib vs persija mei lalu', '  eks lokalisasi saritem jadi pasar emas ridwan kamil bit ly', '  negeri butuh banyak pemuda cari solusi bukan pemuda maki maki ridwan kamil', '  larang ridwan kamil grab taxi beri klarifikasi kompas', '  bapak tong hilap ayeuna dinten', '  retweeted lintang creativework beliau orang fb me', '  tahun jabat walikota bandung ridwan kamil beres macet halloapakabar tahun jabat walikota bandung ridwan kamil beres macet', '  wilayah bangun pool diskar jadi sangat jadi langsung evakuasi', '  assalammulaikum dan selamat pagi sukses semua hari', '  alhamdulillah event selesai thanks to masyarakat bandung', '  pagi bapak ridwan tarif dasar anak sekolah berapa kasih minta naik jadi repot bapak', '  mq headline tahun ridwan kamil pimpin bandung', '  memang tapi bapak emil punya follower orang peduli siapa tau viral sampe jabat tempat', '  ridwan bandung jadi tuan rumah hari antikorupsi desember datang ridwan kamil bandung jadi tuan rumah hari antikorupsi desember datang', '  selamat pagi salam kenal hmplalxghki', '  salam tempel no way', '  larang ridwan kamil grab taxi beri klarifikasi kompas', '  taman jalur hijau sebagai bagi tata kawasan metro asri tertib nyaman', '  perkemb tata taman jalur hijau jalan venus raya rw metro pippk kelurahan manjahlega', '  taat atur dengan tidak bangun bangun ijin tanah pu air', '  dukung tahan pangan sudah layak lahan tani produktif tahan', '  bbws citarum atas eru sedimen sungai cidurian yang lintas kelurahan manjahlega', '  nuhun bapak heri atas dedikasi jaga rawat rumah pompa lingkung', '  jangan maju ridwan kamil pilgub dki ahok maju pilpres bahaya', '  dengan telah bangun rumah pompa harap buang air cidurian waktu hujan besar lancar', '  ridwan kamil bakal saing obsessionnews ridwan kamil bakal saing ahok', '  perlu baik titik tanggul salur yang rusak tuju rumah pompa rw kelurahan manjahlega cotishuzrr']\n",
      "[0, 1, 1, 1, 1, 0, 1, 1, 1, 0, 0, 1, 1, 1, 1, 0, 0, 1, 0, 1, 0, 1, 0, 1, 1, 1, 1, 1, 1, 0, 1, 1, 1, 1, 1, 1, 1, 1, 1, 1, 1, 0, 1, 1, 0, 1, 1, 1, 1, 1, 1, 1, 1, 1, 0, 1, 1, 1, 0, 1, 1, 1, 1, 1, 1, 0, 1, 1, 1, 1, 1, 1, 1, 1, 1, 0, 1, 1, 1, 0, 1, 1, 1, 1, 1, 0, 0, 0, 0, 1, 1, 1, 1, 0, 1, 1, 0, 1, 1, 1, 0, 1, 1, 1, 0, 0, 1, 1, 1, 1, 1, 1, 1, 1, 1, 1, 1, 1, 1, 1, 1, 1, 1, 1, 1, 1, 1, 1, 0, 1, 1, 1, 1, 1, 1, 1, 1, 1, 1, 1, 1, 1, 1, 1, 0, 1, 0, 1, 1, 1, 1, 0, 1, 1, 1, 1, 1, 1, 1, 1, 1, 1, 1, 1, 1, 1, 0, 0, 1, 0, 0, 1, 0, 1, 1, 1, 1, 1, 1, 1, 0, 1, 1, 1, 1, 0, 0, 1, 1, 1, 1, 1, 1, 0, 1, 0, 1, 0, 1, 1, 0, 1, 1, 1, 1, 1, 1, 1, 1, 1, 1, 1, 1, 1, 1, 0, 1, 0, 1, 0, 1, 0, 0, 0, 1, 1, 1, 1, 1, 1, 1, 1, 1, 0, 1, 1, 1, 1, 0, 1, 1, 1, 0, 0, 0, 1, 1, 1, 1, 1, 1, 1, 1, 0, 1, 1, 1, 1, 1, 1, 1, 1, 0, 0, 1, 1, 1, 1, 1, 1, 1, 1, 0, 1, 0, 1, 0, 1, 1, 1, 1, 1, 1, 1, 1, 1, 1, 1, 1, 1, 1, 1, 1, 1, 0, 0, 0, 0, 0, 1, 0, 1, 0, 0, 1, 0, 1, 1, 1, 1, 1, 0, 0, 0, 1, 1, 1, 1, 1, 0, 1, 0, 1, 0, 0, 0, 1, 1, 0, 0, 1, 1, 1, 0, 1, 1, 1, 1, 1, 1, 0, 1, 0, 0, 1, 1, 0, 1, 0, 1, 0, 1, 1, 1, 1, 0, 0, 1, 1, 1, 1, 1, 1, 1, 1, 1, 1, 1, 0, 1, 1, 1, 1, 1, 1, 0, 1, 1, 1]\n"
     ]
    }
   ],
   "source": [
    "#raw_data to list\n",
    "Dataset = raw_data2[['text','kelas']].values.tolist()\n",
    "\n",
    "#pisahkan text dan labelnya\n",
    "Texts = [col[0] for col in Dataset]\n",
    "Labels = [col[1] for col in Dataset]\n",
    "print(Texts)\n",
    "print(Labels)"
   ]
  },
  {
   "cell_type": "markdown",
   "metadata": {},
   "source": [
    "<h1>Menampilkan Tweet dari Data Training dan Data Testing<h1>"
   ]
  },
  {
   "cell_type": "code",
   "execution_count": 4,
   "metadata": {},
   "outputs": [
    {
     "name": "stdout",
     "output_type": "stream",
     "text": [
      "['  cimahi hayang cimbuleuit pan kota apa naha ciumbuleuit mati lampu apa', '  jumat sudah ayo ah menggoes bareng hahahahhahah', '  hayu wargi bandung tiasa sarumping mangga ramekeun jalan bandung dinten ieu aku', '  diri taman jomblo bandung ridwan kamil agung dewa jomblo', '  siapa yang jaga siapa yang pelihara kalau rusak kaya begini siapa yang tanggung jawab', '  tetot fera sudah punya sim bapak fera tidak punya sim tapi sudah jalan bapak pagi pagi depan pasar uber', '  beliau lahir pagerageung ti tasik apa good bye grandpa you will be missed', '  busy at sir what do you say kababayan in english', '  walikota dengan program biopori saurna kbb plesir hongkong cari bibit cakar langit bade pelak cihideung kitu', '  bapak fera tidak punya sim tapi sudah jalan bapak pagi pagi depan pasar ujungberung suka macet sama dagang pinggir', '  kelurahan sukamaju cimanggis depok urus surat jamsostek hampir bulan belum dapat tandatangan lurah alasan sedang umroh aneh', '  bapak kapan bandung karya bapak rindu diri', '  pagi bapak tinjau empat supratman anak kecil ngemis ibu tunggu setor pom bensin terima kasih bapak', '  walikota bandung lantik elih sudiapermana dpoqkivcnjw', '  bapak kagum bapak', '  bapak pagi pagi depan pasar ujungberung suka macet sama dagang pinggir jalan benah bapak ganggu kendara', '  bangga teu apa teater anak ekonomi bandung jadi hiji hijina isi acara stai madura', '  lanjut bapak', '  cayoo sukses orang walikota tidak bawa persib juara simamaung sukses orang walikota tidak bawa persib juara twitter status photo', '  cinta itu', '  apa sebab celaka teh sanes jalan nu lubang wae eta angkot lamun belok sok tara make sent tah apa maen belok saenakna', '  coba bapak jalan rajalwali timur pasar andir pagi hari', '  jalan buah batu dekat tol lubang cukup apa kemarin banyak mobil ngerem dadak', '  apa', '  gas terus jalan raya sudah gitu bikin kereta parahyangan mau berangkat tunggu dulu ah gila harus aku jadi istri ridwan kami', '  malam lewat paspati sengaja ingin liat yang kata warna ini sana memang benar keren sangat terima kasih bapak buat bandung jadi lebih warna', '  kirim proposal balaikota kalau undang bapak ibu acara seminar cara bagaimana', '  bandung smart city proyek apa saja bapak today meeting dengan dutch delegation for cont tl gd', '  walikota bandung canang tahun', '  kalau hujan hari alias banjir not gong xi fat chai but ayo ngung xi choi', '  sami sami abah nuhun ridwan alah siah tos lam geningan sok doakeun sing', '  nuhun ridwan alah siah tos lam geningan sok doakeun sing gerak cageur', '  turut dukung bangun bandung rt belanda tindak lanjut kunjung ridwan bit ly', '  apa mohon izin saya desain tshirt tentang program kerja bapak buat ikut lomba design teu sawios', '  busy at sir what do you say kababayan in english', '  wkwkwk busy at sir what do you say kababayan in english', '  wihh belanda tarik program kota pintar bandung bit ly', '  kalau pipi sampe sekarang kenapa chubby terus apa apa nahanya wayah kieu sok lapar', '  ayo sekolah bis sekolah kota bandung hino rs celcius foto', '  good advance for this beloved city today meeting dengan dutch delegation for bandung smart city project', '  haha saja kamu terima kasih saya ajar dari walikota bandung ridwan kamil', '  bapak disdik bandung kurang ramah dalam layan masyarakat umum sering dalam kerja tugas coba tegur bapak', '  jalur koordinasi surat disdik kota bandung disdik provinsi jawa barat baik baik contoh disdik provinsi banten', '  gubernur kaltim awang faroek walikota bandung sukses raup dana csr eropa', '  anjing pigking ndasmu anjing ridwan kamil deddy cont tm to', '  ajar pungut biaya naik damri pada hari senin lapor via sms', '  zona merah teh tempat renti motor tea geuning zona merah itu saja bapak', '  temenin you dead bapak bahasa inggrisna jomblo teu payu payu nang taun taun naon', '  apa nahanya wayah kieu sok lapar', '  most mungkin secara jiwa raga bandung asli banget akan beda jika jabat kota bandung jadi humanis', '  bapak butuh subsidi cinta bapak mohon bantu nuhun bapak', '  hahaha bhahaha lol busy at sir what do tmi me', '  rumah bapak ridwan kamil buat ribu botol kratingdeng', '  wakil gubernur jawa barat sama walikota bandung hadir launching tim htt', '  bapak tidak tanggap satpam depan kantor bapak apa kasi bapak', '  assalamua laikum', '  bandung makin laju sama bapak jogja stuck makin kikis pikir rakyat node', '  heuh jalan banda sateh bapak jalan jalan riau gedung sate belakang sampe cont wl gs jroef', '  bapak mohon pindah tiang pln tengah jalan jln', '  bapak mau minta pendapat kena apartemen yang bangun bagus dago bapak apa mungkin kapasitas daerah pada', '  gerobak mie mercun unik lhoo bentuk bulet mau langsung sms saja', '  tahun kota bandung jadi salah satu kota ram dunia dasar survei majalah time', '  folbck kartu keluarga', '  tantang pertama justru pada benah birokrasi moga beri mudah bapak siap bu tmi me', '  daerah bangbayang dago beneran jadi apartemen', '  bapak bakal musuh produsen mobil motor kampanye sepeda', '  kamis line up bukabareng baksos setiabudi sama anak yatim bapak ridwan kamil', '  bapak ridwan kamil apa kabar bapak', '  wilujeung sahur bapak emil mudah mudah shaumnya lancar aamiin', '  wilujeng saur bapak emil mugi alloh swt maparin barokah kango urang sadaya amiiin', '  hidup juang henti bismillah', '  allhamdulilah tah teu salah kan jadi walikota idam teh insya allah skatepark hadir tahun depan', '  tah teu salah kan jadi walikota idam teh insya allah skatepark hadir tahun depan', '  warga jadi harus bangun kota salah satu cara tiada keluh', '  sayang sekali bukan urng tarling malam masjid as syifa rw cijambe ujung berung', '  bukan urng tarling malam masjid as syifa rw cijambe ujung berung', '  selamat istirahat kawan suatu hari semua pulang', '  bandung bagaimana video ktp seleksi pedagang kaki lima ibukota de tk tymuk', '  lagi benah', '  rawan gempur bandung apa tempat tinggal saya rw sebut', '  karena butuh ekonomi milik tanah alih fungsi bapak beri solusi apa terima kasih', '  masyarakat solat ied tempat main anak perlu masyarakat jual yang milik hak atas tanah tersebut', '  bapak daerah kiaracondong lurah kebonjayanti rw belakang polisi sektor kiaracondong bidang tanah yang biasa guna', '  goodluck mas emil for today', '  segera selamat istirahat kawan suatu hari semua pulang', '  ridwankamil asa tidak pernah dengar program perintah buat sejahtera gelandang', '  yaah sudah mulai dik pdahal masih baru yaa pemerintah kota tidak bantu bagaimana nasib hiks', '  bapak emil langkah awal urai macet daerah sub urban seperti ujungberung seperti apa saya harap solusi yang solutif', '  waduh sudah kena sekarang', '  bapak selamat malam masalah bersih paling utama utama bersih organisir hasil untung', '  sami sami mung ka anjeunna allah sadaya urus mulang taya pis lolongkrang manusa takabur dina getak hirup kahirupannana', '  biar kayak beliau jam begini enak poin akun twitternya', '  pulang akhir kali moga jejak ilmu baik bersih lekat bandung insha allah', '  waduh', '  selamat rehat bapak selamat istirahat kawan suatu hari semua pulang', '  saat yang muda yang bicara yang tua istirahat bp', '  pasar baru jablay banyak kok berani tutup saritem apa', '  moga jadi teladan usia yang tahu', '  sih fisik kota dulu proses rancang supaya pesan kota orang bersih', '  selamat istirahat bapak walikota keras pilwali lewat moga kerja keras tahun depan lancar berkah', '  bapak slaku laku ukm mula rasa berat kalau masih baru jalan sudah berat dengan pajak resto mohon hati', '  buat bapak moga amanah masyarakat cinta kota bandung jaga jaga', '  bapak tidur bapak emil banyak benah besok hari', '  konsep kembang ekonomi kreatif kota', '  bandung jam macet kalau tidak solusi kongkrit pergi kantor setelah subuh', '  yah kalau bapak tidak jadi walikota coba jadi anggota dprd kota bandung saja suara lebih keras pemerintah kota', '  mirip rame media tapi pas pilkada jadi karena calon kuat', '  bandung segala kenang buat yang jauh apa yang bikin kamu kangen bandung', '  bandung buat yang jauh apa yang bikin kamu kangen bandung', '  ridwan kamil fb me', '  mantap bapak ridwan kamil tambah percaya diri maju pemilihan wali kota merdeka', '  sila periksa sebar alas men jr uu dikti chirpstory li', '  sepakat bapak buat yang jauh apa yang bikin kamu kangen bandung', '  rc have fun go mad dulu kalau waktu aceh nama tgif bulan sekali main musik', '  makan jajan lumpia basah mie dorokdok sambel cibiuk mie kocok duh semua', '  fashion', '  naik angkot sampe motor bergps bareng buat yang jauh apa yang bikin kamu kangen bandung', '  simpang dago bisa makan apa saja kapan saja jam buat yang jauh apa yang bikin kamu kangen bandung', '  minggu pagi bandung bapak buat yang jauh apa yang bikin kamu kangen bandung', '  atmosfer kalau rumah ibarat minimal riah haha buat yang cont tl gd', '  rumah serta isi', '  sami sami terima kasih buat temen temen sudah diskusi seru bareng bapak', '  cimol semua aspek buat yang jauh apa yang bikin kamu kangen bandung', '  kosan geger kalong kangen jaman kuliah duit pas pas warteg cimol gerlong', '  anak istri ujungberung dengan backdrop gn manglayang buat yang jauh apa yang bikin kamu kangen bandung', '  teman taman buat yang jauh apa yang bikin kamu kangen bandung', '  ins bandung bersih hijau bunga buat yang jauh apa yang bikin kamu kangen bandung', '  bandung kangen suasana kenang', '  jalan tertib macet pohon rindang banjir kali bersih kota kembang', '  manuk cingcuing buat yang jauh apa yang bikin kamu kangen bandung', '  kreatifitasnya saja buat yang jauh apa yang bikin kamu kangen bandung', '  suasana sama semua lah buat yang jauh apa yang bikin kamu kangen bandung', '  suasana hangat sama tengah dingginya bandung buat yang jauh apa yang bikin kamu kangen bandung', '  saung bapak udjo', '  kuliner tempat kuliner', '  suasana sejuk malam hari', '  air dingin buat yang jauh apa yang bikin kamu kangen bandung', '  udara nyaman yang dulu buat yang jauh apa yang bikin kamu kangen bandung', '  makan buat yang jauh apa yang bikin kamu kangen bandung', '  suasana buat yang jauh apa yang bikin kamu kangen bandung', '  banyak bapak makan suasana tempat main jalan jalan tempat sejarah ah pokokna seeur pis', '  suasana', '  bikin kangen bandung hawa sejuk jajan', '  buat yang jauh apa yang bikin kamu kangen bandung', '  macet buat yang jauh apa yang bikin kamu kangen bandung', '  bandung bersih hijau bunga buat yang jauh apa yang bikin kamu kangen bandung', '  bahkan karakter tidak jawab buat yang jauh apa yang bikin kamu kangen bandung', '  bapak apa konsep besar bapak bawah bandung', '  cemilan cemilan na na buat yang jauh apa yang bikin kamu kangen bandung', '  buat yang bandung apa sih yang bikin tidak ninggalin bandung', '  angkot kuliner saudara juang buat yang jauh apa yang bikin kamu kangen bandung', '  dulu iya sekarang mah tau buat yang jauh apa yang bikin kamu kangen bandung', '  bau tanah kala hujan orang murah senyum ieu wungkul weh bapak', '  semua buat yang jauh apa yang bikin kamu kangen bandung', '  semua isi kota orang orang buat yang jauh apa yang bikin kamu kangen bandung', '  anak semarang kuliah uns main itb sudah cukup bwt slalu kangen main sana lagi bapak', '  lumpia basah ma monumen du hehehe buat yang jauh apa yang bikin kamu kangen bandung', '  adem alami buat yang jauh apa yang bikin kamu kangen bandung', '  kangen peuyeumpuannya buat yang jauh apa yang bikin kamu kangen bandung', '  cup bahan kertas daur ulang kurang sampah waktu buang sampah du sampahbiasa', '  ridwan kamil beri sanksi dagang guna styrofoam dlvr itu mslhdp', '  ridwan kamil beri sanksi dagang guna styrofoam dlvr itu', '  rutinitas para petugas beres gps wilayah sky rxcxmnhpje', '  ridwan kamil beri sanksi dagang guna styrofoam koranbogor berita ridwan kamil beri sanksi dagang guna styrofoam', '  musda bkprmi kota bandung', '  entah ngefans entah sering liat poster bapak sudah malam mimpi terus bapak', '  mas fadjroel mau ngomong tidak macam dulu', '  harus yang langgar gsb bongkar apalagi tidak liat plang imb', '  kartar serta anak anak keg magrib aji rw skl', '  timbun sampah per an astina psr pamoyanan sudah bersih terima kasih bapak walikota pis', '  nah kamu meme dukung ahok edar ridwan kamil yenny wahid ban bukan ucap dlvr itu', '  hai tweeps datang yah sore malam hari acara sukasari culinary night jalan rintis srjadi don miss itu seeuthere', '  fitnah kotor ahoker ridwan kamil yenny wahid bantah meme dukung ahok bit ly', '  warga rw skly maghrib kaji tanam jiwa bersih sejak dini', '  tah bener bapak hehe', '  waktu sekarang putus jadi orang pensiun preneur sukses ingat now or never', '  ajar dulu ayo ppst edisi mil selalu jadi orang ajar', '  assalammulaikum selamat pagi sukses hari bismillah', '  periksa tulis dahlan iskan bapak waktu jadi tri bumn bahas bawah unit prestasi kerja luar biasa', '  ridwan kamil ajak siswa sepeda makan siang rumah dinas simpul id story ridwan kamil ajak siswa sepeda makan siang rumah dinas', '  ridwan kamil protes nama catut dukung ahok fb me', '  rajin bike to school ajar sepeda ridwan kamil simpul id story rajin bike to school ajar sepeda ridwan kamil', '  keren puri kranji regency instagram', '  urban farming kujangsari', '  mapay lembur rw kujangsari', '  masa depan pulau jawa kira kira bakal gimana kalau kaya begini', '  pimpin usia tua biasa gaptek bapak pikir twitter aplikasi adalah musuh kaya dulu angkut online', '  suka video ln is ylbdj ridwan kamil penuh cinta hitam putih oktober full', '  sharakhah banget mah musti kaji ulang peraturan daerah selenggara rw tidak sigana mah wajib', '  malam makin sunyi hati gerak untuk tanya share alat fotografi bapak inisial juga kalau khwatir sebut merk', '  surat himbauan kelurahan kecamatan terus rw benah dulu pondasinya baru indah muka', '  alhamdulillah bapak produk awal jual pakai paper cup khusus makan', '  lapor bapak kakek twitter sudjiwotedjo status', '  benar bapak andi bilang pajak bumi bangunan bayar per kartu keluarga bahaya ini tanda akhir jaman', '  liat via televisi od cerita inspirasi bangga punya bapak kaya begini', '  tidak sekali pakai foto albert einstein hhaha', '  bapak emil mungkin sangka orangtuanya upin ipin bapak', '  sosialisasi saja tidak usah tanya lokasi beri suluh kecamatan kelurahan mutlak patuh rw kelompok linmas jahil', '  lucu ini orang', '  info mayor ridwan kamil is banning styrofoam food packaging from bandung goo gl fb', '  ridwan kamil protes catut meme dukung ahok fb me', '  mau ngamen jual asong jalan sekarang boleh', '  kenapa daerah pernah bantu peser buat lancar pesta rakyat sambut merdeka republik indonesia', '  kata perintah beri biaya besar buat karang taruna lurah', '  formasi baik persib mata ridwan formasi baik pernah milik persib versi bapak emil bit ly', '  ccin buyungkiu ridwan kamil risma aher ganjar karwo banyak kada yang bahasa santun namun tidak korupsi', '  assalammualaikum punten bade tumaros bapak bu perkawis sekolah smp negeri yang mau terima murid pindah gratis', '  baik persib mata ridwan formasi baik pernah goo gl fb iaxmur', '  formasi baik persib mata ridwan formasi baik pernah milik persib versi bapak emil bit ly', '  ridwan kamil risma aher ganjar karwo banyak kada yang bahasa santun namun tidak korupsi kerja bagus twitter status', '  ridwan kamil janji bonus persib juara piala bhayangkara latestbolanews ridwan kamil janji bonus persib juara piala bhayangkara html uoizkpdhxp', '  formasi baik persib mata ridwan kamil dlvr itu kxlgdc', '  ayo dukung bangun pesantren kreatif dengan wakaf dompet ihaqi peduli desain pesantren by', '  assalammulaikum selamat pagi sukses hari bismillahirrahmanirrahim aheryawan', '  ridwan kamil final piala bhayangkara tetap gbk walikota bandung ridwan kamil ingin final piala fb me', '  ridwan kamil galau nonton persib dinas luar negeri', '  jalan santai warga dalam hari ulang tahun republik indonesia', '  tempat sampah yang tidak jadi bingung malam buang sampah he he sekarang luas arcamanik sudah tidak', '  abang hhahaa bapak kapan cicadas culinary night', '  juang masa baksil jadi tempat pembuangan sampah mohon ridwankamil', '  bersih dago perlu tiru ini', '  kereta patas henti stasiun cimekar lebih menit yang mau upacara resah apa xixixi jadwal batal', '  bapak sistem gps gerak pungut sampah laku sekolah masing kan nah gps hanya laku area skolah luar', '  suasana yang kurang aman masih banyak kendara lintas mohon bantu', '  bapak indonesia ultah dong bapak', '  selamat pagi bapak kemarin sekolah ada giat gerak pungut sampah beberapa foto', '  satu buat', '  senirajawali acara hari ulang tahun kabupaten cianjur hasil kolaborasi seniman', '  isi merdeka budaya buang sampah tempat selamat pagi bapak bantu', '  nk pernah kibar bendera merah putih kota bandung asal cianjur selatan', '  terima kasih bapak atas baik jalan maranata sekarang road hehe', '  bapak kapan cicadas culinary night', '  kata bapak indonesia surga indah sarat masalah karnanya cinta negeri dengan aksi solusi dirgahayu indonesia', '  via raya merdeka republik indonesia dengan tidak nyampah kurang sampah', '  bapak rangka merdeka kaya bagus kalau lomba', '  this is thing in my city now gag ref tapi', '  kab kota salahsatunyakotabandung turut meriahkanacarahelaransenibudayadlmrangkahut kab cianjur', '  bapak kakak perempuan ulangtahun cepet pulang kakak perempuan mau ucap ulangtahun sama bapak', '  jalan depan astana baru rusak sedikit padahal mah bapak aduh serasa lewat jalan dusun pinggir kota', '  kakak perempuan teh mau ucap sama ridwan bapak aku', '  juta aduh bagaimana juragan ini lokal cetak juragan coba tanya sama sm brodexin yang papatong saja juragan', '  ayo siap simak cerah guru kiyai', '  seniman rajawali akan tolak pedagang kaki lima mohondo', '  gasibu moal bapak loh', '  rute kirab mohon maaf apabila jalan hambat infobdgevent', '  tweet aku cuma quote doang sama ridwan kamil tetep mention yang masuk banyak', '  terima kasih bapak ridwan kamil sudah mampir stand dengan pic path', '  nonton livestreaming luncur kanal kpktv dialog dengan ahok risma ridwan kamil bit ly launchingkpktv', '  inna lillahi wa telah pulang rahmatulloh ket tapi pkk kelurahan padasuka kecamatan cibeunying kidul jam wib', '  sae apa tuntaskeun heula ngawangun kota bandung beres nembe ngiring icikibung jempol kanggo apa walikota', '  narsis apa', '  situasi depan gedung sate', '  bapak aku', '  bapak dong kaya begini ganjar pranowo marah sidak kuman negara mem', '  mantep bapak erwinmadmoron merdeka inisoenda', '  canang gerak sholat shubuh jamaah mesjid alun alun bandung', '  gerak subuh jamaah sama bapak wali kota serta jajar', '  live ridwan kamil laksana salat subuh', '  cang gerak shalat subuh jamaah kota bandung mesjid raya jawa barat', '  syukur semoga depan semua kebun binatang indonesia lagi jumpa kasus', '  ridwan kamil meski sering tengil tapi bisa jaga marwah wibawa sebagai walikota baik hadap warga maupun terjadap pegawai negeri sipil yang pimpin', '  cari solusi yang santun untung kedepanny tidak pihak yang rugi moga allah swt beri yang baik', '  dengan berita hoax bohong produksi lama instagram', '  asli kalimantan ini harus lindung jangan abai begini wahai bapak menteri', '  buat gua orang depan umum seperti gitu mau ahok mau ganjar pranowo mau cumi cola sama saja tiru ridwan kamil twitter status', '  gerak subuh jamaah jan', '  dapat arah bapak wali canang subuh jamaah kota bandung tapi kunaon paling ingat nasi timbel', '  arah apa walikota ramai dengan subling', '  giat lounching gerak subuh jamaah', '  kalimat baik diam ridwan kamil', '  barakallahu fiik bapak', '  selamat pagi', '  punteun bapak emil angkot kircon terlalu banyak henti pedagang kaki lima semrawut kendara motor susah lewat klakson diam', '  siap siap ini bapak bismillah ayo', '  ridwan kamil curhat facebook soal bonbin beruang kurus obq li', '  sosialisasi shalat shubuh jamaah masjid urus rw ulama kelurahan cipadung', '  bapak mohon periksa lampu pju jalan panca tengah raya padam lama padam bagi', '  kalau bukan sekarang kapan kalau bukan siapa hehahahahahah', '  bapak ridwan boleh email', '  hidup sekali jangan tua karya inspirasi ridwan kamil', '  semakin banyak yang campaign macam begini bagus', '  karena kalau tidak wacana begini secara blow up yang luas mungkin tidak akan pernah mulai subuh brjamaah sekedar manfaat sosmed begitu', '  memang kalau liat sisi seperti pamer ibadah tapi tengah kondisi muslim sekarang yang mungkin sudah segitu jarang subuh jamaah bagus', '  mungkin biar pantau saja kalau tingkat sampai subuh tiap hari arti gerak hasil karena sudah jadi biasa', '  kalau aku lebih pilih presiden', '  terima kasih apa wali assalamualaikum', '  lah yang percaya allah untuk lindung dari segala bentuk aniaya bahkan yang laku perlahan', '  rasa malu malu karena peluk agama yang paling sempurna tapi sering abai biar zalim depan mata', '  murak tumpeng atas berkah usia ketua kartaranum wilujeng barokah refzsdrpis', '  karena walaupun mnyelamatkn ekor hewan tapi selamat bagi dari keluarga mereka sendiri masya allah harus', '  selamat ekor hewan begitu haru bahkan sentuh bagi dalam nurani', '  tanam sifat kasih sayang yang lebih kepada umat isa as bukti sering lihat sifat sifat mulia heroik', '  sebagai orang islam aku karena tersebut telah sebut dalam kitab suci al quran yang bunyi', '  atau beri kb yang kelola nasrani yang mereka lebih sayang hadap banding orang islam sendiri', '  karena sudah sangat lapar bagaimana apa siapa kira yang tutup kbb balik habitat mula', '  dengan kasus yang sama lihat beruang madu makan kotor sendiri', '  sekitar tahun yang lalu lihat tidak mampu dalam laku hewan', '  apa kalau boleh usul kebun binatang bandung mending tutup apa daripada puluh tahun tidak becus tetap jadi', '  periksa lapang analisa masalah ingat jangan ngamuk', '  andai saja bapak jadi calon presiden bapak kalah', '  pimpin periksa dulu masalah jangan langsung ngamuk', '  kerja yang paling senang dunia hobi bayar ridwan kamil instagram', '  pimpin bina organisasi ngamuk', '  mohon sangat depan hindar pimpin ngamuk', '  lebih sayang uang hutan ayo ikut mal nasinal ridwan kamil loh twitter rfikriyantini status photo', '  pasar kosambi bandung tidak rawat republika co id', '  enak kirim link upload lalu twitter imel bapak', '  selamat pagi selamat jalan tugas untuk bapak ibu', '  manfaat air hujan bapak harap bapak lihat beri testimoni karya proyek bapak', '  kalau hari sabtu tema apa bapak', '  asyik dkt cibiru bandung timur malam bahagia sama', '  bapak bagaimana dadak kapolsek tidak kasih ijin teh', '  kalau panyileukan tidak bapak ridwan tempat teh', '  bahaya bapak tukang dagang main sekolah dasar deket rumah yang jual main jumanji bapak', '  wilujeng enjing selamat pagi semoga hari karunia tidak lupa tetap tertib jalan empat pada orang', '  warga bandung timur malam bahagia sama', '  cibiru apa panyileukan culinary night', '  obama jokowi ridwan kamil berkah komitmaros obama jokowi ridwan kamil berkah twitter html komitmaros', '  cibiru warga bandung timur malam bahagia sama', '  tutup pakai kardus', '  warga bandung timur malam bahagia sama', '  bapak mohon bantu warga bojongloa kaler hari air pdam alir rumah kurang air bapak', '  warga bandung timur malam bahagia sama', '  acara ngehalangin jalan pulang jadi tidak pulang hari', '  kalau bandung suruh hari kamis saja lyd kalau anak sg yang tidak bisa bahasa indonesia kan tidak apa', '  jadi bakar jalan cihampelas rw kelurahan coblong kecamatan coblong', '  periksa favorite teh nuhun bapak ai cibiru culinary night teh dimana tempat na bapak nuhun', '  terima kasih apa buat datang kemarin moga jumpa lain waktu agenda ngaji bareng mungkin', '  bapak kalau tempat pembuangan sampah bungur tutup warga buang sampah mana deket nuhun infona', '  dahlan iskan ngamuk tol ridwan kamil kesal sampah bit ly', '  walikota bandung direktur utama launching logo pasar sae', '  bapak mau usul salah satu syarat izin pedagang kaki lima sedia keranjang sampah htr nuhun', '  nonton ayo karena sangat sarat dengan informasi lbzwhtxbln', '  dahlan iskan ngamuk tol ridwan kamil kesal sampah bit ly', '  madam bakar kios jalan cihampelas sudah selesai unit damkar balik kanan mako', '  ridwan kamil keluar kartu pedagang kaki lima anti rentenir bit ly', '  ridwan kamil kartu pedagang kaki lima news detik bandung read bagi kartu pedagang kaki lima ridwan kamil upaya dagang bebas rentenir', '  publikasi dokumentasi jadi', '  yess salute lokalisasi saritem bandung bakal ubah jadi pasar emas bit ly', '  dinas bakar terjun unit pancar unit selamat', '  rugi rurut milik bp yaya tahu taksir juta', '  asal mula api duga konseleting listrik jadi awal pukul wib', '  bakar hangus buah kios luas area', '  jadi bakar jalan cihampelas rw kelurahan coblong kecamatan coblong', '  pagi yang hormat selamat kerja keras mlayani rakyat hidup sederhana kurang nikmat pribadi', '  malam pulang jakarta jam stop pasteur pintu tol bas amen mulai why', '  bapak camat tahu tidak tuiternyq tidak pernah aktif tuch', '  jalan yunus tambah awal tahun bulan sudah hancur alas hujan', '  kendali bakar jalan cihampelas yang bakar kios samping hotel promenade aston', '  dahlan iskan ngamuk tol ridwan kamil kesal sampah bit ly', '  gimana bapak', '  tedxbandung ridwan kamil saving cities dengan urban', '  foto perhati ada pasca tanding persib vs persija mei lalu', '  eks lokalisasi saritem jadi pasar emas ridwan kamil bit ly', '  negeri butuh banyak pemuda cari solusi bukan pemuda maki maki ridwan kamil', '  larang ridwan kamil grab taxi beri klarifikasi kompas', '  bapak tong hilap ayeuna dinten', '  retweeted lintang creativework beliau orang fb me', '  tahun jabat walikota bandung ridwan kamil beres macet halloapakabar tahun jabat walikota bandung ridwan kamil beres macet', '  wilayah bangun pool diskar jadi sangat jadi langsung evakuasi', '  assalammulaikum dan selamat pagi sukses semua hari', '  alhamdulillah event selesai thanks to masyarakat bandung', '  pagi bapak ridwan tarif dasar anak sekolah berapa kasih minta naik jadi repot bapak', '  mq headline tahun ridwan kamil pimpin bandung', '  memang tapi bapak emil punya follower orang peduli siapa tau viral sampe jabat tempat', '  ridwan bandung jadi tuan rumah hari antikorupsi desember datang ridwan kamil bandung jadi tuan rumah hari antikorupsi desember datang', '  selamat pagi salam kenal hmplalxghki', '  salam tempel no way', '  larang ridwan kamil grab taxi beri klarifikasi kompas', '  taman jalur hijau sebagai bagi tata kawasan metro asri tertib nyaman', '  perkemb tata taman jalur hijau jalan venus raya rw metro pippk kelurahan manjahlega', '  taat atur dengan tidak bangun bangun ijin tanah pu air', '  dukung tahan pangan sudah layak lahan tani produktif tahan', '  bbws citarum atas eru sedimen sungai cidurian yang lintas kelurahan manjahlega', '  nuhun bapak heri atas dedikasi jaga rawat rumah pompa lingkung', '  jangan maju ridwan kamil pilgub dki ahok maju pilpres bahaya', '  dengan telah bangun rumah pompa harap buang air cidurian waktu hujan besar lancar', '  ridwan kamil bakal saing obsessionnews ridwan kamil bakal saing ahok', '  perlu baik titik tanggul salur yang rusak tuju rumah pompa rw kelurahan manjahlega cotishuzrr', '  ridwan kamil bakal saing ahok kamil bakal saing ahok  ', '  terus juang kuat tenaga anak bangsa  ', '  bayar telat telat gulung tikar paksa bapak banyak kelit malah rugi  ', '  wilujeng kanggo wargi sadaya oge bapak  ', '  larang ridwan kamil grab taxi beri klarifikasi  ', '  giat gps pems bendera bandung senin  ', '  follow back bapak wali  ', '  bohong  ', '  join me in urging and to stop dishub and polda metro jaya from arresting uber drivers  ', '  testimonial ping baked food memang benar kata ridwan kamil kerja paling senang  ', '  banjir bandang asal jangan banjir bandung  ', '  rapat siap hjkb rencana giat bersih  ', '  okezonenews ridwan kamil ajak rakyat indonesia doa timnas hwc status  ', '  ridwan kamil pilih jadi salah satu walikota baik forum young leader sumposium world cities summit singapura gnfi  ', '  bapak libat lurah camat pantau wilayah  ', '  road to final tenis lap affirmasi baik untuk mohon doa bapak  ', '  nuhun bapak jalan tb ismail sekarang mulus ujung ujung tinggal tertib pasar simpang ini dagang mau masuk  ', '  polisi sudah jam jalan ciwastra macet cor kendara alih belakang psr  ', '  contoh tidak sempurna tl bandung lampu off laswi gatsu  ', '  wilujeng enjing baraya cuaca antapani cerah beton jalan dua lajur selesai htur nuhun bapak emil  ', '  macet cor jalan ciwastra kendara alih belakang pasar polisi sudah jam  ', '  bapak aya pungli kamar dinas duduk legalisir aya bahasa saridona enya sih saridona tapi miris  ', '  pelan bapak wali  ', '  bapak fly over kiaracondong arah gatsu suka pakai putar balik pagi polisi yang atur memang bapak  ', '  bapak ridwan kamil prioritas seperti sarana transportasi bersih  ', '  bapak saya prihatin lihat aksi topeng monyet prapatan jalan bukan sudah masuk eksploitasi binatang apa bisa tertib bapak  ', '  mantap bapak camat apa kabar bapak  ', '  selamat subuh hidup makin barokah kawan  ', '  loba operasi ayenamah subuh ge smga bandung lebih aman nuhun bapak polisi nuhun bapak walikota  ', '  bapak kapan bandung tempat khusus drift mobil balap motor anak bandung salur hobby benar  ', '  ridwan kota bandung susah raih piala adipura tribunnews  ', '  tapi tidak semua anjing tidak ganggu juga yang takut pilih bagaimana kan atur cfd memang gitu iya bapak  ', '  ridwan kota bandung susah raih piala walikota bandung ridwan kamil aku berat mera  ', '  ridwan kota bandung susah raih piala adipura  ', '  tiru good bandung mulai unggah rapat rapat internal ridwan feature overview list  ', '  sampah tebar ridwan kota bandung susah raih piala adipura  ', '  tribun ridwan kota bandung susah raih piala walikota bandung ridwan kamil aku  ', '  bandung fashion ridwan kota bandung susah raih piala adipura tribunnews  ', '  program kerja ridwan kamil bandung  ', '  buat mudah ridwan kota bandung susah raih piala adipura  ', '  asyuujeh sudah keluh euy ridwan kota bandung susah raih piala adipura  ', '  sudah keluh euy ridwan kota bandung susah raih piala adipura  ', '  hahaha the jakartanese are the problem ridwan kota bandung susah raih piala adipura  ', '  mohon support event international yang ada bulan november  ', '  ridwan kota bandung susah raih piala walikota bandung ridwan  ', '  ridwan kota bandung susah raih piala walikota bandung ridwan kamil meng  ', '  lagi cari bapak emil muncul mulai yang kecil karena semua yang besar awal yang kecil ibu erot  ', '  ridwan kota bandung susah raih piala adipura benar  ', '  ridwan kota bandung susah raih piala walikota bandung ridwan kamil aku bera  ', '  susah vikjing itu itu itu ahahaha ridwan kota bandung susah raih piala adipura  ', '  budak sekolah dasar saja bis begini kamu tidak bapak  ', '  bapak mahasiswa unpad naik bus damri dari nangor du tagih ditindaklanjuti gitu  ', '  terima kasih sudah sih kota cinta ridwankamil sampah  ', '  bapak walikota tuju  ', '  kamil wilujeung enjing bapak emil mau usul bagaimana kalau mobil plat larang masuk supaya tidak macet terima kasih  ', '  bapak yang gaji bidan ptt juga naik tidak tau saya juga bawah umr kota bandung  ', '  bawah telapak kaki pemuda letak taruh maju mundur buah bangsa pepatah arab  ', '  nanti malam bapak ridwan kamil talkshow net  ', '  penting lari pagi jangan lari nyata ridwankamil cari sama bapak walikota  ', '  bismillah final bapak kota bandung final ieu tonton bapak meh sumanget  ', '  alhamdulillah basket putri kota bandung raih medali  ', '  duh masih seperti sangat parkir langsung buang sampah semoga mulai des  ', '  bapak datang ikut sebentar serta tuju kampus  ', '  sampurasun pkk minggu pedagang kaki lima sikap naik harga bbm  ', '  hahhaa ngemis itu kaya bagaimana muka pegemis mah  ', '  kakak follow open follow back lho  ', '  bpjs untuk layan uang nyata atas ridwankamil  ', '  baru ngeh ada yang beda dengan gasibu lbih tata ssuai fungsi wlau saya bukan orang bandung salut lah am bapak  ', '  siap pane ran gps car free day ridwankamil  ', '  gps car free day  ', '  kalau sih memang mirip bapak david noah hehee  ', '  siap pane ran car free day  ', '  mohon alangkah bijak guna dana rakyat jakarta bapak bantu bapak  ', '  pasar seni kali masuk jadi larang rokok  ', '  gerak pungut sampah kawan pasca tanding gymnasium upi  ', '  tonton bapak jam talkshow salam buat bapak emil  ', '  bapak dii bebas asap rokok tidak jadi pasar seni ulang kabut rokok  ', '  ahok emil sepakat ganti sama rusa bus bobotoh  ', '  kakak follow akun tweet romantis lho kakak  ', '  neu eta papa hendrik ningalikeun bapak enakeun yah niis tam malu hehe status photo  ', '  ahok tebus dosa ridwan kamil rupiah juta  ', '  harga bbm naik ridwan kamil banyak bus sekolah  ', '  bus bobotoh rusak ahok janji bantu ridwan kamil bayar biaya rugi  ', '  hari iniiii pagi cfd mahasiswa ril itb dtg ramai kampanye perawatannpohon ridwankamil  ', '  bapak benar  ', '  idiiiih malu deh sudah hina jakarta minta ganti rugi nye jakarta cowo bukan  ', '  ridwan kamil ahok bahas the jakmania bobotoh  ', '  ikut pelihara pohon ayo gorila gorilaction mahasiswa ril itb  ', '  auto tweet bijak menit sekali  ', '  aku beri nama brajamusti  ', '  tanding boxing pasar seni soleh sundava vs ridwan kamil pic  ', '  alun alun bandung revitalisasi besar besar bagaimana nasib pedagang kaki lima via  ', '  mana hijau bandung iseng coret coret abis shalat subuh duka kunaon gambarna jadi kieu  ', '  ayo fans talk show follow  ', '  bapak punten ai taman cicaheum naha mni kieu hideung asa sareksek barau elem bambu mun pasang wifi enak jigana bapak  ', '  ciee minta ganti rugi duit juara bus bobotoh rusak ahok janji bantu ridwan kamil bayar biaya rugi  ', '  jalan imam bonjol  ', '  bbb bebegik bandung ngusir teu nyaah ka bandung hush hush  ', '  minta follow back  ', '  bus bobotoh rusak ahok janji bantu ridwan kamil bayar biaya rugi via  ', '  villa pranata lembang terima kasih buat ibu keluarga fasilitas  ', '  bus bobotoh persib rusak jakarta ahok janji ganti ridwan kamil kompas  ', '  dpd golkar jawa barat beri ridwan kamil ultimatum dpd golkar jawa barat beri ridwan kamil ultimatum  ', '  baya main bandung ridwan kamil imbau bonek santun php id  ', '  giat yanmas satlinmas lurah dunguscariang jalan rajawali timur  ', '  ridwan kamil minta bonek jadi tamu baik bandung ridwan kamil minta bonek jadi tamu baik bandung  ', '  ridwan kamil minta bonek jadi tamu baik bandung  ', '  sehat aplikasi guna dokter dokter puskesmas konsultasi kena masalah medis ribu dokter daftar belum  ', '  atas tumpah jumlah pasien rumah sakit sebab bentuk antre pasien pemerintah kota bandung baru melaunching aplikasi sistem elektronik aplikasi rujuk padu sehat  ', '  hadir bbc sembah hibur masyarakat hadir walikota bandung bapak ridwan kamil serta istri  ', '  orang tasik harapansaya moga uu bapak malah bagus kalau sama bapak  ', '  kapolsekta gedebage kompol sumari selasa malam nasi bungkus kepada baya psis yang sudah datang gbla  ', '  keceee  ', '  reaksi ridwan kamil kabar dukung lgbt reaksi ridwan kamil kabar twitter  ', '  reaksi ridwan kamil kabar dukung lgbt  ', '  reaksi ridwan kamil kabar dukung lgbt reaksi ridwan kamil kabar dukung lgbt  ', '  pki juang hahahaha  ', '  sampurasun wilujeng enjing wargi rancanumpang punten tonk helove dinten rebo bersih gps  ', '  kendala yang mungkin siapa yang bayar tiap konsultasi spesialis pemerintah kota bpjs pasien tidak mungkin spesialis sukarela layan konsul  ', '  ridwan bonek jangan gelandang bandung pikir pikir rakyat  ', '  status  ', '  memang kudu pks  ', '  gerak subuh jamaah rw rw dunguscariang  ', '  usung ridwan kamil golkar tabur benih pecah internal  ', '  hidup pilih tidak sama pilih selalu saling jelek ridwan kamil  ', '  wakakaa nabi muhammad bawa bawa beda jauh kakak bodoh ente pelihara itu jilat dulu pantan stamara baru ngomong ente huahahaah  ', '  saya dukung pk ridwan kamil  ', '  ridwan kamil aku kumpul parpol usung mudah  ', '  ridwan kamil aku kumpul parpol usung mudah ridwan kamil aku kumpul  ', '  nasdem partai dukung ridwan kamil jangan paksa cawagub jakarta partai nasdem salah  ', '  walikota bandung ridwan kamil calon gubernur jawa barat  ', '  alas nasdem bebas ridwan kamil pilih cawagub jakarta ketua umum partai nasdem  ', '  warga bandung sekitar bapak bapak akang temen temen lama babak besar permisi awal bangga rumah kalian sekaligus silaturahmi salam satu nyali wani  ', '  alas rkih dukung duet maman imanulhaq bapak emil pemilihan gubernur jawa barat  ', '  pemilihan gubernur jawa barat ridwan kamil desak segera tentu cawagub  ', '  dasar dungu nabi muhammad saw saja paman kafir tidak bawa bawa jadi kafir batas teman orang korup  ', '  murder status  ', '  murder  ', '  makan bareng warmis bsm bapak camat cibiru selasa  ', '  rapat koordinasi sama urus pkk selasa  ', '  pelihara tanam selasa  ', '  bersih selasa  ', '  muhaimin ungkap pkb dukung ridwan kamil asal  ', '  cari dukung ridwan kamil nasdem dekat demokrat ppp  ', '  kasihan bapak bapak elektabilitasnya ganggu  ', '  nasib ridwan kamil bagai lebai sana tidak sini tinggal id nasib ridwan kamil bagai lebai  ', '  wow ridwan kamil unggah design gedung laboratorium teknologi megah bakal hasil ironman  ', '  jalan gempolsari kota bandung cimahi buat macet depan gerbang utama pabrik kahateknya  ', '  mama pagelaran tahu idola ema ngajeblag aku amaliah anjeuna bapak jawa barat keun  ', '  bulan yang lalu kandidat kuat untuk gubernur jawa barat mungkin cuma ridwan kamil dedi mulyadi tapi situasi politik memang ubah terus  ', '  tinggal parpol besar siapa mau dukung ridwan kamil  ', '  np ridwan kamil harap polisi tni tindak juru parkir liar  ', '  debat php pdip ridwan kamil siap usung ppp pkb nasdem jawa barat  ', '  antapani macet parah sejak dbmp kota bandung pasang beton batas jalan naik jalan layang  ', '  bandung  ', '  pues su excelencia ha viajado poco ini asomo fue pionera viena copenhague los implementaron antes capital en movimiento  ', '  yo lo dudo no hay competencias necesarias quien ostenta un puesto de vivimos diario la nula  ', '  pkb dekat ridwan kamil pemilihan gubernur jawa barat pers  ', '  ta dhim mama juang anjeunna urg tiasa wae mh raos tuang tibra jadi jawa barat  ', '  respons nasdem soal pdip golkar tidak dukung ridwan kamil detikcom siar pers daftar  ', '  bapak ridwan kamil dedi mulyadi alhamdulillah bapak ohang  ', '  gerak subuh jamaah masjid an nur rw dunguscariang  ', '  koalisi lawan ridwan kamil golkar pdip usung dedi mulyadi rieke detikcom siar pers daftar  ', '  pdi golkar tutup pintu ridwan kamil alas banjarmasin post  ', '  programa se implementa con objetivos metas indicadores leading lagging hay  ', '  no no no nos consta nos consta que no hay tal en ecobici me consta que maquillan esa ciudad es la que muestran mentirosa  ', '  lintas kereta jalan laswi sering sangat kondisi kaya foto pernah yang sampai angkat palang supaya lewat infobdg  ', '  semangat shubuh bapak jangan lupa shalat untuk doa yakin diri memang maju jadi jawa barat amanat nafsu  ', '  apresiasi penuh dehh buak bapak tri pasti layan baik menhub tinjau angkut  ', '  esas autoalabanzas guayabazos te las los que te tienen pero nosotros no nos consta  ', '  orang dosa insyaallah dapat ganjar  ', '  ahora mejorar el sistema que hay cambiar gente de directores de semovi hacer que fluya mejor  ', '  el alcalde nos contaba que su sist de bicicletas visitar la cdmx ver el de  ', '  hoy pude compartir con el alcalde de bandung indonesia la experiencia cdmx en seguridad vial  ', '  mangga simak moga cepat respon status  ', '  mungkin naik nama karena pidato vicktor vikiran kotor nama naik untuk tkk pilih hahahahaha  ', '  pilkada kaum ahog takut sama ridwan kamil yaa sekarang bola putar  ', '  cari dukung ridwan kamil nasdem dekat demokrat ppp pkb  ', '  pdip golkar siap lawan ridwan kamil nasdem tidak khawatir detikcom siar pers daftar  ', '  dedi mulyadi mau damping ridwan kamil pilkada jawa barat  ', '  apresiasi ibu ani yudhoyono sempat tawar ridwan kamil telat jawab ibu ani yudhoyono sempat tawar ridwan kamil telat jawab  ', '  ridwan kamil sulit perahu  ', '  sae sukajadi iraha  ', '  jebak betmen figur yang mampu tidak maju mereka yang nyiapin calon sendiri buat ridwan kamil jadi orang muslim yang bisa bangga muslim  ', '  siapa dukung ridwan kamil  ', '  mantap  ', '  selalu ada jalan buat yang maju negeri  ', '  gila nyata kader pks tidak hati semua kacau ridwan kamil orang baik hujat sudah kaya koruptor lutfi hasan puja  ', '  ciri khas ambisius sombong tata cara etika rasa superior alam lah yamg gerak  ', '  baik mundur kecoh kalau usung bewok hancur sudah nasdem status  ', '  nasdem coba erti alas pdip tarik ridwan kamil  ', '  apresiasi ibu ani yudhoyono sempat tawar ridwan kamil telat jawab apresiasi ibu ani yudhoyono sempat tawar ridwan kamil telat jawab  ', '  ridwankamil lapor bapak selasa rokok tambah oshi supaya fans mau ikut  ', '  ayo makin semangat  ', '  bina petugas kebersihn sekaligus serah honor bulan  ', '  cara ampuh henti rokok cara ampuh henti  ', '  jalan olah raga iii caket gsg iraha tos lam pis mengpetna  ', '  cikopian heula kasayana ah  ', '  jalan olah raga iii dekat gsg kapan tos lam pis mengpetna  ', '  amiin bapak  ', '  woww meeting at twitter hq discussing potential opening office in bandung joint campaign of  ', '  taman cikapundung banyak amen bapak ngamen na maksa nyungken dibantos janten kurang nyaman cintabandung  ', '  sawangsulna bapak  ', '  jalan dalem kaum semerawut penuh pedagang kaki lima sampah dimna jadi indeks kecewa bukan bahagia  ', '  jalan dalem kaum semerawut penuh pedagang kaki lima sampah dimna mana kalau begini jadi indeks kecewa bukan bahagia  ', '  jalan dalem kaum semerawut penuh pedagang kaki lima sampah mana kalau begini jadi indeks kecewa bukan bahagia  ', '  sudah sampai bapak  ', '  urc ujungberung baik jalan pacu kuda  ', '  kaya kering segera  ', '  urc ujungberung pengerukn salur jalan arcamanik endah  ', '  bapak wali punten dari kemarin pagi pasar suci macet lumayan panjang  ', '  nuhun soekarno hatta kamu perlu tangan korban  ', '  btw mr has to solve problems such as public transportation traffic jams prostitution in bandung let see  ', '  sampai kepada unit kerja kait  ', '  mizwar mohon bantu tangan jalan soekarno  ', '  guna tweter untuk kembang ekonomi sejahtera rakyat  ', '  the logical carreer path for him would be jawa barat first before republik indonesia time will tell  ']\n"
     ]
    }
   ],
   "source": [
    "for i in data['text']:\n",
    "    Texts.append(i)\n",
    "print(Texts)"
   ]
  },
  {
   "cell_type": "markdown",
   "metadata": {},
   "source": [
    "<h1>Memberikan bobot pada setiap kata di Dataset<h1>"
   ]
  },
  {
   "cell_type": "code",
   "execution_count": 5,
   "metadata": {},
   "outputs": [
    {
     "name": "stdout",
     "output_type": "stream",
     "text": [
      "(596, 834)\n",
      "[[0. 0. 0. ... 0. 0. 0.]\n",
      " [0. 0. 0. ... 0. 0. 0.]\n",
      " [0. 0. 0. ... 0. 0. 0.]\n",
      " ...\n",
      " [0. 0. 0. ... 0. 0. 0.]\n",
      " [0. 0. 0. ... 0. 0. 0.]\n",
      " [0. 0. 0. ... 0. 0. 0.]]\n"
     ]
    }
   ],
   "source": [
    "from sklearn.feature_extraction.text import TfidfVectorizer\n",
    "\n",
    "tfidf_vectorizer = TfidfVectorizer(max_df=0.95, min_df=2)\n",
    "tfidf = tfidf_vectorizer.fit_transform(Texts)\n",
    "print(tfidf.shape)\n",
    "\n",
    "matrix_tfidf = tfidf.toarray()\n",
    "print(matrix_tfidf)"
   ]
  },
  {
   "cell_type": "markdown",
   "metadata": {},
   "source": [
    "<h1>Memisahkan antara Data Training dengan Data Testing<h1>"
   ]
  },
  {
   "cell_type": "code",
   "execution_count": 6,
   "metadata": {},
   "outputs": [
    {
     "name": "stdout",
     "output_type": "stream",
     "text": [
      "[[0. 0. 0. ... 0. 0. 0.]\n",
      " [0. 0. 0. ... 0. 0. 0.]\n",
      " [0. 0. 0. ... 0. 0. 0.]\n",
      " ...\n",
      " [0. 0. 0. ... 0. 0. 0.]\n",
      " [0. 0. 0. ... 0. 0. 0.]\n",
      " [0. 0. 0. ... 0. 0. 0.]]\n",
      "[[0. 0. 0. ... 0. 0. 0.]\n",
      " [0. 0. 0. ... 0. 0. 0.]\n",
      " [0. 0. 0. ... 0. 0. 0.]\n",
      " ...\n",
      " [0. 0. 0. ... 0. 0. 0.]\n",
      " [0. 0. 0. ... 0. 0. 0.]\n",
      " [0. 0. 0. ... 0. 0. 0.]]\n",
      "jumlah data traning =379\n",
      "jumlah data test = 217\n"
     ]
    }
   ],
   "source": [
    "total_data_training = len(Dataset)\n",
    "\n",
    "x_train = matrix_tfidf[0:total_data_training,]\n",
    "x_test = matrix_tfidf[total_data_training:len(Texts),]\n",
    "\n",
    "print(x_train)\n",
    "print(x_test)\n",
    "\n",
    "print(\"jumlah data traning =\"+ str(len(x_train)))\n",
    "print(\"jumlah data test = \"+ str(len(x_test)))"
   ]
  },
  {
   "cell_type": "markdown",
   "metadata": {},
   "source": [
    "<h1>Menerapkan Metode Naive Bayes<h1>"
   ]
  },
  {
   "cell_type": "code",
   "execution_count": 7,
   "metadata": {},
   "outputs": [
    {
     "name": "stdout",
     "output_type": "stream",
     "text": [
      "MultinomialNB(alpha=1.0, class_prior=None, fit_prior=True)\n"
     ]
    }
   ],
   "source": [
    "from sklearn.naive_bayes import MultinomialNB\n",
    "mnb = MultinomialNB()\n",
    "model = mnb.fit(x_train, Labels)\n",
    "print(model)"
   ]
  },
  {
   "cell_type": "markdown",
   "metadata": {},
   "source": [
    "<h1>Menentukan Kelas setiap Tweet dari Data Testing<h1>"
   ]
  },
  {
   "cell_type": "code",
   "execution_count": 8,
   "metadata": {},
   "outputs": [
    {
     "name": "stdout",
     "output_type": "stream",
     "text": [
      "[1 1 1 1 0 1 1 1 1 1 1 1 1 1 1 1 1 0 1 1 1 1 1 1 1 1 1 1 1 1 1 1 1 1 1 1 1\n",
      " 1 1 1 1 1 1 1 1 1 1 1 1 1 1 1 1 1 1 1 1 1 1 1 1 1 1 1 1 1 1 1 1 1 1 1 1 1\n",
      " 1 1 1 1 1 1 1 1 1 1 1 1 1 1 1 1 1 1 1 1 1 1 1 1 1 1 1 1 1 1 1 1 1 1 1 1 1\n",
      " 1 1 1 1 1 1 1 1 1 1 1 1 1 1 1 1 1 1 1 1 1 1 1 1 1 1 1 1 1 1 1 1 1 1 1 1 1\n",
      " 1 1 1 1 1 1 1 1 1 1 1 0 1 1 1 1 1 1 1 1 1 1 1 1 1 1 1 1 1 1 1 1 1 1 1 1 1\n",
      " 1 1 1 1 1 1 1 1 1 1 1 1 1 1 1 1 1 1 1 1 1 1 1 1 1 1 1 1 1 0 1 1]\n"
     ]
    }
   ],
   "source": [
    "predict = model.predict(x_test)\n",
    "print(predict)"
   ]
  },
  {
   "cell_type": "markdown",
   "metadata": {},
   "source": [
    "<h1>Menampilkan Kelas dari Data Testing yang dilabelkan secara manual<h1>"
   ]
  },
  {
   "cell_type": "code",
   "execution_count": 9,
   "metadata": {},
   "outputs": [
    {
     "name": "stdout",
     "output_type": "stream",
     "text": [
      "[1.0, 1.0, 1.0, 1.0, 0.0, 1.0, 1.0, 0.0, 1.0, 1.0, 0.0, 1.0, 1.0, 1.0, 1.0, 1.0, 1.0, 0.0, 0.0, 1.0, 0.0, 0.0, 1.0, 1.0, 1.0, 1.0, 1.0, 1.0, 1.0, 1.0, 0.0, 0.0, 1.0, 1.0, 1.0, 0.0, 0.0, 0.0, 1.0, 1.0, 0.0, 0.0, 0.0, 1.0, 0.0, 0.0, 1.0, 0.0, 0.0, 0.0, 0.0, 0.0, 1.0, 1.0, 1.0, 1.0, 1.0, 1.0, 1.0, 1.0, 1.0, 0.0, 1.0, 1.0, nan, 1.0, 1.0, 1.0, 1.0, 1.0, 1.0, 1.0, 1.0, 0.0, 1.0, 1.0, 0.0, 1.0, 1.0, 1.0, 1.0, 1.0, 0.0, 1.0, 1.0, 0.0, 1.0, 1.0, 1.0, 1.0, 1.0, 1.0, 1.0, 1.0, 1.0, 0.0, 1.0, 0.0, 1.0, 0.0, 1.0, 0.0, 1.0, 1.0, 1.0, 1.0, 1.0, 0.0, 1.0, 1.0, 1.0, 1.0, 1.0, 1.0, 1.0, 1.0, 1.0, 1.0, 0.0, 1.0, 1.0, 1.0, 1.0, 0.0, 0.0, 0.0, 1.0, 1.0, 1.0, 0.0, 1.0, 1.0, 1.0, 1.0, 0.0, 0.0, 0.0, 0.0, 1.0, 1.0, 1.0, 1.0, 1.0, 1.0, 0.0, 0.0, 1.0, 0.0, 1.0, 1.0, 1.0, 1.0, 1.0, 0.0, 1.0, 1.0, 1.0, 1.0, 1.0, 0.0, 1.0, 1.0, 1.0, 0.0, 1.0, 1.0, 1.0, 1.0, 1.0, 1.0, 0.0, 1.0, 1.0, 1.0, 1.0, 1.0, 1.0, 1.0, 1.0, 0.0, 0.0, 0.0, 1.0, 1.0, 1.0, 1.0, 1.0, 0.0, 0.0, 0.0, 1.0, 0.0, 1.0, 1.0, 1.0, 1.0, 1.0, 1.0, 1.0, 1.0, 1.0, 0.0, 1.0, 0.0, 0.0, 0.0, 1.0, 1.0, 0.0, 1.0, 0.0, 1.0, 1.0, 1.0, 1.0, 1.0, 1.0]\n"
     ]
    }
   ],
   "source": [
    "import pandas as pd\n",
    "raw_data = pd.DataFrame()\n",
    "tmp = pd.read_csv('tweetTestLabel.csv')\n",
    "raw_data = raw_data.append(tmp,ignore_index=True)\n",
    "\n",
    "Dataset = raw_data[['text','kelas']].values.tolist()\n",
    "\n",
    "kelas = [col[1] for col in Dataset]\n",
    "print(kelas)"
   ]
  },
  {
   "cell_type": "markdown",
   "metadata": {},
   "source": [
    "<h1>Menghitung Akurasi kelas dari Data Testing(Label Manual) dan Data Testing (Label dengan Naive Bayes)<h1>"
   ]
  },
  {
   "cell_type": "code",
   "execution_count": 20,
   "metadata": {},
   "outputs": [
    {
     "ename": "ValueError",
     "evalue": "Found input variables with inconsistent numbers of samples: [292, 217]",
     "output_type": "error",
     "traceback": [
      "\u001b[1;31m---------------------------------------------------------------------------\u001b[0m",
      "\u001b[1;31mValueError\u001b[0m                                Traceback (most recent call last)",
      "\u001b[1;32m<ipython-input-20-0fef931b2660>\u001b[0m in \u001b[0;36m<module>\u001b[1;34m()\u001b[0m\n\u001b[0;32m      1\u001b[0m \u001b[1;32mfrom\u001b[0m \u001b[0msklearn\u001b[0m\u001b[1;33m.\u001b[0m\u001b[0mmetrics\u001b[0m \u001b[1;32mimport\u001b[0m \u001b[0maccuracy_score\u001b[0m\u001b[1;33m\u001b[0m\u001b[0m\n\u001b[0;32m      2\u001b[0m \u001b[1;33m\u001b[0m\u001b[0m\n\u001b[1;32m----> 3\u001b[1;33m \u001b[0maccuracy_score\u001b[0m\u001b[1;33m(\u001b[0m\u001b[0mkelas\u001b[0m\u001b[1;33m,\u001b[0m\u001b[0mpredict\u001b[0m\u001b[1;33m)\u001b[0m\u001b[1;33m\u001b[0m\u001b[0m\n\u001b[0m",
      "\u001b[1;32m~\\Anaconda3\\lib\\site-packages\\sklearn\\metrics\\classification.py\u001b[0m in \u001b[0;36maccuracy_score\u001b[1;34m(y_true, y_pred, normalize, sample_weight)\u001b[0m\n\u001b[0;32m    174\u001b[0m \u001b[1;33m\u001b[0m\u001b[0m\n\u001b[0;32m    175\u001b[0m     \u001b[1;31m# Compute accuracy for each possible representation\u001b[0m\u001b[1;33m\u001b[0m\u001b[1;33m\u001b[0m\u001b[0m\n\u001b[1;32m--> 176\u001b[1;33m     \u001b[0my_type\u001b[0m\u001b[1;33m,\u001b[0m \u001b[0my_true\u001b[0m\u001b[1;33m,\u001b[0m \u001b[0my_pred\u001b[0m \u001b[1;33m=\u001b[0m \u001b[0m_check_targets\u001b[0m\u001b[1;33m(\u001b[0m\u001b[0my_true\u001b[0m\u001b[1;33m,\u001b[0m \u001b[0my_pred\u001b[0m\u001b[1;33m)\u001b[0m\u001b[1;33m\u001b[0m\u001b[0m\n\u001b[0m\u001b[0;32m    177\u001b[0m     \u001b[1;32mif\u001b[0m \u001b[0my_type\u001b[0m\u001b[1;33m.\u001b[0m\u001b[0mstartswith\u001b[0m\u001b[1;33m(\u001b[0m\u001b[1;34m'multilabel'\u001b[0m\u001b[1;33m)\u001b[0m\u001b[1;33m:\u001b[0m\u001b[1;33m\u001b[0m\u001b[0m\n\u001b[0;32m    178\u001b[0m         \u001b[0mdiffering_labels\u001b[0m \u001b[1;33m=\u001b[0m \u001b[0mcount_nonzero\u001b[0m\u001b[1;33m(\u001b[0m\u001b[0my_true\u001b[0m \u001b[1;33m-\u001b[0m \u001b[0my_pred\u001b[0m\u001b[1;33m,\u001b[0m \u001b[0maxis\u001b[0m\u001b[1;33m=\u001b[0m\u001b[1;36m1\u001b[0m\u001b[1;33m)\u001b[0m\u001b[1;33m\u001b[0m\u001b[0m\n",
      "\u001b[1;32m~\\Anaconda3\\lib\\site-packages\\sklearn\\metrics\\classification.py\u001b[0m in \u001b[0;36m_check_targets\u001b[1;34m(y_true, y_pred)\u001b[0m\n\u001b[0;32m     69\u001b[0m     \u001b[0my_pred\u001b[0m \u001b[1;33m:\u001b[0m \u001b[0marray\u001b[0m \u001b[1;32mor\u001b[0m \u001b[0mindicator\u001b[0m \u001b[0mmatrix\u001b[0m\u001b[1;33m\u001b[0m\u001b[0m\n\u001b[0;32m     70\u001b[0m     \"\"\"\n\u001b[1;32m---> 71\u001b[1;33m     \u001b[0mcheck_consistent_length\u001b[0m\u001b[1;33m(\u001b[0m\u001b[0my_true\u001b[0m\u001b[1;33m,\u001b[0m \u001b[0my_pred\u001b[0m\u001b[1;33m)\u001b[0m\u001b[1;33m\u001b[0m\u001b[0m\n\u001b[0m\u001b[0;32m     72\u001b[0m     \u001b[0mtype_true\u001b[0m \u001b[1;33m=\u001b[0m \u001b[0mtype_of_target\u001b[0m\u001b[1;33m(\u001b[0m\u001b[0my_true\u001b[0m\u001b[1;33m)\u001b[0m\u001b[1;33m\u001b[0m\u001b[0m\n\u001b[0;32m     73\u001b[0m     \u001b[0mtype_pred\u001b[0m \u001b[1;33m=\u001b[0m \u001b[0mtype_of_target\u001b[0m\u001b[1;33m(\u001b[0m\u001b[0my_pred\u001b[0m\u001b[1;33m)\u001b[0m\u001b[1;33m\u001b[0m\u001b[0m\n",
      "\u001b[1;32m~\\Anaconda3\\lib\\site-packages\\sklearn\\utils\\validation.py\u001b[0m in \u001b[0;36mcheck_consistent_length\u001b[1;34m(*arrays)\u001b[0m\n\u001b[0;32m    202\u001b[0m     \u001b[1;32mif\u001b[0m \u001b[0mlen\u001b[0m\u001b[1;33m(\u001b[0m\u001b[0muniques\u001b[0m\u001b[1;33m)\u001b[0m \u001b[1;33m>\u001b[0m \u001b[1;36m1\u001b[0m\u001b[1;33m:\u001b[0m\u001b[1;33m\u001b[0m\u001b[0m\n\u001b[0;32m    203\u001b[0m         raise ValueError(\"Found input variables with inconsistent numbers of\"\n\u001b[1;32m--> 204\u001b[1;33m                          \" samples: %r\" % [int(l) for l in lengths])\n\u001b[0m\u001b[0;32m    205\u001b[0m \u001b[1;33m\u001b[0m\u001b[0m\n\u001b[0;32m    206\u001b[0m \u001b[1;33m\u001b[0m\u001b[0m\n",
      "\u001b[1;31mValueError\u001b[0m: Found input variables with inconsistent numbers of samples: [292, 217]"
     ]
    }
   ],
   "source": [
    "from sklearn.metrics import accuracy_score\n",
    "\n",
    "accuracy_score(kelas,predict)"
   ]
  },
  {
   "cell_type": "code",
   "execution_count": null,
   "metadata": {
    "collapsed": true
   },
   "outputs": [],
   "source": []
  }
 ],
 "metadata": {
  "kernelspec": {
   "display_name": "Python 3",
   "language": "python",
   "name": "python3"
  },
  "language_info": {
   "codemirror_mode": {
    "name": "ipython",
    "version": 3
   },
   "file_extension": ".py",
   "mimetype": "text/x-python",
   "name": "python",
   "nbconvert_exporter": "python",
   "pygments_lexer": "ipython3",
   "version": "3.6.3"
  }
 },
 "nbformat": 4,
 "nbformat_minor": 2
}
