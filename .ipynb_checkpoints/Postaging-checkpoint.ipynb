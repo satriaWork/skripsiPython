{
 "cells": [
  {
   "cell_type": "code",
   "execution_count": 163,
   "metadata": {
    "collapsed": true
   },
   "outputs": [],
   "source": [
    "#Menggunakan file kata_dasar.txt\n",
    "import PyPDF2\n",
    "import re\n",
    "import nlp_if_lib as nlp\n",
    "from spacy.lang.id import Indonesian\n",
    "\n",
    "nlp_id_spacy = Indonesian() \n",
    "\n",
    "twit=\"ridwan kamil bakal saing ahok kamil bakal saing ahok kagum \"\n",
    "tweet=twit.strip()\n",
    "Teks = nlp_id_spacy(\"mohon diatur supaya bandung tidak kagum\")\n",
    "\n",
    "\n",
    "token_pos = nlp.getPOSTag()\n",
    "\n",
    "for token in Teks:\n",
    "    if(token_pos[token.lemma_]==\"adv\" or token_pos[token.lemma_]==\"adj\"):\n",
    "        print(token.lemma_)\n",
    "        \n",
    "#sumber: Sutanto, Workshpoh Text Mining ITTC UAD"
   ]
  },
  {
   "cell_type": "code",
   "execution_count": 19,
   "metadata": {},
   "outputs": [
    {
     "ename": "SyntaxError",
     "evalue": "unexpected EOF while parsing (<ipython-input-19-27da2832ea8d>, line 20)",
     "output_type": "error",
     "traceback": [
      "\u001b[1;36m  File \u001b[1;32m\"<ipython-input-19-27da2832ea8d>\"\u001b[1;36m, line \u001b[1;32m20\u001b[0m\n\u001b[1;33m    #sumber: Sutanto, Workshpoh Text Mining ITTC UAD\u001b[0m\n\u001b[1;37m                                                    ^\u001b[0m\n\u001b[1;31mSyntaxError\u001b[0m\u001b[1;31m:\u001b[0m unexpected EOF while parsing\n"
     ]
    }
   ],
   "source": [
    "#Menggunakan file kata_dasar.txt\n",
    "import PyPDF2\n",
    "import nlp_if_lib as nlp\n",
    "from spacy.lang.id import Indonesian\n",
    "\n",
    "nlp_id_spacy = Indonesian() \n",
    "\n",
    "Teks = nlp_id_spacy(\" ridwan kamil bakal saing ahok kamil bakal saing ahok kagum \")\n",
    "\n",
    "token_pos = nlp.getPOSTag()\n",
    "\n",
    "for token in Teks:\n",
    "    print(token.lemma_, end= ': ')\n",
    "    try:\n",
    "        if(token_pos[token.lemma_]==\"adv\" or token_pos[token.lemma_]==\"adj\"):\n",
    "            kata=token.lemma_\n",
    "            print(kata)\n",
    "    except:\n",
    "        print('n')\n",
    "\n",
    "        \n",
    "#sumber: Sutanto, Workshpoh Text Mining ITTC UAD"
   ]
  },
  {
   "cell_type": "code",
   "execution_count": 46,
   "metadata": {},
   "outputs": [
    {
     "name": "stdout",
     "output_type": "stream",
     "text": [
      "ridwan kamil bakal baik saing ahok kamil bakal saing ahok enak ampuh apik asri ayu bagus bahari aman asyik baik basah eco empuk gurih legit\n"
     ]
    }
   ],
   "source": [
    "#Menggunakan file kata_dasar.txt\n",
    "import PyPDF2\n",
    "import urllib, json\n",
    "import nlp_if_lib as nlp\n",
    "from spacy.lang.id import Indonesian\n",
    "\n",
    "nlp_id_spacy = Indonesian() \n",
    "sinonim=[]\n",
    "perluasan=[]\n",
    "\n",
    "twit =\" ridwan kamil bakal baik saing ahok kamil bakal saing ahok enak \"\n",
    "tweet=twit.strip()\n",
    "Teks = nlp_id_spacy(tweet)\n",
    "\n",
    "token_pos = nlp.getPOSTag()\n",
    "\n",
    "for token in Teks:\n",
    "    t=token.lemma_\n",
    "   \n",
    "    try: \n",
    "        pos=token_pos[token.lemma_]\n",
    "        if(token_pos[token.lemma_]==\"adv\" or token_pos[token.lemma_]==\"adj\"):\n",
    "            kata=token.lemma_\n",
    "            \n",
    "            url = \"http://kateglo.com/api.php?format=json&phrase=\"+kata\n",
    "            respon = urllib.request.urlopen(url)\n",
    "            data = json.loads(respon.read())\n",
    "\n",
    "            post = data[\"kateglo\"][\"all_relation\"]\n",
    "\n",
    "            for x in range(0,10):\n",
    "                value=post[x]\n",
    "                if(value['rel_type']=='s'):\n",
    "                    if(value['lex_class']=='adj'):\n",
    "                        syn=value['related_phrase']\n",
    "                        sinonim.append(syn)\n",
    "              \n",
    "            \n",
    "    except:\n",
    "        pos='n'\n",
    "        \n",
    "    perluasan.append(token.text)\n",
    "    \n",
    "listSyn=len(sinonim)\n",
    "for i in range(0,listSyn):\n",
    "    perluasan.append(sinonim[i])\n",
    "\n",
    "queryEx=' '.join(perluasan)\n",
    "print(queryEx)\n",
    "#sumber: Sutanto, Workshpoh Text Mining ITTC UAD"
   ]
  },
  {
   "cell_type": "code",
   "execution_count": null,
   "metadata": {
    "collapsed": true
   },
   "outputs": [],
   "source": []
  }
 ],
 "metadata": {
  "kernelspec": {
   "display_name": "Python 3",
   "language": "python",
   "name": "python3"
  },
  "language_info": {
   "codemirror_mode": {
    "name": "ipython",
    "version": 3
   },
   "file_extension": ".py",
   "mimetype": "text/x-python",
   "name": "python",
   "nbconvert_exporter": "python",
   "pygments_lexer": "ipython3",
   "version": "3.6.3"
  }
 },
 "nbformat": 4,
 "nbformat_minor": 2
}
