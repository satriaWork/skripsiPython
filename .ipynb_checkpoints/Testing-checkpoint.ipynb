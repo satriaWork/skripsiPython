{
 "cells": [
  {
   "cell_type": "markdown",
   "metadata": {},
   "source": [
    "<h1>Membuka 1 Tweet dari File json</h1>"
   ]
  },
  {
   "cell_type": "code",
   "execution_count": 1,
   "metadata": {},
   "outputs": [
    {
     "name": "stdout",
     "output_type": "stream",
     "text": [
      "{'fullname': 'Fajar Vantano', 'html': '<p class=\"TweetTextSize js-tweet-text tweet-text\" data-aria-label-part=\"0\" lang=\"in\"><a class=\"twitter-atreply pretty-link js-nav\" data-mentioned-user-id=\"80323736\" dir=\"ltr\" href=\"/ridwankamil\"><s>@</s><b><strong>ridwankamil</strong></b></a> krn mereka sdh sangat kelaparan. bgmn ini pa? siapa kira nya yg bisa menutup KBB &amp; mngembalikn hewan2 ke habitat nya semula,</p>', 'id': '822868601342279681', 'likes': 0, 'replies': 0, 'retweets': 0, 'text': '@ridwankamil krn mereka sdh sangat kelaparan. bgmn ini pa? siapa kira nya yg bisa menutup KBB & mngembalikn hewan2 ke habitat nya semula,', 'timestamp': '2017-01-21T18:08:57', 'url': '/fajarvantano1/status/822868601342279681', 'user': 'fajarvantano1'}\n"
     ]
    }
   ],
   "source": [
    "import codecs, json\n",
    "with codecs.open('tweetsFix.json','r','utf-8') as f:\n",
    "    tweets=json.load(f, encoding='utf-8')\n",
    "    print(tweets[400])"
   ]
  },
  {
   "cell_type": "markdown",
   "metadata": {},
   "source": [
    "<h1>Preprocessing</h1>"
   ]
  },
  {
   "cell_type": "code",
   "execution_count": 2,
   "metadata": {
    "collapsed": true
   },
   "outputs": [],
   "source": [
    "import re\n",
    "kumpText=[]\n",
    "def preprocessing(text=\"\",\n",
    "                  casefolding=True,\n",
    "                  removeusername=True,\n",
    "                  removenonalphabet=True,\n",
    "                  removestopword=True,\n",
    "                  stemming=True,\n",
    "                  removehashtag=True,\n",
    "                  removeemail=True,\n",
    "                  removeAdr=True):\n",
    "    \n",
    "    if(text!=\"\"):\n",
    "        import re\n",
    "       \n",
    "        if(casefolding):\n",
    "            text = text.lower()\n",
    "            print(\"Case Folding = \"+text)\n",
    "            \n",
    "        if(removeusername):\n",
    "            nama = re.compile(\"(?:^|\\s)[＠ @]{1}([^\\s#<>[\\]|{}]+)\", re.UNICODE)\n",
    "            text = re.sub(nama, ' ', text)\n",
    "            print(\"Remove Username = \"+text)\n",
    "\n",
    "        \n",
    "        if(removeAdr):\n",
    "            com= re.compile(r' \\w+\\.\\w+\\.*\\w*\\D\\w*')\n",
    "            text = re.sub(com, ' ', text)\n",
    "            print(\"Remove Address = \"+text)\n",
    "\n",
    "            \n",
    "        if(removehashtag):\n",
    "            hashtag = re.compile(\"(?:^|\\s)[＃#]{1}(\\w+)\", re.UNICODE)\n",
    "            text = re.sub(hashtag, ' ', text)\n",
    "            print(\"Remove Hashtag = \"+text)\n",
    " \n",
    "        if(removeemail):\n",
    "            email = re.compile(r'[\\w\\.-]+@[\\w\\.-]+\\.\\w+')\n",
    "            text = re.sub(email, ' ', text) \n",
    "            print(\"Remove Email = \"+text)\n",
    "            \n",
    "        if(removenonalphabet):\n",
    "            import re\n",
    "            text = ' '.join(re.findall(r'\\b[a-z]+?[a-z]+\\b',text))\n",
    "            print(\"Remove non Alphabet = \"+text)\n",
    "    \n",
    "        if(removestopword):\n",
    "            from Sastrawi.StopWordRemover.StopWordRemoverFactory import StopWordRemoverFactory\n",
    "            factory = StopWordRemoverFactory()\n",
    "            Sastrawi_StopWords_id = factory.get_stop_words()\n",
    "            temp = [t for t in re.findall(r'\\b[a-z]+-?[a-z]+\\b',text) if t not in Sastrawi_StopWords_id]\n",
    "            text = ' '.join(temp)\n",
    "            print(\"Remove Stopword = \"+text)\n",
    "            \n",
    "        if(stemming):\n",
    "            from Sastrawi.Stemmer.StemmerFactory import StemmerFactory\n",
    "            stemmer = StemmerFactory().create_stemmer()\n",
    "            text   = stemmer.stem(text)\n",
    "            print(\"Stemming = \"+text)\n",
    "            \n",
    "    return(text)\n"
   ]
  },
  {
   "cell_type": "markdown",
   "metadata": {},
   "source": [
    "<h1>Preprocessing pada File json</h1>"
   ]
  },
  {
   "cell_type": "code",
   "execution_count": 3,
   "metadata": {
    "collapsed": true
   },
   "outputs": [],
   "source": [
    "import json\n",
    "\n",
    "filejson=open(\"tweetsFix.json\")\n",
    "data=json.loads(filejson.read())\n",
    "komentar = []\n",
    "kata=[]\n",
    "for item in data[420:700]:\n",
    "    r={}\n",
    "    r['text'] = preprocessing(item['text'])\n",
    "    komentar.append(r)\n",
    "    tweet=r['text'] if 'text' in item else item\n",
    "    \n",
    "    \n",
    "    file = open(\"kamus.txt\", encoding=\"utf-8\", errors='replace')\n",
    "    Teks = file.readlines()\n",
    "    Teks_string=' '.join(Teks)\n",
    "    fix=eval(Teks_string)\n",
    "    \n",
    "    t=\" \",tweet,\" \"\n",
    "    t_string=' '.join(t)\n",
    "    t_jadi=t_string \n",
    "    \n",
    "    for slang, formal in fix.items():\n",
    "        t_jadi = t_jadi.replace(slang,formal)\n",
    "    kata.append(t_jadi)\n",
    "\n"
   ]
  },
  {
   "cell_type": "code",
   "execution_count": null,
   "metadata": {
    "collapsed": true
   },
   "outputs": [],
   "source": [
    "import nlp_if_lib as nlp\n",
    "import urllib, json\n",
    "from spacy.lang.id import Indonesian\n",
    "nlp_id_spacy = Indonesian() \n",
    "\n",
    "kataJadi=[] \n",
    "lenKata=len(kata)\n",
    "for t in range(0,lenKata):\n",
    "    teksAnt=[]\n",
    "    kataStrip=kata[t].strip()\n",
    "    kataToken = nlp_id_spacy(kataStrip)  \n",
    "    token_pos = nlp.getPOSTag()\n",
    "    \n",
    "    for x in kataToken:\n",
    "        teksAnt.append(x.text)\n",
    "    \n",
    "    lenTeksAnt=len(teksAnt)   \n",
    "    for y in range(0,lenTeksAnt):\n",
    "        antonim=[]\n",
    "        if(teksAnt[y]==\"tidak\" or teksAnt[y]==\"kurang\" or teksAnt[y]==\"belum\"):\n",
    "            for token in kataToken:\n",
    "                t=token.lemma_\n",
    "                try: \n",
    "                    pos=token_pos[token.lemma_]\n",
    "                    if(token_pos[teksAnt[y+1]]==\"adj\"):\n",
    "                        url = \"http://kateglo.com/api.php?format=json&phrase=\"+teksAnt[y+1]\n",
    "                        respon = urllib.request.urlopen(url)\n",
    "                        data = json.loads(respon.read())\n",
    "                        post = data[\"kateglo\"][\"all_relation\"]\n",
    "\n",
    "                        lenPost=len(post)\n",
    "                        for x in range(0,lenPost):\n",
    "                            value=post[x]\n",
    "                            if(value['rel_type']=='a'):\n",
    "                                ant=value['related_phrase']\n",
    "                                antonim.append(ant)\n",
    "                                teksAnt[y+1]=\"\"\n",
    "                                teksAnt[y]=\"\"\n",
    "                except:\n",
    "                    pos='n'\n",
    "            \n",
    "                \n",
    "            \n",
    "        listAnt=len(antonim)\n",
    "        for i in range(0,listAnt):\n",
    "            teksAnt.append(antonim[i])\n",
    "        \n",
    "    ubahAnt=' '.join(teksAnt)\n",
    "    kataJadi.append(ubahAnt)"
   ]
  },
  {
   "cell_type": "code",
   "execution_count": 5,
   "metadata": {
    "collapsed": true
   },
   "outputs": [],
   "source": [
    "lenKata=len(kata)\n",
    "for i in range(0,lenKata):\n",
    "    for j in range(i+1,lenKata):\n",
    "        if(kata[i]==kata[j]):\n",
    "            kata[j]=\"\"\n",
    "\n",
    "for h in kata:\n",
    "    if(h==\"\"):\n",
    "        kata.remove(h)\n"
   ]
  },
  {
   "cell_type": "markdown",
   "metadata": {},
   "source": [
    "<h1>Simpan Data</h1>"
   ]
  },
  {
   "cell_type": "code",
   "execution_count": 5,
   "metadata": {},
   "outputs": [
    {
     "ename": "ValueError",
     "evalue": "Shape of passed values is (1, 3), indices imply (2, 3)",
     "output_type": "error",
     "traceback": [
      "\u001b[1;31m---------------------------------------------------------------------------\u001b[0m",
      "\u001b[1;31mValueError\u001b[0m                                Traceback (most recent call last)",
      "\u001b[1;32m~\\Anaconda3\\lib\\site-packages\\pandas\\core\\internals.py\u001b[0m in \u001b[0;36mcreate_block_manager_from_blocks\u001b[1;34m(blocks, axes)\u001b[0m\n\u001b[0;32m   4293\u001b[0m                 blocks = [make_block(values=blocks[0],\n\u001b[1;32m-> 4294\u001b[1;33m                                      placement=slice(0, len(axes[0])))]\n\u001b[0m\u001b[0;32m   4295\u001b[0m \u001b[1;33m\u001b[0m\u001b[0m\n",
      "\u001b[1;32m~\\Anaconda3\\lib\\site-packages\\pandas\\core\\internals.py\u001b[0m in \u001b[0;36mmake_block\u001b[1;34m(values, placement, klass, ndim, dtype, fastpath)\u001b[0m\n\u001b[0;32m   2718\u001b[0m \u001b[1;33m\u001b[0m\u001b[0m\n\u001b[1;32m-> 2719\u001b[1;33m     \u001b[1;32mreturn\u001b[0m \u001b[0mklass\u001b[0m\u001b[1;33m(\u001b[0m\u001b[0mvalues\u001b[0m\u001b[1;33m,\u001b[0m \u001b[0mndim\u001b[0m\u001b[1;33m=\u001b[0m\u001b[0mndim\u001b[0m\u001b[1;33m,\u001b[0m \u001b[0mfastpath\u001b[0m\u001b[1;33m=\u001b[0m\u001b[0mfastpath\u001b[0m\u001b[1;33m,\u001b[0m \u001b[0mplacement\u001b[0m\u001b[1;33m=\u001b[0m\u001b[0mplacement\u001b[0m\u001b[1;33m)\u001b[0m\u001b[1;33m\u001b[0m\u001b[0m\n\u001b[0m\u001b[0;32m   2720\u001b[0m \u001b[1;33m\u001b[0m\u001b[0m\n",
      "\u001b[1;32m~\\Anaconda3\\lib\\site-packages\\pandas\\core\\internals.py\u001b[0m in \u001b[0;36m__init__\u001b[1;34m(self, values, ndim, fastpath, placement, **kwargs)\u001b[0m\n\u001b[0;32m   1843\u001b[0m         super(ObjectBlock, self).__init__(values, ndim=ndim, fastpath=fastpath,\n\u001b[1;32m-> 1844\u001b[1;33m                                           placement=placement, **kwargs)\n\u001b[0m\u001b[0;32m   1845\u001b[0m \u001b[1;33m\u001b[0m\u001b[0m\n",
      "\u001b[1;32m~\\Anaconda3\\lib\\site-packages\\pandas\\core\\internals.py\u001b[0m in \u001b[0;36m__init__\u001b[1;34m(self, values, placement, ndim, fastpath)\u001b[0m\n\u001b[0;32m    114\u001b[0m                              'implies %d' % (len(self.values),\n\u001b[1;32m--> 115\u001b[1;33m                                              len(self.mgr_locs)))\n\u001b[0m\u001b[0;32m    116\u001b[0m \u001b[1;33m\u001b[0m\u001b[0m\n",
      "\u001b[1;31mValueError\u001b[0m: Wrong number of items passed 1, placement implies 2",
      "\nDuring handling of the above exception, another exception occurred:\n",
      "\u001b[1;31mValueError\u001b[0m                                Traceback (most recent call last)",
      "\u001b[1;32m<ipython-input-5-b604c8b42e88>\u001b[0m in \u001b[0;36m<module>\u001b[1;34m()\u001b[0m\n\u001b[0;32m      3\u001b[0m \u001b[1;32mimport\u001b[0m \u001b[0mpandas\u001b[0m \u001b[1;32mas\u001b[0m \u001b[0mpd\u001b[0m\u001b[1;33m\u001b[0m\u001b[0m\n\u001b[0;32m      4\u001b[0m \u001b[1;33m\u001b[0m\u001b[0m\n\u001b[1;32m----> 5\u001b[1;33m \u001b[0mdt\u001b[0m \u001b[1;33m=\u001b[0m \u001b[0mpd\u001b[0m\u001b[1;33m.\u001b[0m\u001b[0mDataFrame\u001b[0m\u001b[1;33m(\u001b[0m\u001b[0mkata\u001b[0m\u001b[1;33m,\u001b[0m\u001b[0mkata1\u001b[0m\u001b[1;33m,\u001b[0m \u001b[0mcolumns\u001b[0m\u001b[1;33m=\u001b[0m\u001b[1;33m[\u001b[0m\u001b[1;34m'text'\u001b[0m\u001b[1;33m,\u001b[0m\u001b[1;34m'text2'\u001b[0m\u001b[1;33m]\u001b[0m\u001b[1;33m)\u001b[0m\u001b[1;33m\u001b[0m\u001b[0m\n\u001b[0m\u001b[0;32m      6\u001b[0m \u001b[1;33m\u001b[0m\u001b[0m\n\u001b[0;32m      7\u001b[0m \u001b[0mdt\u001b[0m\u001b[1;33m.\u001b[0m\u001b[0mto_csv\u001b[0m\u001b[1;33m(\u001b[0m\u001b[1;34m\"nama.csv\"\u001b[0m\u001b[1;33m,\u001b[0m  \u001b[0mencoding\u001b[0m\u001b[1;33m=\u001b[0m\u001b[1;34m'utf-8'\u001b[0m\u001b[1;33m,\u001b[0m \u001b[0mindex\u001b[0m\u001b[1;33m=\u001b[0m\u001b[1;32mFalse\u001b[0m\u001b[1;33m)\u001b[0m\u001b[1;33m\u001b[0m\u001b[0m\n",
      "\u001b[1;32m~\\Anaconda3\\lib\\site-packages\\pandas\\core\\frame.py\u001b[0m in \u001b[0;36m__init__\u001b[1;34m(self, data, index, columns, dtype, copy)\u001b[0m\n\u001b[0;32m    328\u001b[0m                 \u001b[1;32melse\u001b[0m\u001b[1;33m:\u001b[0m\u001b[1;33m\u001b[0m\u001b[0m\n\u001b[0;32m    329\u001b[0m                     mgr = self._init_ndarray(data, index, columns, dtype=dtype,\n\u001b[1;32m--> 330\u001b[1;33m                                              copy=copy)\n\u001b[0m\u001b[0;32m    331\u001b[0m             \u001b[1;32melse\u001b[0m\u001b[1;33m:\u001b[0m\u001b[1;33m\u001b[0m\u001b[0m\n\u001b[0;32m    332\u001b[0m                 \u001b[0mmgr\u001b[0m \u001b[1;33m=\u001b[0m \u001b[0mself\u001b[0m\u001b[1;33m.\u001b[0m\u001b[0m_init_dict\u001b[0m\u001b[1;33m(\u001b[0m\u001b[1;33m{\u001b[0m\u001b[1;33m}\u001b[0m\u001b[1;33m,\u001b[0m \u001b[0mindex\u001b[0m\u001b[1;33m,\u001b[0m \u001b[0mcolumns\u001b[0m\u001b[1;33m,\u001b[0m \u001b[0mdtype\u001b[0m\u001b[1;33m=\u001b[0m\u001b[0mdtype\u001b[0m\u001b[1;33m)\u001b[0m\u001b[1;33m\u001b[0m\u001b[0m\n",
      "\u001b[1;32m~\\Anaconda3\\lib\\site-packages\\pandas\\core\\frame.py\u001b[0m in \u001b[0;36m_init_ndarray\u001b[1;34m(self, values, index, columns, dtype, copy)\u001b[0m\n\u001b[0;32m    481\u001b[0m             \u001b[0mvalues\u001b[0m \u001b[1;33m=\u001b[0m \u001b[0mmaybe_infer_to_datetimelike\u001b[0m\u001b[1;33m(\u001b[0m\u001b[0mvalues\u001b[0m\u001b[1;33m)\u001b[0m\u001b[1;33m\u001b[0m\u001b[0m\n\u001b[0;32m    482\u001b[0m \u001b[1;33m\u001b[0m\u001b[0m\n\u001b[1;32m--> 483\u001b[1;33m         \u001b[1;32mreturn\u001b[0m \u001b[0mcreate_block_manager_from_blocks\u001b[0m\u001b[1;33m(\u001b[0m\u001b[1;33m[\u001b[0m\u001b[0mvalues\u001b[0m\u001b[1;33m]\u001b[0m\u001b[1;33m,\u001b[0m \u001b[1;33m[\u001b[0m\u001b[0mcolumns\u001b[0m\u001b[1;33m,\u001b[0m \u001b[0mindex\u001b[0m\u001b[1;33m]\u001b[0m\u001b[1;33m)\u001b[0m\u001b[1;33m\u001b[0m\u001b[0m\n\u001b[0m\u001b[0;32m    484\u001b[0m \u001b[1;33m\u001b[0m\u001b[0m\n\u001b[0;32m    485\u001b[0m     \u001b[1;33m@\u001b[0m\u001b[0mproperty\u001b[0m\u001b[1;33m\u001b[0m\u001b[0m\n",
      "\u001b[1;32m~\\Anaconda3\\lib\\site-packages\\pandas\\core\\internals.py\u001b[0m in \u001b[0;36mcreate_block_manager_from_blocks\u001b[1;34m(blocks, axes)\u001b[0m\n\u001b[0;32m   4301\u001b[0m         \u001b[0mblocks\u001b[0m \u001b[1;33m=\u001b[0m \u001b[1;33m[\u001b[0m\u001b[0mgetattr\u001b[0m\u001b[1;33m(\u001b[0m\u001b[0mb\u001b[0m\u001b[1;33m,\u001b[0m \u001b[1;34m'values'\u001b[0m\u001b[1;33m,\u001b[0m \u001b[0mb\u001b[0m\u001b[1;33m)\u001b[0m \u001b[1;32mfor\u001b[0m \u001b[0mb\u001b[0m \u001b[1;32min\u001b[0m \u001b[0mblocks\u001b[0m\u001b[1;33m]\u001b[0m\u001b[1;33m\u001b[0m\u001b[0m\n\u001b[0;32m   4302\u001b[0m         \u001b[0mtot_items\u001b[0m \u001b[1;33m=\u001b[0m \u001b[0msum\u001b[0m\u001b[1;33m(\u001b[0m\u001b[0mb\u001b[0m\u001b[1;33m.\u001b[0m\u001b[0mshape\u001b[0m\u001b[1;33m[\u001b[0m\u001b[1;36m0\u001b[0m\u001b[1;33m]\u001b[0m \u001b[1;32mfor\u001b[0m \u001b[0mb\u001b[0m \u001b[1;32min\u001b[0m \u001b[0mblocks\u001b[0m\u001b[1;33m)\u001b[0m\u001b[1;33m\u001b[0m\u001b[0m\n\u001b[1;32m-> 4303\u001b[1;33m         \u001b[0mconstruction_error\u001b[0m\u001b[1;33m(\u001b[0m\u001b[0mtot_items\u001b[0m\u001b[1;33m,\u001b[0m \u001b[0mblocks\u001b[0m\u001b[1;33m[\u001b[0m\u001b[1;36m0\u001b[0m\u001b[1;33m]\u001b[0m\u001b[1;33m.\u001b[0m\u001b[0mshape\u001b[0m\u001b[1;33m[\u001b[0m\u001b[1;36m1\u001b[0m\u001b[1;33m:\u001b[0m\u001b[1;33m]\u001b[0m\u001b[1;33m,\u001b[0m \u001b[0maxes\u001b[0m\u001b[1;33m,\u001b[0m \u001b[0me\u001b[0m\u001b[1;33m)\u001b[0m\u001b[1;33m\u001b[0m\u001b[0m\n\u001b[0m\u001b[0;32m   4304\u001b[0m \u001b[1;33m\u001b[0m\u001b[0m\n\u001b[0;32m   4305\u001b[0m \u001b[1;33m\u001b[0m\u001b[0m\n",
      "\u001b[1;32m~\\Anaconda3\\lib\\site-packages\\pandas\\core\\internals.py\u001b[0m in \u001b[0;36mconstruction_error\u001b[1;34m(tot_items, block_shape, axes, e)\u001b[0m\n\u001b[0;32m   4278\u001b[0m         \u001b[1;32mraise\u001b[0m \u001b[0mValueError\u001b[0m\u001b[1;33m(\u001b[0m\u001b[1;34m\"Empty data passed with indices specified.\"\u001b[0m\u001b[1;33m)\u001b[0m\u001b[1;33m\u001b[0m\u001b[0m\n\u001b[0;32m   4279\u001b[0m     raise ValueError(\"Shape of passed values is {0}, indices imply {1}\".format(\n\u001b[1;32m-> 4280\u001b[1;33m         passed, implied))\n\u001b[0m\u001b[0;32m   4281\u001b[0m \u001b[1;33m\u001b[0m\u001b[0m\n\u001b[0;32m   4282\u001b[0m \u001b[1;33m\u001b[0m\u001b[0m\n",
      "\u001b[1;31mValueError\u001b[0m: Shape of passed values is (1, 3), indices imply (2, 3)"
     ]
    }
   ],
   "source": [
    "kata=[adhi,godil,satria]\n",
    "kata1=[asda,asdfaw,kjghn]\n",
    "import pandas as pd\n",
    "\n",
    "dt = pd.DataFrame(kata,kata1, columns=['text','text2'])\n",
    "\n",
    "dt.to_csv(\"nama.csv\",  encoding='utf-8', index=False)"
   ]
  },
  {
   "cell_type": "code",
   "execution_count": null,
   "metadata": {
    "collapsed": true
   },
   "outputs": [],
   "source": []
  },
  {
   "cell_type": "code",
   "execution_count": null,
   "metadata": {
    "collapsed": true
   },
   "outputs": [],
   "source": []
  },
  {
   "cell_type": "code",
   "execution_count": null,
   "metadata": {
    "collapsed": true
   },
   "outputs": [],
   "source": []
  },
  {
   "cell_type": "markdown",
   "metadata": {},
   "source": [
    "<h1>Membaca Data Testing(Sudah diberi Label)</h1>"
   ]
  },
  {
   "cell_type": "code",
   "execution_count": 1,
   "metadata": {},
   "outputs": [
    {
     "name": "stdout",
     "output_type": "stream",
     "text": [
      "                                                  text  kelas\n",
      "0       larang ridwan kamil grab taxi beri klarifikasi      0\n",
      "1                       bapak tong hilap ayeuna dinten      0\n",
      "2          retweeted lintang creativework beliau orang      0\n",
      "3    retweeted lintang creativework beliau bapak orang      0\n",
      "4    tahun jabat walikota bandung ridwan kamil bere...      1\n",
      "5    wilayah bangun pool diskar jadi sangat jadi la...      1\n",
      "6    assalammulaikum dan selamat pagi sukses semua ...      1\n",
      "7    alhamdulillah event selesai terima kasih to ma...      1\n",
      "8    pagi bapak ridwan tarif dasar anak sekolah ber...      0\n",
      "9        mq headline tahun ridwan kamil pimpin bandung      1\n",
      "10   memang tapi bapak emil punya follower orang pe...      1\n",
      "11   ridwan bandung jadi tuan rumah hari antikorups...      1\n",
      "12                            selamat pagi salam kenal      1\n",
      "13                                 salam tempel no way      0\n",
      "14   taman jalur hijau sebagai bagi tata kawasan me...      1\n",
      "15   perkemb tata taman jalur hijau jalan venus ray...      1\n",
      "16   taat atur dengan tidak bangun bangun ijin tana...      1\n",
      "17   dukung tahan pangan sudah layak lahan tani pro...      0\n",
      "18   bbws citarum atas eru sedimen sungai cidurian ...      1\n",
      "19   nuhun bapak heri atas dedikasi jaga rawat ruma...      1\n",
      "20   jangan maju ridwan kamil pemilihan gubernur dk...      0\n",
      "21   dengan telah bangun rumah pompa harap buang ai...      1\n",
      "22     ridwan kamil bakal saing kamil bakal saing ahok      0\n",
      "23   perlu baik titik tanggul salur yang rusak tuju...      0\n",
      "24   rumah pompa kendali banjir bantu dbmp kota ban...      1\n",
      "25   ridwan kamil bakal saing ahok kamil bakal sain...      0\n",
      "26                 terus juang kuat tenaga anak bangsa      1\n",
      "27   tidak bayar telat telat gulung tikar paksa bap...      1\n",
      "28              wilujeng kanggo wargi sadaya oge bapak      1\n",
      "29                 giat gps pems bendera bandung senin      0\n",
      "..                                                 ...    ...\n",
      "134  orang tasik harapansaya moga tidak uu bapak ma...      1\n",
      "135  kapolsekta gedebage kompol sumari selasa malam...      1\n",
      "136                                             keceee      1\n",
      "137  reaksi ridwan kamil kabar dukung lgbt reaksi r...      0\n",
      "138              reaksi ridwan kamil kabar dukung lgbt      0\n",
      "139  reaksi ridwan kamil kabar dukung lgbt reaksi r...      0\n",
      "140                                 pki juang hahahaha      0\n",
      "141  sampurasun wilujeng enjing wargi rancanumpang ...      1\n",
      "142  kendala yang mungkin siapa yang bayar tiap kon...      0\n",
      "143  ridwan bonek jangan gelandang bandung pikir pi...      1\n",
      "144                                             status      1\n",
      "145                                    memang kudu pks      0\n",
      "146             gerak subuh jamaah rw rw dunguscariang      1\n",
      "147  usung ridwan kamil golkar tabur benih pecah in...      0\n",
      "148  hidup pilih tidak sama pilih tidak selalu sali...      0\n",
      "149  wakakaa nabi muhammad bawa bawa beda jauh kaka...      0\n",
      "150                        saya dukung pk ridwan kamil      1\n",
      "151  ridwan kamil aku kumpul parpol usung   sulit p...      1\n",
      "152  ridwan kamil aku kumpul parpol usung   ridwan ...      1\n",
      "153  nasdem partai dukung ridwan kamil jangan paksa...      1\n",
      "154  walikota bandung ridwan kamil calon gubernur j...      1\n",
      "155  alas nasdem bebas ridwan kamil pilih cawagub j...      1\n",
      "156  warga bandung sekitar bapak bapak akang temen ...      1\n",
      "157  alas rkih dukung duet maman imanulhaq bapak em...      1\n",
      "158  pemilihan gubernur jawa barat ridwan kamil des...      0\n",
      "159  dasar dungu nabi muhammad saw saja paman kafir...      0\n",
      "160                                      murder status      0\n",
      "161                                             murder      0\n",
      "162  makan bareng warmis bsm bapak camat cibiru selasa      1\n",
      "163              rapat koordinasi sama urus pkk selasa      1\n",
      "\n",
      "[164 rows x 2 columns]\n"
     ]
    }
   ],
   "source": [
    "import pandas as pd\n",
    "\n",
    "data = pd.read_csv('tweetTestLabel.csv')\n",
    "print(data)"
   ]
  },
  {
   "cell_type": "markdown",
   "metadata": {},
   "source": [
    "<h2>Menghitung Jumlah Tweet pada Data Training</h2>"
   ]
  },
  {
   "cell_type": "code",
   "execution_count": 2,
   "metadata": {},
   "outputs": [
    {
     "name": "stdout",
     "output_type": "stream",
     "text": [
      "jumlah dataset training :  380\n"
     ]
    }
   ],
   "source": [
    "import pandas as pd\n",
    "\n",
    "raw_data2 = pd.DataFrame()\n",
    "tmp=pd.read_csv('tweetTrainLabel.csv')\n",
    "raw_data2 = raw_data2.append(tmp,ignore_index=True)\n",
    "\n",
    "print('jumlah dataset training : ',len(raw_data2.values.tolist()))"
   ]
  },
  {
   "cell_type": "markdown",
   "metadata": {},
   "source": [
    "<h2>Menampilkan Jumlah Tweet dan Kelas dari Data Training</h2>"
   ]
  },
  {
   "cell_type": "code",
   "execution_count": 3,
   "metadata": {},
   "outputs": [
    {
     "name": "stdout",
     "output_type": "stream",
     "text": [
      "['cimahi hayang cimbuleuit pan kota bapak naha ciumbuleuit mati lampu bapak', 'jumat sudah ayo ah menggoes bareng hahahahhahah', 'hayu wargi bandung tiasa sarumping mangga ramekeun jalan bandung dinten ieu aku', 'diri taman jomblo bandung ridwan kamil agung dewa jomblo', 'siapa yang jaga siapa yang pelihara kalau rusak kaya begini siapa yang tanggung jawab', 'tetot fera sudah punya sim bapak fera tidak punya sim tapi sudah jalan bapak pagi pagi depan pasar uber', 'beliau lahir pagerageung ti tasik bapak good bye grandpa you will be missed', 'busy at sir what doa you say kababayan in english', 'walikota dengan program biopori saurna kbb plesir hongkong cari bibit cakar langit bade pelak cihideung kitu', 'bapak fera tidak punya sim tapi sudah jalan bapak pagi pagi depan pasar ujungberung suka macet sama dagang pinggir', 'kelurahan sukamaju cimanggis depok urus surat jamsostek hampir bulan belum dapat tandatangan lurah alasan sedang umroh aneh', 'bapak kapan bandung karya bapak rindu diri', 'pagi bapak tinjau empat supratman anak kecil ngemis ibu tunggu setor pom bensin terima kasih bapak', 'walikota bandung lantik elih sudiapermana', 'bapak kagum bapak', 'bapak pagi pagi depan pasar ujungberung suka macet sama dagang pinggir jalan benah bapak ganggu kendara', 'bangga teu bapak teater anak ekonomi bandung jadi hiji hijina isi acara stai madura', 'lanjut bapak', 'cayoo belum sukses orang walikota tidak bawa persib juara sukses orang walikota tidak bawa persib juara status photo', 'cinta itu', 'bapak sebab celaka teh sanes jalan nu lubang wae eta angkot lamun belok sok tara make sent tah bapak maen belok saenakna', 'coba bapak jalan rajalwali timur pasar andir pagi hari', 'jalan buah batu dekat tol lubang cukup bapak kemarin banyak mobil ngerem dadak', 'bapak', 'gas terus jalan raya sudah gitu buat kereta parahyangan mau berangkat tunggu dulu ah gila harus aku jadi istri ridwan kamil', 'malam lewat paspati sengaja ingin liat yang kata warna ini keren sangat terima kasih bapak buat bandung jadi lebih warna', 'kirim proposal balaikota kalau undang bapak ibu acara seminar cara bagaimana', 'bandung smart city proyek apa saja bapak today meeting dengan dutch delegation for cont', 'walikota bandung canang tahun', 'kalau hujan hari alias banjir not gong xi fat chai but ayo ngung xi choi', 'sami sami abah nuhun ridwan alah siah tos lam geningan sok doakeun sing', 'nuhun ridwan alah siah tos lam geningan sok doakeun sing gerak cageur', 'turut dukung bangun bandung rt belanda tindak lanjut kunjung ridwan', 'bapak mohon izin saya desain tshirt tentang program kerja bapak buat ikut lomba design teu sawios', 'wkwkwk busy at sir what doa you say kababayan in english', 'wihh belanda tarik program kota pintar bandung', 'kalau pipi sampe sekarang kenapa chubby terus bapak bapak nahanya wayah kieu sok lapar', 'ayo sekolah bis sekolah kota bandung hino rs celcius foto', 'good advance for this beloved city today meeting dengan dutch delegation for bandung smart city project', 'haha saja kamu terima kasih saya ajar dari walikota bandung ridwan kamil', 'bapak disdik bandung kurang ramah dalam layan masyarakat umum sering dalam kerja tugas coba tegur bapak', 'jalur koordinasi surat disdik kota bandung disdik provinsi jawa barat contoh disdik provinsi banten', 'gubernur kaltim awang faroek walikota bandung sukses raup dana csr eropa', 'anjing pigking ndasmu anjing ridwan kamil deddy cont', 'ajar pungut biaya naik damri pada hari senin lapor via sms', 'zona merah teh tempat renti motor tea geuning zona merah itu saja bapak', 'temenin you dead bapak bahasa inggrisna jomblo teu payu payu nang taun taun naon', 'bapak nahanya wayah kieu sok lapar', 'most mungkin secara jiwa raga bandung asli banget akan beda jika jabat kota bandung jadi humanis', 'bapak butuh subsidi cinta bapak mohon bantu nuhun bapak', 'hahaha bhahaha lol busy at sir what doa', 'rumah bapak ridwan kamil buat ribu botol kratingdeng', 'wakil gubernur jawa barat sama walikota bandung hadir launching tim htt', 'bapak tidak tanggap satpam depan kantor bapak apa tidak kasi bapak', 'assalamua laikum', 'bandung makin laju sama bapak jogja stuck makin kikis node', 'heuh bapak jalan jalan riau gedung sate belakang sampe cont', 'bapak mohon pindah tiang pln tengah jalan jln', 'bapak mau minta pendapat kena apartemen yang bangun bagus dago bapak apa mungkin kapasitas daerah pada', 'gerobak mie mercun unik lhoo bentuk langsung sms saja', 'tahun kota bandung jadi salah satu kota ram dunia dasar survei majalah time', 'folbck kartu keluarga', 'tantang pertama justru pada benah birokrasi moga beri mudah bapak siap bu', 'daerah bangbayang dago beneran jadi apartemen', 'bapak bakal musuh produsen mobil motor kampanye sepeda', 'kamis line up bukabareng baksos setiabudi sama anak yatim bapak ridwan kamil', 'bapak ridwan kamil apa kabar bapak', 'wilujeung sahur bapak emil mudah mudah shaumnya lancar aamiin', 'wilujeng saur bapak emil mugi alloh swt maparin barokah kango urang sadaya amiiin', 'hidup juang henti bismillah', 'allhamdulilah tah teu salah kan jadi walikota idam teh insya allah skatepark hadir tahun depan', 'tah teu salah kan jadi walikota idam teh insya allah skatepark hadir tahun depan', 'warga jadi harus bangun kota salah satu cara tiada keluh', 'sayang sekali bukan urng tarling malam masjid as syifa rw cijambe ujung berung', 'bukan urng tarling malam masjid as syifa rw cijambe ujung berung', 'selamat istirahat kawan suatu hari semua pulang', 'bandung bagaimana video ktp seleksi pedagang kaki lima ibukota', 'lagi benah', 'rawan gempur bandung bapak tempat tinggal saya rw sebut', 'karena butuh ekonomi milik tanah tidak alih fungsi bapak beri solusi bapak terima kasih', 'masyarakat solat ied tempat main anak perlu masyarakat jual yang milik hak atas tanah tersebut', 'bapak daerah kiaracondong lurah kebonjayanti rw belakang polisi sektor kiaracondong bidang tanah yang biasa guna', 'goodluck mas emil for today', 'segera selamat istirahat kawan suatu hari semua pulang', 'ridwankamil asa tidak pernah dengar program perintah buat sejahtera gelandang', 'wah euy asli skandal segera buku bapak ajak sare tah bapak sama bella', 'yaah sudah mulai dik pdahal masih baru yaa pemerintah kota tidak bantu bagaimana nasib hiks', 'bapak emil langkah awal urai macet daerah sub urban seperti ujungberung seperti apa saya harap solusi yang solutif', 'waduh sudah kena sekarang', 'bapak selamat malam masalah bersih paling utama utama bersih organisir hasil untung', 'sami sami mung ka anjeunna allah sadaya urus mulang taya pis lolongkrang manusa takabur dina getak hirup kahirupannana', 'supaya seperti beliau jam begini enak poin akun twitternya', 'pulang akhir kali moga jejak ilmu baik bersih lekat bandung insha allah', 'waduh', 'rt selamat istirahat kawan suatu hari semua pulang', 'selamat rehat bapak selamat istirahat kawan suatu hari semua pulang', 'bapak punten selamat istirahat kawan suatu hari semua pulang', 'saat yang muda yang bicara yang tua istirahat bapak', 'pasar baru jablay banyak kok berani tutup saritem bapak', 'moga jadi teladan usia yang tahu', 'sih fisik kota dulu proses rancang supaya pesan kota orang bersih', 'selamat istirahat bapak walikota keras pilwali lewat moga kerja keras tahun depan lancar berkah', 'selamat istirahat bapak', 'selamat istirahat kawan suatu hari semua', 'bapak slaku laku ukm mula rasa berat kalau masih baru jalan sudah berat dengan pajak resto mohon hati', 'buat bapak moga amanah masyarakat cinta kota bandung jaga jaga', 'bapak tidur bapak emil banyak benah besok hari', 'konsep kembang ekonomi kreatif kota', 'bandung macet kalau tidak solusi kongkrit pergi kantor setelah subuh', 'yah kalau bapak tidak jadi walikota coba jadi anggota dprd kota bandung saja suara lebih keras pemerintah kota', 'mirip ramai media tapi pas pilkada jadi karena calon kuat', 'bandung segala kenang buat yang jauh apa yang buat kamu kangen bandung', 'haiya ceuk saha oeh siga ahok', 'bandung buat yang jauh apa yang buat kamu kangen bandung', 'ridwan kamil', 'mantap bapak ridwan kamil tambah percaya diri maju pemilihan wali kota', 'sila periksa sebar alas men jr uu dikti', 'sepakat bapak buat yang jauh apa yang buat kamu kangen bandung', 'rc have fun go mad dulu kalau waktu aceh nama tgif bulan sekali main musik', 'woow rt apa yang buat kamu kangen bandung', 'makan jajan lumpia basah mie dorokdok sambel cibiuk mie kocok duh semua', 'fashion', 'naik angkot sampe motor bergps bareng buat yang jauh apa yang buat kamu kangen bandung', 'simpang dago bisa makan apa saja kapan saja jam buat yang jauh apa yang buat kamu kangen bandung', 'minggu pagi bandung bapak buat yang jauh apa yang buat kamu kangen bandung', 'atmosfer kalau rumah ibarat minimal riah haha buat yang cont', 'rumah serta isi', 'sami sami terima kasih buat temen temen sudah diskusi seru bareng bapak', 'cimol semua aspek buat yang jauh apa yang buat kamu kangen bandung', 'kosan geger kalong kangen jaman kuliah duit pas pas warteg cimol', 'anak istri ujungberung dengan backdrop gn manglayang buat yang jauh apa yang buat kamu kangen bandung', 'teman taman buat yang jauh apa yang buat kamu kangen bandung', 'ins bandung bersih hijau bunga buat yang jauh apa yang buat kamu kangen bandung', 'bandung kangen suasana kenang', 'jalan tertib macet pohon rindang banjir kali bersih kota kembang', 'manuk cingcuing buat yang jauh apa yang buat kamu kangen bandung', 'kreatifitasnya saja buat yang jauh apa yang buat kamu kangen bandung', 'suasana sama semua lah buat yang jauh apa yang buat kamu kangen bandung', 'suasana hangat sama tengah dingginya bandung buat yang jauh apa yang buat kamu kangen bandung', 'saung bapak udjo', 'kuliner tempat kuliner', 'suasana sejuk malam hari', 'air dingin buat yang jauh apa yang buat kamu kangen bandung', 'udara nyaman yang dulu buat yang jauh apa yang buat kamu kangen bandung', 'makan buat yang jauh apa yang buat kamu kangen bandung', 'suasana buat yang jauh apa yang buat kamu kangen bandung', 'banyak bapak makan suasana tempat main jalan jalan tempat sejarah ah pokokna seeur pis', 'suasana', 'buat kangen bandung hawa sejuk jajan', 'buat yang jauh apa yang buat kamu kangen bandung', 'macet buat yang jauh apa yang buat kamu kangen bandung', 'bandung bersih hijau bunga buat yang jauh apa yang buat kamu kangen bandung', 'bahkan karakter tidak jawab buat yang jauh apa yang buat kamu kangen bandung', 'bapak apa konsep besar bapak bawah bandung', 'cemilan cemilan na na buat yang jauh apa yang buat kamu kangen bandung', 'buat yang bandung apa sih yang buat tidak ninggalin bandung', 'angkot kuliner saudara juang buat yang jauh apa yang buat kamu kangen bandung', 'dulu iya sekarang mah tau buat yang jauh apa yang buat kamu kangen bandung', 'bau tanah kala hujan orang murah senyum ieu wungkul weh bapak', 'semua buat yang jauh apa yang buat kamu kangen bandung', 'semua isi kota orang orang buat yang jauh apa yang buat kamu kangen bandung', 'anak semarang kuliah uns main itb sudah cukup bwt slalu kangen main sana lagi bapak', 'lumpia basah ma monumen du hehehe buat yang jauh apa yang buat kamu kangen bandung', 'adem alami buat yang jauh apa yang buat kamu kangen bandung', 'kangen peuyeumpuannya buat yang jauh apa yang buat kamu kangen bandung', 'cup bahan kertas daur sampah du sampahbiasa', 'ridwan kamil beri sanksi dagang guna styrofoam', 'rutinitas para petugas beres gps wilayah', 'ridwan kamil beri sanksi dagang guna styrofoam ridwan kamil beri sanksi dagang guna styrofoam', 'musda bkprmi kota bandung', 'entah ngefans entah sering liat poster bapak sudah malam mimpi terus bapak', 'mas fadjroel mau ngomong tidak macam dulu', 'harus yang langgar gsb bongkar apalagi plang imb rapuh', 'kartar serta anak anak', 'timbun sampah per an astina psr pamoyanan sudah bersih terima kasih bapak walikota pis', 'nah kamu meme dukung ahok edar ridwan kamil yenny wahid ban bukan ucap', 'hai tweeps datang yah sore malam hari acara sukasari culinary night jalan rintis srjadi don miss itu seeuthere', 'fitnah kotor ahoker ridwan kamil yenny wahid bantah meme dukung ahok', 'warga skly maghrib kaji tanam jiwa bersih sejak', 'nah kamu meme dukung ahok edar ridwan kamil yenny wahid ban bukan ilustrasibel', 'tah benar bapak hehe', 'waktu sekarang putus jadi orang pensiun preneur sukses ingat now or never', 'ajar dulu ayo ppst edisi mil selalu jadi orang ajar', 'assalammulaikum selamat pagi sukses hari bismillah', 'akun kata catut nama ridwan kamil yenny wahid dukung suara muhamma', 'periksa tulis dahlan iskan bapak waktu jadi tri bumn bahas bawah unit prestasi kerja luar biasa', 'ridwan kamil ajak siswa sepeda makan siang rumah dinas ridwan kamil ajak siswa sepeda makan siang rumah dinas', 'ridwan kamil protes nama catut dukung ahok', 'rajin bike to school ajar sepeda ridwan kamil rajin bike to school ajar sepeda ridwan kamil', 'keren puri kranji regency', 'urban farming', 'mapay lembur rw', 'garden ditrsan bubat', 'bestari cikapundung kolot', 'masa depan pulau jawa kira kira bakal bagaimana kalau kaya begini', 'pimpin usia tua biasa gaptek bapak pikir twitter aplikasi adalah musuh kaya dulu angkut online', 'suka video ridwan kamil penuh cinta hitam putih oktober full', 'ridwan kamil yenny wahid catut meme dukung ahok', 'sharakhah banget mah musti kaji ulang peraturan daerah selenggara rw tidak sigana mah wajib', 'malam makin sunyi hati gerak untuk tanya share alat fotografi bapak inisial juga kalau khwatir sebut merk', 'surat himbauan kelurahan kecamatan terus rw benah dulu pondasinya baru indah muka', 'alhamdulillah bapak produk awal jual pakai paper cup khusus makan', 'lapor bapak kakek status', 'benar bapak andi bilang pajak bumi bangunan bayar per kartu keluarga bahaya ini tanda akhir jaman', 'liat via televisi od cerita inspirasi bangga punya bapak kaya begini', 'tidak sekali pakai foto albert einstein hhaha', 'bapak emil mungkin sangka orangtuanya upin ipin bapak', 'sosialisasi saja tidak usah tanya lokasi beri suluh kecamatan kelurahan mutlak patuh rw kelompok linmas jahil', 'lucu ini orang', 'info mayor ridwan kamil is banning styrofoam food packaging from bandung', 'ridwan kamil is banning styrofoam food packaging from bandung', 'ridwan kamil protes catut meme dukung ahok', 'mau ngamen jual asong jalan sekarang tidak boleh', 'kenapa daerah tidak pernah bantu peser buat lancar pesta rakyat sambut merdeka republik indonesia', 'kata perintah beri biaya besar buat karang taruna lurah', 'formasi baik persib mata ridwan formasi baik pernah milik persib versi bapak emil', 'formasi baik persib mata ridwan kamil', 'okezonenews formasi baik persib mata ridwan kamil status', 'ccin buyungkiu ridwan kamil risma aher ganjar karwo banyak kada yang bahasa santun namun tidak korupsi', 'assalammualaikum punten bade tumaros bapak bu perkawis sekolah smp negeri yang mau terima murid pindah gratis', 'baik persib mata ridwan formasi baik pernah iaxmur', 'ridwan kamil risma aher ganjar karwo banyak kada yang bahasa santun namun tidak korupsi kerja bagus status', 'ridwan kamil janji bonus persib juara piala bhayangkara kamil janji bonus persib juara piala', 'ridwan kamil final piala bhayangkara tetap gbk', 'ayo dukung bangun pesantren kreatif dengan wakaf dompet ihaqi peduli desain pesantren by', 'lha koq', 'assalammulaikum selamat pagi sukses hari bismillahirrahmanirrahim aheryawan', 'ridwan kamil final piala bhayangkara tetap gbk walikota bandung ridwan kamil ingin final piala', 'ridwan kamil galau tonton persib dinas luar negeri', 'jalan santai warga dalam hari ulang tahun republik indonesia', 'tempat sampah yang tidak jadi bingung malam buang sampah he he sekarang luas arcamanik sudah tidak', 'abang hhahaa bapak kapan cicadas culinary night', 'juang masa baksil jadi tempat pembuangan sampah mohon ridwankamil', 'bersih dago perlu tiru ini', 'kereta patas stasiun cimekar lebih menit yang mau upacara resah bapak xixixi jadwal', 'bapak sistem gps gerak pungut sampah laku sekolah masing kan nah gps hanya laku area skolah luar', 'suasana yang masih banyak kendara lintas mohon bantu rusuh', 'bapak indonesia ultah dong bapak', 'selamat pagi bapak kemarin sekolah ada giat gerak pungut sampah beberapa foto', 'satu buat', 'senirajawali hasil kolaborasi seniman', 'isi merdeka budaya buang sampah tempat selamat pagi bapak bantu', 'nk pernah kibar bendera merah putih kota bandung asal cianjur selatan', 'terima kasih bapak atas baik jalan maranata sekarang tidak road hehe', 'bapak kapan cicadas culinary night', 'kata bapak indonesia surga indah sarat masalah karnanya cinta negeri dengan aksi solusi dirgahayu indonesia', 'via raya merdeka republik indonesia dengan tidak sampah kurang sampah', 'bapak rangka merdeka kaya bagus kalau lomba', 'this is thing in my city now ref tapi', 'kab kota salahsatunyakotabandung turut meriahkanacarahelaransenibudayadlmrangkahut', 'bapak kakak perempuan ulangtahun cepat pulang kakak perempuan mau ucap ulangtahun sama bapak', 'selamat hari ulang tahun republik indonesia indonesia merdeka semoga rakyat sejahtera bandung juara', 'bapak punten teu tiasa ngiringan upacara kumargi piwarang damel aku atas punten pis bapak sateuacana ulan we atas abi', 'jalan depan astana baru rusak sedikit padahal mah bapak aduh serasa lewat jalan dusun pinggir kota', 'kakak perempuan teh mau ucap sama ridwan bapak aku', 'juta aduh bagaimana juragan ini lokal cetak juragan coba tanya sama sm brodexin yang papatong saja juragan', 'ayo siap simak cerah guru kiyai', 'seniman rajawali akan tolak pedagang kaki lima', 'senimanhelaranrajawali turutmeriahkanacaramilangkala esok sama kota kab lain', 'gasibu moal bapak loh', 'rute kirab mohon maaf apabila jalan hambat infobdgevent', 'tweet aku cuma quote doang sama ridwan kamil tetep mention yang masuk banyak', 'terima kasih bapak ridwan kamil sudah mampir stand dengan pic', 'tonton livestreaming luncur kanal kpktv dialog dengan ahok risma ridwan kamil', 'inna lillahi wa telah pulang rahmatulloh ket tapi pkk kelurahan padasuka kecamatan cibeunying kidul jam wib', 'sae bapak tuntaskeun heula ngawangun kota bandung beres nembe ngiring icikibung jempol kanggo bapak walikota', 'narsis bapak', 'situasi depan gedung sate', 'bapak aku', 'bapak dong kaya begini ganjar pranowo marah sidak kuman negara mem', 'buat dari', 'mantepp bapak erwinmadmoron merdeka inisoenda', 'canang gerak sholat shubuh jamaah mesjid alun alun bandung', 'gerak subuh jamaah sama bapak wali kota serta jajar', 'live ridwan kamil laksana salat subuh', 'cang gerak shalat subuh jamaah kota bandung mesjid raya jawa barat', 'syukur semoga depan semua kebun binatang indonesia tidak lagi jumpa kasus', 'ridwan kamil meski sering tengil tapi bisa jaga marwah wibawa sebagai walikota baik hadap warga maupun terjadap pegawai negeri sipil yang pimpin', 'cari solusi yang santun untung pihak yang rugi moga allah swt beri yang baik', 'dengan berita hoax bohong produksi lama', 'asli kalimantan ini harus lindung jangan abai begini wahai bapak menteri', 'buat gua orang depan umum seperti gitu mau ahok mau ganjar pranowo mau cumi cola sama saja tiru ridwan kamil status', 'gerak subuh jamaah jan', 'dapat arah bapak wali canang subuh jamaah kota bandung tapi kunaon paling ingat nasi timbel', 'arah bapak walikota ramai dengan subling', 'giat lounching gerak subuh jamaah', 'hopes itu will better if should be take care by goverment but if itu know how to take raeady to be vol', 'kalimat baik diam ridwan kamil', 'barakallahu fiik bapak', 'selamat pagi', 'canang shubuh jamaah lurah mesjid agung bandung', 'giat launcing gerak laksana shalat subuh ridwankamil', 'punteun bapak emil angkot kircon terlalu banyak henti pedagang kaki lima semrawut kendara motor susah lewat klakson diam', 'siap siap ini bapak bismillah ayo', 'ridwan kamil mayor of save the animals of bandung zoo indonesia sign the petition ridwan kamil mayor of bandung save the animals of bandung zoo indonesia recruiter twitter via', 'ridwan kamil curhat facebook soal bonbin beruang kurus', 'sosialisasi shalat shubuh jamaah masjid urus ulama', 'ridwankamil', 'bapak mohon periksa lampu pju jalan panca tengah raya padam lama padam', 'this popped up on facebook and immediately thought of bandung if funds are required to help the bears let work together', 'kalau bukan sekarang kapan kalau bukan siapa hehahahahahah', 'that so nice of you to say but he did all the hard work', 'bapak ridwan boleh email', 'hidup sekali jangan tua karya inspirasi ridwan kamil', 'semakin banyak yang campaign macam begini bagus', 'karena kalau tidak wacana begini secara blow up yang luas mungkin tidak akan pernah mulai subuh brjamaah sekedar manfaat sosmed begitu', 'memang kalau liat sisi seperti pamer ibadah tapi tengah kondisi muslim sekarang yang mungkin sudah gitu jarang subuh jamaah bagus', 'mungkin supaya pantau saja kalau tingkat sampai subuh tiap hari arti gerak hasil karena sudah jadi biasa', 'kalau aku lebih pilih presiden', 'terima kasih bapak wali assalamualaikum', 'lah yang percaya allah untuk lindung dari segala bentuk aniaya bahkan yang laku perlahan', 'rasa malu malu karena peluk agama yang paling sempurna tapi sering abai supaya zalim depan mata', 'murak tumpeng atas berkah usia ketua kartaranum wilujeng barokah', 'karena walaupun mnyelamatkn ekor hewan tapi selamat bagi dari keluarga mereka sendiri masya allah harus', 'selamat ekor hewan begitu haru bahkan sentuh bagi dalam nurani', 'tanam sifat kasih sayang yang lebih kepada umat isa as bukti sering lihat sifat sifat mulia heroik', 'sebagai orang islam aku karena tersebut telah sebut dalam kitab suci al quran yang bunyi', 'atau beri kb yang kelola nasrani yang mereka lebih sayang hadap banding orang islam sendiri', 'karena sudah sangat lapar bagaimana bapak siapa kira yang tutup kbb balik habitat mula', 'dengan kasus yang sama lihat beruang madu makan kotor sendiri', 'sekitar tahun yang lalu lihat tidak mampu dalam laku hewan', 'bapak kalau boleh usul kebun binatang bandung mending tutup bapak daripada puluh tahun tidak becus tetap jadi', 'jangan ngamuk', 'andai saja bapak jadi calon presiden bapak kalah', 'pimpin periksa dulu masalah jangan langsung ngamuk', 'kerja yang paling senang dunia hobi bayar ridwan kamil', 'pimpin bina organisasi ngamuk', 'mohon sangat depan hindar pimpin ngamuk', 'lebih sayang uang hutan ayo ikut mal nasinal ridwan kamil loh status photo', 'pasar kosambi bandung tidak rawat', 'enak kirim link upload lalu twitter imel bapak', 'selamat pagi selamat jalan tugas untuk bapak ibu', 'manfaat air hujan bapak harap bapak lihat beri testimoni karya proyek bapak', 'ieu rek demo saritem dijadikeun pasar emas insansentanu demokeun ulah', 'tempat bapak', 'asyik dkt cibiru bandung timur malam bahagia sama', 'bapak bagaimana dadak kapolsek tidak kasih ijin teh', 'kalau panyileukan tidak bapak ridwan tempat teh', 'bahaya bapak tukang dagang main sekolah dasar deket rumah yang jual main jumanji bapak', 'wilujeng enjing selamat pagi semoga hari karunia tidak lupa tetap tertib jalan empat pada orang', 'tempat teh', 'warga bandung timur malam bahagia sama', 'cibiru apa panyileukan culinary night', 'obama jokowi ridwan kamil berkah jokowi ridwan kamil berkah', 'cibiru warga bandung timur malam bahagia sama', 'tutup pakai kardus', 'bapak mohon bantu warga bojongloa kaler hari air pdam tidak alir rumah kurang air bapak', 'acara ngehalangin jalan pulang jadi tidak pulang hari', 'kalau bandung suruh hari kamis saja lyd kalau anak sg yang tidak bisa bahasa indonesia kan tidak bapak', 'jadi bakar coblong', 'periksa favorite teh nuhun bapak ai cibiru culinary night teh dimana tempat na bapak nuhun', 'terima kasih bapak buat datang kemarin moga jumpa lain waktu agenda ngaji bareng mungkin', 'bapak kalau tempat pembuangan sampah bungur tutup warga buang sampah mana deket nuhun infona', 'dahlan iskan ngamuk tol ridwan kamil kesal sampah', 'walikota bandung direktur utama launching logo pasar sae', 'kasusna angger keneh meuli gas angger eusina meunang nu tengah deui segel keneh', 'bapak mau usul salah satu syarat izin pedagang kaki lima sedia keranjang', 'tonton ayo karena sangat sarat dengan informasi', 'bakar kios jalan cihampelas sudah selesai unit damkar balik kanan mako', 'ridwan kamil keluar kartu pedagang kaki lima anti rentenir', 'ridwan kamil kartu pedagang kaki lima read bagi kartu pedagang kaki lima ridwan kamil upaya dagang bebas rentenir', 'publikasi dokumentasi jadi', 'yess salute lokalisasi saritem bandung bakal ubah jadi pasar emas', 'dinas bakar terjun unit pancar unit selamat', 'rugi rurut milik tahu taksir juta', 'asal mula api duga konseleting listrik jadi awal pukul', 'kaca wonkblog wp the solutions to all our problems may be buried in pdfs that nobody reads coba pdf', 'bakar hangus buah kios luas area', 'pagi yang hormat selamat kerja keras mlayani rakyat hidup sederhana kurang nikmat pribadi', 'malam pulang jakarta jam stop pasteur pintu tol bas amen mulai why', 'bapak camat tahu tidak pernah aktif tuch', 'jalan yunus tambah awal tahun belum bulan sudah hancur alas hujan', 'kendali bakar jalan cihampelas yang bakar kios samping hotel promenade aston', 'bagaimana bapak', 'tedxbandung ridwan kamil saving cities dengan urban', 'dengan selfie time', 'foto perhati ada pasca tanding persib vs persija mei lalu', 'we are smarter than', 'eks lokalisasi saritem jadi pasar emas ridwan kamil', 'negeri butuh banyak pemuda cari solusi bukan pemuda maki maki ridwan kamil']\n",
      "[0, 1, 1, 1, 0, 1, 1, 0, 1, 0, 0, 1, 1, 1, 1, 0, 0, 1, 0, 1, 1, 0, 0, 0, 0, 1, 1, 0, 1, 0, 1, 1, 1, 1, 0, 1, 0, 1, 1, 1, 0, 0, 1, 0, 1, 1, 0, 0, 1, 1, 0, 1, 1, 0, 1, 1, 0, 0, 0, 1, 1, 1, 1, 1, 0, 1, 1, 1, 1, 1, 0, 0, 1, 0, 0, 0, 0, 1, 0, 1, 0, 1, 1, 0, 0, 0, 0, 0, 0, 1, 0, 0, 1, 0, 0, 0, 0, 1, 0, 1, 0, 1, 0, 0, 0, 1, 0, 1, 0, 0, 1, 1, 0, 1, 1, 1, 0, 1, 0, 1, 1, 1, 1, 1, 1, 1, 1, 1, 1, 1, 1, 1, 1, 1, 1, 1, 1, 1, 1, 1, 1, 1, 1, 1, 1, 1, 1, 1, 1, 1, 1, 1, 1, 0, 1, 1, 1, 1, 1, 1, 1, 1, 1, 1, 1, 1, 1, 1, 1, 1, 1, 1, 0, 1, 1, 1, 1, 0, 1, 0, 1, 0, 0, 1, 0, 1, 1, 1, 1, 1, 0, 1, 1, 1, 0, 0, 1, 0, 0, 1, 0, 1, 0, 1, 1, 0, 0, 0, 0, 0, 0, 0, 1, 0, 0, 0, 1, 1, 1, 1, 1, 1, 1, 1, 1, 0, 1, 1, 1, 1, 1, 1, 0, 1, 0, 1, 1, 1, 1, 1, 1, 1, 1, 1, 1, 1, 1, 1, 1, 1, 1, 1, 0, 0, 1, 1, 1, 1, 1, 1, 1, 1, 1, 1, 1, 1, 0, 1, 1, 0, 1, 1, 1, 1, 1, 1, 0, 1, 0, 1, 0, 0, 1, 1, 1, 1, 1, 1, 1, 1, 1, 1, 0, 1, 1, 0, 1, 1, 1, 1, 0, 0, 1, 1, 1, 0, 0, 1, 0, 1, 1, 0, 1, 1, 1, 1, 1, 0, 0, 0, 0, 0, 0, 1, 1, 0, 0, 0, 0, 0, 1, 1, 1, 1, 1, 1, 0, 0, 0, 1, 1, 1, 0, 1, 1, 0, 0, 0, 0, 0, 1, 1, 0, 0, 1, 0, 1, 1, 0, 0, 0, 0, 1, 1, 0, 1, 1, 0, 0, 0, 0, 0, 0, 0, 0, 0, 0, 0, 1, 1]\n"
     ]
    }
   ],
   "source": [
    "#raw_data to list\n",
    "Dataset = raw_data2[['text','kelas']].values.tolist()\n",
    "\n",
    "#pisahkan text dan labelnya\n",
    "Texts = [col[0] for col in Dataset]\n",
    "Labels = [col[1] for col in Dataset]\n",
    "print(Texts)\n",
    "print(Labels)"
   ]
  },
  {
   "cell_type": "markdown",
   "metadata": {},
   "source": [
    "<h1>Menampilkan Jumlah Tweet dari Data Training dan Data Testing</h1>"
   ]
  },
  {
   "cell_type": "code",
   "execution_count": 12,
   "metadata": {},
   "outputs": [
    {
     "name": "stdout",
     "output_type": "stream",
     "text": [
      "544\n",
      "544\n"
     ]
    }
   ],
   "source": [
    "for i in data['text']:\n",
    "    Texts.append(i)\n",
    "print (len(Texts))\n",
    "\n",
    "for j in data['kelas']:\n",
    "    Labels.append(j)\n",
    "print (len(Labels))"
   ]
  },
  {
   "cell_type": "markdown",
   "metadata": {},
   "source": [
    "<h1>Memberikan bobot pada setiap kata di Dataset</h1>"
   ]
  },
  {
   "cell_type": "code",
   "execution_count": 13,
   "metadata": {},
   "outputs": [
    {
     "name": "stdout",
     "output_type": "stream",
     "text": [
      "  (0, 325)\t0.34525730405771976\n",
      "  (0, 587)\t0.34525730405771976\n",
      "  (0, 327)\t0.34525730405771976\n",
      "  (0, 1206)\t0.34525730405771976\n",
      "  (0, 875)\t0.18030012071707316\n",
      "  (0, 157)\t0.22748327359990964\n",
      "  (0, 1113)\t0.32407124981194074\n",
      "  (0, 335)\t0.34525730405771976\n",
      "  (0, 1025)\t0.34525730405771976\n",
      "  (0, 907)\t0.3090395051053761\n",
      "  (1, 739)\t0.4308006222068251\n",
      "  (1, 1637)\t0.25874103995135367\n",
      "  (1, 117)\t0.3139826272667117\n",
      "  (1, 18)\t0.38560925292873177\n",
      "  (1, 1044)\t0.4308006222068251\n",
      "  (1, 162)\t0.3591739965448051\n",
      "  (1, 565)\t0.4308006222068251\n",
      "  (2, 588)\t0.341199538523173\n",
      "  (2, 1878)\t0.3054074027924288\n",
      "  (2, 144)\t0.25534275533241374\n",
      "  (2, 1755)\t0.3202624812999658\n",
      "  (2, 1479)\t0.341199538523173\n",
      "  (2, 1003)\t0.341199538523173\n",
      "  (2, 1379)\t0.341199538523173\n",
      "  (2, 707)\t0.19340368031002184\n",
      "  :\t:\n",
      "  (539, 1111)\t0.22736721676677638\n",
      "  (539, 1087)\t0.22736721676677638\n",
      "  (539, 444)\t0.24223127579986878\n",
      "  (539, 1491)\t0.24223127579986878\n",
      "  (539, 1203)\t0.24223127579986878\n",
      "  (539, 752)\t0.48446255159973756\n",
      "  (539, 168)\t0.24223127579986878\n",
      "  (539, 871)\t0.24223127579986878\n",
      "  (540, 1625)\t0.6201457944128925\n",
      "  (540, 1101)\t0.7844865796634143\n",
      "  (541, 1101)\t1.0\n",
      "  (542, 157)\t0.13873888831935402\n",
      "  (542, 162)\t0.3511156415076854\n",
      "  (542, 989)\t0.3252734811816254\n",
      "  (542, 315)\t0.3511156415076854\n",
      "  (542, 289)\t0.3627358347310917\n",
      "  (542, 1527)\t0.37695780183374533\n",
      "  (542, 1879)\t0.42113526670405943\n",
      "  (542, 258)\t0.42113526670405943\n",
      "  (543, 1456)\t0.2942311530179773\n",
      "  (543, 1845)\t0.4102422302319386\n",
      "  (543, 869)\t0.44706342751065803\n",
      "  (543, 1305)\t0.42632680458010896\n",
      "  (543, 1384)\t0.42632680458010896\n",
      "  (543, 1527)\t0.42632680458010896\n",
      "TfidfVectorizer(analyzer='word', binary=False, decode_error='strict',\n",
      "        dtype=<class 'numpy.int64'>, encoding='utf-8', input='content',\n",
      "        lowercase=True, max_df=1.0, max_features=None, min_df=1,\n",
      "        ngram_range=(1, 1), norm='l2', preprocessor=None, smooth_idf=True,\n",
      "        stop_words=None, strip_accents=None, sublinear_tf=False,\n",
      "        token_pattern='(?u)\\\\b\\\\w\\\\w+\\\\b', tokenizer=None, use_idf=True,\n",
      "        vocabulary=None)\n",
      "(544, 1920)\n",
      "[[0. 0. 0. ... 0. 0. 0.]\n",
      " [0. 0. 0. ... 0. 0. 0.]\n",
      " [0. 0. 0. ... 0. 0. 0.]\n",
      " ...\n",
      " [0. 0. 0. ... 0. 0. 0.]\n",
      " [0. 0. 0. ... 0. 0. 0.]\n",
      " [0. 0. 0. ... 0. 0. 0.]]\n"
     ]
    }
   ],
   "source": [
    "from sklearn.feature_extraction.text import TfidfVectorizer\n",
    "\n",
    "tfidf_vectorizer = TfidfVectorizer()\n",
    "\n",
    "tfidf = tfidf_vectorizer.fit_transform(Texts)\n",
    "print(tfidf)\n",
    "\n",
    "tfidf_model=tfidf_vectorizer.fit(Texts)\n",
    "print(tfidf_model)\n",
    "\n",
    "print(tfidf.shape)\n",
    "\n",
    "matrix_tfidf = tfidf.toarray()\n",
    "print(matrix_tfidf)"
   ]
  },
  {
   "cell_type": "markdown",
   "metadata": {},
   "source": [
    "<h1>Pembagian Data Testing dan Training</h1>"
   ]
  },
  {
   "cell_type": "code",
   "execution_count": 14,
   "metadata": {},
   "outputs": [
    {
     "name": "stdout",
     "output_type": "stream",
     "text": [
      "(489, 1920)\n",
      "55\n"
     ]
    }
   ],
   "source": [
    "# Ketika menggunakan Supervised Learning, selalu awali dengan membagi data menjadi Training & test\n",
    "from sklearn.model_selection import train_test_split\n",
    "X_train, X_test, Y_train, Y_test = train_test_split(tfidf, Labels, test_size=.1,random_state=0)\n",
    "\n",
    "print(X_train.shape)\n",
    "print(len(Y_test))"
   ]
  },
  {
   "cell_type": "markdown",
   "metadata": {},
   "source": [
    "<h1>Prediksi Sistem</h1>"
   ]
  },
  {
   "cell_type": "code",
   "execution_count": 15,
   "metadata": {},
   "outputs": [
    {
     "name": "stdout",
     "output_type": "stream",
     "text": [
      "MultinomialNB(alpha=1.5, class_prior=None, fit_prior=True)\n",
      "[1 1 1 1 1 0 1 1 1 1 1 1 1 1 0 1 0 1 1 1 0 1 1 1 1 1 1 1 1 0 1 1 1 1 1 1 1\n",
      " 1 1 1 1 1 1 1 1 1 1 0 1 1 1 1 1 1 0]\n",
      "[1, 1, 0, 1, 1, 0, 1, 1, 1, 1, 0, 1, 0, 1, 0, 1, 1, 1, 0, 0, 0, 1, 0, 1, 1, 1, 1, 1, 0, 0, 0, 1, 0, 0, 1, 0, 0, 1, 1, 1, 1, 0, 1, 1, 1, 1, 1, 0, 0, 0, 1, 1, 1, 1, 0]\n"
     ]
    }
   ],
   "source": [
    "from sklearn.naive_bayes import MultinomialNB\n",
    "MNB = MultinomialNB(alpha=1.5)\n",
    "MNB = MNB.fit(X_train, Y_train)\n",
    "print(MNB)\n",
    "\n",
    "predicts = MNB.predict(X_test)\n",
    "print(predicts)\n",
    "print(Y_test)"
   ]
  },
  {
   "cell_type": "markdown",
   "metadata": {},
   "source": [
    "<h1>Hasil</h1>"
   ]
  },
  {
   "cell_type": "code",
   "execution_count": 16,
   "metadata": {},
   "outputs": [
    {
     "data": {
      "text/plain": [
       "0.7090909090909091"
      ]
     },
     "execution_count": 16,
     "metadata": {},
     "output_type": "execute_result"
    }
   ],
   "source": [
    "from sklearn.metrics import accuracy_score\n",
    "\n",
    "accuracy_score(Y_test, predicts)"
   ]
  },
  {
   "cell_type": "code",
   "execution_count": null,
   "metadata": {
    "collapsed": true
   },
   "outputs": [],
   "source": []
  },
  {
   "cell_type": "code",
   "execution_count": null,
   "metadata": {
    "collapsed": true
   },
   "outputs": [],
   "source": []
  },
  {
   "cell_type": "markdown",
   "metadata": {},
   "source": [
    "<h2> Simpan Model<h2>"
   ]
  },
  {
   "cell_type": "markdown",
   "metadata": {},
   "source": [
    "import pickle\n",
    "filename='nbModel.adhi'\n",
    "\n",
    "file=open('model\\\\'+filename,'wb')\n",
    "pickle.dump(tfidf_model, file)\n",
    "pickle.dump(mnb, file)\n",
    "file.close()\n",
    "\n",
    "print('selesai')"
   ]
  }
 ],
 "metadata": {
  "kernelspec": {
   "display_name": "Python 3",
   "language": "python",
   "name": "python3"
  },
  "language_info": {
   "codemirror_mode": {
    "name": "ipython",
    "version": 3
   },
   "file_extension": ".py",
   "mimetype": "text/x-python",
   "name": "python",
   "nbconvert_exporter": "python",
   "pygments_lexer": "ipython3",
   "version": "3.6.3"
  }
 },
 "nbformat": 4,
 "nbformat_minor": 2
}
