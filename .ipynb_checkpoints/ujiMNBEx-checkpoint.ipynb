{
 "cells": [
  {
   "cell_type": "code",
   "execution_count": 1,
   "metadata": {
    "collapsed": true
   },
   "outputs": [],
   "source": [
    "kataJadi=\"bapak ridwan goblok\""
   ]
  },
  {
   "cell_type": "code",
   "execution_count": 3,
   "metadata": {},
   "outputs": [
    {
     "name": "stdout",
     "output_type": "stream",
     "text": [
      "bapak ridwan goblok bebal bego beloh bodoh debil dogol dongok dungu lompong pandir pilon pongah pusung tolol tuli\n"
     ]
    }
   ],
   "source": [
    "#Menggunakan file kata_dasar.txt\n",
    "import PyPDF2\n",
    "import urllib, json\n",
    "import nlp_if_lib as nlp\n",
    "from spacy.lang.id import Indonesian\n",
    "import urllib.request\n",
    "from urllib.request import urlopen\n",
    "import requests,re\n",
    "\n",
    "\n",
    "nlp_id_spacy = Indonesian() \n",
    "kataEx=[]\n",
    "\n",
    "\n",
    "#Teks=kataToken,tweet=kataStrip\n",
    "\n",
    "\n",
    "sinonim=[]\n",
    "teksA=[]\n",
    "kataStrip=kataJadi.strip()\n",
    "kataTokens = nlp_id_spacy(kataStrip)  \n",
    "token_pos = nlp.getPOSTag()\n",
    "    \n",
    "for x in kataTokens:#tokenisasi tweet\n",
    "    teksA.append(x.text)\n",
    "    \n",
    "for tokens in kataTokens:\n",
    "    try:\n",
    "        pos=token_pos[tokens.lemma_]\n",
    "        if(token_pos[tokens.lemma_]==\"adj\"):\n",
    "            kataAdj=tokens.lemma_\n",
    "            \n",
    "            url = \"http://kateglo.com/api.php?format=json&phrase=\"+kataAdj\n",
    "            response = requests.get(url)\n",
    "            data=response.text\n",
    "            parsed=json.loads(data)\n",
    "            \n",
    "            post = parsed[\"kateglo\"][\"all_relation\"]\n",
    "            \n",
    "            lenPost=len(post)\n",
    "            for x in range(0,lenPost):\n",
    "                value=post[x]\n",
    "                if(value['rel_type']=='s'):\n",
    "                    if(value['lex_class']=='adj'):\n",
    "                        syn=value['related_phrase']\n",
    "                        sinonim.append(syn)\n",
    "            \n",
    "    except:\n",
    "        pos='n'\n",
    "             \n",
    "        \n",
    "listSyn=len(sinonim)\n",
    "for z in range(0,listSyn):\n",
    "    teksA.append(sinonim[z])\n",
    "    \n",
    "queryEx=' '.join(teksA)\n",
    "kataEx.append(queryEx)\n",
    "\n",
    "st=kataEx[0].strip()\n",
    "subs=re.sub(' +', ' ',st)\n",
    "kata=subs\n",
    "print(kata)"
   ]
  },
  {
   "cell_type": "code",
   "execution_count": 4,
   "metadata": {},
   "outputs": [
    {
     "name": "stdout",
     "output_type": "stream",
     "text": [
      "TfidfVectorizer(analyzer='word', binary=False, decode_error='strict',\n",
      "        dtype=<class 'numpy.int64'>, encoding='utf-8', input='content',\n",
      "        lowercase=True, max_df=1.0, max_features=None, min_df=1,\n",
      "        ngram_range=(1, 1), norm='l2', preprocessor=None, smooth_idf=True,\n",
      "        stop_words=None, strip_accents=None, sublinear_tf=False,\n",
      "        token_pattern='(?u)\\\\b\\\\w\\\\w+\\\\b', tokenizer=None, use_idf=True,\n",
      "        vocabulary=None)\n",
      "MultinomialNB(alpha=1.0, class_prior=None, fit_prior=True)\n",
      "oke\n"
     ]
    }
   ],
   "source": [
    "import pickle\n",
    "\n",
    "\n",
    "filename='MNBEx.adhi'\n",
    "\n",
    "file=open('model\\\\'+filename,'rb')\n",
    "bobot_model=pickle.load(file)\n",
    "model=pickle.load(file)\n",
    "\n",
    "print(bobot_model)\n",
    "print(model)\n",
    "\n",
    "print('oke')"
   ]
  },
  {
   "cell_type": "code",
   "execution_count": 5,
   "metadata": {},
   "outputs": [
    {
     "name": "stdout",
     "output_type": "stream",
     "text": [
      "tolol 0.4206690600631704\n",
      "ridwan 0.4206690600631704\n",
      "goblok 0.4206690600631704\n",
      "dungu 0.4206690600631704\n",
      "bodoh 0.4206690600631704\n",
      "bapak 0.3393931489111758\n"
     ]
    }
   ],
   "source": [
    "bobot=bobot_model.transform([kata])\n",
    "matrix_bobot=bobot.toarray()\n",
    "x_test=matrix_bobot\n",
    "\n",
    "doc = 0\n",
    "feature_names=bobot_model.get_feature_names()\n",
    "feature_index=bobot[doc,:].nonzero()[1]\n",
    "tfidf_scores=zip(feature_index,[bobot[doc,x] for x in feature_index])\n",
    "\n",
    "for w, s in [(feature_names[i],s) for (i,s) in tfidf_scores]:\n",
    "    print(w,s)"
   ]
  },
  {
   "cell_type": "code",
   "execution_count": 35,
   "metadata": {},
   "outputs": [
    {
     "name": "stdout",
     "output_type": "stream",
     "text": [
      "positif :0.46943808475024906\n",
      "negatif :0.5305619152497506\n"
     ]
    }
   ],
   "source": [
    "predict=model.predict(x_test)\n",
    "prob_n, prob_p=model.predict_proba(x_test)[0]\n",
    "\n",
    "print(\"positif :\"+str(prob_p))\n",
    "print(\"negatif :\"+str(prob_n))"
   ]
  },
  {
   "cell_type": "code",
   "execution_count": 31,
   "metadata": {},
   "outputs": [
    {
     "name": "stdout",
     "output_type": "stream",
     "text": [
      "bapak\n",
      "positif\n"
     ]
    }
   ],
   "source": [
    "print(kata)\n",
    "if(predict[0]==1):\n",
    "    print(\"positif\")\n",
    "else:\n",
    "    print(\"negatif\")"
   ]
  },
  {
   "cell_type": "code",
   "execution_count": null,
   "metadata": {
    "collapsed": true
   },
   "outputs": [],
   "source": []
  }
 ],
 "metadata": {
  "kernelspec": {
   "display_name": "Python 3",
   "language": "python",
   "name": "python3"
  },
  "language_info": {
   "codemirror_mode": {
    "name": "ipython",
    "version": 3
   },
   "file_extension": ".py",
   "mimetype": "text/x-python",
   "name": "python",
   "nbconvert_exporter": "python",
   "pygments_lexer": "ipython3",
   "version": "3.6.3"
  }
 },
 "nbformat": 4,
 "nbformat_minor": 2
}
